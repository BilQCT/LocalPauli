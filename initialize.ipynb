{
 "cells": [
  {
   "cell_type": "code",
   "execution_count": 1,
   "metadata": {},
   "outputs": [
    {
     "name": "stderr",
     "output_type": "stream",
     "text": [
      "\u001b[32m\u001b[1m  Activating\u001b[22m\u001b[39m project at `~/GitHub/StabTheory/MyProject`\n"
     ]
    }
   ],
   "source": [
    "using Pkg\n",
    "Pkg.activate(\"MyProject\")\n",
    "\n",
    "using JuMP\n",
    "const jmp = JuMP\n",
    "\n",
    "using GLPK"
   ]
  },
  {
   "cell_type": "code",
   "execution_count": 2,
   "metadata": {},
   "outputs": [],
   "source": [
    "include(\"libs/cnc.jl\"); include(\"libs/stab.jl\"); include(\"libs/symplectic.jl\"); include(\"libs/initializer.jl\")"
   ]
  },
  {
   "cell_type": "code",
   "execution_count": 159,
   "metadata": {},
   "outputs": [
    {
     "data": {
      "text/plain": [
       "initial_lp (generic function with 1 method)"
      ]
     },
     "metadata": {},
     "output_type": "display_data"
    }
   ],
   "source": [
    "using JuMP\n",
    "const jmp = JuMP\n",
    "\n",
    "using GLPK\n",
    "\n",
    "function initial_lp(V,R)\n",
    "    d = size(R)[1]; N = size(R)[2]\n",
    "\n",
    "    # define model:\n",
    "    model = jmp.Model(GLPK.Optimizer)\n",
    "\n",
    "    # define variables: non-negative:\n",
    "    @variable(model,x[1:N] >= 0)\n",
    "\n",
    "    # define constraints:\n",
    "    @constraint(model, cons, R * x .== V)\n",
    "\n",
    "    # define objective function: We only want to find a solution:\n",
    "    @objective(model, Min, 0)\n",
    "\n",
    "    # solve model\n",
    "    optimize!(model)\n",
    "\n",
    "    if is_solved_and_feasible(model) == true\n",
    "        return model,x\n",
    "    else\n",
    "        # define model:\n",
    "        model = jmp.Model(GLPK.Optimizer)\n",
    "\n",
    "        # define variables: non-negative:\n",
    "        @variable(model,x[1:N])\n",
    "\n",
    "        # define constraints:\n",
    "        @constraint(model, cons, R * x .== V)\n",
    "\n",
    "        # define objective function: We only want to find a solution:\n",
    "        @objective(model, Min, 0)\n",
    "\n",
    "        # solve model\n",
    "        optimize!(model)\n",
    "\n",
    "        return model,x\n",
    "    end\n",
    "end"
   ]
  },
  {
   "cell_type": "code",
   "execution_count": 140,
   "metadata": {},
   "outputs": [
    {
     "data": {
      "text/plain": [
       "approximate_input (generic function with 1 method)"
      ]
     },
     "metadata": {},
     "output_type": "display_data"
    }
   ],
   "source": [
    "function approximate_input(V,e)\n",
    "    W = [Float64(round(BigFloat(v);digits = e)) for v in V]\n",
    "    return W\n",
    "end"
   ]
  },
  {
   "cell_type": "code",
   "execution_count": 200,
   "metadata": {},
   "outputs": [
    {
     "data": {
      "text/plain": [
       "2×1 Matrix{Float64}:\n",
       " 2.0\n",
       " 1.0"
      ]
     },
     "metadata": {},
     "output_type": "display_data"
    }
   ],
   "source": [
    "arry = Array{Float64}(undef, 2, 0)\n",
    "hcat(arry,Vector([2,1]))"
   ]
  },
  {
   "cell_type": "code",
   "execution_count": 214,
   "metadata": {},
   "outputs": [
    {
     "data": {
      "text/plain": [
       "tight_vertices (generic function with 1 method)"
      ]
     },
     "metadata": {},
     "output_type": "display_data"
    }
   ],
   "source": [
    "function tight_vertices(V,A,R)\n",
    "    \"\"\"\n",
    "    V: vector dx1\n",
    "    A: matrix Mxd\n",
    "    R: matrix dxN\n",
    "    \"\"\"\n",
    "    Z = findall(x->x==0,A*V); D = length(Z)\n",
    "    if D == 0\n",
    "        return R\n",
    "    else\n",
    "        ARZ = A[Z,:]*R\n",
    "        RZ = Array{Rational{Int64}}(undef,size(R)[1],0)\n",
    "        for j in 1:size(R)[2]\n",
    "            if ARZ[:,j] == zeros(D); RZ = hcat(RZ,R[:,j]); end;\n",
    "        end\n",
    "        return RZ\n",
    "    end\n",
    "end"
   ]
  },
  {
   "cell_type": "markdown",
   "metadata": {},
   "source": [
    "# $1$-qubit magic state:\n",
    "\n",
    "Using stabilizer states as a quasiprobability model for simplicity."
   ]
  },
  {
   "cell_type": "code",
   "execution_count": 4,
   "metadata": {},
   "outputs": [
    {
     "data": {
      "text/plain": [
       "4×6 transpose(::Matrix{Int64}) with eltype Int64:\n",
       " 1   1  1   1  1   1\n",
       " 1  -1  0   0  0   0\n",
       " 0   0  0   0  1  -1\n",
       " 0   0  1  -1  0   0"
      ]
     },
     "metadata": {},
     "output_type": "display_data"
    }
   ],
   "source": [
    "R1 = transpose(stabilizer_states(1))"
   ]
  },
  {
   "cell_type": "code",
   "execution_count": 5,
   "metadata": {},
   "outputs": [],
   "source": [
    "T1 = [1,1/sqrt(2),0,1/sqrt(2)];"
   ]
  },
  {
   "cell_type": "code",
   "execution_count": 253,
   "metadata": {},
   "outputs": [
    {
     "data": {
      "text/plain": [
       "(A JuMP Model\n",
       "Minimization problem with:\n",
       "Variables: 6\n",
       "Objective function type: AffExpr\n",
       "`AffExpr`-in-`MathOptInterface.EqualTo{Float64}`: 4 constraints\n",
       "`VariableRef`-in-`MathOptInterface.GreaterThan{Float64}`: 6 constraints\n",
       "Model mode: AUTOMATIC\n",
       "CachingOptimizer state: ATTACHED_OPTIMIZER\n",
       "Solver name: GLPK\n",
       "Names registered in the model: cons, x, VariableRef[x[1], x[2], x[3], x[4], x[5], x[6]])"
      ]
     },
     "metadata": {},
     "output_type": "display_data"
    }
   ],
   "source": [
    "model, x = initial_lp(T1,R1)"
   ]
  },
  {
   "cell_type": "code",
   "execution_count": 184,
   "metadata": {},
   "outputs": [
    {
     "data": {
      "text/plain": [
       "* Solver : GLPK\n",
       "\n",
       "* Status\n",
       "  Result count       : 1\n",
       "  Termination status : OPTIMAL\n",
       "  Message from the solver:\n",
       "  \"Solution is optimal\"\n",
       "\n",
       "* Candidate solution (result #1)\n",
       "  Primal status      : FEASIBLE_POINT\n",
       "  Dual status        : FEASIBLE_POINT\n",
       "  Objective value    : 0.00000e+00\n",
       "  Objective bound    : -Inf\n",
       "  Dual objective value : 0.00000e+00\n",
       "\n",
       "* Work counters\n",
       "  Solve time (sec)   : 1.69277e-05\n"
      ]
     },
     "metadata": {},
     "output_type": "display_data"
    }
   ],
   "source": [
    "solution_summary(model)"
   ]
  },
  {
   "cell_type": "code",
   "execution_count": 185,
   "metadata": {},
   "outputs": [
    {
     "name": "stdout",
     "output_type": "stream",
     "text": [
      "Stabilizer state: 4, Coefficient: -0.20710678118654746\n"
     ]
    }
   ],
   "source": [
    "# Print negative values\n",
    "for i in 1:length(value.(x))\n",
    "    v = value.(x)[i]\n",
    "    if v < 0; println(\"Stabilizer state: \",i,\", Coefficient: \",v); end;\n",
    "end"
   ]
  },
  {
   "cell_type": "code",
   "execution_count": 11,
   "metadata": {},
   "outputs": [
    {
     "data": {
      "text/plain": [
       "Initializer([1.0, 0.7071067811865475, 0.0, 0.7071067811865475], false, MaximalCnc[CNC:\n",
       "Maximal CNC set:\n",
       "- Isotropic generators:\n",
       "  [\"X\"]\n",
       "- Anticommuting Paulis:\n",
       "  String[]\n",
       "\n",
       "- Value assignment:\n",
       "  I: 1\n",
       "  X: 1\n",
       ", CNC:\n",
       "Maximal CNC set:\n",
       "- Isotropic generators:\n",
       "  [\"Z\"]\n",
       "- Anticommuting Paulis:\n",
       "  String[]\n",
       "\n",
       "- Value assignment:\n",
       "  I: 1\n",
       "  Z: 1\n",
       "], Dict{MaximalCnc, Float64}(CNC:\n",
       "Maximal CNC set:\n",
       "- Isotropic generators:\n",
       "  [\"X\"]\n",
       "- Anticommuting Paulis:\n",
       "  String[]\n",
       "\n",
       "- Value assignment:\n",
       "  I: 1\n",
       "  X: 1\n",
       " => 0.7071067811865475, CNC:\n",
       "Maximal CNC set:\n",
       "- Isotropic generators:\n",
       "  [\"Z\"]\n",
       "- Anticommuting Paulis:\n",
       "  String[]\n",
       "\n",
       "- Value assignment:\n",
       "  I: 1\n",
       "  Z: 1\n",
       " => 0.29289321881345254))"
      ]
     },
     "metadata": {},
     "output_type": "display_data"
    }
   ],
   "source": [
    "InitT1 = Initializer(1,T1,R1)"
   ]
  },
  {
   "cell_type": "markdown",
   "metadata": {},
   "source": [
    "# $2$-qubit Magic state:"
   ]
  },
  {
   "cell_type": "code",
   "execution_count": 12,
   "metadata": {},
   "outputs": [],
   "source": [
    "A2 = (stabilizer_states(2)); R2 = transpose(A2);"
   ]
  },
  {
   "cell_type": "code",
   "execution_count": 13,
   "metadata": {},
   "outputs": [
    {
     "data": {
      "text/plain": [
       "16-element Vector{Float64}:\n",
       " 1.0\n",
       " 0.7071067811865475\n",
       " 0.0\n",
       " 0.7071067811865475\n",
       " 0.7071067811865475\n",
       " 0.5\n",
       " 0.0\n",
       " 0.5\n",
       " 0.0\n",
       " 0.0\n",
       " 0.0\n",
       " 0.0\n",
       " 0.7071067811865475\n",
       " 0.5\n",
       " 0.0\n",
       " 0.5"
      ]
     },
     "metadata": {},
     "output_type": "display_data"
    }
   ],
   "source": [
    "T2 = [1,1/sqrt(2),0,1/sqrt(2),1/sqrt(2),1/2,0,1/2,0,0,0,0,1/sqrt(2),1/2,0,1/2]"
   ]
  },
  {
   "cell_type": "code",
   "execution_count": 14,
   "metadata": {},
   "outputs": [
    {
     "data": {
      "text/plain": [
       "16-element Vector{Float64}:\n",
       " 1.0\n",
       " 0.71\n",
       " 0.0\n",
       " 0.71\n",
       " 0.71\n",
       " 0.5\n",
       " 0.0\n",
       " 0.5\n",
       " 0.0\n",
       " 0.0\n",
       " 0.0\n",
       " 0.0\n",
       " 0.71\n",
       " 0.5\n",
       " 0.0\n",
       " 0.5"
      ]
     },
     "metadata": {},
     "output_type": "display_data"
    }
   ],
   "source": [
    "Q2 = approximate_input(T2,2)"
   ]
  },
  {
   "cell_type": "code",
   "execution_count": 228,
   "metadata": {},
   "outputs": [
    {
     "data": {
      "text/plain": [
       "(A JuMP Model\n",
       "Minimization problem with:\n",
       "Variables: 60\n",
       "Objective function type: AffExpr\n",
       "`AffExpr`-in-`MathOptInterface.EqualTo{Float64}`: 16 constraints\n",
       "Model mode: AUTOMATIC\n",
       "CachingOptimizer state: ATTACHED_OPTIMIZER\n",
       "Solver name: GLPK\n",
       "Names registered in the model: cons, x, VariableRef[x[1], x[2], x[3], x[4], x[5], x[6], x[7], x[8], x[9], x[10]  …  x[51], x[52], x[53], x[54], x[55], x[56], x[57], x[58], x[59], x[60]])"
      ]
     },
     "metadata": {},
     "output_type": "display_data"
    }
   ],
   "source": [
    "model, x = initial_lp(Q2,R2)"
   ]
  },
  {
   "cell_type": "code",
   "execution_count": 232,
   "metadata": {},
   "outputs": [
    {
     "name": "stdout",
     "output_type": "stream",
     "text": [
      "Stabilizer state: 1, Coefficient: 0.3499999999999999\n",
      "Stabilizer state: 9, Coefficient: 0.35000000000000003\n",
      "Stabilizer state: 13, Coefficient: 0.35000000000000003\n",
      "Stabilizer state: 25, Coefficient: 0.32499999999999996\n",
      "Stabilizer state: 28, Coefficient: -0.024999999999999967\n",
      "Stabilizer state: 35, Coefficient: -0.024999999999999967\n",
      "Stabilizer state: 36, Coefficient: -0.175\n",
      "Stabilizer state: 48, Coefficient: -0.15000000000000002\n"
     ]
    }
   ],
   "source": [
    "# Print negative values\n",
    "for i in 1:length(value.(x))\n",
    "    v = value.(x)[i]\n",
    "    if v != 0; println(\"Stabilizer state: \",i,\", Coefficient: \",v); end;\n",
    "end"
   ]
  },
  {
   "cell_type": "code",
   "execution_count": 230,
   "metadata": {},
   "outputs": [
    {
     "data": {
      "text/plain": [
       "* Solver : GLPK\n",
       "\n",
       "* Status\n",
       "  Result count       : 1\n",
       "  Termination status : OPTIMAL\n",
       "  Message from the solver:\n",
       "  \"Solution is optimal\"\n",
       "\n",
       "* Candidate solution (result #1)\n",
       "  Primal status      : FEASIBLE_POINT\n",
       "  Dual status        : FEASIBLE_POINT\n",
       "  Objective value    : 0.00000e+00\n",
       "  Objective bound    : -Inf\n",
       "  Dual objective value : 0.00000e+00\n",
       "\n",
       "* Work counters\n",
       "  Solve time (sec)   : 4.50611e-05\n"
      ]
     },
     "metadata": {},
     "output_type": "display_data"
    }
   ],
   "source": [
    "solution_summary(model)"
   ]
  },
  {
   "cell_type": "code",
   "execution_count": 16,
   "metadata": {},
   "outputs": [
    {
     "data": {
      "text/plain": [
       "Initializer([1.0, 0.71, 0.0, 0.71, 0.71, 0.5, 0.0, 0.5, 0.0, 0.0, 0.0, 0.0, 0.71, 0.5, 0.0, 0.5], false, MaximalCnc[CNC:\n",
       "Maximal CNC set:\n",
       "- Isotropic generators:\n",
       "  [\"IX\", \"XX\"]\n",
       "- Anticommuting Paulis:\n",
       "  String[]\n",
       "\n",
       "- Value assignment:\n",
       "  IX: 1\n",
       "  II: 1\n",
       "  XX: 1\n",
       "  XI: 1\n",
       ", CNC:\n",
       "Maximal CNC set:\n",
       "- Isotropic generators:\n",
       "  [\"IZ\", \"XZ\"]\n",
       "- Anticommuting Paulis:\n",
       "  String[]\n",
       "\n",
       "- Value assignment:\n",
       "  IZ: 1\n",
       "  II: 1\n",
       "  XZ: 1\n",
       "  XI: 1\n",
       ", CNC:\n",
       "Maximal CNC set:\n",
       "- Isotropic generators:\n",
       "  [\"IX\", \"ZX\"]\n",
       "- Anticommuting Paulis:\n",
       "  String[]\n",
       "\n",
       "- Value assignment:\n",
       "  IX: 1\n",
       "  II: 1\n",
       "  ZX: 1\n",
       "  ZI: 1\n",
       ", CNC:\n",
       "Maximal CNC set:\n",
       "- Isotropic generators:\n",
       "  [\"IZ\", \"ZZ\"]\n",
       "- Anticommuting Paulis:\n",
       "  String[]\n",
       "\n",
       "- Value assignment:\n",
       "  IZ: 1\n",
       "  II: 1\n",
       "  ZZ: 1\n",
       "  ZI: 1\n",
       "], Dict{MaximalCnc, Float64}(CNC:\n",
       "Maximal CNC set:\n",
       "- Isotropic generators:\n",
       "  [\"IZ\", \"XZ\"]\n",
       "- Anticommuting Paulis:\n",
       "  String[]\n",
       "\n",
       "- Value assignment:\n",
       "  IZ: 1\n",
       "  II: 1\n",
       "  XZ: 1\n",
       "  XI: 1\n",
       " => 0.20999999999999996, CNC:\n",
       "Maximal CNC set:\n",
       "- Isotropic generators:\n",
       "  [\"IZ\", \"ZZ\"]\n",
       "- Anticommuting Paulis:\n",
       "  String[]\n",
       "\n",
       "- Value assignment:\n",
       "  IZ: 1\n",
       "  II: 1\n",
       "  ZZ: 1\n",
       "  ZI: 1\n",
       " => 0.08000000000000007, CNC:\n",
       "Maximal CNC set:\n",
       "- Isotropic generators:\n",
       "  [\"IX\", \"XX\"]\n",
       "- Anticommuting Paulis:\n",
       "  String[]\n",
       "\n",
       "- Value assignment:\n",
       "  IX: 1\n",
       "  II: 1\n",
       "  XX: 1\n",
       "  XI: 1\n",
       " => 0.5, CNC:\n",
       "Maximal CNC set:\n",
       "- Isotropic generators:\n",
       "  [\"IX\", \"ZX\"]\n",
       "- Anticommuting Paulis:\n",
       "  String[]\n",
       "\n",
       "- Value assignment:\n",
       "  IX: 1\n",
       "  II: 1\n",
       "  ZX: 1\n",
       "  ZI: 1\n",
       " => 0.20999999999999996))"
      ]
     },
     "metadata": {},
     "output_type": "display_data"
    }
   ],
   "source": [
    "InitT2 = Initializer(2,Q2,R2)"
   ]
  },
  {
   "cell_type": "markdown",
   "metadata": {},
   "source": [
    "# Maximally mixed state:"
   ]
  },
  {
   "cell_type": "code",
   "execution_count": 21,
   "metadata": {},
   "outputs": [
    {
     "data": {
      "text/plain": [
       "16-element Vector{Float64}:\n",
       " 1.0\n",
       " 0.0\n",
       " 0.0\n",
       " 0.0\n",
       " 0.0\n",
       " 0.0\n",
       " 0.0\n",
       " 0.0\n",
       " 0.0\n",
       " 0.0\n",
       " 0.0\n",
       " 0.0\n",
       " 0.0\n",
       " 0.0\n",
       " 0.0\n",
       " 0.0"
      ]
     },
     "metadata": {},
     "output_type": "display_data"
    }
   ],
   "source": [
    "MIX = Vector{Float64}(vcat([1],[0 for i in 1:15]))"
   ]
  },
  {
   "cell_type": "code",
   "execution_count": 22,
   "metadata": {},
   "outputs": [
    {
     "data": {
      "text/plain": [
       "Initializer([1.0, 0.0, 0.0, 0.0, 0.0, 0.0, 0.0, 0.0, 0.0, 0.0, 0.0, 0.0, 0.0, 0.0, 0.0, 0.0], true, MaximalCnc[CNC:\n",
       "Maximal CNC set:\n",
       "- Isotropic generators:\n",
       "  [\"IX\", \"XX\"]\n",
       "- Anticommuting Paulis:\n",
       "  String[]\n",
       "\n",
       "- Value assignment:\n",
       "  IX: 1\n",
       "  II: 1\n",
       "  XX: 1\n",
       "  XI: 1\n",
       ", CNC:\n",
       "Maximal CNC set:\n",
       "- Isotropic generators:\n",
       "  [\"IX\", \"XX\"]\n",
       "- Anticommuting Paulis:\n",
       "  String[]\n",
       "\n",
       "- Value assignment:\n",
       "  IX: -1\n",
       "  II: 1\n",
       "  XX: -1\n",
       "  XI: 1\n",
       ", CNC:\n",
       "Maximal CNC set:\n",
       "- Isotropic generators:\n",
       "  [\"IZ\", \"XZ\"]\n",
       "- Anticommuting Paulis:\n",
       "  String[]\n",
       "\n",
       "- Value assignment:\n",
       "  IZ: 1\n",
       "  II: 1\n",
       "  XZ: -1\n",
       "  XI: -1\n",
       ", CNC:\n",
       "Maximal CNC set:\n",
       "- Isotropic generators:\n",
       "  [\"IZ\", \"XZ\"]\n",
       "- Anticommuting Paulis:\n",
       "  String[]\n",
       "\n",
       "- Value assignment:\n",
       "  IZ: -1\n",
       "  II: 1\n",
       "  XZ: 1\n",
       "  XI: -1\n",
       "], Dict{MaximalCnc, Float64}(CNC:\n",
       "Maximal CNC set:\n",
       "- Isotropic generators:\n",
       "  [\"IX\", \"XX\"]\n",
       "- Anticommuting Paulis:\n",
       "  String[]\n",
       "\n",
       "- Value assignment:\n",
       "  IX: -1\n",
       "  II: 1\n",
       "  XX: -1\n",
       "  XI: 1\n",
       " => 0.25, CNC:\n",
       "Maximal CNC set:\n",
       "- Isotropic generators:\n",
       "  [\"IZ\", \"XZ\"]\n",
       "- Anticommuting Paulis:\n",
       "  String[]\n",
       "\n",
       "- Value assignment:\n",
       "  IZ: 1\n",
       "  II: 1\n",
       "  XZ: -1\n",
       "  XI: -1\n",
       " => 0.25, CNC:\n",
       "Maximal CNC set:\n",
       "- Isotropic generators:\n",
       "  [\"IZ\", \"XZ\"]\n",
       "- Anticommuting Paulis:\n",
       "  String[]\n",
       "\n",
       "- Value assignment:\n",
       "  IZ: -1\n",
       "  II: 1\n",
       "  XZ: 1\n",
       "  XI: -1\n",
       " => 0.25, CNC:\n",
       "Maximal CNC set:\n",
       "- Isotropic generators:\n",
       "  [\"IX\", \"XX\"]\n",
       "- Anticommuting Paulis:\n",
       "  String[]\n",
       "\n",
       "- Value assignment:\n",
       "  IX: 1\n",
       "  II: 1\n",
       "  XX: 1\n",
       "  XI: 1\n",
       " => 0.25))"
      ]
     },
     "metadata": {},
     "output_type": "display_data"
    }
   ],
   "source": [
    "InitMIX = Initializer(2,MIX,R2)"
   ]
  },
  {
   "cell_type": "code",
   "execution_count": 23,
   "metadata": {},
   "outputs": [
    {
     "data": {
      "text/plain": [
       "Dict{MaximalCnc, Float64} with 4 entries:\n",
       "  CNC:…                                                                   => 0.25\n",
       "  CNC:…                                                                   => 0.25\n",
       "  CNC:…                                                                   => 0.25\n",
       "  CNC:…                                                                   => 0.25"
      ]
     },
     "metadata": {},
     "output_type": "display_data"
    }
   ],
   "source": [
    "InitMIX.InitDist"
   ]
  }
 ],
 "metadata": {
  "kernelspec": {
   "display_name": "Julia 1.10.2",
   "language": "julia",
   "name": "julia-1.10"
  },
  "language_info": {
   "file_extension": ".jl",
   "mimetype": "application/julia",
   "name": "julia",
   "version": "1.10.2"
  }
 },
 "nbformat": 4,
 "nbformat_minor": 2
}
