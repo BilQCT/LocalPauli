{
 "cells": [
  {
   "cell_type": "code",
   "execution_count": 1,
   "metadata": {},
   "outputs": [
    {
     "name": "stderr",
     "output_type": "stream",
     "text": [
      "\u001b[32m\u001b[1m  Activating\u001b[22m\u001b[39m project at `~/GitHub/StabTheory/MyProject`\n"
     ]
    }
   ],
   "source": [
    "using Pkg\n",
    "Pkg.activate(\"MyProject\")\n",
    "\n",
    "using JuMP\n",
    "const jmp = JuMP\n",
    "\n",
    "using GLPK"
   ]
  },
  {
   "cell_type": "code",
   "execution_count": 2,
   "metadata": {},
   "outputs": [],
   "source": [
    "include(\"libs/cnc.jl\"); include(\"libs/initializer.jl\")"
   ]
  },
  {
   "cell_type": "markdown",
   "metadata": {},
   "source": [
    "# $1$-qubit magic state:\n",
    "\n",
    "Using stabilizer states as a quasiprobability model for simplicity."
   ]
  },
  {
   "cell_type": "code",
   "execution_count": 3,
   "metadata": {},
   "outputs": [
    {
     "data": {
      "text/plain": [
       "4×8 Matrix{Rational{Int64}}:\n",
       "  1   1   1   1   1   1   1  1\n",
       " -1  -1  -1   1   1  -1   1  1\n",
       "  1  -1   1   1  -1  -1  -1  1\n",
       "  1   1  -1  -1  -1  -1   1  1"
      ]
     },
     "metadata": {},
     "output_type": "display_data"
    }
   ],
   "source": [
    "n = 1; CNC1 = generate_all_cncs(n,[i for i in 1:n])\n",
    "R1 = generate_cnc_vertices(1,CNC1)"
   ]
  },
  {
   "cell_type": "code",
   "execution_count": 4,
   "metadata": {},
   "outputs": [
    {
     "data": {
      "text/plain": [
       "4-element Vector{Float64}:\n",
       " 1.0\n",
       " 0.7071067811865475\n",
       " 0.0\n",
       " 0.7071067811865475"
      ]
     },
     "metadata": {},
     "output_type": "display_data"
    }
   ],
   "source": [
    "T = [1,1/sqrt(2),0,1/sqrt(2)]"
   ]
  },
  {
   "cell_type": "code",
   "execution_count": 5,
   "metadata": {},
   "outputs": [],
   "source": [
    "InitT = Initializer(1,T,R1);"
   ]
  },
  {
   "cell_type": "code",
   "execution_count": 6,
   "metadata": {},
   "outputs": [
    {
     "data": {
      "text/plain": [
       "Dict{MaximalCnc, Float64} with 3 entries:\n",
       "  CNC:…                                                               => 0.5\n",
       "  CNC:…                                                               => 0.146447\n",
       "  CNC:…                                                               => 0.353553"
      ]
     },
     "metadata": {},
     "output_type": "display_data"
    }
   ],
   "source": [
    "InitT.InitDist"
   ]
  },
  {
   "cell_type": "markdown",
   "metadata": {},
   "source": [
    "# $2$-qubit Magic state:"
   ]
  },
  {
   "cell_type": "code",
   "execution_count": 7,
   "metadata": {},
   "outputs": [
    {
     "data": {
      "text/plain": [
       "16×432 Matrix{Rational{Int64}}:\n",
       "  1   1   1   1   1   1   1   1   1  …   1   1   1   1   1   1   1   1   1\n",
       "  1   0   0   0   0   0   0   1   0      0   0   0   0   0   0   0   0   1\n",
       "  0   0   0   0   0   0   0   0   1      0   0   0   0   1  -1   0   0   0\n",
       "  0   0   1   1   0   0   0   1   0     -1   0  -1  -1   0   1   0   1   0\n",
       "  0  -1  -1   1   0  -1  -1   0   0      0  -1   0   0   0   0   0  -1  -1\n",
       "  0   0   0   0  -1   0   0   0  -1  …  -1   0   1  -1  -1   1   1   0  -1\n",
       "  1   0   0   0   1   0   0   1   0     -1   0  -1   1   0   0  -1   0   0\n",
       " -1   0  -1   1   1   0   0   0   1      0   0   0   0   1   0   1  -1   0\n",
       " -1   1   0  -1  -1   0   1   0   0      0  -1   0   1   0   0   1   1  -1\n",
       " -1   0   1   0   0   1   0   0  -1      1   0  -1   0   1   1   0   0  -1\n",
       "  0   0   1   0   0  -1   0   1   0  …  -1   0  -1   0   0   0   0   0   0\n",
       "  0   0   0  -1   0   1   0   0  -1      0   0   0  -1   1   0   0   1   0\n",
       "  0   0   0   1  -1   1   0   0   1      1   0  -1   0  -1   0   1   1   1\n",
       "  0  -1  -1   0   0   0  -1   0   0      0   1   0   1   0   1   0   0   1\n",
       " -1   1   1   0   0   0   1  -1   1      0   1   0   1  -1   0   0   0   0\n",
       " -1   1   0   1   0   0  -1   0   0  …  -1   1   1   0   0   0   0   1   0"
      ]
     },
     "metadata": {},
     "output_type": "display_data"
    }
   ],
   "source": [
    "n = 2; CNC2 = generate_all_cncs(n,[i for i in 1:n])\n",
    "R2 = generate_cnc_vertices(n,CNC2)"
   ]
  },
  {
   "cell_type": "code",
   "execution_count": 8,
   "metadata": {},
   "outputs": [],
   "source": [
    "TT = [1,1/sqrt(2),0,1/sqrt(2),1/sqrt(2),1/2,0,1/2,0,0,0,0,1/sqrt(2),1/2,0,1/2];"
   ]
  },
  {
   "cell_type": "code",
   "execution_count": 14,
   "metadata": {},
   "outputs": [],
   "source": [
    "QQ = approximate_input(TT,3);"
   ]
  },
  {
   "cell_type": "code",
   "execution_count": 19,
   "metadata": {},
   "outputs": [],
   "source": [
    "InitTT = Initializer(2,TT,R2);"
   ]
  },
  {
   "cell_type": "code",
   "execution_count": 20,
   "metadata": {},
   "outputs": [
    {
     "data": {
      "text/plain": [
       "true"
      ]
     },
     "metadata": {},
     "output_type": "display_data"
    }
   ],
   "source": [
    "InitTT.Feasible"
   ]
  },
  {
   "cell_type": "code",
   "execution_count": 21,
   "metadata": {},
   "outputs": [
    {
     "data": {
      "text/plain": [
       "\"Convex\""
      ]
     },
     "metadata": {},
     "output_type": "display_data"
    }
   ],
   "source": [
    "InitTT.Mixture"
   ]
  },
  {
   "cell_type": "code",
   "execution_count": 22,
   "metadata": {},
   "outputs": [
    {
     "data": {
      "text/plain": [
       "Dict{MaximalCnc, Float64} with 15 entries:\n",
       "  CNC:…                                                            => 0.146447\n",
       "  CNC:…                                                            => 0.146447\n",
       "  CNC:…                                                            => 6.93889e-17\n",
       "  CNC:…                                                            => 0.0606602\n",
       "  CNC:…                                                            => 0.0606602\n",
       "  CNC:…                                                            => 0.0428932\n",
       "  CNC:…                                                            => 0.146447\n",
       "  CNC:…                                                            => 0.0606602\n",
       "  CNC:…                                                            => 0.0428932\n",
       "  CNC:…                                                            => 0.0428932\n",
       "  CNC:…                                                            => 0.146447\n",
       "  CNC:…                                                            => 0.0606602\n",
       "  CNC:…                                                            => 0.0428932\n",
       "  CNC:…                                                            => 5.35301e-17\n",
       "  CNC:…                                                            => 2.37905e-17"
      ]
     },
     "metadata": {},
     "output_type": "display_data"
    }
   ],
   "source": [
    "InitTT.InitDist"
   ]
  },
  {
   "cell_type": "markdown",
   "metadata": {},
   "source": [
    "# Maximally mixed state:"
   ]
  },
  {
   "cell_type": "code",
   "execution_count": 52,
   "metadata": {},
   "outputs": [
    {
     "data": {
      "text/plain": [
       "16-element Vector{Float64}:\n",
       " 1.0\n",
       " 0.0\n",
       " 0.0\n",
       " 0.0\n",
       " 0.0\n",
       " 0.0\n",
       " 0.0\n",
       " 0.0\n",
       " 0.0\n",
       " 0.0\n",
       " 0.0\n",
       " 0.0\n",
       " 0.0\n",
       " 0.0\n",
       " 0.0\n",
       " 0.0"
      ]
     },
     "metadata": {},
     "output_type": "display_data"
    }
   ],
   "source": [
    "MIX = Vector{Float64}(vcat([1],[0 for i in 1:15]))"
   ]
  },
  {
   "cell_type": "code",
   "execution_count": 53,
   "metadata": {},
   "outputs": [],
   "source": [
    "InitMIX = Initializer(2,MIX,R2);"
   ]
  },
  {
   "cell_type": "code",
   "execution_count": 55,
   "metadata": {},
   "outputs": [
    {
     "data": {
      "text/plain": [
       "true"
      ]
     },
     "metadata": {},
     "output_type": "display_data"
    }
   ],
   "source": [
    "InitMIX.Feasible"
   ]
  },
  {
   "cell_type": "code",
   "execution_count": 54,
   "metadata": {},
   "outputs": [
    {
     "data": {
      "text/plain": [
       "Dict{MaximalCnc, Float64} with 13 entries:\n",
       "  CNC:…                                                              => 0.0714286\n",
       "  CNC:…                                                              => 0.0714286\n",
       "  CNC:…                                                              => 0.0714286\n",
       "  CNC:…                                                              => 0.0714286\n",
       "  CNC:…                                                              => 0.0714286\n",
       "  CNC:…                                                              => 0.0714286\n",
       "  CNC:…                                                              => 0.142857\n",
       "  CNC:…                                                              => 0.0714286\n",
       "  CNC:…                                                              => 0.0714286\n",
       "  CNC:…                                                              => 0.0714286\n",
       "  CNC:…                                                              => 0.0714286\n",
       "  CNC:…                                                              => 0.0714286\n",
       "  CNC:…                                                              => 0.0714286"
      ]
     },
     "metadata": {},
     "output_type": "display_data"
    }
   ],
   "source": [
    "InitMIX.InitDist"
   ]
  },
  {
   "cell_type": "markdown",
   "metadata": {},
   "source": [
    "# 3-qubit magic state"
   ]
  },
  {
   "cell_type": "code",
   "execution_count": 25,
   "metadata": {},
   "outputs": [
    {
     "data": {
      "text/plain": [
       "64×71136 Matrix{Rational{Int64}}:\n",
       "  1   1   1   1   1  1   1   1   1  1  …  1   1   1   1   1  1   1  1   1   1\n",
       " -1   0   0   0   0  0   0   0   0  1     0   0   0   0   0  0   1  0   0   0\n",
       "  0   0   0   0   0  0   0   0   1  1     0   0   0   0   0  0  -1  0   0   0\n",
       "  0   0   0   0   0  0   0   0   0  0     0   0   0   0   1  0   1  1   0   0\n",
       "  0  -1   0   0   1  0   0   0   0  0     1   0  -1   0   0  1   0  0   0   0\n",
       "  0   0  -1  -1   0  0   0   0   0  0  …  0   0   0  -1   0  0   0  0  -1   0\n",
       "  0   0   0   0   0  0   0   0   0  0     0   1   0   0   0  0   0  0   0   1\n",
       "  1   0   0  -1   0  0  -1   0   0  1     0   0   0   0   0  0   0  0   1   0\n",
       "  0   0   0   0   0  0   0   0   0  0     0   0   0   0  -1  0   0  0   0   0\n",
       "  0   0   0   0   0  0   1   0  -1  0     0   0  -1   0   0  1   0  0   0   0\n",
       "  ⋮                  ⋮                 ⋱                  ⋮                 ⋮\n",
       "  0   0   0   0   0  0   0   0   0  0  …  0   0  -1   0   1  0   1  0   0   0\n",
       "  0   0   0  -1  -1  0   0   0   0  0     0   0   0   0   0  0   0  0  -1   0\n",
       "  0   1   0   0   0  1   0   0   0  0     1   0   0   0   0  0   0  0   0   0\n",
       "  0   0   0   0   0  1   0   0   0  0     0   0   0   0   0  0   0  0   0   0\n",
       "  0   0   0   0   0  0   1   0   0  0     0   1   0   0   0  0   0  0   0   1\n",
       "  0   0   0  -1   0  1   1   0   0  0  …  0   0   0   0   1  0   0  0   0   0\n",
       "  0   0   0   0   0  0   0   1   0  0     0  -1  -1   0   0  0   0  0   0  -1\n",
       "  0   0   0   0   0  0   0  -1   0  0     0   0  -1   0   0  0   0  0   0   0\n",
       "  0   0   0   0   1  0   0   0   0  0     0   0   0   0   1  0   0  0   0   0"
      ]
     },
     "metadata": {},
     "output_type": "display_data"
    }
   ],
   "source": [
    "n = 3; CNC3 = generate_all_cncs(n,[i for i in 1:n])\n",
    "R3 = generate_cnc_vertices(n,CNC3)"
   ]
  },
  {
   "cell_type": "code",
   "execution_count": 28,
   "metadata": {},
   "outputs": [
    {
     "data": {
      "text/plain": [
       "64-element Vector{Float64}:\n",
       " 1.0\n",
       " 0.7071067811865475\n",
       " 0.0\n",
       " 0.7071067811865475\n",
       " 0.7071067811865475\n",
       " 0.4999999999999999\n",
       " 0.0\n",
       " 0.4999999999999999\n",
       " 0.0\n",
       " 0.0\n",
       " ⋮\n",
       " 0.3535533905932737\n",
       " 0.0\n",
       " 0.0\n",
       " 0.0\n",
       " 0.0\n",
       " 0.4999999999999999\n",
       " 0.3535533905932737\n",
       " 0.0\n",
       " 0.3535533905932737"
      ]
     },
     "metadata": {},
     "output_type": "display_data"
    }
   ],
   "source": [
    "TTT = kron(kron(T,T),T)"
   ]
  },
  {
   "cell_type": "code",
   "execution_count": 29,
   "metadata": {},
   "outputs": [],
   "source": [
    "InitTTT = Initializer(3,TTT,R3);"
   ]
  },
  {
   "cell_type": "code",
   "execution_count": 38,
   "metadata": {},
   "outputs": [
    {
     "data": {
      "text/plain": [
       "\"Affine\""
      ]
     },
     "metadata": {},
     "output_type": "display_data"
    }
   ],
   "source": [
    "InitTTT.Mixture"
   ]
  },
  {
   "cell_type": "code",
   "execution_count": 34,
   "metadata": {},
   "outputs": [
    {
     "data": {
      "text/plain": [
       "0.9999999999968541"
      ]
     },
     "metadata": {},
     "output_type": "display_data"
    }
   ],
   "source": [
    "sum(values(InitTTT.InitDist))"
   ]
  },
  {
   "cell_type": "markdown",
   "metadata": {},
   "source": [
    "# Approximate magic state"
   ]
  },
  {
   "cell_type": "code",
   "execution_count": 52,
   "metadata": {},
   "outputs": [
    {
     "data": {
      "text/plain": [
       "64-element Vector{Float64}:\n",
       " 1.0\n",
       " 1.0\n",
       " 0.0\n",
       " 1.0\n",
       " 1.0\n",
       " 0.0\n",
       " 0.0\n",
       " 0.0\n",
       " 0.0\n",
       " 0.0\n",
       " ⋮\n",
       " 0.0\n",
       " 0.0\n",
       " 0.0\n",
       " 0.0\n",
       " 0.0\n",
       " 0.0\n",
       " 0.0\n",
       " 0.0\n",
       " 0.0"
      ]
     },
     "metadata": {},
     "output_type": "display_data"
    }
   ],
   "source": [
    "QQQ = approximate_input(TTT,0)"
   ]
  },
  {
   "cell_type": "code",
   "execution_count": 53,
   "metadata": {},
   "outputs": [],
   "source": [
    "InitQQQ = Initializer(3,QQQ,R3);"
   ]
  },
  {
   "cell_type": "code",
   "execution_count": 54,
   "metadata": {},
   "outputs": [
    {
     "data": {
      "text/plain": [
       "false"
      ]
     },
     "metadata": {},
     "output_type": "display_data"
    }
   ],
   "source": [
    "InitQQQ.Feasible"
   ]
  },
  {
   "cell_type": "code",
   "execution_count": 55,
   "metadata": {},
   "outputs": [
    {
     "data": {
      "text/plain": [
       "\"Affine\""
      ]
     },
     "metadata": {},
     "output_type": "display_data"
    }
   ],
   "source": [
    "InitQQQ.Mixture"
   ]
  },
  {
   "cell_type": "code",
   "execution_count": 56,
   "metadata": {},
   "outputs": [
    {
     "data": {
      "text/plain": [
       "1.0000000000000722"
      ]
     },
     "metadata": {},
     "output_type": "display_data"
    }
   ],
   "source": [
    "sum(values(InitQQQ.InitDist))"
   ]
  },
  {
   "cell_type": "code",
   "execution_count": 57,
   "metadata": {},
   "outputs": [
    {
     "data": {
      "text/plain": [
       "60"
      ]
     },
     "metadata": {},
     "output_type": "display_data"
    }
   ],
   "source": [
    "length(InitQQQ.Supports)"
   ]
  },
  {
   "cell_type": "markdown",
   "metadata": {},
   "source": [
    "# Partial magic states:"
   ]
  },
  {
   "cell_type": "code",
   "execution_count": 96,
   "metadata": {},
   "outputs": [
    {
     "data": {
      "text/plain": [
       "64-element Vector{Float64}:\n",
       " 1.0\n",
       " 1.0\n",
       " 0.0\n",
       " 0.0\n",
       " 1.0\n",
       " 1.0\n",
       " 0.0\n",
       " 0.0\n",
       " 0.0\n",
       " 0.0\n",
       " ⋮\n",
       " 0.0\n",
       " 0.0\n",
       " 0.0\n",
       " 0.0\n",
       " 0.0\n",
       " 0.0\n",
       " 0.0\n",
       " 0.0\n",
       " 0.0"
      ]
     },
     "metadata": {},
     "output_type": "display_data"
    }
   ],
   "source": [
    "P = Vector{Float64}([1,1,0,0])\n",
    "TPP = kron(kron(T,P),P)"
   ]
  },
  {
   "cell_type": "code",
   "execution_count": 81,
   "metadata": {},
   "outputs": [],
   "source": [
    "InitTPP = Initializer(3,TPP,R3);"
   ]
  },
  {
   "cell_type": "code",
   "execution_count": 82,
   "metadata": {},
   "outputs": [
    {
     "data": {
      "text/plain": [
       "true"
      ]
     },
     "metadata": {},
     "output_type": "display_data"
    }
   ],
   "source": [
    "InitTPP.Feasible"
   ]
  },
  {
   "cell_type": "code",
   "execution_count": 83,
   "metadata": {},
   "outputs": [
    {
     "data": {
      "text/plain": [
       "\"Convex\""
      ]
     },
     "metadata": {},
     "output_type": "display_data"
    }
   ],
   "source": [
    "InitTPP.Mixture"
   ]
  },
  {
   "cell_type": "code",
   "execution_count": 85,
   "metadata": {},
   "outputs": [
    {
     "data": {
      "text/plain": [
       "11"
      ]
     },
     "metadata": {},
     "output_type": "display_data"
    }
   ],
   "source": [
    "length(InitTPP.Supports)"
   ]
  },
  {
   "cell_type": "code",
   "execution_count": 86,
   "metadata": {},
   "outputs": [
    {
     "data": {
      "text/plain": [
       "Dict{MaximalCnc, Float64} with 11 entries:\n",
       "  CNC:…                                                              => 0.0244078\n",
       "  CNC:…                                                              => 0.0244078\n",
       "  CNC:…                                                              => 0.0244078\n",
       "  CNC:…                                                              => 0.0244078\n",
       "  CNC:…                                                              => 0.0244078\n",
       "  CNC:…                                                              => 0.377961\n",
       "  CNC:…                                                              => 0.0244078\n",
       "  CNC:…                                                              => 0.0244078\n",
       "  CNC:…                                                              => 0.0244078\n",
       "  CNC:…                                                              => 0.0488155\n",
       "  CNC:…                                                              => 0.377961"
      ]
     },
     "metadata": {},
     "output_type": "display_data"
    }
   ],
   "source": [
    "InitTPP.InitDist"
   ]
  },
  {
   "cell_type": "code",
   "execution_count": 87,
   "metadata": {},
   "outputs": [
    {
     "data": {
      "text/plain": [
       "64-element Vector{Float64}:\n",
       " 1.0\n",
       " 1.0\n",
       " 0.0\n",
       " 0.0\n",
       " 0.7071067811865475\n",
       " 0.7071067811865475\n",
       " 0.0\n",
       " 0.0\n",
       " 0.0\n",
       " 0.0\n",
       " ⋮\n",
       " 0.0\n",
       " 0.0\n",
       " 0.0\n",
       " 0.0\n",
       " 0.0\n",
       " 0.4999999999999999\n",
       " 0.4999999999999999\n",
       " 0.0\n",
       " 0.0"
      ]
     },
     "metadata": {},
     "output_type": "display_data"
    }
   ],
   "source": [
    "TTP = kron(kron(T,T),P)"
   ]
  },
  {
   "cell_type": "code",
   "execution_count": 88,
   "metadata": {},
   "outputs": [],
   "source": [
    "InitTTP = Initializer(3,TTP,R3);"
   ]
  },
  {
   "cell_type": "code",
   "execution_count": 89,
   "metadata": {},
   "outputs": [
    {
     "data": {
      "text/plain": [
       "true"
      ]
     },
     "metadata": {},
     "output_type": "display_data"
    }
   ],
   "source": [
    "InitTTP.Feasible"
   ]
  },
  {
   "cell_type": "code",
   "execution_count": 90,
   "metadata": {},
   "outputs": [
    {
     "data": {
      "text/plain": [
       "\"Convex\""
      ]
     },
     "metadata": {},
     "output_type": "display_data"
    }
   ],
   "source": [
    "InitTTP.Mixture"
   ]
  },
  {
   "cell_type": "code",
   "execution_count": 91,
   "metadata": {},
   "outputs": [
    {
     "data": {
      "text/plain": [
       "Dict{MaximalCnc, Float64} with 13 entries:\n",
       "  CNC:…                                                            => 0.0428932\n",
       "  CNC:…                                                            => 0.0606602\n",
       "  CNC:…                                                            => 0.146447\n",
       "  CNC:…                                                            => 0.0606602\n",
       "  CNC:…                                                            => 0.0428932\n",
       "  CNC:…                                                            => 0.0606602\n",
       "  CNC:…                                                            => 0.0428932\n",
       "  CNC:…                                                            => 0.146447\n",
       "  CNC:…                                                            => 0.146447\n",
       "  CNC:…                                                            => 0.0428932\n",
       "  CNC:…                                                            => 0.146447\n",
       "  CNC:…                                                            => 0.0606602\n",
       "  CNC:…                                                            => 1.38778e-16"
      ]
     },
     "metadata": {},
     "output_type": "display_data"
    }
   ],
   "source": [
    "InitTTP.InitDist"
   ]
  },
  {
   "cell_type": "markdown",
   "metadata": {},
   "source": [
    "# Stabilizer state:"
   ]
  },
  {
   "cell_type": "code",
   "execution_count": 62,
   "metadata": {},
   "outputs": [
    {
     "data": {
      "text/plain": [
       "8-element Vector{Int64}:\n",
       "  1\n",
       " 17\n",
       "  5\n",
       "  2\n",
       "  6\n",
       " 18\n",
       " 21\n",
       " 22"
      ]
     },
     "metadata": {},
     "output_type": "display_data"
    }
   ],
   "source": [
    "bit2int = PauliString(3).bit_to_int\n",
    "IXXX = [bit2int[[0,0,0,0,0,0]],bit2int[[1,0,0,0,0,0]],bit2int[[0,1,0,0,0,0]],bit2int[[0,0,1,0,0,0]],bit2int[[0,1,1,0,0,0]],bit2int[[1,0,1,0,0,0]],bit2int[[1,1,0,0,0,0]],bit2int[[1,1,1,0,0,0]]]"
   ]
  },
  {
   "cell_type": "code",
   "execution_count": 74,
   "metadata": {},
   "outputs": [],
   "source": [
    "XXX = zeros(Float64,64); XXX[IXXX] .= 1;"
   ]
  },
  {
   "cell_type": "code",
   "execution_count": 75,
   "metadata": {},
   "outputs": [],
   "source": [
    "InitXXX = Initializer(3,XXX,R3);"
   ]
  },
  {
   "cell_type": "code",
   "execution_count": 76,
   "metadata": {},
   "outputs": [
    {
     "data": {
      "text/plain": [
       "true"
      ]
     },
     "metadata": {},
     "output_type": "display_data"
    }
   ],
   "source": [
    "InitXXX.Feasible"
   ]
  },
  {
   "cell_type": "code",
   "execution_count": 77,
   "metadata": {},
   "outputs": [
    {
     "data": {
      "text/plain": [
       "\"Convex\""
      ]
     },
     "metadata": {},
     "output_type": "display_data"
    }
   ],
   "source": [
    "InitXXX.Mixture"
   ]
  },
  {
   "cell_type": "code",
   "execution_count": 78,
   "metadata": {},
   "outputs": [
    {
     "data": {
      "text/plain": [
       "Dict{MaximalCnc, Float64} with 2 entries:\n",
       "  CNC:…                                                                    => 0.5\n",
       "  CNC:…                                                                    => 0.5"
      ]
     },
     "metadata": {},
     "output_type": "display_data"
    }
   ],
   "source": [
    "InitXXX.InitDist"
   ]
  },
  {
   "cell_type": "code",
   "execution_count": null,
   "metadata": {},
   "outputs": [],
   "source": []
  }
 ],
 "metadata": {
  "kernelspec": {
   "display_name": "Julia 1.10.2",
   "language": "julia",
   "name": "julia-1.10"
  },
  "language_info": {
   "file_extension": ".jl",
   "mimetype": "application/julia",
   "name": "julia",
   "version": "1.10.2"
  }
 },
 "nbformat": 4,
 "nbformat_minor": 2
}
