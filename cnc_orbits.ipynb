{
 "cells": [
  {
   "cell_type": "code",
   "execution_count": 1,
   "metadata": {},
   "outputs": [
    {
     "name": "stderr",
     "output_type": "stream",
     "text": [
      "\u001b[32m\u001b[1m  Activating\u001b[22m\u001b[39m project at `~/Documents/GitHub/StabTheory/MyProject`\n"
     ]
    }
   ],
   "source": [
    "# initialize project:\n",
    "using Pkg; Pkg.activate(\"./MyProject\");;\n",
    "\n",
    "# Find current path\n",
    "CURRENT = pwd(); LIB_PATH = joinpath(CURRENT,\"libs\");\n",
    "\n",
    "# include auxiliary Julia scripts:\n",
    "for file in readdir(LIB_PATH)\n",
    "    # Check if the file ends with \".jl\" extension\n",
    "    if endswith(file, \".jl\")\n",
    "        include(joinpath(LIB_PATH, file))\n",
    "    end\n",
    "end"
   ]
  },
  {
   "cell_type": "code",
   "execution_count": 2,
   "metadata": {},
   "outputs": [
    {
     "data": {
      "text/plain": [
       "Dict{Any, Any} with 4 entries:\n",
       "  5 => Dict{Any, Any}(0=>Dict{Any, Any}(\"full_set\"=>[[0, 1, 1, 0, 1, 0, 0, 0, 0…\n",
       "  4 => Dict{Any, Any}(0=>Dict{Any, Any}(\"full_set\"=>[[0, 0, 1, 0, 0, 0, 0, 0], …\n",
       "  2 => Dict{Any, Any}(0=>Dict{Any, Any}(\"full_set\"=>[[1, 1, 0, 0], [0, 1, 0, 0]…\n",
       "  3 => Dict{Any, Any}(0=>Dict{Any, Any}(\"full_set\"=>[[1, 1, 1, 0, 0, 0], [0, 0,…"
      ]
     },
     "metadata": {},
     "output_type": "display_data"
    }
   ],
   "source": [
    "using YAML\n",
    "\n",
    "data = YAML.load_file(\"cnc.yaml\")"
   ]
  },
  {
   "cell_type": "code",
   "execution_count": 40,
   "metadata": {},
   "outputs": [
    {
     "name": "stdout",
     "output_type": "stream",
     "text": [
      "n=2, m=0: orbit size is 15\n",
      "n=2, m=1: orbit size is 15\n",
      "n=2, m=2: orbit size is 6\n"
     ]
    },
    {
     "ename": "InterruptException",
     "evalue": "InterruptException:",
     "output_type": "error",
     "traceback": [
      "InterruptException:\n",
      "\n",
      "Stacktrace:\n",
      "  [1] evalstr_ex(cmd::String)\n",
      "    @ GAP ~/.julia/packages/GAP/SPegz/src/ccalls.jl:93\n",
      "  [2] evalstr(cmd::String)\n",
      "    @ GAP ~/.julia/packages/GAP/SPegz/src/ccalls.jl:140\n",
      "  [3] symplectic_orbit(n::Int64, subspace::Vector{Vector{Int64}})\n",
      "    @ Main ~/Documents/GitHub/StabTheory/libs/clifford_group.jl:116\n",
      "  [4] eval\n",
      "    @ ./boot.jl:370 [inlined]\n",
      "  [5] include_string(mapexpr::typeof(REPL.softscope), mod::Module, code::String, filename::String)\n",
      "    @ Base ./loading.jl:1903\n",
      "  [6] #invokelatest#2\n",
      "    @ ./essentials.jl:819 [inlined]\n",
      "  [7] invokelatest\n",
      "    @ ./essentials.jl:816 [inlined]\n",
      "  [8] (::VSCodeServer.var\"#214#215\"{VSCodeServer.NotebookRunCellArguments, String})()\n",
      "    @ VSCodeServer ~/.vscode/extensions/julialang.language-julia-1.75.2/scripts/packages/VSCodeServer/src/serve_notebook.jl:19\n",
      "  [9] withpath(f::VSCodeServer.var\"#214#215\"{VSCodeServer.NotebookRunCellArguments, String}, path::String)\n",
      "    @ VSCodeServer ~/.vscode/extensions/julialang.language-julia-1.75.2/scripts/packages/VSCodeServer/src/repl.jl:274\n",
      " [10] notebook_runcell_request(conn::VSCodeServer.JSONRPC.JSONRPCEndpoint{Base.PipeEndpoint, Base.PipeEndpoint}, params::VSCodeServer.NotebookRunCellArguments)\n",
      "    @ VSCodeServer ~/.vscode/extensions/julialang.language-julia-1.75.2/scripts/packages/VSCodeServer/src/serve_notebook.jl:13\n",
      " [11] dispatch_msg(x::VSCodeServer.JSONRPC.JSONRPCEndpoint{Base.PipeEndpoint, Base.PipeEndpoint}, dispatcher::VSCodeServer.JSONRPC.MsgDispatcher, msg::Dict{String, Any})\n",
      "    @ VSCodeServer.JSONRPC ~/.vscode/extensions/julialang.language-julia-1.75.2/scripts/packages/JSONRPC/src/typed.jl:67\n",
      " [12] serve_notebook(pipename::String, outputchannel_logger::Base.CoreLogging.SimpleLogger; crashreporting_pipename::String)\n",
      "    @ VSCodeServer ~/.vscode/extensions/julialang.language-julia-1.75.2/scripts/packages/VSCodeServer/src/serve_notebook.jl:139\n",
      " [13] top-level scope\n",
      "    @ ~/.vscode/extensions/julialang.language-julia-1.75.2/scripts/notebook/notebook.jl:35"
     ]
    }
   ],
   "source": [
    "# Generate the orbits for each n and m\n",
    "orbits = Dict()\n",
    "for n in 2:3\n",
    "    n_orbits = Dict()\n",
    "    for m in 0:n\n",
    "        cnc = data[n][m][\"full_set\"]\n",
    "        orbit = symplectic_orbit(n, cnc)\n",
    "        orbit = [map(Vector, o) for o in orbit]\n",
    "        orbit = [[map(Int, v) for v in o] for o in orbit]\n",
    "        println(\"n=$n, m=$m: orbit size is $(length(orbit))\")\n",
    "        n_orbits[\"m=$m\"] = orbit\n",
    "    end\n",
    "    orbits[\"n=$n\"] = n_orbits\n",
    "end"
   ]
  },
  {
   "cell_type": "code",
   "execution_count": 39,
   "metadata": {},
   "outputs": [],
   "source": [
    "# Write the orbits to a YAML file\n",
    "open(\"cnc_orbits.yaml\", \"w\") do file\n",
    "    YAML.write(file, orbits)\n",
    "end"
   ]
  },
  {
   "cell_type": "code",
   "execution_count": null,
   "metadata": {},
   "outputs": [],
   "source": []
  }
 ],
 "metadata": {
  "kernelspec": {
   "display_name": "Julia 1.9.3",
   "language": "julia",
   "name": "julia-1.9"
  },
  "language_info": {
   "file_extension": ".jl",
   "mimetype": "application/julia",
   "name": "julia",
   "version": "1.9.3"
  }
 },
 "nbformat": 4,
 "nbformat_minor": 2
}
