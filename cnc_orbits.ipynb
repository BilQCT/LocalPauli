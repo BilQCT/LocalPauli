{
 "cells": [
  {
   "cell_type": "code",
   "execution_count": 1,
   "metadata": {},
   "outputs": [
    {
     "name": "stderr",
     "output_type": "stream",
     "text": [
      "\u001b[32m\u001b[1m  Activating\u001b[22m\u001b[39m project at `~/Documents/GitHub/StabTheory/MyProject`\n"
     ]
    }
   ],
   "source": [
    "# initialize project:\n",
    "using Pkg; Pkg.activate(\"./MyProject\");;\n",
    "using YAML\n",
    "\n",
    "# Find current path\n",
    "CURRENT = pwd(); LIB_PATH = joinpath(CURRENT,\"libs\");\n",
    "\n",
    "# include auxiliary Julia scripts:\n",
    "for file in readdir(LIB_PATH)\n",
    "    # Check if the file ends with \".jl\" extension\n",
    "    if endswith(file, \".jl\")\n",
    "        include(joinpath(LIB_PATH, file))\n",
    "    end\n",
    "end"
   ]
  },
  {
   "cell_type": "code",
   "execution_count": 3,
   "metadata": {},
   "outputs": [
    {
     "data": {
      "text/plain": [
       "Dict{Any, Any} with 4 entries:\n",
       "  5 => Dict{Any, Any}(0=>Dict{Any, Any}(\"full_set\"=>[[0, 1, 1, 0, 1, 0, 0, 0, 0…\n",
       "  4 => Dict{Any, Any}(0=>Dict{Any, Any}(\"full_set\"=>[[0, 0, 1, 0, 0, 0, 0, 0], …\n",
       "  2 => Dict{Any, Any}(0=>Dict{Any, Any}(\"full_set\"=>[[1, 1, 0, 0], [0, 1, 0, 0]…\n",
       "  3 => Dict{Any, Any}(0=>Dict{Any, Any}(\"full_set\"=>[[1, 1, 1, 0, 0, 0], [0, 0,…"
      ]
     },
     "metadata": {},
     "output_type": "display_data"
    }
   ],
   "source": [
    "data = YAML.load_file(\"cnc.yaml\")"
   ]
  },
  {
   "cell_type": "code",
   "execution_count": 3,
   "metadata": {},
   "outputs": [
    {
     "name": "stdout",
     "output_type": "stream",
     "text": [
      "n=2, m=0: orbit size is 15\n",
      "n=2, m=1: orbit size is 15\n",
      "n=2, m=2: orbit size is 6\n",
      "n=3, m=0: orbit size is 135\n",
      "n=3, m=1: orbit size is 315\n",
      "n=3, m=2: orbit size is 378\n",
      "n=3, m=3: orbit size is 288\n"
     ]
    }
   ],
   "source": [
    "# Generate the orbits for each n and m\n",
    "orbits = Dict()\n",
    "for n in 2:3\n",
    "    n_orbits = Dict()\n",
    "    for m in 0:n\n",
    "        cnc = data[n][m][\"full_set\"]\n",
    "        orbit = symplectic_orbit(n, cnc)\n",
    "        orbit = [map(Vector, o) for o in orbit]\n",
    "        orbit = [[map(Int, v) for v in o] for o in orbit]\n",
    "        println(\"n=$n, m=$m: orbit size is $(length(orbit))\")\n",
    "        n_orbits[\"m=$m\"] = orbit\n",
    "    end\n",
    "    orbits[\"n=$n\"] = n_orbits\n",
    "end"
   ]
  },
  {
   "cell_type": "code",
   "execution_count": 4,
   "metadata": {},
   "outputs": [],
   "source": [
    "# Write the orbits to a YAML file\n",
    "open(\"cnc_orbits.yaml\", \"w\") do file\n",
    "    YAML.write(file, orbits)\n",
    "end"
   ]
  },
  {
   "cell_type": "code",
   "execution_count": 2,
   "metadata": {},
   "outputs": [],
   "source": [
    "orbits = YAML.load_file(\"cnc_orbits.yaml\")\n",
    "\n",
    "cncs = Dict()\n",
    "for n in 2:2\n",
    "    n_cncs = Dict()\n",
    "    for m in 0:n\n",
    "        nm_cncs = Vector{Dict}()\n",
    "        orbit = orbits[\"n=$n\"][\"m=$m\"]\n",
    "        for cnc in orbit\n",
    "            d = Dict()\n",
    "            cnc_set::Set{Vector{Int}} = Set(cnc)\n",
    "            cnc = CncSet(cnc_set)\n",
    "            isotropic_gens_list = [map(Int, v) for v in cnc.isotropic_gens]\n",
    "            anticomm_paulis_list = [map(Int, v) for v in cnc.anticommuting_paulis]\n",
    "            d[\"isotropic_gens\"] = isotropic_gens_list\n",
    "            d[\"anticommuting_paulis\"] = anticomm_paulis_list\n",
    "            push!(nm_cncs, d)\n",
    "        end\n",
    "        n_cncs[\"m=$m\"] = nm_cncs\n",
    "    end\n",
    "    cncs[\"n=$n\"] = n_cncs\n",
    "end"
   ]
  },
  {
   "cell_type": "code",
   "execution_count": 3,
   "metadata": {},
   "outputs": [
    {
     "name": "stdout",
     "output_type": "stream",
     "text": [
      "Dict{Any, Any}(\"n=2\" => Dict{Any, Any}(\"m=2\" => Dict[Dict{Any, Any}(\"anticommuting_paulis\" => [[1, 1, 1, 0], [0, 1, 0, 1], [0, 0, 0, 1], [0, 1, 1, 0], [1, 1, 0, 0]], \"isotropic_gens\" => [[0, 0, 0, 0]]), Dict{Any, Any}(\"anticommuting_paulis\" => [[1, 0, 1, 0], [0, 1, 1, 1], [0, 0, 1, 1], [0, 1, 1, 0], [1, 0, 0, 0]], \"isotropic_gens\" => [[0, 0, 0, 0]]), Dict{Any, Any}(\"anticommuting_paulis\" => [[1, 0, 1, 0], [1, 1, 0, 1], [1, 0, 0, 1], [1, 1, 0, 0], [0, 0, 1, 0]], \"isotropic_gens\" => [[0, 0, 0, 0]]), Dict{Any, Any}(\"anticommuting_paulis\" => [[0, 0, 0, 1], [0, 1, 0, 0], [0, 1, 1, 1], [1, 1, 0, 1], [1, 1, 1, 1]], \"isotropic_gens\" => [[0, 0, 0, 0]]), Dict{Any, Any}(\"anticommuting_paulis\" => [[1, 0, 1, 1], [0, 1, 0, 1], [0, 1, 0, 0], [0, 0, 1, 1], [1, 0, 0, 1]], \"isotropic_gens\" => [[0, 0, 0, 0]]), Dict{Any, Any}(\"anticommuting_paulis\" => [[1, 0, 1, 1], [1, 1, 1, 0], [0, 0, 1, 0], [1, 0, 0, 0], [1, 1, 1, 1]], \"isotropic_gens\" => [[0, 0, 0, 0]])], \"m=0\" => Dict[Dict{Any, Any}(\"anticommuting_paulis\" => [[0, 0, 0, 0]], \"isotropic_gens\" => [[0, 1, 0, 0], [1, 1, 0, 0]]), Dict{Any, Any}(\"anticommuting_paulis\" => [[0, 0, 0, 0]], \"isotropic_gens\" => [[0, 1, 1, 0], [1, 0, 0, 1]]), Dict{Any, Any}(\"anticommuting_paulis\" => [[0, 0, 0, 0]], \"isotropic_gens\" => [[0, 0, 0, 1], [1, 0, 0, 1]]), Dict{Any, Any}(\"anticommuting_paulis\" => [[0, 0, 0, 0]], \"isotropic_gens\" => [[0, 1, 0, 1], [0, 1, 1, 1]]), Dict{Any, Any}(\"anticommuting_paulis\" => [[0, 0, 0, 0]], \"isotropic_gens\" => [[0, 1, 0, 1], [1, 0, 1, 0]]), Dict{Any, Any}(\"anticommuting_paulis\" => [[0, 0, 0, 0]], \"isotropic_gens\" => [[0, 0, 1, 1], [1, 1, 0, 0]]), Dict{Any, Any}(\"anticommuting_paulis\" => [[0, 0, 0, 0]], \"isotropic_gens\" => [[0, 0, 0, 1], [0, 0, 1, 1]]), Dict{Any, Any}(\"anticommuting_paulis\" => [[0, 0, 0, 0]], \"isotropic_gens\" => [[1, 1, 1, 0], [1, 0, 1, 0]]), Dict{Any, Any}(\"anticommuting_paulis\" => [[0, 0, 0, 0]], \"isotropic_gens\" => [[1, 1, 1, 0], [0, 1, 1, 1]]), Dict{Any, Any}(\"anticommuting_paulis\" => [[0, 0, 0, 0]], \"isotropic_gens\" => [[1, 0, 1, 1], [1, 1, 0, 1]]), Dict{Any, Any}(\"anticommuting_paulis\" => [[0, 0, 0, 0]], \"isotropic_gens\" => [[0, 1, 0, 0], [0, 1, 1, 0]]), Dict{Any, Any}(\"anticommuting_paulis\" => [[0, 0, 0, 0]], \"isotropic_gens\" => [[0, 1, 0, 1], [1, 1, 0, 1]]), Dict{Any, Any}(\"anticommuting_paulis\" => [[0, 0, 0, 0]], \"isotropic_gens\" => [[1, 1, 1, 0], [1, 1, 0, 1]]), Dict{Any, Any}(\"anticommuting_paulis\" => [[0, 0, 0, 0]], \"isotropic_gens\" => [[1, 0, 1, 1], [0, 1, 1, 1]]), Dict{Any, Any}(\"anticommuting_paulis\" => [[0, 0, 0, 0]], \"isotropic_gens\" => [[1, 0, 1, 1], [1, 0, 1, 0]])], \"m=1\" => Dict[Dict{Any, Any}(\"anticommuting_paulis\" => [[1, 1, 1, 0], [0, 1, 1, 0], [1, 1, 0, 0]], \"isotropic_gens\" => [[0, 1, 0, 0]]), Dict{Any, Any}(\"anticommuting_paulis\" => [[1, 1, 1, 0], [0, 0, 0, 1], [0, 1, 1, 0]], \"isotropic_gens\" => [[1, 0, 0, 1]]), Dict{Any, Any}(\"anticommuting_paulis\" => [[0, 1, 0, 1], [0, 0, 0, 1], [0, 1, 0, 0]], \"isotropic_gens\" => [[1, 0, 0, 0]]), Dict{Any, Any}(\"anticommuting_paulis\" => [[1, 0, 1, 0], [0, 1, 1, 1], [1, 1, 0, 1]], \"isotropic_gens\" => [[0, 1, 0, 1]]), Dict{Any, Any}(\"anticommuting_paulis\" => [[0, 1, 0, 1], [0, 0, 1, 1], [0, 1, 1, 0]], \"isotropic_gens\" => [[1, 1, 1, 1]]), Dict{Any, Any}(\"anticommuting_paulis\" => [[1, 1, 1, 0], [0, 0, 0, 1], [1, 1, 0, 0]], \"isotropic_gens\" => [[0, 0, 1, 1]]), Dict{Any, Any}(\"anticommuting_paulis\" => [[1, 0, 1, 1], [0, 0, 1, 1], [1, 0, 0, 1]], \"isotropic_gens\" => [[0, 0, 0, 1]]), Dict{Any, Any}(\"anticommuting_paulis\" => [[0, 1, 0, 1], [0, 0, 0, 1], [0, 1, 0, 0]], \"isotropic_gens\" => [[0, 0, 1, 0]]), Dict{Any, Any}(\"anticommuting_paulis\" => [[1, 0, 1, 1], [1, 1, 1, 0], [0, 1, 0, 1]], \"isotropic_gens\" => [[1, 0, 1, 0]]), Dict{Any, Any}(\"anticommuting_paulis\" => [[1, 0, 1, 1], [1, 1, 1, 0], [0, 1, 0, 1]], \"isotropic_gens\" => [[0, 1, 1, 1]]), Dict{Any, Any}(\"anticommuting_paulis\" => [[1, 0, 1, 0], [0, 1, 1, 1], [1, 1, 0, 1]], \"isotropic_gens\" => [[1, 1, 1, 0]]), Dict{Any, Any}(\"anticommuting_paulis\" => [[1, 0, 1, 1], [0, 1, 0, 0], [1, 0, 0, 1]], \"isotropic_gens\" => [[0, 1, 1, 0]]), Dict{Any, Any}(\"anticommuting_paulis\" => [[1, 0, 1, 1], [1, 1, 1, 0], [0, 1, 0, 1]], \"isotropic_gens\" => [[1, 1, 0, 1]]), Dict{Any, Any}(\"anticommuting_paulis\" => [[1, 0, 1, 0], [0, 1, 1, 1], [1, 1, 0, 1]], \"isotropic_gens\" => [[1, 0, 1, 1]]), Dict{Any, Any}(\"anticommuting_paulis\" => [[1, 0, 1, 1], [0, 1, 0, 0], [0, 0, 1, 1]], \"isotropic_gens\" => [[1, 1, 0, 0]])]))\n"
     ]
    }
   ],
   "source": [
    "println(cncs)"
   ]
  },
  {
   "cell_type": "code",
   "execution_count": 4,
   "metadata": {},
   "outputs": [],
   "source": [
    "open(\"cnc_by_orbits.yaml\", \"w\") do file\n",
    "    YAML.write(file, cncs)\n",
    "end"
   ]
  },
  {
   "cell_type": "code",
   "execution_count": null,
   "metadata": {},
   "outputs": [],
   "source": []
  }
 ],
 "metadata": {
  "kernelspec": {
   "display_name": "Julia 1.10.2",
   "language": "julia",
   "name": "julia-1.10"
  },
  "language_info": {
   "file_extension": ".jl",
   "mimetype": "application/julia",
   "name": "julia",
   "version": "1.10.2"
  }
 },
 "nbformat": 4,
 "nbformat_minor": 2
}
