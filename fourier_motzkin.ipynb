{
 "cells": [
  {
   "cell_type": "code",
   "execution_count": null,
   "metadata": {},
   "outputs": [],
   "source": [
    "# initialize project:\n",
    "using Pkg; Pkg.activate(\"./MyProject\");;\n",
    "include(\"libs/local_clifford_group.jl\");;\n",
    "\n",
    "using GAP\n",
    "const g = GAP.Globals;;"
   ]
  },
  {
   "cell_type": "code",
   "execution_count": null,
   "metadata": {},
   "outputs": [],
   "source": [
    "PS3 = PauliString(3);\n",
    "fieldnames(PauliString)"
   ]
  },
  {
   "cell_type": "code",
   "execution_count": null,
   "metadata": {},
   "outputs": [],
   "source": [
    "LC3 = LocalCliffordGroup(3);\n",
    "local_cl3 = LC3.LocalCliffGroup"
   ]
  },
  {
   "cell_type": "code",
   "execution_count": null,
   "metadata": {},
   "outputs": [],
   "source": [
    "# Mapping pauli strings to index number:\n",
    "PPP_paulis = [\"III\",\"IIX\",\"IXI\",\"XII\",\"IXX\",\"XIX\",\"XXI\",\"XXX\"]\n",
    "PPP_index = [PS3.bit_to_int[PS3.pauli_to_bit[p]] for p in PPP_paulis];"
   ]
  },
  {
   "cell_type": "code",
   "execution_count": null,
   "metadata": {},
   "outputs": [],
   "source": [
    "PPP = Vector{Int}([0 for i in 1:64]);\n",
    "PPP[PPP_index] .= 1;"
   ]
  },
  {
   "cell_type": "code",
   "execution_count": null,
   "metadata": {},
   "outputs": [],
   "source": [
    "Stab3 = local_clifford_orbit_of_point(LC3,PPP)"
   ]
  },
  {
   "cell_type": "code",
   "execution_count": null,
   "metadata": {},
   "outputs": [],
   "source": [
    "using Polyhedra\n",
    "\n",
    "A = Matrix{Int}(undef,0,64)\n",
    "for i in 1:length(Stab3)\n",
    "    A = vcat(A,transpose(Stab3[i]))\n",
    "end"
   ]
  },
  {
   "cell_type": "code",
   "execution_count": null,
   "metadata": {},
   "outputs": [],
   "source": [
    "H = LiftedHRepresentation{Int64}(A);\n",
    "P = polyhedron(convert(Polyhedra.Intersection{Int,Vector{Int},Int}, H));"
   ]
  },
  {
   "cell_type": "code",
   "execution_count": null,
   "metadata": {},
   "outputs": [],
   "source": [
    "elim = ([x for x in PS3.pauli_strings if x[1] != 'I']); ordered_elim = Vector{Vector{String}}([[] for i in 1:3]);\n",
    "for i in 1:length(elim)\n",
    "    pauli = elim[i]\n",
    "    weight = 3-length(findall(y->y=='I',pauli))\n",
    "    push!(ordered_elim[weight],pauli)\n",
    "end"
   ]
  },
  {
   "cell_type": "code",
   "execution_count": null,
   "metadata": {},
   "outputs": [],
   "source": [
    "elim_idx = Vector{Int}([])\n",
    "for i in 1:3\n",
    "   w = 4-i\n",
    "   for p in ordered_elim[w]\n",
    "      push!(elim_idx,BtoI[PtoB[p]]);\n",
    "   end \n",
    "end"
   ]
  },
  {
   "cell_type": "code",
   "execution_count": null,
   "metadata": {},
   "outputs": [],
   "source": [
    "Q = deepcopy(P)\n",
    "for e in elim_idx\n",
    "    Q = eliminate(Q,[e])\n",
    "end"
   ]
  }
 ],
 "metadata": {
  "kernelspec": {
   "display_name": "Julia 1.10.2",
   "language": "julia",
   "name": "julia-1.10"
  },
  "language_info": {
   "file_extension": ".jl",
   "mimetype": "application/julia",
   "name": "julia",
   "version": "1.10.2"
  }
 },
 "nbformat": 4,
 "nbformat_minor": 2
}
