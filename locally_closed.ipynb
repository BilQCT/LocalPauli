{
 "cells": [
  {
   "cell_type": "code",
   "execution_count": 6,
   "metadata": {},
   "outputs": [
    {
     "name": "stderr",
     "output_type": "stream",
     "text": [
      "\u001b[32m\u001b[1m  Activating\u001b[22m\u001b[39m project at `~/Documents/GitHub/StabTheory/MyProject`\n"
     ]
    }
   ],
   "source": [
    "# initialize project:\n",
    "using Pkg; Pkg.activate(\"./MyProject\");;\n",
    "\n",
    "# Find current path\n",
    "CURRENT = pwd(); LIB_PATH = joinpath(CURRENT,\"libs\");\n",
    "\n",
    "# include auxiliary Julia scripts:\n",
    "for file in readdir(LIB_PATH)\n",
    "    # Check if the file ends with \".jl\" extension\n",
    "    if endswith(file, \".jl\")\n",
    "        include(joinpath(LIB_PATH, file))\n",
    "    end\n",
    "end\n",
    "\n",
    "using Polymake\n",
    "const pm = Polymake;\n",
    "const g = GAP.Globals;"
   ]
  },
  {
   "cell_type": "code",
   "execution_count": 11,
   "metadata": {},
   "outputs": [],
   "source": [
    "PS2 = PauliStrings(2)\n",
    "all_points = Dict{Tuple{Int, Int}, Array{Int, 2}}()\n",
    "\n",
    "for n in 0:3\n",
    "    for m in 0:n\n",
    "        # initialize matrix:\n",
    "        M = Array{Int}(undef, 16, 0)\n",
    "\n",
    "        random_almost_maximal = generate_random_two_dim_almost_maximal_sets(n,m)\n",
    "        all_almost_maximals = generate_all_two_dim_almost_maximals(random_almost_maximal)\n",
    "        for almost_maximal in all_almost_maximals\n",
    "            A = almost_maximal_to_pauli_basis(almost_maximal, PS2)\n",
    "            M = hcat(M, A)\n",
    "        end\n",
    "        all_points[(n,m)] = M\n",
    "    end\n",
    "end"
   ]
  },
  {
   "cell_type": "code",
   "execution_count": 14,
   "metadata": {},
   "outputs": [],
   "source": [
    "symptuple2 = symplectic_perm_group(2);\n",
    "sp2 = symptuple2[1]; fdict2 = symptuple2[2]; bdict2 = symptuple2[3];"
   ]
  },
  {
   "cell_type": "code",
   "execution_count": 15,
   "metadata": {},
   "outputs": [
    {
     "data": {
      "text/plain": [
       "36×16 Matrix{Int64}:\n",
       " 1   1   0   0   1   1   0   0   0   0  0   0  0  0  0  0\n",
       " 1   1   0   0  -1  -1   0   0   0   0  0   0  0  0  0  0\n",
       " 1  -1   0   0   1  -1   0   0   0   0  0   0  0  0  0  0\n",
       " 1  -1   0   0  -1   1   0   0   0   0  0   0  0  0  0  0\n",
       " 1   0   0   1   0   0   0   0   1   0  0   1  0  0  0  0\n",
       " 1   0   0   1   0   0   0   0  -1   0  0  -1  0  0  0  0\n",
       " 1   0   0  -1   0   0   0   0   1   0  0  -1  0  0  0  0\n",
       " 1   0   0  -1   0   0   0   0  -1   0  0   1  0  0  0  0\n",
       " 1   0   0   1   1   0   0   1   0   0  0   0  0  0  0  0\n",
       " 1   0   0   1  -1   0   0  -1   0   0  0   0  0  0  0  0\n",
       " ⋮                   ⋮                  ⋮               ⋮\n",
       " 1   0  -1   0   0   0   0   0  -1   0  1   0  0  0  0  0\n",
       " 1   1   0   0   0   0   0   0   1   1  0   0  0  0  0  0\n",
       " 1   1   0   0   0   0   0   0  -1  -1  0   0  0  0  0  0\n",
       " 1  -1   0   0   0   0   0   0   1  -1  0   0  0  0  0  0\n",
       " 1  -1   0   0   0   0   0   0  -1   1  0   0  0  0  0  0\n",
       " 1   0   1   0   1   0   1   0   0   0  0   0  0  0  0  0\n",
       " 1   0   1   0  -1   0  -1   0   0   0  0   0  0  0  0  0\n",
       " 1   0  -1   0   1   0  -1   0   0   0  0   0  0  0  0  0\n",
       " 1   0  -1   0  -1   0   1   0   0   0  0   0  0  0  0  0"
      ]
     },
     "metadata": {},
     "output_type": "display_data"
    }
   ],
   "source": [
    "i2 = canonical_maximal_isotropic(2)\n",
    "I2 = (symplectic_orbit(2,sp2,i2,fdict2,bdict2))\n",
    "\n",
    "# Local stabilizer states:\n",
    "I2loc = local_isotropics(I2, 2)\n",
    "A2loc = stabilizer_coefficients(2, I2loc)"
   ]
  },
  {
   "cell_type": "code",
   "execution_count": 20,
   "metadata": {},
   "outputs": [],
   "source": [
    "using LinearAlgebra\n",
    "ranks = Dict{Tuple{Int, Int}, Dict{Int, Int}}()\n",
    "\n",
    "for n in 0:3\n",
    "    for m in 0:n\n",
    "        C = all_points[(n,m)]\n",
    "        H = A2loc*C\n",
    "        rank_counts = Dict{Int, Int}()\n",
    "        for j in 1:size(H)[2]\n",
    "            Z = findall(x->x==0,H[:,j])\n",
    "            AZ = A2loc[Z,:]\n",
    "            rank_AZ = rank(AZ)\n",
    "            if haskey(rank_counts, rank_AZ)\n",
    "                rank_counts[rank_AZ] += 1\n",
    "            else\n",
    "                rank_counts[rank_AZ] = 1\n",
    "            end\n",
    "        end\n",
    "        ranks[(n,m)] = rank_counts\n",
    "    end\n",
    "end"
   ]
  },
  {
   "cell_type": "code",
   "execution_count": 24,
   "metadata": {},
   "outputs": [
    {
     "name": "stdout",
     "output_type": "stream",
     "text": [
      "n = 0, m = 0\n",
      "Rank 15: 480\n",
      "Rank 14: 32\n",
      "\n",
      "n = 1, m = 0\n",
      "Rank 15: 96\n",
      "Rank 14: 32\n",
      "\n",
      "n = 1, m = 1\n",
      "Rank 15: 32\n",
      "Rank 14: 32\n",
      "\n",
      "n = 2, m = 0\n",
      "Rank 14: 32\n",
      "\n",
      "n = 2, m = 1\n",
      "Rank 14: 32\n",
      "\n",
      "n = 2, m = 2\n",
      "Rank 14: 32\n",
      "\n",
      "n = 3, m = 0\n",
      "Rank 12: 8\n",
      "\n",
      "n = 3, m = 1\n",
      "Rank 13: 16\n",
      "\n",
      "n = 3, m = 2\n",
      "Rank 14: 32\n",
      "\n",
      "n = 3, m = 3\n",
      "Rank 15: 64\n",
      "\n"
     ]
    }
   ],
   "source": [
    "for n in 0:3\n",
    "    for m in 0:n\n",
    "        println(\"n = \", n, \", m = \", m)\n",
    "        for (rank, count) in ranks[(n,m)]\n",
    "            println(\"Rank \", rank, \": \", count)\n",
    "        end\n",
    "        println()\n",
    "    end\n",
    "end"
   ]
  },
  {
   "cell_type": "code",
   "execution_count": null,
   "metadata": {},
   "outputs": [],
   "source": []
  }
 ],
 "metadata": {
  "kernelspec": {
   "display_name": "Julia 1.9.3",
   "language": "julia",
   "name": "julia-1.9"
  },
  "language_info": {
   "file_extension": ".jl",
   "mimetype": "application/julia",
   "name": "julia",
   "version": "1.9.3"
  }
 },
 "nbformat": 4,
 "nbformat_minor": 2
}
