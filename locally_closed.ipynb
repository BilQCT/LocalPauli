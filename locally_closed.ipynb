{
 "cells": [
  {
   "cell_type": "code",
   "execution_count": 40,
   "metadata": {},
   "outputs": [
    {
     "name": "stderr",
     "output_type": "stream",
     "text": [
      "\u001b[32m\u001b[1m  Activating\u001b[22m\u001b[39m project at `~/Documents/GitHub/StabTheory/MyProject`\n"
     ]
    }
   ],
   "source": [
    "# initialize project:\n",
    "using Pkg; Pkg.activate.(\"./MyProject\");;\n",
    "\n",
    "# Find current path\n",
    "CURRENT = pwd(); LIB_PATH = joinpath(CURRENT,\"libs\");\n",
    "\n",
    "# include auxiliary Julia scripts:\n",
    "for file in readdir(LIB_PATH)\n",
    "    # Check if the file ends with \".jl\" extension\n",
    "    if endswith(file, \".jl\")\n",
    "        include(joinpath(LIB_PATH, file))\n",
    "    end\n",
    "end\n",
    "\n",
    "using Polymake\n",
    "const pm = Polymake;\n",
    "const g = GAP.Globals;"
   ]
  },
  {
   "cell_type": "code",
   "execution_count": 2,
   "metadata": {},
   "outputs": [],
   "source": [
    "PS2 = PauliStrings(2)\n",
    "all_points = Dict{Tuple{Int, Int}, Array{Int, 2}}()\n",
    "\n",
    "for n in 0:3\n",
    "    for m in 0:n\n",
    "        # initialize matrix:\n",
    "        M = Array{Int}(undef, 16, 0)\n",
    "\n",
    "        random_almost_maximal = generate_random_two_dim_almost_maximal_sets(n,m)\n",
    "        all_almost_maximals = generate_all_two_dim_almost_maximals(random_almost_maximal)\n",
    "        for almost_maximal in all_almost_maximals\n",
    "            A = almost_maximal_to_pauli_basis(almost_maximal, PS2)\n",
    "            M = hcat(M, A)\n",
    "        end\n",
    "        all_points[(n,m)] = M\n",
    "    end\n",
    "end"
   ]
  },
  {
   "cell_type": "code",
   "execution_count": 3,
   "metadata": {},
   "outputs": [],
   "source": [
    "symptuple2 = symplectic_perm_group(2);\n",
    "sp2 = symptuple2[1]; fdict2 = symptuple2[2]; bdict2 = symptuple2[3];"
   ]
  },
  {
   "cell_type": "code",
   "execution_count": 4,
   "metadata": {},
   "outputs": [
    {
     "data": {
      "text/plain": [
       "36×16 Matrix{Int64}:\n",
       " 1   1   0   0   1   1   0   0   0   0  0   0  0  0  0  0\n",
       " 1   1   0   0  -1  -1   0   0   0   0  0   0  0  0  0  0\n",
       " 1  -1   0   0   1  -1   0   0   0   0  0   0  0  0  0  0\n",
       " 1  -1   0   0  -1   1   0   0   0   0  0   0  0  0  0  0\n",
       " 1   0   0   1   0   0   0   0   1   0  0   1  0  0  0  0\n",
       " 1   0   0   1   0   0   0   0  -1   0  0  -1  0  0  0  0\n",
       " 1   0   0  -1   0   0   0   0   1   0  0  -1  0  0  0  0\n",
       " 1   0   0  -1   0   0   0   0  -1   0  0   1  0  0  0  0\n",
       " 1   0   0   1   1   0   0   1   0   0  0   0  0  0  0  0\n",
       " 1   0   0   1  -1   0   0  -1   0   0  0   0  0  0  0  0\n",
       " ⋮                   ⋮                  ⋮               ⋮\n",
       " 1   0  -1   0   0   0   0   0  -1   0  1   0  0  0  0  0\n",
       " 1   1   0   0   0   0   0   0   1   1  0   0  0  0  0  0\n",
       " 1   1   0   0   0   0   0   0  -1  -1  0   0  0  0  0  0\n",
       " 1  -1   0   0   0   0   0   0   1  -1  0   0  0  0  0  0\n",
       " 1  -1   0   0   0   0   0   0  -1   1  0   0  0  0  0  0\n",
       " 1   0   1   0   1   0   1   0   0   0  0   0  0  0  0  0\n",
       " 1   0   1   0  -1   0  -1   0   0   0  0   0  0  0  0  0\n",
       " 1   0  -1   0   1   0  -1   0   0   0  0   0  0  0  0  0\n",
       " 1   0  -1   0  -1   0   1   0   0   0  0   0  0  0  0  0"
      ]
     },
     "metadata": {},
     "output_type": "display_data"
    }
   ],
   "source": [
    "i2 = canonical_maximal_isotropic(2)\n",
    "I2 = (symplectic_orbit(2,sp2,i2,fdict2,bdict2))\n",
    "\n",
    "# Local stabilizer states:\n",
    "I2loc = local_isotropics(I2, 2)\n",
    "A2loc = stabilizer_coefficients(2, I2loc)"
   ]
  },
  {
   "cell_type": "code",
   "execution_count": 5,
   "metadata": {},
   "outputs": [],
   "source": [
    "using LinearAlgebra\n",
    "ranks = Dict{Tuple{Int, Int}, Dict{Int, Int}}()\n",
    "\n",
    "for n in 0:3\n",
    "    for m in 0:n\n",
    "        C = all_points[(n,m)]\n",
    "        H = A2loc*C\n",
    "        rank_counts = Dict{Int, Int}()\n",
    "        for j in 1:size(H)[2]\n",
    "            Z = findall(x->x==0,H[:,j])\n",
    "            AZ = A2loc[Z,:]\n",
    "            rank_AZ = rank(AZ)\n",
    "            if haskey(rank_counts, rank_AZ)\n",
    "                rank_counts[rank_AZ] += 1\n",
    "            else\n",
    "                rank_counts[rank_AZ] = 1\n",
    "            end\n",
    "        end\n",
    "        ranks[(n,m)] = rank_counts\n",
    "    end\n",
    "end"
   ]
  },
  {
   "cell_type": "code",
   "execution_count": 6,
   "metadata": {},
   "outputs": [
    {
     "name": "stdout",
     "output_type": "stream",
     "text": [
      "n = 0, m = 0\n",
      "Rank 15: 480\n",
      "Rank 14: 32\n",
      "\n",
      "n = 1, m = 0\n",
      "Rank 15: 96\n",
      "Rank 14: 32\n",
      "\n",
      "n = 1, m = 1\n",
      "Rank 15: 32\n",
      "Rank 14: 32\n",
      "\n",
      "n = 2, m = 0\n",
      "Rank 14: 32\n",
      "\n",
      "n = 2, m = 1\n",
      "Rank 14: 32\n",
      "\n",
      "n = 2, m = 2\n",
      "Rank 14: 32\n",
      "\n",
      "n = 3, m = 0\n",
      "Rank 12: 8\n",
      "\n",
      "n = 3, m = 1\n",
      "Rank 13: 16\n",
      "\n",
      "n = 3, m = 2\n",
      "Rank 14: 32\n",
      "\n",
      "n = 3, m = 3\n",
      "Rank 15: 64\n",
      "\n"
     ]
    }
   ],
   "source": [
    "for n in 0:3\n",
    "    for m in 0:n\n",
    "        println(\"n = \", n, \", m = \", m)\n",
    "        for (rank, count) in ranks[(n,m)]\n",
    "            println(\"Rank \", rank, \": \", count)\n",
    "        end\n",
    "        println()\n",
    "    end\n",
    "end"
   ]
  },
  {
   "cell_type": "markdown",
   "metadata": {},
   "source": [
    "## 3-Qubit"
   ]
  },
  {
   "cell_type": "code",
   "execution_count": 7,
   "metadata": {},
   "outputs": [],
   "source": [
    "symptuple3 = symplectic_perm_group(3);\n",
    "sp3 = symptuple3[1]; fdict3 = symptuple3[2]; bdict3 = symptuple3[3];"
   ]
  },
  {
   "cell_type": "code",
   "execution_count": 8,
   "metadata": {},
   "outputs": [
    {
     "data": {
      "text/plain": [
       "135-element Vector{Any}:\n",
       " [[0, 0, 0, 0, 0, 0], [0, 0, 1, 0, 0, 0], [0, 1, 0, 0, 0, 0], [0, 1, 1, 0, 0, 0], [1, 0, 0, 0, 0, 0], [1, 0, 1, 0, 0, 0], [1, 1, 0, 0, 0, 0], [1, 1, 1, 0, 0, 0]]\n",
       " [[0, 0, 0, 0, 0, 0], [0, 0, 1, 0, 0, 0], [0, 1, 0, 0, 0, 0], [0, 1, 1, 0, 0, 0], [1, 0, 0, 1, 0, 0], [1, 0, 1, 1, 0, 0], [1, 1, 0, 1, 0, 0], [1, 1, 1, 1, 0, 0]]\n",
       " [[0, 0, 0, 0, 0, 0], [0, 0, 0, 0, 0, 1], [0, 1, 0, 0, 0, 0], [0, 1, 0, 0, 0, 1], [1, 0, 0, 0, 0, 0], [1, 0, 0, 0, 0, 1], [1, 1, 0, 0, 0, 0], [1, 1, 0, 0, 0, 1]]\n",
       " [[0, 0, 0, 0, 0, 0], [0, 0, 1, 0, 0, 1], [0, 1, 0, 0, 0, 0], [0, 1, 1, 0, 0, 1], [1, 0, 0, 0, 0, 0], [1, 0, 1, 0, 0, 1], [1, 1, 0, 0, 0, 0], [1, 1, 1, 0, 0, 1]]\n",
       " [[0, 0, 0, 0, 0, 0], [0, 0, 0, 1, 0, 1], [0, 1, 0, 0, 0, 0], [0, 1, 0, 1, 0, 1], [1, 0, 1, 1, 0, 0], [1, 0, 1, 0, 0, 1], [1, 1, 1, 1, 0, 0], [1, 1, 1, 0, 0, 1]]\n",
       " [[0, 0, 0, 0, 0, 0], [0, 0, 0, 0, 1, 0], [0, 0, 0, 0, 0, 1], [0, 0, 0, 0, 1, 1], [1, 0, 0, 0, 0, 0], [1, 0, 0, 0, 1, 0], [1, 0, 0, 0, 0, 1], [1, 0, 0, 0, 1, 1]]\n",
       " [[0, 0, 0, 0, 0, 0], [0, 0, 1, 1, 0, 1], [0, 1, 0, 0, 0, 0], [0, 1, 1, 1, 0, 1], [1, 0, 0, 0, 0, 1], [1, 0, 1, 1, 0, 0], [1, 1, 0, 0, 0, 1], [1, 1, 1, 1, 0, 0]]\n",
       " [[0, 0, 0, 0, 0, 0], [0, 0, 0, 0, 0, 1], [0, 1, 0, 0, 1, 0], [0, 1, 0, 0, 1, 1], [1, 0, 0, 0, 0, 0], [1, 0, 0, 0, 0, 1], [1, 1, 0, 0, 1, 0], [1, 1, 0, 0, 1, 1]]\n",
       " [[0, 0, 0, 0, 0, 0], [0, 0, 1, 0, 1, 0], [0, 1, 0, 0, 1, 1], [0, 1, 1, 0, 0, 1], [1, 0, 0, 0, 0, 0], [1, 0, 1, 0, 1, 0], [1, 1, 0, 0, 1, 1], [1, 1, 1, 0, 0, 1]]\n",
       " [[0, 0, 0, 0, 0, 0], [0, 0, 0, 0, 1, 0], [0, 0, 0, 1, 0, 1], [0, 0, 0, 1, 1, 1], [1, 0, 1, 1, 0, 0], [1, 0, 1, 1, 1, 0], [1, 0, 1, 0, 0, 1], [1, 0, 1, 0, 1, 1]]\n",
       " ⋮\n",
       " [[0, 0, 0, 0, 0, 0], [0, 0, 0, 1, 1, 0], [0, 0, 0, 0, 0, 1], [0, 0, 0, 1, 1, 1], [1, 1, 0, 0, 0, 0], [1, 1, 0, 1, 1, 0], [1, 1, 0, 0, 0, 1], [1, 1, 0, 1, 1, 1]]\n",
       " [[0, 0, 0, 0, 0, 0], [0, 0, 0, 0, 0, 1], [0, 1, 0, 1, 1, 0], [0, 1, 0, 1, 1, 1], [1, 0, 0, 1, 1, 0], [1, 0, 0, 1, 1, 1], [1, 1, 0, 0, 0, 0], [1, 1, 0, 0, 0, 1]]\n",
       " [[0, 0, 0, 0, 0, 0], [0, 0, 0, 1, 1, 1], [0, 1, 1, 1, 1, 0], [0, 1, 1, 0, 0, 1], [1, 0, 1, 1, 1, 0], [1, 0, 1, 0, 0, 1], [1, 1, 0, 0, 0, 0], [1, 1, 0, 1, 1, 1]]\n",
       " [[0, 0, 0, 0, 0, 0], [0, 0, 0, 0, 1, 0], [0, 0, 1, 0, 0, 0], [0, 0, 1, 0, 1, 0], [1, 0, 0, 0, 0, 0], [1, 0, 0, 0, 1, 0], [1, 0, 1, 0, 0, 0], [1, 0, 1, 0, 1, 0]]\n",
       " [[0, 0, 0, 0, 0, 0], [0, 0, 0, 1, 0, 0], [0, 0, 1, 0, 0, 1], [0, 0, 1, 1, 0, 1], [0, 1, 0, 0, 0, 0], [0, 1, 0, 1, 0, 0], [0, 1, 1, 0, 0, 1], [0, 1, 1, 1, 0, 1]]\n",
       " [[0, 0, 0, 0, 0, 0], [0, 0, 0, 1, 1, 0], [0, 0, 0, 1, 0, 1], [0, 0, 0, 0, 1, 1], [1, 1, 1, 1, 0, 0], [1, 1, 1, 0, 1, 0], [1, 1, 1, 0, 0, 1], [1, 1, 1, 1, 1, 1]]\n",
       " [[0, 0, 0, 0, 0, 0], [0, 0, 1, 1, 1, 0], [0, 1, 0, 1, 1, 1], [0, 1, 1, 0, 0, 1], [1, 0, 0, 1, 1, 1], [1, 0, 1, 0, 0, 1], [1, 1, 0, 0, 0, 0], [1, 1, 1, 1, 1, 0]]\n",
       " [[0, 0, 0, 0, 0, 0], [0, 0, 1, 1, 1, 0], [0, 1, 0, 0, 1, 1], [0, 1, 1, 1, 0, 1], [1, 0, 0, 0, 0, 1], [1, 0, 1, 1, 1, 1], [1, 1, 0, 0, 1, 0], [1, 1, 1, 1, 0, 0]]\n",
       " [[0, 0, 0, 0, 0, 0], [0, 0, 0, 1, 0, 0], [0, 0, 0, 0, 0, 1], [0, 0, 0, 1, 0, 1], [0, 1, 0, 0, 0, 0], [0, 1, 0, 1, 0, 0], [0, 1, 0, 0, 0, 1], [0, 1, 0, 1, 0, 1]]"
      ]
     },
     "metadata": {},
     "output_type": "display_data"
    }
   ],
   "source": [
    "i3 = canonical_maximal_isotropic(3)\n",
    "I3 = (symplectic_orbit(3,sp3,i3,fdict3,bdict3))"
   ]
  },
  {
   "cell_type": "code",
   "execution_count": 9,
   "metadata": {},
   "outputs": [
    {
     "data": {
      "text/plain": [
       "216×64 Matrix{Int64}:\n",
       " 1   1   0   0   1   1  0   0  0  0  0  …  0   0   0  0  0  0  0  0  0  0  0\n",
       " 1   1   0   0   1   1  0   0  0  0  0     0   0   0  0  0  0  0  0  0  0  0\n",
       " 1   1   0   0  -1  -1  0   0  0  0  0     0   0   0  0  0  0  0  0  0  0  0\n",
       " 1   1   0   0  -1  -1  0   0  0  0  0     0   0   0  0  0  0  0  0  0  0  0\n",
       " 1  -1   0   0   1  -1  0   0  0  0  0     0   0   0  0  0  0  0  0  0  0  0\n",
       " 1  -1   0   0   1  -1  0   0  0  0  0  …  0   0   0  0  0  0  0  0  0  0  0\n",
       " 1  -1   0   0  -1   1  0   0  0  0  0     0   0   0  0  0  0  0  0  0  0  0\n",
       " 1  -1   0   0  -1   1  0   0  0  0  0     0   0   0  0  0  0  0  0  0  0  0\n",
       " 1   1   0   0   1   1  0   0  0  0  0     0   0   0  0  0  0  0  0  0  0  0\n",
       " 1   1   0   0   1   1  0   0  0  0  0     0   0   0  0  0  0  0  0  0  0  0\n",
       " ⋮                   ⋮               ⋮  ⋱          ⋮              ⋮        \n",
       " 1   0  -1   0  -1   0  1   0  0  0  0     0  -1   0  0  0  0  0  0  0  0  0\n",
       " 1   0   0   1   1   0  0   1  0  0  0     0   0   1  0  0  0  0  0  0  0  0\n",
       " 1   0   0   1  -1   0  0  -1  0  0  0     0   0  -1  0  0  0  0  0  0  0  0\n",
       " 1   0   0  -1   1   0  0  -1  0  0  0  …  0   0  -1  0  0  0  0  0  0  0  0\n",
       " 1   0   0  -1  -1   0  0   1  0  0  0     0   0   1  0  0  0  0  0  0  0  0\n",
       " 1   0   0   1   1   0  0   1  0  0  0     0   0  -1  0  0  0  0  0  0  0  0\n",
       " 1   0   0   1  -1   0  0  -1  0  0  0     0   0   1  0  0  0  0  0  0  0  0\n",
       " 1   0   0  -1   1   0  0  -1  0  0  0     0   0   1  0  0  0  0  0  0  0  0\n",
       " 1   0   0  -1  -1   0  0   1  0  0  0  …  0   0  -1  0  0  0  0  0  0  0  0"
      ]
     },
     "metadata": {},
     "output_type": "display_data"
    }
   ],
   "source": [
    "# Local stabilizer states:\n",
    "I3loc = local_isotropics(I3, 3)\n",
    "A3loc = stabilizer_coefficients(3, I3loc)"
   ]
  },
  {
   "cell_type": "markdown",
   "metadata": {},
   "source": [
    "We list all 64 3 dimension Paulis for easy reference."
   ]
  },
  {
   "cell_type": "markdown",
   "metadata": {},
   "source": [
    "locals:"
   ]
  },
  {
   "cell_type": "code",
   "execution_count": 10,
   "metadata": {},
   "outputs": [
    {
     "data": {
      "text/plain": [
       "6-element Vector{Int64}:\n",
       " 0\n",
       " 0\n",
       " 0\n",
       " 0\n",
       " 0\n",
       " 1"
      ]
     },
     "metadata": {},
     "output_type": "display_data"
    }
   ],
   "source": [
    "III = [0, 0, 0, 0, 0, 0]\n",
    "XII = [1, 0, 0, 0, 0, 0]\n",
    "YII = [1, 0, 0, 1, 0, 0]\n",
    "ZII = [0, 0, 0, 1, 0, 0]\n",
    "IXI = [0, 1, 0, 0, 0, 0]\n",
    "IYI = [0, 1, 0, 0, 1, 0]\n",
    "IZI = [0, 0, 0, 0, 1, 0]\n",
    "IIX = [0, 0, 1, 0, 0, 0]\n",
    "IIY = [0, 0, 1, 0, 0, 1]\n",
    "IIZ = [0, 0, 0, 0, 0, 1]"
   ]
  },
  {
   "cell_type": "markdown",
   "metadata": {},
   "source": [
    "nonlocals:"
   ]
  },
  {
   "cell_type": "code",
   "execution_count": 11,
   "metadata": {},
   "outputs": [
    {
     "data": {
      "text/plain": [
       "6-element Vector{Int64}:\n",
       " 0\n",
       " 0\n",
       " 0\n",
       " 1\n",
       " 1\n",
       " 1"
      ]
     },
     "metadata": {},
     "output_type": "display_data"
    }
   ],
   "source": [
    "IXX = (IXI + IIX) .% 2\n",
    "IXY = (IXI + IIY) .% 2\n",
    "IXZ = (IXI + IIZ) .% 2\n",
    "IYX = (IYI + IIX) .% 2\n",
    "IYY = (IYI + IIY) .% 2\n",
    "IYZ = (IYI + IIZ) .% 2\n",
    "IZX = (IZI + IIX) .% 2\n",
    "IZY = (IZI + IIY) .% 2\n",
    "IZZ = (IZI + IIZ) .% 2\n",
    "\n",
    "XIX = (XII + IIX) .% 2\n",
    "XIY = (XII + IIY) .% 2\n",
    "XIZ = (XII + IIZ) .% 2\n",
    "XXI = (XII + IXI) .% 2\n",
    "XXX = (XXI + IIX) .% 2\n",
    "XXY = (XXI + IIY) .% 2\n",
    "XXZ = (XXI + IIZ) .% 2\n",
    "XYI = (XII + IYI) .% 2\n",
    "XYX = (XYI + IIX) .% 2\n",
    "XYY = (XYI + IIY) .% 2\n",
    "XYZ = (XYI + IIZ) .% 2\n",
    "XZI = (XII + IZI) .% 2\n",
    "XZX = (XZI + IIX) .% 2\n",
    "XZY = (XZI + IIY) .% 2\n",
    "XZZ = (XZI + IIZ) .% 2\n",
    "\n",
    "YIX = (YII + IIX) .% 2\n",
    "YIY = (YII + IIY) .% 2\n",
    "YIZ = (YII + IIZ) .% 2\n",
    "YXI = (YII + IXI) .% 2\n",
    "YXX = (YXI + IIX) .% 2\n",
    "YXY = (YXI + IIY) .% 2\n",
    "YXZ = (YXI + IIZ) .% 2\n",
    "YYI = (YII + IYI) .% 2\n",
    "YYX = (YYI + IIX) .% 2\n",
    "YYY = (YYI + IIY) .% 2\n",
    "YYZ = (YYI + IIZ) .% 2\n",
    "YZI = (YII + IZI) .% 2\n",
    "YZX = (YZI + IIX) .% 2\n",
    "YZY = (YZI + IIY) .% 2\n",
    "YZZ = (YZI + IIZ) .% 2\n",
    "\n",
    "ZIX = (ZII + IIX) .% 2\n",
    "ZIY = (ZII + IIY) .% 2\n",
    "ZIZ = (ZII + IIZ) .% 2\n",
    "ZXI = (ZII + IXI) .% 2\n",
    "ZXX = (ZXI + IIX) .% 2\n",
    "ZXY = (ZXI + IIY) .% 2\n",
    "ZXZ = (ZXI + IIZ) .% 2\n",
    "ZYI = (ZII + IYI) .% 2\n",
    "ZYX = (ZYI + IIX) .% 2\n",
    "ZYY = (ZYI + IIY) .% 2\n",
    "ZYZ = (ZYI + IIZ) .% 2\n",
    "ZZI = (ZII + IZI) .% 2\n",
    "ZZX = (ZZI + IIX) .% 2\n",
    "ZZY = (ZZI + IIY) .% 2\n",
    "ZZZ = (ZZI + IIZ) .% 2"
   ]
  },
  {
   "cell_type": "code",
   "execution_count": 12,
   "metadata": {},
   "outputs": [
    {
     "name": "stdout",
     "output_type": "stream",
     "text": [
      "XXI\n",
      "IXX\n",
      "XII\n",
      "IIX\n",
      "XXX\n",
      "XIX\n",
      "IXI\n",
      "III\n"
     ]
    }
   ],
   "source": [
    "canonical_isotropic = generate_isotropic_from_gens([XII, IXI, IIX])\n",
    "for pauli in canonical_isotropic\n",
    "    println(get_pauli_string(pauli))\n",
    "end"
   ]
  },
  {
   "cell_type": "code",
   "execution_count": 13,
   "metadata": {},
   "outputs": [
    {
     "data": {
      "text/plain": [
       "true"
      ]
     },
     "metadata": {},
     "output_type": "display_data"
    }
   ],
   "source": [
    "is_locally_closed(canonical_isotropic)"
   ]
  },
  {
   "cell_type": "code",
   "execution_count": 14,
   "metadata": {},
   "outputs": [
    {
     "name": "stdout",
     "output_type": "stream",
     "text": [
      "IIZ is added and closure is not maximal\n"
     ]
    },
    {
     "data": {
      "text/plain": [
       "false"
      ]
     },
     "metadata": {},
     "output_type": "display_data"
    }
   ],
   "source": [
    "is_almost_maximal(canonical_isotropic)"
   ]
  },
  {
   "cell_type": "markdown",
   "metadata": {},
   "source": [
    "Example 1: (0, 0, 0)"
   ]
  },
  {
   "cell_type": "code",
   "execution_count": 29,
   "metadata": {},
   "outputs": [
    {
     "data": {
      "text/plain": [
       "Set{Vector{Int64}} with 28 elements:\n",
       "  [1, 1, 0, 0, 0, 0]\n",
       "  [0, 0, 0, 0, 1, 1]\n",
       "  [1, 0, 1, 1, 0, 1]\n",
       "  [1, 1, 0, 0, 1, 0]\n",
       "  [1, 0, 1, 1, 0, 0]\n",
       "  [0, 1, 0, 1, 0, 0]\n",
       "  [0, 1, 0, 1, 1, 0]\n",
       "  [0, 1, 1, 0, 0, 1]\n",
       "  [0, 1, 1, 0, 0, 0]\n",
       "  [1, 0, 0, 1, 0, 1]\n",
       "  [0, 1, 1, 0, 1, 1]\n",
       "  [1, 0, 0, 1, 1, 0]\n",
       "  [0, 1, 1, 0, 1, 0]\n",
       "  [1, 0, 1, 0, 0, 0]\n",
       "  [1, 0, 1, 0, 0, 1]\n",
       "  [0, 1, 0, 0, 0, 1]\n",
       "  [0, 0, 1, 1, 0, 1]\n",
       "  [0, 1, 0, 0, 1, 1]\n",
       "  [0, 0, 1, 1, 0, 0]\n",
       "  ⋮ "
      ]
     },
     "metadata": {},
     "output_type": "display_data"
    }
   ],
   "source": [
    "pauli_list_ex_000 = [\n",
    "    III, XXI, XYI, XZI, YXI, YYI, YZI, ZXI, ZYI, ZZI,\n",
    "    IXX, IYX, IZX, XIX, YIX, ZIX,\n",
    "    IXY, IYY, IZY, XIY, YIY, ZIY,\n",
    "    IXZ, IYZ, IZZ, XIZ, YIZ, ZIZ,\n",
    "]\n",
    "\n",
    "indep_pauli_list_ex_000 = [\n",
    "    XXI, XYI, XZI, YXI, YYI, YZI, ZXI, ZYI, ZZI,\n",
    "    IXX, IYX, IZX,\n",
    "    IXY, IYY, IZY,\n",
    "    IXZ, IYZ, IZZ,\n",
    "]\n",
    "\n",
    "paulis_set_ex_000 = Set{Vector{Int}}(pauli_list_ex_000)"
   ]
  },
  {
   "cell_type": "code",
   "execution_count": 30,
   "metadata": {},
   "outputs": [
    {
     "data": {
      "text/plain": [
       "true"
      ]
     },
     "metadata": {},
     "output_type": "display_data"
    }
   ],
   "source": [
    "is_locally_closed(paulis_set_ex_000)"
   ]
  },
  {
   "cell_type": "code",
   "execution_count": 31,
   "metadata": {},
   "outputs": [
    {
     "data": {
      "text/plain": [
       "true"
      ]
     },
     "metadata": {},
     "output_type": "display_data"
    }
   ],
   "source": [
    "is_almost_maximal(paulis_set_ex_000)"
   ]
  },
  {
   "cell_type": "code",
   "execution_count": 41,
   "metadata": {},
   "outputs": [
    {
     "data": {
      "text/plain": [
       "Set{Dict{Vector{Int64}, Int64}} with 65536 elements:\n",
       "  Dict([1, 1, 0, 0, 0, 0] => -1, [0, 0, 0, 0, 1, 1] => 1, [1, 0, 1, 1, 0, 1] =>…\n",
       "  Dict([1, 1, 0, 0, 0, 0] => -1, [0, 0, 0, 0, 1, 1] => -1, [1, 0, 1, 1, 0, 1] =…\n",
       "  Dict([1, 1, 0, 0, 0, 0] => -1, [0, 0, 0, 0, 1, 1] => -1, [1, 0, 1, 1, 0, 1] =…\n",
       "  Dict([1, 1, 0, 0, 0, 0] => -1, [0, 0, 0, 0, 1, 1] => -1, [1, 0, 1, 1, 0, 1] =…\n",
       "  Dict([1, 1, 0, 0, 0, 0] => 1, [0, 0, 0, 0, 1, 1] => 1, [1, 0, 1, 1, 0, 1] => …\n",
       "  Dict([1, 1, 0, 0, 0, 0] => 1, [0, 0, 0, 0, 1, 1] => -1, [1, 0, 1, 1, 0, 1] =>…\n",
       "  Dict([1, 1, 0, 0, 0, 0] => -1, [0, 0, 0, 0, 1, 1] => -1, [1, 0, 1, 1, 0, 1] =…\n",
       "  Dict([1, 1, 0, 0, 0, 0] => -1, [0, 0, 0, 0, 1, 1] => 1, [1, 0, 1, 1, 0, 1] =>…\n",
       "  Dict([1, 1, 0, 0, 0, 0] => 1, [0, 0, 0, 0, 1, 1] => -1, [1, 0, 1, 1, 0, 1] =>…\n",
       "  Dict([1, 1, 0, 0, 0, 0] => -1, [0, 0, 0, 0, 1, 1] => 1, [1, 0, 1, 1, 0, 1] =>…\n",
       "  Dict([1, 1, 0, 0, 0, 0] => -1, [0, 0, 0, 0, 1, 1] => 1, [1, 0, 1, 1, 0, 1] =>…\n",
       "  Dict([1, 1, 0, 0, 0, 0] => -1, [0, 0, 0, 0, 1, 1] => -1, [1, 0, 1, 1, 0, 1] =…\n",
       "  Dict([1, 1, 0, 0, 0, 0] => 1, [0, 0, 0, 0, 1, 1] => 1, [1, 0, 1, 1, 0, 1] => …\n",
       "  Dict([1, 1, 0, 0, 0, 0] => -1, [0, 0, 0, 0, 1, 1] => -1, [1, 0, 1, 1, 0, 1] =…\n",
       "  Dict([1, 1, 0, 0, 0, 0] => 1, [0, 0, 0, 0, 1, 1] => -1, [1, 0, 1, 1, 0, 1] =>…\n",
       "  Dict([1, 1, 0, 0, 0, 0] => 1, [0, 0, 0, 0, 1, 1] => 1, [1, 0, 1, 1, 0, 1] => …\n",
       "  Dict([1, 1, 0, 0, 0, 0] => 1, [0, 0, 0, 0, 1, 1] => 1, [1, 0, 1, 1, 0, 1] => …\n",
       "  Dict([1, 1, 0, 0, 0, 0] => 1, [0, 0, 0, 0, 1, 1] => 1, [1, 0, 1, 1, 0, 1] => …\n",
       "  Dict([1, 1, 0, 0, 0, 0] => -1, [0, 0, 0, 0, 1, 1] => -1, [1, 0, 1, 1, 0, 1] =…\n",
       "  ⋮ "
      ]
     },
     "metadata": {},
     "output_type": "display_data"
    }
   ],
   "source": [
    "all_value_assignments_000 = generate_all_possible_value_assignments(paulis_set_ex_000, indep_pauli_list_ex_000)"
   ]
  },
  {
   "cell_type": "code",
   "execution_count": 42,
   "metadata": {},
   "outputs": [
    {
     "data": {
      "text/plain": [
       "Dict{Int64, Int64} with 13 entries:\n",
       "  55 => 12059\n",
       "  58 => 1928\n",
       "  30 => 68\n",
       "  53 => 5253\n",
       "  43 => 1179\n",
       "  51 => 6884\n",
       "  46 => 2405\n",
       "  59 => 1118\n",
       "  50 => 11486\n",
       "  54 => 20385\n",
       "  38 => 742\n",
       "  42 => 1961\n",
       "  62 => 68"
      ]
     },
     "metadata": {},
     "output_type": "display_data"
    }
   ],
   "source": [
    "ranks_ex_000 = find_ranks_count_for_given_set_of_value_assignments(all_value_assignments_000, 3, A3loc)"
   ]
  },
  {
   "cell_type": "markdown",
   "metadata": {},
   "source": [
    "Example 2: (1, 0, 0)"
   ]
  },
  {
   "cell_type": "code",
   "execution_count": 18,
   "metadata": {},
   "outputs": [
    {
     "data": {
      "text/plain": [
       "Set{Vector{Int64}} with 32 elements:\n",
       "  [1, 1, 1, 0, 1, 0]\n",
       "  [1, 1, 0, 0, 0, 1]\n",
       "  [0, 0, 0, 0, 1, 1]\n",
       "  [1, 0, 1, 1, 0, 1]\n",
       "  [1, 1, 0, 0, 1, 1]\n",
       "  [1, 0, 1, 1, 0, 0]\n",
       "  [0, 1, 0, 1, 0, 0]\n",
       "  [0, 1, 0, 1, 1, 0]\n",
       "  [0, 1, 1, 0, 0, 1]\n",
       "  [0, 1, 1, 0, 0, 0]\n",
       "  [1, 0, 0, 1, 0, 1]\n",
       "  [0, 1, 1, 0, 1, 1]\n",
       "  [1, 0, 0, 1, 1, 0]\n",
       "  [0, 1, 1, 0, 1, 0]\n",
       "  [0, 1, 0, 0, 0, 1]\n",
       "  [1, 0, 1, 0, 1, 1]\n",
       "  [1, 0, 1, 0, 1, 0]\n",
       "  [0, 0, 1, 1, 0, 1]\n",
       "  [0, 0, 1, 1, 0, 0]\n",
       "  ⋮ "
      ]
     },
     "metadata": {},
     "output_type": "display_data"
    }
   ],
   "source": [
    "pauli_list_ex_100 = [\n",
    "    III, XII, YXI, YYI, YZI, ZXI, ZYI, ZZI,\n",
    "    IXX, IYX, IZX, XXX, XYX, XZX, YIX, ZIX,\n",
    "    IXY, IYY, IZY, XXY, XYY, XZY, YIY, ZIY,\n",
    "    IXZ, IYZ, IZZ, XXZ, XYZ, XZZ, YIZ, ZIZ,\n",
    "]\n",
    "\n",
    "indep_pauli_list_ex_100 = [\n",
    "    XII, YXI, YYI, YZI, ZXI, ZYI, ZZI,\n",
    "    IXX, IYX, IZX,\n",
    "    IXY, IYY, IZY,\n",
    "    IXZ, IYZ, IZZ,\n",
    "]\n",
    "\n",
    "paulis_set_ex_100 = Set{Vector{Int}}(pauli_list_ex_100)"
   ]
  },
  {
   "cell_type": "code",
   "execution_count": 19,
   "metadata": {},
   "outputs": [
    {
     "data": {
      "text/plain": [
       "true"
      ]
     },
     "metadata": {},
     "output_type": "display_data"
    }
   ],
   "source": [
    "is_locally_closed(paulis_set_ex_100)"
   ]
  },
  {
   "cell_type": "code",
   "execution_count": 20,
   "metadata": {},
   "outputs": [
    {
     "data": {
      "text/plain": [
       "true"
      ]
     },
     "metadata": {},
     "output_type": "display_data"
    }
   ],
   "source": [
    "is_almost_maximal(paulis_set_ex_100)"
   ]
  },
  {
   "cell_type": "code",
   "execution_count": 22,
   "metadata": {},
   "outputs": [
    {
     "data": {
      "text/plain": [
       "Set{Dict{Vector{Int64}, Int64}} with 65536 elements:\n",
       "  Dict([1, 1, 1, 0, 1, 0] => 1, [1, 1, 0, 0, 0, 1] => -1, [0, 0, 0, 0, 1, 1] =>…\n",
       "  Dict([1, 1, 1, 0, 1, 0] => 1, [1, 1, 0, 0, 0, 1] => -1, [0, 0, 0, 0, 1, 1] =>…\n",
       "  Dict([1, 1, 1, 0, 1, 0] => 1, [1, 1, 0, 0, 0, 1] => 1, [0, 0, 0, 0, 1, 1] => …\n",
       "  Dict([1, 1, 1, 0, 1, 0] => 1, [1, 1, 0, 0, 0, 1] => 1, [0, 0, 0, 0, 1, 1] => …\n",
       "  Dict([1, 1, 1, 0, 1, 0] => 1, [1, 1, 0, 0, 0, 1] => 1, [0, 0, 0, 0, 1, 1] => …\n",
       "  Dict([1, 1, 1, 0, 1, 0] => -1, [1, 1, 0, 0, 0, 1] => -1, [0, 0, 0, 0, 1, 1] =…\n",
       "  Dict([1, 1, 1, 0, 1, 0] => 1, [1, 1, 0, 0, 0, 1] => 1, [0, 0, 0, 0, 1, 1] => …\n",
       "  Dict([1, 1, 1, 0, 1, 0] => -1, [1, 1, 0, 0, 0, 1] => -1, [0, 0, 0, 0, 1, 1] =…\n",
       "  Dict([1, 1, 1, 0, 1, 0] => -1, [1, 1, 0, 0, 0, 1] => -1, [0, 0, 0, 0, 1, 1] =…\n",
       "  Dict([1, 1, 1, 0, 1, 0] => 1, [1, 1, 0, 0, 0, 1] => -1, [0, 0, 0, 0, 1, 1] =>…\n",
       "  Dict([1, 1, 1, 0, 1, 0] => -1, [1, 1, 0, 0, 0, 1] => 1, [0, 0, 0, 0, 1, 1] =>…\n",
       "  Dict([1, 1, 1, 0, 1, 0] => 1, [1, 1, 0, 0, 0, 1] => -1, [0, 0, 0, 0, 1, 1] =>…\n",
       "  Dict([1, 1, 1, 0, 1, 0] => -1, [1, 1, 0, 0, 0, 1] => 1, [0, 0, 0, 0, 1, 1] =>…\n",
       "  Dict([1, 1, 1, 0, 1, 0] => 1, [1, 1, 0, 0, 0, 1] => -1, [0, 0, 0, 0, 1, 1] =>…\n",
       "  Dict([1, 1, 1, 0, 1, 0] => 1, [1, 1, 0, 0, 0, 1] => -1, [0, 0, 0, 0, 1, 1] =>…\n",
       "  Dict([1, 1, 1, 0, 1, 0] => -1, [1, 1, 0, 0, 0, 1] => 1, [0, 0, 0, 0, 1, 1] =>…\n",
       "  Dict([1, 1, 1, 0, 1, 0] => 1, [1, 1, 0, 0, 0, 1] => -1, [0, 0, 0, 0, 1, 1] =>…\n",
       "  Dict([1, 1, 1, 0, 1, 0] => 1, [1, 1, 0, 0, 0, 1] => -1, [0, 0, 0, 0, 1, 1] =>…\n",
       "  Dict([1, 1, 1, 0, 1, 0] => 1, [1, 1, 0, 0, 0, 1] => 1, [0, 0, 0, 0, 1, 1] => …\n",
       "  ⋮ "
      ]
     },
     "metadata": {},
     "output_type": "display_data"
    }
   ],
   "source": [
    "all_value_assignments_100 = generate_all_possible_value_assignments(paulis_set_ex_100, indep_pauli_list_ex_100)"
   ]
  },
  {
   "cell_type": "code",
   "execution_count": 23,
   "metadata": {},
   "outputs": [
    {
     "data": {
      "text/plain": [
       "Dict{Int64, Int64} with 14 entries:\n",
       "  56 => 15360\n",
       "  55 => 5376\n",
       "  58 => 10240\n",
       "  52 => 3072\n",
       "  60 => 3072\n",
       "  53 => 1536\n",
       "  51 => 1536\n",
       "  61 => 1536\n",
       "  46 => 256\n",
       "  57 => 16896\n",
       "  59 => 3840\n",
       "  50 => 1024\n",
       "  54 => 1536\n",
       "  62 => 256"
      ]
     },
     "metadata": {},
     "output_type": "display_data"
    }
   ],
   "source": [
    "ranks_ex_100 = find_ranks_count_for_given_set_of_value_assignments(all_value_assignments_100, 3, A3loc)"
   ]
  },
  {
   "cell_type": "markdown",
   "metadata": {},
   "source": [
    "Example 3: (1, 1, 0)"
   ]
  },
  {
   "cell_type": "code",
   "execution_count": 24,
   "metadata": {},
   "outputs": [
    {
     "data": {
      "text/plain": [
       "Set{Vector{Int64}} with 32 elements:\n",
       "  [1, 1, 1, 0, 1, 0]\n",
       "  [0, 1, 1, 1, 0, 0]\n",
       "  [0, 1, 1, 1, 0, 1]\n",
       "  [1, 1, 0, 0, 0, 0]\n",
       "  [0, 0, 0, 0, 1, 1]\n",
       "  [1, 0, 1, 1, 0, 1]\n",
       "  [1, 1, 0, 0, 1, 1]\n",
       "  [1, 0, 1, 1, 0, 0]\n",
       "  [0, 1, 0, 1, 0, 1]\n",
       "  [0, 1, 0, 1, 1, 0]\n",
       "  [1, 0, 0, 1, 0, 1]\n",
       "  [0, 1, 1, 0, 1, 1]\n",
       "  [1, 0, 0, 1, 1, 0]\n",
       "  [0, 1, 1, 0, 1, 0]\n",
       "  [0, 1, 0, 0, 0, 0]\n",
       "  [1, 0, 1, 0, 1, 1]\n",
       "  [1, 0, 1, 0, 1, 0]\n",
       "  [0, 0, 1, 1, 0, 1]\n",
       "  [0, 0, 1, 1, 0, 0]\n",
       "  ⋮ "
      ]
     },
     "metadata": {},
     "output_type": "display_data"
    }
   ],
   "source": [
    "pauli_list_ex_110 = [\n",
    "    III, IXI, XII, XXI, YYI, YZI, ZYI, ZZI,\n",
    "    IYX, IZX, XYX, XZX, YIX, YXX, ZIX, ZXX,\n",
    "    IYY, IZY, XYY, XZY, YIY, YXY, ZIY, ZXY,\n",
    "    IYZ, IZZ, XYZ, XZZ, YIZ, YXZ, ZIZ, ZXZ\n",
    "]\n",
    "\n",
    "indep_pauli_list_ex_110 = [\n",
    "    IXI, XII, YYI, YZI, ZYI, ZZI,\n",
    "    IYX, IZX,\n",
    "    IYY, IZY,\n",
    "    IYZ, IZZ,\n",
    "]\n",
    "\n",
    "paulis_set_ex_110 = Set{Vector{Int}}(pauli_list_ex_110)"
   ]
  },
  {
   "cell_type": "code",
   "execution_count": 25,
   "metadata": {},
   "outputs": [
    {
     "data": {
      "text/plain": [
       "true"
      ]
     },
     "metadata": {},
     "output_type": "display_data"
    }
   ],
   "source": [
    "is_locally_closed(paulis_set_ex_110)"
   ]
  },
  {
   "cell_type": "code",
   "execution_count": 26,
   "metadata": {},
   "outputs": [
    {
     "data": {
      "text/plain": [
       "true"
      ]
     },
     "metadata": {},
     "output_type": "display_data"
    }
   ],
   "source": [
    "is_almost_maximal(paulis_set_ex_110)"
   ]
  },
  {
   "cell_type": "code",
   "execution_count": 27,
   "metadata": {},
   "outputs": [
    {
     "data": {
      "text/plain": [
       "Set{Dict{Vector{Int64}, Int64}} with 4096 elements:\n",
       "  Dict([1, 1, 1, 0, 1, 0] => -1, [0, 0, 0, 0, 1, 1] => 1, [1, 1, 0, 0, 0, 0] =>…\n",
       "  Dict([1, 1, 1, 0, 1, 0] => 1, [0, 0, 0, 0, 1, 1] => -1, [1, 1, 0, 0, 0, 0] =>…\n",
       "  Dict([1, 1, 1, 0, 1, 0] => 1, [0, 0, 0, 0, 1, 1] => -1, [1, 1, 0, 0, 0, 0] =>…\n",
       "  Dict([1, 1, 1, 0, 1, 0] => 1, [0, 0, 0, 0, 1, 1] => -1, [1, 1, 0, 0, 0, 0] =>…\n",
       "  Dict([1, 1, 1, 0, 1, 0] => -1, [0, 0, 0, 0, 1, 1] => 1, [1, 1, 0, 0, 0, 0] =>…\n",
       "  Dict([1, 1, 1, 0, 1, 0] => 1, [0, 0, 0, 0, 1, 1] => -1, [1, 1, 0, 0, 0, 0] =>…\n",
       "  Dict([1, 1, 1, 0, 1, 0] => -1, [0, 0, 0, 0, 1, 1] => -1, [1, 1, 0, 0, 0, 0] =…\n",
       "  Dict([1, 1, 1, 0, 1, 0] => 1, [0, 0, 0, 0, 1, 1] => 1, [1, 1, 0, 0, 0, 0] => …\n",
       "  Dict([1, 1, 1, 0, 1, 0] => 1, [0, 0, 0, 0, 1, 1] => 1, [1, 1, 0, 0, 0, 0] => …\n",
       "  Dict([1, 1, 1, 0, 1, 0] => -1, [0, 0, 0, 0, 1, 1] => 1, [1, 1, 0, 0, 0, 0] =>…\n",
       "  Dict([1, 1, 1, 0, 1, 0] => 1, [0, 0, 0, 0, 1, 1] => -1, [1, 1, 0, 0, 0, 0] =>…\n",
       "  Dict([1, 1, 1, 0, 1, 0] => 1, [0, 0, 0, 0, 1, 1] => -1, [1, 1, 0, 0, 0, 0] =>…\n",
       "  Dict([1, 1, 1, 0, 1, 0] => -1, [0, 0, 0, 0, 1, 1] => -1, [1, 1, 0, 0, 0, 0] =…\n",
       "  Dict([1, 1, 1, 0, 1, 0] => -1, [0, 0, 0, 0, 1, 1] => 1, [1, 1, 0, 0, 0, 0] =>…\n",
       "  Dict([1, 1, 1, 0, 1, 0] => -1, [0, 0, 0, 0, 1, 1] => -1, [1, 1, 0, 0, 0, 0] =…\n",
       "  Dict([1, 1, 1, 0, 1, 0] => -1, [0, 0, 0, 0, 1, 1] => -1, [1, 1, 0, 0, 0, 0] =…\n",
       "  Dict([1, 1, 1, 0, 1, 0] => 1, [0, 0, 0, 0, 1, 1] => 1, [1, 1, 0, 0, 0, 0] => …\n",
       "  Dict([1, 1, 1, 0, 1, 0] => 1, [0, 0, 0, 0, 1, 1] => 1, [1, 1, 0, 0, 0, 0] => …\n",
       "  Dict([1, 1, 1, 0, 1, 0] => 1, [0, 0, 0, 0, 1, 1] => -1, [1, 1, 0, 0, 0, 0] =>…\n",
       "  ⋮ "
      ]
     },
     "metadata": {},
     "output_type": "display_data"
    }
   ],
   "source": [
    "all_value_assignments_110 = generate_all_possible_value_assignments(paulis_set_ex_110, indep_pauli_list_ex_110)"
   ]
  },
  {
   "cell_type": "code",
   "execution_count": 28,
   "metadata": {},
   "outputs": [
    {
     "data": {
      "text/plain": [
       "Dict{Int64, Int64} with 6 entries:\n",
       "  51 => 768\n",
       "  50 => 512\n",
       "  54 => 256\n",
       "  52 => 1536\n",
       "  46 => 256\n",
       "  53 => 768"
      ]
     },
     "metadata": {},
     "output_type": "display_data"
    }
   ],
   "source": [
    "ranks_ex_110 = find_ranks_count_for_given_set_of_value_assignments(all_value_assignments_110, 3, A3loc)"
   ]
  },
  {
   "cell_type": "markdown",
   "metadata": {},
   "source": [
    "Example 4: (1, 1, 1)"
   ]
  },
  {
   "cell_type": "code",
   "execution_count": 36,
   "metadata": {},
   "outputs": [
    {
     "data": {
      "text/plain": [
       "Set{Vector{Int64}} with 32 elements:\n",
       "  [0, 1, 1, 1, 0, 1]\n",
       "  [1, 1, 0, 0, 0, 0]\n",
       "  [0, 0, 0, 0, 1, 1]\n",
       "  [0, 1, 1, 1, 1, 0]\n",
       "  [1, 0, 1, 1, 0, 1]\n",
       "  [1, 1, 0, 0, 1, 1]\n",
       "  [0, 1, 0, 1, 0, 1]\n",
       "  [1, 0, 1, 1, 1, 0]\n",
       "  [0, 1, 0, 1, 1, 0]\n",
       "  [1, 0, 0, 1, 0, 1]\n",
       "  [0, 1, 1, 0, 0, 0]\n",
       "  [0, 1, 1, 0, 1, 1]\n",
       "  [1, 0, 0, 1, 1, 0]\n",
       "  [1, 0, 1, 0, 0, 0]\n",
       "  [0, 1, 0, 0, 0, 0]\n",
       "  [1, 0, 1, 0, 1, 1]\n",
       "  [0, 0, 1, 1, 0, 1]\n",
       "  [0, 1, 0, 0, 1, 1]\n",
       "  [1, 0, 0, 0, 0, 0]\n",
       "  ⋮ "
      ]
     },
     "metadata": {},
     "output_type": "display_data"
    }
   ],
   "source": [
    "pauli_list_ex_111 = [\n",
    "    III, IXI, XII, XXI, YYI, YZI, ZYI, ZZI,\n",
    "    IIX, IXX, XIX, XXX, YYX, YZX, ZYX, ZZX,\n",
    "    IYY, IZY, XYY, XZY, YIY, YXY, ZIY, ZXY,\n",
    "    IYZ, IZZ, XYZ, XZZ, YIZ, YXZ, ZIZ, ZXZ\n",
    "]\n",
    "\n",
    "indep_pauli_list_ex_111 = [\n",
    "    IXI, XII, YYI, YZI, ZYI, ZZI,\n",
    "    IIX,\n",
    "    IYY, IZY,\n",
    "    IYZ, IZZ\n",
    "]\n",
    "\n",
    "paulis_set_ex_111 = Set{Vector{Int}}(pauli_list_ex_111)"
   ]
  },
  {
   "cell_type": "code",
   "execution_count": 37,
   "metadata": {},
   "outputs": [
    {
     "data": {
      "text/plain": [
       "true"
      ]
     },
     "metadata": {},
     "output_type": "display_data"
    }
   ],
   "source": [
    "is_locally_closed(paulis_set_ex_111)"
   ]
  },
  {
   "cell_type": "code",
   "execution_count": 38,
   "metadata": {},
   "outputs": [
    {
     "data": {
      "text/plain": [
       "true"
      ]
     },
     "metadata": {},
     "output_type": "display_data"
    }
   ],
   "source": [
    "is_almost_maximal(paulis_set_ex_111)"
   ]
  },
  {
   "cell_type": "code",
   "execution_count": 39,
   "metadata": {},
   "outputs": [
    {
     "data": {
      "text/plain": [
       "Set{Dict{Vector{Int64}, Int64}} with 2048 elements:\n",
       "  Dict([0, 0, 0, 0, 1, 1] => 1, [1, 1, 0, 0, 0, 0] => -1, [1, 1, 0, 0, 1, 1] =>…\n",
       "  Dict([0, 0, 0, 0, 1, 1] => 1, [1, 1, 0, 0, 0, 0] => 1, [1, 1, 0, 0, 1, 1] => …\n",
       "  Dict([0, 0, 0, 0, 1, 1] => 1, [1, 1, 0, 0, 0, 0] => 1, [1, 1, 0, 0, 1, 1] => …\n",
       "  Dict([0, 0, 0, 0, 1, 1] => -1, [1, 1, 0, 0, 0, 0] => 1, [1, 1, 0, 0, 1, 1] =>…\n",
       "  Dict([0, 0, 0, 0, 1, 1] => 1, [1, 1, 0, 0, 0, 0] => -1, [1, 1, 0, 0, 1, 1] =>…\n",
       "  Dict([0, 0, 0, 0, 1, 1] => 1, [1, 1, 0, 0, 0, 0] => 1, [1, 1, 0, 0, 1, 1] => …\n",
       "  Dict([0, 0, 0, 0, 1, 1] => -1, [1, 1, 0, 0, 0, 0] => 1, [1, 1, 0, 0, 1, 1] =>…\n",
       "  Dict([0, 0, 0, 0, 1, 1] => 1, [1, 1, 0, 0, 0, 0] => -1, [1, 1, 0, 0, 1, 1] =>…\n",
       "  Dict([0, 0, 0, 0, 1, 1] => 1, [1, 1, 0, 0, 0, 0] => 1, [1, 1, 0, 0, 1, 1] => …\n",
       "  Dict([0, 0, 0, 0, 1, 1] => 1, [1, 1, 0, 0, 0, 0] => -1, [1, 1, 0, 0, 1, 1] =>…\n",
       "  Dict([0, 0, 0, 0, 1, 1] => -1, [1, 1, 0, 0, 0, 0] => -1, [1, 1, 0, 0, 1, 1] =…\n",
       "  Dict([0, 0, 0, 0, 1, 1] => -1, [1, 1, 0, 0, 0, 0] => -1, [1, 1, 0, 0, 1, 1] =…\n",
       "  Dict([0, 0, 0, 0, 1, 1] => -1, [1, 1, 0, 0, 0, 0] => 1, [1, 1, 0, 0, 1, 1] =>…\n",
       "  Dict([0, 0, 0, 0, 1, 1] => 1, [1, 1, 0, 0, 0, 0] => -1, [1, 1, 0, 0, 1, 1] =>…\n",
       "  Dict([0, 0, 0, 0, 1, 1] => -1, [1, 1, 0, 0, 0, 0] => 1, [1, 1, 0, 0, 1, 1] =>…\n",
       "  Dict([0, 0, 0, 0, 1, 1] => -1, [1, 1, 0, 0, 0, 0] => -1, [1, 1, 0, 0, 1, 1] =…\n",
       "  Dict([0, 0, 0, 0, 1, 1] => 1, [1, 1, 0, 0, 0, 0] => -1, [1, 1, 0, 0, 1, 1] =>…\n",
       "  Dict([0, 0, 0, 0, 1, 1] => 1, [1, 1, 0, 0, 0, 0] => -1, [1, 1, 0, 0, 1, 1] =>…\n",
       "  Dict([0, 0, 0, 0, 1, 1] => -1, [1, 1, 0, 0, 0, 0] => 1, [1, 1, 0, 0, 1, 1] =>…\n",
       "  ⋮ "
      ]
     },
     "metadata": {},
     "output_type": "display_data"
    }
   ],
   "source": [
    "all_value_assignments_111 = generate_all_possible_value_assignments(paulis_set_ex_111, indep_pauli_list_ex_111)"
   ]
  },
  {
   "cell_type": "code",
   "execution_count": 40,
   "metadata": {},
   "outputs": [
    {
     "data": {
      "text/plain": [
       "Dict{Int64, Int64} with 3 entries:\n",
       "  56 => 1536\n",
       "  54 => 256\n",
       "  57 => 256"
      ]
     },
     "metadata": {},
     "output_type": "display_data"
    }
   ],
   "source": [
    "ranks_ex_111 = find_ranks_count_for_given_set_of_value_assignments(all_value_assignments_111, 3, A3loc)"
   ]
  },
  {
   "cell_type": "markdown",
   "metadata": {},
   "source": [
    "Example 5: (2, 0, 0)"
   ]
  },
  {
   "cell_type": "code",
   "execution_count": 41,
   "metadata": {},
   "outputs": [
    {
     "data": {
      "text/plain": [
       "Set{Vector{Int64}} with 36 elements:\n",
       "  [1, 1, 1, 0, 1, 0]\n",
       "  [1, 1, 0, 0, 0, 1]\n",
       "  [0, 0, 0, 0, 1, 1]\n",
       "  [1, 1, 0, 0, 1, 1]\n",
       "  [0, 1, 0, 1, 0, 0]\n",
       "  [1, 0, 1, 1, 1, 1]\n",
       "  [1, 0, 1, 1, 1, 0]\n",
       "  [0, 1, 0, 1, 1, 0]\n",
       "  [0, 1, 1, 0, 0, 1]\n",
       "  [1, 0, 0, 1, 0, 0]\n",
       "  [0, 1, 1, 0, 0, 0]\n",
       "  [0, 1, 1, 0, 1, 1]\n",
       "  [1, 0, 0, 1, 1, 1]\n",
       "  [0, 1, 1, 0, 1, 0]\n",
       "  [0, 1, 0, 0, 0, 1]\n",
       "  [1, 0, 1, 0, 1, 1]\n",
       "  [1, 0, 1, 0, 1, 0]\n",
       "  [0, 0, 1, 1, 0, 1]\n",
       "  [0, 0, 1, 1, 0, 0]\n",
       "  ⋮ "
      ]
     },
     "metadata": {},
     "output_type": "display_data"
    }
   ],
   "source": [
    "pauli_list_ex_200 = [\n",
    "    III, XII, YII, ZXI, ZYI, ZZI,\n",
    "    IXX, IYX, IZX, XXX, XYX, XZX, YXX, YYX, YZX, ZIX,\n",
    "    IXY, IYY, IZY, XXY, XYY, XZY, YXY, YYY, YZY, ZIY,\n",
    "    IXZ, IYZ, IZZ, XXZ, XYZ, XZZ, YXZ, YYZ, YZZ, ZIZ,\n",
    "]\n",
    "\n",
    "indep_pauli_list_ex_200 = [\n",
    "    XII, YII, ZXI, ZYI, ZZI,\n",
    "    IXX, IYX, IZX,\n",
    "    IXY, IYY, IZY,\n",
    "    IXZ, IYZ, IZZ,\n",
    "]\n",
    "\n",
    "paulis_set_ex_200 = Set{Vector{Int}}(pauli_list_ex_200)"
   ]
  },
  {
   "cell_type": "code",
   "execution_count": 42,
   "metadata": {},
   "outputs": [
    {
     "data": {
      "text/plain": [
       "true"
      ]
     },
     "metadata": {},
     "output_type": "display_data"
    }
   ],
   "source": [
    "is_locally_closed(paulis_set_ex_200)"
   ]
  },
  {
   "cell_type": "code",
   "execution_count": 43,
   "metadata": {},
   "outputs": [
    {
     "data": {
      "text/plain": [
       "true"
      ]
     },
     "metadata": {},
     "output_type": "display_data"
    }
   ],
   "source": [
    "is_almost_maximal(paulis_set_ex_200)"
   ]
  },
  {
   "cell_type": "code",
   "execution_count": 44,
   "metadata": {},
   "outputs": [
    {
     "data": {
      "text/plain": [
       "Set{Dict{Vector{Int64}, Int64}} with 16384 elements:\n",
       "  Dict([1, 1, 1, 0, 1, 0] => 1, [1, 1, 0, 0, 0, 1] => -1, [0, 0, 0, 0, 1, 1] =>…\n",
       "  Dict([1, 1, 1, 0, 1, 0] => 1, [1, 1, 0, 0, 0, 1] => 1, [0, 0, 0, 0, 1, 1] => …\n",
       "  Dict([1, 1, 1, 0, 1, 0] => -1, [1, 1, 0, 0, 0, 1] => -1, [0, 0, 0, 0, 1, 1] =…\n",
       "  Dict([1, 1, 1, 0, 1, 0] => 1, [1, 1, 0, 0, 0, 1] => 1, [0, 0, 0, 0, 1, 1] => …\n",
       "  Dict([1, 1, 1, 0, 1, 0] => -1, [1, 1, 0, 0, 0, 1] => -1, [0, 0, 0, 0, 1, 1] =…\n",
       "  Dict([1, 1, 1, 0, 1, 0] => 1, [1, 1, 0, 0, 0, 1] => -1, [0, 0, 0, 0, 1, 1] =>…\n",
       "  Dict([1, 1, 1, 0, 1, 0] => -1, [1, 1, 0, 0, 0, 1] => 1, [0, 0, 0, 0, 1, 1] =>…\n",
       "  Dict([1, 1, 1, 0, 1, 0] => -1, [1, 1, 0, 0, 0, 1] => -1, [0, 0, 0, 0, 1, 1] =…\n",
       "  Dict([1, 1, 1, 0, 1, 0] => 1, [1, 1, 0, 0, 0, 1] => 1, [0, 0, 0, 0, 1, 1] => …\n",
       "  Dict([1, 1, 1, 0, 1, 0] => 1, [1, 1, 0, 0, 0, 1] => -1, [0, 0, 0, 0, 1, 1] =>…\n",
       "  Dict([1, 1, 1, 0, 1, 0] => -1, [1, 1, 0, 0, 0, 1] => -1, [0, 0, 0, 0, 1, 1] =…\n",
       "  Dict([1, 1, 1, 0, 1, 0] => -1, [1, 1, 0, 0, 0, 1] => 1, [0, 0, 0, 0, 1, 1] =>…\n",
       "  Dict([1, 1, 1, 0, 1, 0] => 1, [1, 1, 0, 0, 0, 1] => -1, [0, 0, 0, 0, 1, 1] =>…\n",
       "  Dict([1, 1, 1, 0, 1, 0] => -1, [1, 1, 0, 0, 0, 1] => -1, [0, 0, 0, 0, 1, 1] =…\n",
       "  Dict([1, 1, 1, 0, 1, 0] => 1, [1, 1, 0, 0, 0, 1] => -1, [0, 0, 0, 0, 1, 1] =>…\n",
       "  Dict([1, 1, 1, 0, 1, 0] => 1, [1, 1, 0, 0, 0, 1] => 1, [0, 0, 0, 0, 1, 1] => …\n",
       "  Dict([1, 1, 1, 0, 1, 0] => -1, [1, 1, 0, 0, 0, 1] => -1, [0, 0, 0, 0, 1, 1] =…\n",
       "  Dict([1, 1, 1, 0, 1, 0] => -1, [1, 1, 0, 0, 0, 1] => -1, [0, 0, 0, 0, 1, 1] =…\n",
       "  Dict([1, 1, 1, 0, 1, 0] => -1, [1, 1, 0, 0, 0, 1] => -1, [0, 0, 0, 0, 1, 1] =…\n",
       "  ⋮ "
      ]
     },
     "metadata": {},
     "output_type": "display_data"
    }
   ],
   "source": [
    "all_value_assignments_200 = generate_all_possible_value_assignments(paulis_set_ex_200, indep_pauli_list_ex_200)"
   ]
  },
  {
   "cell_type": "code",
   "execution_count": 45,
   "metadata": {},
   "outputs": [
    {
     "data": {
      "text/plain": [
       "Dict{Int64, Int64} with 7 entries:\n",
       "  59 => 2304\n",
       "  61 => 3840\n",
       "  54 => 256\n",
       "  58 => 2048\n",
       "  60 => 4608\n",
       "  62 => 1792\n",
       "  57 => 1536"
      ]
     },
     "metadata": {},
     "output_type": "display_data"
    }
   ],
   "source": [
    "ranks_ex_200 = find_ranks_count_for_given_set_of_value_assignments(all_value_assignments_200, 3, A3loc)"
   ]
  },
  {
   "cell_type": "markdown",
   "metadata": {},
   "source": [
    "Example 6: (2, 1, 0)"
   ]
  },
  {
   "cell_type": "code",
   "execution_count": 46,
   "metadata": {},
   "outputs": [
    {
     "data": {
      "text/plain": [
       "Set{Vector{Int64}} with 32 elements:\n",
       "  [1, 1, 1, 0, 1, 0]\n",
       "  [0, 1, 1, 1, 0, 0]\n",
       "  [0, 1, 1, 1, 0, 1]\n",
       "  [1, 1, 0, 0, 0, 0]\n",
       "  [0, 0, 0, 0, 1, 1]\n",
       "  [1, 1, 0, 0, 1, 1]\n",
       "  [0, 1, 0, 1, 0, 1]\n",
       "  [1, 0, 1, 1, 1, 1]\n",
       "  [1, 0, 1, 1, 1, 0]\n",
       "  [0, 1, 0, 1, 1, 0]\n",
       "  [1, 0, 0, 1, 0, 0]\n",
       "  [0, 1, 1, 0, 1, 1]\n",
       "  [1, 0, 0, 1, 1, 1]\n",
       "  [0, 1, 1, 0, 1, 0]\n",
       "  [0, 1, 0, 0, 0, 0]\n",
       "  [1, 0, 1, 0, 1, 1]\n",
       "  [1, 0, 1, 0, 1, 0]\n",
       "  [0, 0, 1, 1, 0, 1]\n",
       "  [0, 0, 1, 1, 0, 0]\n",
       "  ⋮ "
      ]
     },
     "metadata": {},
     "output_type": "display_data"
    }
   ],
   "source": [
    "pauli_list_ex_210 = [\n",
    "    III, IXI, XII, XXI, YII, YXI, ZYI, ZZI,\n",
    "    IYX, IZX, XYX, XZX, YYX, YZX, ZIX, ZXX,\n",
    "    IYY, IZY, XYY, XZY, YYY, YZY, ZIY, ZXY,\n",
    "    IYZ, IZZ, XYZ, XZZ, YYZ, YZZ, ZIZ, ZXZ\n",
    "]\n",
    "\n",
    "indep_pauli_list_ex_210 = [\n",
    "    IXI, XII, YII, ZYI, ZZI,\n",
    "    IYX, IZX,\n",
    "    IYY, IZY,\n",
    "    IYZ, IZZ\n",
    "]\n",
    "\n",
    "\n",
    "paulis_set_ex_210 = Set{Vector{Int}}(pauli_list_ex_210)"
   ]
  },
  {
   "cell_type": "code",
   "execution_count": 47,
   "metadata": {},
   "outputs": [
    {
     "data": {
      "text/plain": [
       "true"
      ]
     },
     "metadata": {},
     "output_type": "display_data"
    }
   ],
   "source": [
    "is_locally_closed(paulis_set_ex_210)"
   ]
  },
  {
   "cell_type": "code",
   "execution_count": 48,
   "metadata": {},
   "outputs": [
    {
     "data": {
      "text/plain": [
       "true"
      ]
     },
     "metadata": {},
     "output_type": "display_data"
    }
   ],
   "source": [
    "is_almost_maximal(paulis_set_ex_210)"
   ]
  },
  {
   "cell_type": "code",
   "execution_count": 49,
   "metadata": {},
   "outputs": [
    {
     "data": {
      "text/plain": [
       "Set{Dict{Vector{Int64}, Int64}} with 2048 elements:\n",
       "  Dict([1, 1, 1, 0, 1, 0] => 1, [0, 0, 0, 0, 1, 1] => 1, [1, 1, 0, 0, 0, 0] => …\n",
       "  Dict([1, 1, 1, 0, 1, 0] => -1, [0, 0, 0, 0, 1, 1] => 1, [1, 1, 0, 0, 0, 0] =>…\n",
       "  Dict([1, 1, 1, 0, 1, 0] => -1, [0, 0, 0, 0, 1, 1] => 1, [1, 1, 0, 0, 0, 0] =>…\n",
       "  Dict([1, 1, 1, 0, 1, 0] => 1, [0, 0, 0, 0, 1, 1] => -1, [1, 1, 0, 0, 0, 0] =>…\n",
       "  Dict([1, 1, 1, 0, 1, 0] => -1, [0, 0, 0, 0, 1, 1] => 1, [1, 1, 0, 0, 0, 0] =>…\n",
       "  Dict([1, 1, 1, 0, 1, 0] => -1, [0, 0, 0, 0, 1, 1] => 1, [1, 1, 0, 0, 0, 0] =>…\n",
       "  Dict([1, 1, 1, 0, 1, 0] => 1, [0, 0, 0, 0, 1, 1] => 1, [1, 1, 0, 0, 0, 0] => …\n",
       "  Dict([1, 1, 1, 0, 1, 0] => 1, [0, 0, 0, 0, 1, 1] => 1, [1, 1, 0, 0, 0, 0] => …\n",
       "  Dict([1, 1, 1, 0, 1, 0] => 1, [0, 0, 0, 0, 1, 1] => -1, [1, 1, 0, 0, 0, 0] =>…\n",
       "  Dict([1, 1, 1, 0, 1, 0] => 1, [0, 0, 0, 0, 1, 1] => 1, [1, 1, 0, 0, 0, 0] => …\n",
       "  Dict([1, 1, 1, 0, 1, 0] => 1, [0, 0, 0, 0, 1, 1] => -1, [1, 1, 0, 0, 0, 0] =>…\n",
       "  Dict([1, 1, 1, 0, 1, 0] => 1, [0, 0, 0, 0, 1, 1] => 1, [1, 1, 0, 0, 0, 0] => …\n",
       "  Dict([1, 1, 1, 0, 1, 0] => 1, [0, 0, 0, 0, 1, 1] => -1, [1, 1, 0, 0, 0, 0] =>…\n",
       "  Dict([1, 1, 1, 0, 1, 0] => 1, [0, 0, 0, 0, 1, 1] => -1, [1, 1, 0, 0, 0, 0] =>…\n",
       "  Dict([1, 1, 1, 0, 1, 0] => 1, [0, 0, 0, 0, 1, 1] => 1, [1, 1, 0, 0, 0, 0] => …\n",
       "  Dict([1, 1, 1, 0, 1, 0] => 1, [0, 0, 0, 0, 1, 1] => 1, [1, 1, 0, 0, 0, 0] => …\n",
       "  Dict([1, 1, 1, 0, 1, 0] => 1, [0, 0, 0, 0, 1, 1] => 1, [1, 1, 0, 0, 0, 0] => …\n",
       "  Dict([1, 1, 1, 0, 1, 0] => -1, [0, 0, 0, 0, 1, 1] => 1, [1, 1, 0, 0, 0, 0] =>…\n",
       "  Dict([1, 1, 1, 0, 1, 0] => 1, [0, 0, 0, 0, 1, 1] => 1, [1, 1, 0, 0, 0, 0] => …\n",
       "  ⋮ "
      ]
     },
     "metadata": {},
     "output_type": "display_data"
    }
   ],
   "source": [
    "all_value_assignments_210 = generate_all_possible_value_assignments(paulis_set_ex_210, indep_pauli_list_ex_210)"
   ]
  },
  {
   "cell_type": "code",
   "execution_count": 50,
   "metadata": {},
   "outputs": [
    {
     "data": {
      "text/plain": [
       "Dict{Int64, Int64} with 3 entries:\n",
       "  54 => 256\n",
       "  58 => 1024\n",
       "  57 => 768"
      ]
     },
     "metadata": {},
     "output_type": "display_data"
    }
   ],
   "source": [
    "ranks_ex_210 = find_ranks_count_for_given_set_of_value_assignments(all_value_assignments_210, 3, A3loc)"
   ]
  },
  {
   "cell_type": "markdown",
   "metadata": {},
   "source": [
    "Example 7: (2, 1, 1)"
   ]
  },
  {
   "cell_type": "code",
   "execution_count": 51,
   "metadata": {},
   "outputs": [
    {
     "data": {
      "text/plain": [
       "Set{Vector{Int64}} with 32 elements:\n",
       "  [0, 1, 1, 1, 0, 1]\n",
       "  [1, 1, 0, 0, 0, 0]\n",
       "  [0, 0, 0, 0, 1, 1]\n",
       "  [0, 1, 1, 1, 1, 0]\n",
       "  [1, 1, 0, 0, 1, 1]\n",
       "  [1, 0, 1, 1, 0, 0]\n",
       "  [0, 1, 0, 1, 0, 1]\n",
       "  [1, 0, 1, 1, 1, 1]\n",
       "  [0, 1, 0, 1, 1, 0]\n",
       "  [1, 0, 0, 1, 0, 0]\n",
       "  [0, 1, 1, 0, 0, 0]\n",
       "  [0, 1, 1, 0, 1, 1]\n",
       "  [1, 0, 0, 1, 1, 1]\n",
       "  [1, 0, 1, 0, 0, 0]\n",
       "  [0, 1, 0, 0, 0, 0]\n",
       "  [1, 0, 1, 0, 1, 1]\n",
       "  [0, 0, 1, 1, 0, 1]\n",
       "  [0, 1, 0, 0, 1, 1]\n",
       "  [1, 0, 0, 0, 0, 0]\n",
       "  ⋮ "
      ]
     },
     "metadata": {},
     "output_type": "display_data"
    }
   ],
   "source": [
    "pauli_list_ex_211 = [\n",
    "    III, IXI, XII, XXI, YII, YXI, ZYI, ZZI,\n",
    "    IIX, IXX, XIX, XXX, YIX, YXX, ZYX, ZZX,\n",
    "    IYY, IZY, XYY, XZY, YYY, YZY, ZIY, ZXY,\n",
    "    IYZ, IZZ, XYZ, XZZ, YYZ, YZZ, ZIZ, ZXZ\n",
    "]\n",
    "\n",
    "indep_pauli_list_ex_211 = [\n",
    "    IXI, XII, YII, ZYI, ZZI,\n",
    "    IIX,\n",
    "    IYY, IZY,\n",
    "    IYZ, IZZ\n",
    "]\n",
    "\n",
    "paulis_set_ex_211 = Set{Vector{Int}}(pauli_list_ex_211)"
   ]
  },
  {
   "cell_type": "code",
   "execution_count": 52,
   "metadata": {},
   "outputs": [
    {
     "data": {
      "text/plain": [
       "true"
      ]
     },
     "metadata": {},
     "output_type": "display_data"
    }
   ],
   "source": [
    "is_locally_closed(paulis_set_ex_211)"
   ]
  },
  {
   "cell_type": "code",
   "execution_count": 53,
   "metadata": {},
   "outputs": [
    {
     "data": {
      "text/plain": [
       "true"
      ]
     },
     "metadata": {},
     "output_type": "display_data"
    }
   ],
   "source": [
    "is_almost_maximal(paulis_set_ex_211)"
   ]
  },
  {
   "cell_type": "code",
   "execution_count": 54,
   "metadata": {},
   "outputs": [
    {
     "data": {
      "text/plain": [
       "Set{Dict{Vector{Int64}, Int64}} with 1024 elements:\n",
       "  Dict([0, 0, 0, 0, 1, 1] => -1, [1, 1, 0, 0, 0, 0] => -1, [1, 1, 0, 0, 1, 1] =…\n",
       "  Dict([0, 0, 0, 0, 1, 1] => 1, [1, 1, 0, 0, 0, 0] => 1, [1, 1, 0, 0, 1, 1] => …\n",
       "  Dict([0, 0, 0, 0, 1, 1] => 1, [1, 1, 0, 0, 0, 0] => -1, [1, 1, 0, 0, 1, 1] =>…\n",
       "  Dict([0, 0, 0, 0, 1, 1] => 1, [1, 1, 0, 0, 0, 0] => 1, [1, 1, 0, 0, 1, 1] => …\n",
       "  Dict([0, 0, 0, 0, 1, 1] => -1, [1, 1, 0, 0, 0, 0] => 1, [1, 1, 0, 0, 1, 1] =>…\n",
       "  Dict([0, 0, 0, 0, 1, 1] => -1, [1, 1, 0, 0, 0, 0] => -1, [1, 1, 0, 0, 1, 1] =…\n",
       "  Dict([0, 0, 0, 0, 1, 1] => 1, [1, 1, 0, 0, 0, 0] => -1, [1, 1, 0, 0, 1, 1] =>…\n",
       "  Dict([0, 0, 0, 0, 1, 1] => 1, [1, 1, 0, 0, 0, 0] => 1, [1, 1, 0, 0, 1, 1] => …\n",
       "  Dict([0, 0, 0, 0, 1, 1] => -1, [1, 1, 0, 0, 0, 0] => 1, [1, 1, 0, 0, 1, 1] =>…\n",
       "  Dict([0, 0, 0, 0, 1, 1] => 1, [1, 1, 0, 0, 0, 0] => 1, [1, 1, 0, 0, 1, 1] => …\n",
       "  Dict([0, 0, 0, 0, 1, 1] => 1, [1, 1, 0, 0, 0, 0] => 1, [1, 1, 0, 0, 1, 1] => …\n",
       "  Dict([0, 0, 0, 0, 1, 1] => 1, [1, 1, 0, 0, 0, 0] => 1, [1, 1, 0, 0, 1, 1] => …\n",
       "  Dict([0, 0, 0, 0, 1, 1] => -1, [1, 1, 0, 0, 0, 0] => -1, [1, 1, 0, 0, 1, 1] =…\n",
       "  Dict([0, 0, 0, 0, 1, 1] => 1, [1, 1, 0, 0, 0, 0] => 1, [1, 1, 0, 0, 1, 1] => …\n",
       "  Dict([0, 0, 0, 0, 1, 1] => 1, [1, 1, 0, 0, 0, 0] => -1, [1, 1, 0, 0, 1, 1] =>…\n",
       "  Dict([0, 0, 0, 0, 1, 1] => 1, [1, 1, 0, 0, 0, 0] => -1, [1, 1, 0, 0, 1, 1] =>…\n",
       "  Dict([0, 0, 0, 0, 1, 1] => 1, [1, 1, 0, 0, 0, 0] => 1, [1, 1, 0, 0, 1, 1] => …\n",
       "  Dict([0, 0, 0, 0, 1, 1] => -1, [1, 1, 0, 0, 0, 0] => 1, [1, 1, 0, 0, 1, 1] =>…\n",
       "  Dict([0, 0, 0, 0, 1, 1] => -1, [1, 1, 0, 0, 0, 0] => -1, [1, 1, 0, 0, 1, 1] =…\n",
       "  ⋮ "
      ]
     },
     "metadata": {},
     "output_type": "display_data"
    }
   ],
   "source": [
    "all_value_assignments_211 = generate_all_possible_value_assignments(paulis_set_ex_211, indep_pauli_list_ex_211)"
   ]
  },
  {
   "cell_type": "code",
   "execution_count": 55,
   "metadata": {},
   "outputs": [
    {
     "data": {
      "text/plain": [
       "Dict{Int64, Int64} with 2 entries:\n",
       "  58 => 768\n",
       "  57 => 256"
      ]
     },
     "metadata": {},
     "output_type": "display_data"
    }
   ],
   "source": [
    "ranks_ex_211 = find_ranks_count_for_given_set_of_value_assignments(all_value_assignments_211, 3, A3loc)"
   ]
  },
  {
   "cell_type": "markdown",
   "metadata": {},
   "source": [
    "Example 8: (2, 2, 0)"
   ]
  },
  {
   "cell_type": "code",
   "execution_count": 56,
   "metadata": {},
   "outputs": [
    {
     "data": {
      "text/plain": [
       "Set{Vector{Int64}} with 28 elements:\n",
       "  [0, 1, 1, 1, 0, 1]\n",
       "  [0, 1, 1, 1, 0, 0]\n",
       "  [1, 1, 0, 0, 0, 0]\n",
       "  [0, 0, 0, 0, 1, 1]\n",
       "  [0, 1, 1, 1, 1, 1]\n",
       "  [0, 1, 1, 1, 1, 0]\n",
       "  [1, 1, 0, 0, 1, 0]\n",
       "  [0, 1, 0, 1, 0, 1]\n",
       "  [1, 0, 1, 1, 1, 1]\n",
       "  [1, 0, 1, 1, 1, 0]\n",
       "  [0, 1, 0, 1, 1, 1]\n",
       "  [1, 0, 0, 1, 0, 0]\n",
       "  [1, 0, 0, 1, 1, 1]\n",
       "  [0, 1, 0, 0, 0, 0]\n",
       "  [1, 0, 1, 0, 1, 1]\n",
       "  [1, 0, 1, 0, 1, 0]\n",
       "  [0, 0, 1, 1, 0, 1]\n",
       "  [0, 1, 0, 0, 1, 0]\n",
       "  [0, 0, 1, 1, 0, 0]\n",
       "  ⋮ "
      ]
     },
     "metadata": {},
     "output_type": "display_data"
    }
   ],
   "source": [
    "pauli_list_ex_220 = [\n",
    "    III, IXI, IYI, XII, XXI, XYI, YII, YXI, YYI, ZZI,\n",
    "    IZX, XZX, YZX, ZIX, ZXX, ZYX,\n",
    "    IZY, XZY, YZY, ZIY, ZXY, ZYY,\n",
    "    IZZ, XZZ, YZZ, ZIZ, ZXZ, ZYZ,\n",
    "]\n",
    "\n",
    "indep_pauli_list_ex_220 = [\n",
    "    IXI, IYI, XII, YII, ZZI, \n",
    "    IZX,\n",
    "    IZY,\n",
    "    IZZ\n",
    "]\n",
    "\n",
    "\n",
    "paulis_set_ex_220 = Set{Vector{Int}}(pauli_list_ex_220)"
   ]
  },
  {
   "cell_type": "code",
   "execution_count": 57,
   "metadata": {},
   "outputs": [
    {
     "data": {
      "text/plain": [
       "true"
      ]
     },
     "metadata": {},
     "output_type": "display_data"
    }
   ],
   "source": [
    "is_locally_closed(paulis_set_ex_220)"
   ]
  },
  {
   "cell_type": "code",
   "execution_count": 58,
   "metadata": {},
   "outputs": [
    {
     "data": {
      "text/plain": [
       "true"
      ]
     },
     "metadata": {},
     "output_type": "display_data"
    }
   ],
   "source": [
    "is_almost_maximal(paulis_set_ex_220)"
   ]
  },
  {
   "cell_type": "code",
   "execution_count": 59,
   "metadata": {},
   "outputs": [
    {
     "data": {
      "text/plain": [
       "Set{Dict{Vector{Int64}, Int64}} with 256 elements:\n",
       "  Dict([0, 0, 0, 0, 1, 1] => 1, [1, 1, 0, 0, 0, 0] => -1, [1, 1, 0, 0, 1, 0] =>…\n",
       "  Dict([0, 0, 0, 0, 1, 1] => 1, [1, 1, 0, 0, 0, 0] => -1, [1, 1, 0, 0, 1, 0] =>…\n",
       "  Dict([0, 0, 0, 0, 1, 1] => 1, [1, 1, 0, 0, 0, 0] => -1, [1, 1, 0, 0, 1, 0] =>…\n",
       "  Dict([0, 0, 0, 0, 1, 1] => 1, [1, 1, 0, 0, 0, 0] => -1, [1, 1, 0, 0, 1, 0] =>…\n",
       "  Dict([0, 0, 0, 0, 1, 1] => 1, [1, 1, 0, 0, 0, 0] => -1, [1, 1, 0, 0, 1, 0] =>…\n",
       "  Dict([0, 0, 0, 0, 1, 1] => 1, [1, 1, 0, 0, 0, 0] => 1, [1, 1, 0, 0, 1, 0] => …\n",
       "  Dict([0, 0, 0, 0, 1, 1] => 1, [1, 1, 0, 0, 0, 0] => 1, [1, 1, 0, 0, 1, 0] => …\n",
       "  Dict([0, 0, 0, 0, 1, 1] => 1, [1, 1, 0, 0, 0, 0] => -1, [1, 1, 0, 0, 1, 0] =>…\n",
       "  Dict([0, 0, 0, 0, 1, 1] => 1, [1, 1, 0, 0, 0, 0] => 1, [1, 1, 0, 0, 1, 0] => …\n",
       "  Dict([0, 0, 0, 0, 1, 1] => -1, [1, 1, 0, 0, 0, 0] => 1, [1, 1, 0, 0, 1, 0] =>…\n",
       "  Dict([0, 0, 0, 0, 1, 1] => 1, [1, 1, 0, 0, 0, 0] => 1, [1, 1, 0, 0, 1, 0] => …\n",
       "  Dict([0, 0, 0, 0, 1, 1] => -1, [1, 1, 0, 0, 0, 0] => -1, [1, 1, 0, 0, 1, 0] =…\n",
       "  Dict([0, 0, 0, 0, 1, 1] => -1, [1, 1, 0, 0, 0, 0] => 1, [1, 1, 0, 0, 1, 0] =>…\n",
       "  Dict([0, 0, 0, 0, 1, 1] => -1, [1, 1, 0, 0, 0, 0] => -1, [1, 1, 0, 0, 1, 0] =…\n",
       "  Dict([0, 0, 0, 0, 1, 1] => 1, [1, 1, 0, 0, 0, 0] => 1, [1, 1, 0, 0, 1, 0] => …\n",
       "  Dict([0, 0, 0, 0, 1, 1] => 1, [1, 1, 0, 0, 0, 0] => 1, [1, 1, 0, 0, 1, 0] => …\n",
       "  Dict([0, 0, 0, 0, 1, 1] => -1, [1, 1, 0, 0, 0, 0] => -1, [1, 1, 0, 0, 1, 0] =…\n",
       "  Dict([0, 0, 0, 0, 1, 1] => 1, [1, 1, 0, 0, 0, 0] => -1, [1, 1, 0, 0, 1, 0] =>…\n",
       "  Dict([0, 0, 0, 0, 1, 1] => -1, [1, 1, 0, 0, 0, 0] => -1, [1, 1, 0, 0, 1, 0] =…\n",
       "  ⋮ "
      ]
     },
     "metadata": {},
     "output_type": "display_data"
    }
   ],
   "source": [
    "all_value_assignments_220 = generate_all_possible_value_assignments(paulis_set_ex_220, indep_pauli_list_ex_220)"
   ]
  },
  {
   "cell_type": "code",
   "execution_count": 60,
   "metadata": {},
   "outputs": [
    {
     "data": {
      "text/plain": [
       "Dict{Int64, Int64} with 1 entry:\n",
       "  54 => 256"
      ]
     },
     "metadata": {},
     "output_type": "display_data"
    }
   ],
   "source": [
    "ranks_ex_220 = find_ranks_count_for_given_set_of_value_assignments(all_value_assignments_220, 3, A3loc)"
   ]
  },
  {
   "cell_type": "markdown",
   "metadata": {},
   "source": [
    "Example 9: (2, 2, 1)"
   ]
  },
  {
   "cell_type": "code",
   "execution_count": 61,
   "metadata": {},
   "outputs": [
    {
     "data": {
      "text/plain": [
       "Set{Vector{Int64}} with 32 elements:\n",
       "  [1, 1, 1, 0, 1, 0]\n",
       "  [0, 1, 1, 1, 0, 1]\n",
       "  [1, 1, 0, 0, 0, 0]\n",
       "  [0, 0, 0, 0, 1, 1]\n",
       "  [0, 1, 1, 1, 1, 1]\n",
       "  [1, 1, 0, 0, 1, 0]\n",
       "  [1, 0, 1, 1, 0, 0]\n",
       "  [0, 1, 0, 1, 0, 1]\n",
       "  [1, 0, 1, 1, 1, 1]\n",
       "  [0, 1, 0, 1, 1, 1]\n",
       "  [1, 0, 0, 1, 0, 0]\n",
       "  [0, 1, 1, 0, 0, 0]\n",
       "  [1, 0, 0, 1, 1, 1]\n",
       "  [0, 1, 1, 0, 1, 0]\n",
       "  [1, 0, 1, 0, 0, 0]\n",
       "  [0, 1, 0, 0, 0, 0]\n",
       "  [1, 0, 1, 0, 1, 1]\n",
       "  [0, 0, 1, 1, 0, 1]\n",
       "  [0, 1, 0, 0, 1, 0]\n",
       "  ⋮ "
      ]
     },
     "metadata": {},
     "output_type": "display_data"
    }
   ],
   "source": [
    "pauli_list_ex_221 = [\n",
    "    III, IXI, IYI, XII, XXI, XYI, YII, YXI, YYI, ZZI,\n",
    "    IIX, IXX, IYX, XIX, XXX, XYX, YIX, YXX, YYX, ZZX,\n",
    "    IZY, XZY, YZY, ZIY, ZXY, ZYY,\n",
    "    IZZ, XZZ, YZZ, ZIZ, ZXZ, ZYZ,\n",
    "]\n",
    "\n",
    "indep_pauli_list_ex_221 = [\n",
    "    IXI, IYI, XII, YII, ZZI, \n",
    "    IIX,\n",
    "    IZY,\n",
    "    IZZ\n",
    "]\n",
    "\n",
    "paulis_set_ex_221 = Set{Vector{Int}}(pauli_list_ex_221)"
   ]
  },
  {
   "cell_type": "code",
   "execution_count": 62,
   "metadata": {},
   "outputs": [
    {
     "data": {
      "text/plain": [
       "true"
      ]
     },
     "metadata": {},
     "output_type": "display_data"
    }
   ],
   "source": [
    "is_locally_closed(paulis_set_ex_221)"
   ]
  },
  {
   "cell_type": "code",
   "execution_count": 63,
   "metadata": {},
   "outputs": [
    {
     "data": {
      "text/plain": [
       "true"
      ]
     },
     "metadata": {},
     "output_type": "display_data"
    }
   ],
   "source": [
    "is_almost_maximal(paulis_set_ex_221)"
   ]
  },
  {
   "cell_type": "code",
   "execution_count": 64,
   "metadata": {},
   "outputs": [
    {
     "data": {
      "text/plain": [
       "Set{Dict{Vector{Int64}, Int64}} with 256 elements:\n",
       "  Dict([0, 0, 0, 0, 1, 1] => -1, [1, 1, 0, 0, 0, 0] => -1, [1, 1, 0, 0, 1, 0] =…\n",
       "  Dict([0, 0, 0, 0, 1, 1] => 1, [1, 1, 0, 0, 0, 0] => 1, [1, 1, 0, 0, 1, 0] => …\n",
       "  Dict([0, 0, 0, 0, 1, 1] => 1, [1, 1, 0, 0, 0, 0] => -1, [1, 1, 0, 0, 1, 0] =>…\n",
       "  Dict([0, 0, 0, 0, 1, 1] => 1, [1, 1, 0, 0, 0, 0] => -1, [1, 1, 0, 0, 1, 0] =>…\n",
       "  Dict([0, 0, 0, 0, 1, 1] => -1, [1, 1, 0, 0, 0, 0] => -1, [1, 1, 0, 0, 1, 0] =…\n",
       "  Dict([0, 0, 0, 0, 1, 1] => 1, [1, 1, 0, 0, 0, 0] => 1, [1, 1, 0, 0, 1, 0] => …\n",
       "  Dict([0, 0, 0, 0, 1, 1] => 1, [1, 1, 0, 0, 0, 0] => -1, [1, 1, 0, 0, 1, 0] =>…\n",
       "  Dict([0, 0, 0, 0, 1, 1] => -1, [1, 1, 0, 0, 0, 0] => 1, [1, 1, 0, 0, 1, 0] =>…\n",
       "  Dict([0, 0, 0, 0, 1, 1] => 1, [1, 1, 0, 0, 0, 0] => -1, [1, 1, 0, 0, 1, 0] =>…\n",
       "  Dict([0, 0, 0, 0, 1, 1] => -1, [1, 1, 0, 0, 0, 0] => 1, [1, 1, 0, 0, 1, 0] =>…\n",
       "  Dict([0, 0, 0, 0, 1, 1] => 1, [1, 1, 0, 0, 0, 0] => -1, [1, 1, 0, 0, 1, 0] =>…\n",
       "  Dict([0, 0, 0, 0, 1, 1] => 1, [1, 1, 0, 0, 0, 0] => -1, [1, 1, 0, 0, 1, 0] =>…\n",
       "  Dict([0, 0, 0, 0, 1, 1] => 1, [1, 1, 0, 0, 0, 0] => -1, [1, 1, 0, 0, 1, 0] =>…\n",
       "  Dict([0, 0, 0, 0, 1, 1] => -1, [1, 1, 0, 0, 0, 0] => 1, [1, 1, 0, 0, 1, 0] =>…\n",
       "  Dict([0, 0, 0, 0, 1, 1] => -1, [1, 1, 0, 0, 0, 0] => 1, [1, 1, 0, 0, 1, 0] =>…\n",
       "  Dict([0, 0, 0, 0, 1, 1] => 1, [1, 1, 0, 0, 0, 0] => -1, [1, 1, 0, 0, 1, 0] =>…\n",
       "  Dict([0, 0, 0, 0, 1, 1] => 1, [1, 1, 0, 0, 0, 0] => 1, [1, 1, 0, 0, 1, 0] => …\n",
       "  Dict([0, 0, 0, 0, 1, 1] => 1, [1, 1, 0, 0, 0, 0] => 1, [1, 1, 0, 0, 1, 0] => …\n",
       "  Dict([0, 0, 0, 0, 1, 1] => 1, [1, 1, 0, 0, 0, 0] => -1, [1, 1, 0, 0, 1, 0] =>…\n",
       "  ⋮ "
      ]
     },
     "metadata": {},
     "output_type": "display_data"
    }
   ],
   "source": [
    "all_value_assignments_221 = generate_all_possible_value_assignments(paulis_set_ex_221, indep_pauli_list_ex_221)"
   ]
  },
  {
   "cell_type": "code",
   "execution_count": 108,
   "metadata": {},
   "outputs": [
    {
     "data": {
      "text/plain": [
       "Dict{Int64, Int64} with 1 entry:\n",
       "  54 => 256"
      ]
     },
     "metadata": {},
     "output_type": "display_data"
    }
   ],
   "source": [
    "ranks_ex_221 = find_ranks_count_for_given_set_of_value_assignments(all_value_assignments_221, 3, A3loc)"
   ]
  },
  {
   "cell_type": "markdown",
   "metadata": {},
   "source": [
    "Example 10: (2, 2, 2)"
   ]
  },
  {
   "cell_type": "code",
   "execution_count": 65,
   "metadata": {},
   "outputs": [
    {
     "data": {
      "text/plain": [
       "Set{Vector{Int64}} with 36 elements:\n",
       "  [1, 1, 1, 0, 1, 0]\n",
       "  [1, 1, 0, 0, 0, 0]\n",
       "  [0, 0, 0, 0, 1, 1]\n",
       "  [1, 0, 1, 1, 0, 1]\n",
       "  [1, 1, 0, 0, 1, 0]\n",
       "  [1, 0, 1, 1, 0, 0]\n",
       "  [0, 1, 0, 1, 0, 1]\n",
       "  [0, 1, 0, 1, 1, 1]\n",
       "  [0, 1, 1, 0, 0, 1]\n",
       "  [1, 0, 0, 1, 0, 0]\n",
       "  [0, 1, 1, 0, 0, 0]\n",
       "  [0, 1, 1, 0, 1, 1]\n",
       "  [1, 0, 0, 1, 1, 1]\n",
       "  [0, 1, 1, 0, 1, 0]\n",
       "  [1, 0, 1, 0, 0, 1]\n",
       "  [1, 0, 1, 0, 0, 0]\n",
       "  [0, 1, 0, 0, 0, 0]\n",
       "  [0, 1, 0, 0, 1, 0]\n",
       "  [1, 0, 0, 0, 0, 0]\n",
       "  ⋮ "
      ]
     },
     "metadata": {},
     "output_type": "display_data"
    }
   ],
   "source": [
    "pauli_list_ex_222 = [\n",
    "    III, IXI, IYI, XII, XXI, XYI, YII, YXI, YYI, ZZI,\n",
    "    IIX, IXX, IYX, XIX, XXX, XYX, YIX, YXX, YYX, ZZX,\n",
    "    IIY, IXY, IYY, XIY, XXY, XYY, YIY, YXY, YYY, ZZY,\n",
    "    IZZ, XZZ, YZZ, ZIZ, ZXZ, ZYZ,\n",
    "]\n",
    "\n",
    "indep_pauli_list_ex_222 = [\n",
    "    IXI, IYI, XII, YII, ZZI, \n",
    "    IIX,\n",
    "    IIY,\n",
    "    IZZ\n",
    "]\n",
    "\n",
    "paulis_set_ex_222 = Set{Vector{Int}}(pauli_list_ex_222)"
   ]
  },
  {
   "cell_type": "code",
   "execution_count": 66,
   "metadata": {},
   "outputs": [
    {
     "data": {
      "text/plain": [
       "true"
      ]
     },
     "metadata": {},
     "output_type": "display_data"
    }
   ],
   "source": [
    "is_locally_closed(paulis_set_ex_222)"
   ]
  },
  {
   "cell_type": "code",
   "execution_count": 67,
   "metadata": {},
   "outputs": [
    {
     "data": {
      "text/plain": [
       "true"
      ]
     },
     "metadata": {},
     "output_type": "display_data"
    }
   ],
   "source": [
    "is_almost_maximal(paulis_set_ex_222)"
   ]
  },
  {
   "cell_type": "code",
   "execution_count": 68,
   "metadata": {},
   "outputs": [
    {
     "data": {
      "text/plain": [
       "Set{Dict{Vector{Int64}, Int64}} with 256 elements:\n",
       "  Dict([0, 0, 0, 0, 1, 1] => 1, [1, 1, 0, 0, 0, 0] => -1, [1, 0, 1, 1, 0, 1] =>…\n",
       "  Dict([0, 0, 0, 0, 1, 1] => 1, [1, 1, 0, 0, 0, 0] => 1, [1, 0, 1, 1, 0, 1] => …\n",
       "  Dict([0, 0, 0, 0, 1, 1] => 1, [1, 1, 0, 0, 0, 0] => 1, [1, 0, 1, 1, 0, 1] => …\n",
       "  Dict([0, 0, 0, 0, 1, 1] => 1, [1, 1, 0, 0, 0, 0] => 1, [1, 0, 1, 1, 0, 1] => …\n",
       "  Dict([0, 0, 0, 0, 1, 1] => 1, [1, 1, 0, 0, 0, 0] => -1, [1, 0, 1, 1, 0, 1] =>…\n",
       "  Dict([0, 0, 0, 0, 1, 1] => -1, [1, 1, 0, 0, 0, 0] => -1, [1, 0, 1, 1, 0, 1] =…\n",
       "  Dict([0, 0, 0, 0, 1, 1] => -1, [1, 1, 0, 0, 0, 0] => 1, [1, 0, 1, 1, 0, 1] =>…\n",
       "  Dict([0, 0, 0, 0, 1, 1] => 1, [1, 1, 0, 0, 0, 0] => 1, [1, 0, 1, 1, 0, 1] => …\n",
       "  Dict([0, 0, 0, 0, 1, 1] => 1, [1, 1, 0, 0, 0, 0] => 1, [1, 0, 1, 1, 0, 1] => …\n",
       "  Dict([0, 0, 0, 0, 1, 1] => 1, [1, 1, 0, 0, 0, 0] => 1, [1, 0, 1, 1, 0, 1] => …\n",
       "  Dict([0, 0, 0, 0, 1, 1] => -1, [1, 1, 0, 0, 0, 0] => -1, [1, 0, 1, 1, 0, 1] =…\n",
       "  Dict([0, 0, 0, 0, 1, 1] => 1, [1, 1, 0, 0, 0, 0] => -1, [1, 0, 1, 1, 0, 1] =>…\n",
       "  Dict([0, 0, 0, 0, 1, 1] => 1, [1, 1, 0, 0, 0, 0] => -1, [1, 0, 1, 1, 0, 1] =>…\n",
       "  Dict([0, 0, 0, 0, 1, 1] => 1, [1, 1, 0, 0, 0, 0] => -1, [1, 0, 1, 1, 0, 1] =>…\n",
       "  Dict([0, 0, 0, 0, 1, 1] => 1, [1, 1, 0, 0, 0, 0] => -1, [1, 0, 1, 1, 0, 1] =>…\n",
       "  Dict([0, 0, 0, 0, 1, 1] => 1, [1, 1, 0, 0, 0, 0] => -1, [1, 0, 1, 1, 0, 1] =>…\n",
       "  Dict([0, 0, 0, 0, 1, 1] => -1, [1, 1, 0, 0, 0, 0] => 1, [1, 0, 1, 1, 0, 1] =>…\n",
       "  Dict([0, 0, 0, 0, 1, 1] => -1, [1, 1, 0, 0, 0, 0] => -1, [1, 0, 1, 1, 0, 1] =…\n",
       "  Dict([0, 0, 0, 0, 1, 1] => -1, [1, 1, 0, 0, 0, 0] => 1, [1, 0, 1, 1, 0, 1] =>…\n",
       "  ⋮ "
      ]
     },
     "metadata": {},
     "output_type": "display_data"
    }
   ],
   "source": [
    "all_value_assignments_222 = generate_all_possible_value_assignments(paulis_set_ex_222, indep_pauli_list_ex_222)"
   ]
  },
  {
   "cell_type": "code",
   "execution_count": 109,
   "metadata": {},
   "outputs": [
    {
     "data": {
      "text/plain": [
       "Dict{Int64, Int64} with 1 entry:\n",
       "  52 => 256"
      ]
     },
     "metadata": {},
     "output_type": "display_data"
    }
   ],
   "source": [
    "ranks_ex_222 = find_ranks_count_for_given_set_of_value_assignments(all_value_assignments_222, 3, A3loc)"
   ]
  },
  {
   "cell_type": "markdown",
   "metadata": {},
   "source": [
    "Example 11: (3, 0, 0)"
   ]
  },
  {
   "cell_type": "code",
   "execution_count": 69,
   "metadata": {},
   "outputs": [
    {
     "data": {
      "text/plain": [
       "Set{Vector{Int64}} with 40 elements:\n",
       "  [1, 1, 1, 0, 1, 0]\n",
       "  [0, 1, 1, 1, 0, 0]\n",
       "  [0, 1, 1, 1, 0, 1]\n",
       "  [0, 0, 0, 0, 1, 1]\n",
       "  [1, 1, 0, 0, 0, 1]\n",
       "  [0, 1, 1, 1, 1, 1]\n",
       "  [0, 1, 1, 1, 1, 0]\n",
       "  [1, 1, 0, 0, 1, 1]\n",
       "  [0, 1, 0, 1, 0, 1]\n",
       "  [1, 0, 1, 1, 1, 1]\n",
       "  [1, 0, 1, 1, 1, 0]\n",
       "  [0, 1, 0, 1, 1, 1]\n",
       "  [0, 1, 1, 0, 0, 1]\n",
       "  [1, 0, 0, 1, 0, 0]\n",
       "  [0, 1, 1, 0, 0, 0]\n",
       "  [0, 1, 1, 0, 1, 1]\n",
       "  [1, 0, 0, 1, 1, 1]\n",
       "  [0, 1, 1, 0, 1, 0]\n",
       "  [0, 1, 0, 0, 0, 1]\n",
       "  ⋮ "
      ]
     },
     "metadata": {},
     "output_type": "display_data"
    }
   ],
   "source": [
    "pauli_list_ex_300 = [\n",
    "    III, XII, YII, ZII,\n",
    "    IXX, IYX, IZX, XXX, XYX, XZX, YXX, YYX, YZX, ZXX, ZYX, ZZX,\n",
    "    IXY, IYY, IZY, XXY, XYY, XZY, YXY, YYY, YZY, ZXY, ZYY, ZZY,\n",
    "    IXZ, IYZ, IZZ, XXZ, XYZ, XZZ, YXZ, YYZ, YZZ, ZXZ, ZYZ, ZZZ, \n",
    "]\n",
    "\n",
    "indep_pauli_list_ex_300 = [\n",
    "    XII, YII, ZII, \n",
    "    IXX, IYX, IZX,\n",
    "    IXY, IYY, IZY,\n",
    "    IXZ, IYZ, IZZ\n",
    "]\n",
    "\n",
    "\n",
    "paulis_set_ex_300 = Set{Vector{Int}}(pauli_list_ex_300)"
   ]
  },
  {
   "cell_type": "code",
   "execution_count": 70,
   "metadata": {},
   "outputs": [
    {
     "data": {
      "text/plain": [
       "true"
      ]
     },
     "metadata": {},
     "output_type": "display_data"
    }
   ],
   "source": [
    "is_locally_closed(paulis_set_ex_300)"
   ]
  },
  {
   "cell_type": "code",
   "execution_count": 71,
   "metadata": {},
   "outputs": [
    {
     "data": {
      "text/plain": [
       "true"
      ]
     },
     "metadata": {},
     "output_type": "display_data"
    }
   ],
   "source": [
    "is_almost_maximal(paulis_set_ex_300)"
   ]
  },
  {
   "cell_type": "code",
   "execution_count": 72,
   "metadata": {},
   "outputs": [
    {
     "data": {
      "text/plain": [
       "Set{Dict{Vector{Int64}, Int64}} with 4096 elements:\n",
       "  Dict([1, 1, 1, 0, 1, 0] => 1, [1, 1, 0, 0, 0, 1] => 1, [0, 1, 1, 1, 0, 0] => …\n",
       "  Dict([1, 1, 1, 0, 1, 0] => 1, [1, 1, 0, 0, 0, 1] => -1, [0, 1, 1, 1, 0, 0] =>…\n",
       "  Dict([1, 1, 1, 0, 1, 0] => 1, [1, 1, 0, 0, 0, 1] => -1, [0, 1, 1, 1, 0, 0] =>…\n",
       "  Dict([1, 1, 1, 0, 1, 0] => 1, [1, 1, 0, 0, 0, 1] => 1, [0, 1, 1, 1, 0, 0] => …\n",
       "  Dict([1, 1, 1, 0, 1, 0] => -1, [1, 1, 0, 0, 0, 1] => -1, [0, 1, 1, 1, 0, 0] =…\n",
       "  Dict([1, 1, 1, 0, 1, 0] => -1, [1, 1, 0, 0, 0, 1] => 1, [0, 1, 1, 1, 0, 0] =>…\n",
       "  Dict([1, 1, 1, 0, 1, 0] => 1, [1, 1, 0, 0, 0, 1] => -1, [0, 1, 1, 1, 0, 0] =>…\n",
       "  Dict([1, 1, 1, 0, 1, 0] => 1, [1, 1, 0, 0, 0, 1] => -1, [0, 1, 1, 1, 0, 0] =>…\n",
       "  Dict([1, 1, 1, 0, 1, 0] => -1, [1, 1, 0, 0, 0, 1] => 1, [0, 1, 1, 1, 0, 0] =>…\n",
       "  Dict([1, 1, 1, 0, 1, 0] => -1, [1, 1, 0, 0, 0, 1] => 1, [0, 1, 1, 1, 0, 0] =>…\n",
       "  Dict([1, 1, 1, 0, 1, 0] => 1, [1, 1, 0, 0, 0, 1] => 1, [0, 1, 1, 1, 0, 0] => …\n",
       "  Dict([1, 1, 1, 0, 1, 0] => 1, [1, 1, 0, 0, 0, 1] => -1, [0, 1, 1, 1, 0, 0] =>…\n",
       "  Dict([1, 1, 1, 0, 1, 0] => 1, [1, 1, 0, 0, 0, 1] => -1, [0, 1, 1, 1, 0, 0] =>…\n",
       "  Dict([1, 1, 1, 0, 1, 0] => -1, [1, 1, 0, 0, 0, 1] => -1, [0, 1, 1, 1, 0, 0] =…\n",
       "  Dict([1, 1, 1, 0, 1, 0] => 1, [1, 1, 0, 0, 0, 1] => 1, [0, 1, 1, 1, 0, 0] => …\n",
       "  Dict([1, 1, 1, 0, 1, 0] => -1, [1, 1, 0, 0, 0, 1] => -1, [0, 1, 1, 1, 0, 0] =…\n",
       "  Dict([1, 1, 1, 0, 1, 0] => -1, [1, 1, 0, 0, 0, 1] => -1, [0, 1, 1, 1, 0, 0] =…\n",
       "  Dict([1, 1, 1, 0, 1, 0] => -1, [1, 1, 0, 0, 0, 1] => 1, [0, 1, 1, 1, 0, 0] =>…\n",
       "  Dict([1, 1, 1, 0, 1, 0] => -1, [1, 1, 0, 0, 0, 1] => 1, [0, 1, 1, 1, 0, 0] =>…\n",
       "  ⋮ "
      ]
     },
     "metadata": {},
     "output_type": "display_data"
    }
   ],
   "source": [
    "all_value_assignments_300 = generate_all_possible_value_assignments(paulis_set_ex_300, indep_pauli_list_ex_300)"
   ]
  },
  {
   "cell_type": "code",
   "execution_count": 110,
   "metadata": {},
   "outputs": [
    {
     "data": {
      "text/plain": [
       "Dict{Int64, Int64} with 2 entries:\n",
       "  63 => 3840\n",
       "  62 => 256"
      ]
     },
     "metadata": {},
     "output_type": "display_data"
    }
   ],
   "source": [
    "ranks_ex_300 = find_ranks_count_for_given_set_of_value_assignments(all_value_assignments_300, 3, A3loc)"
   ]
  },
  {
   "cell_type": "markdown",
   "metadata": {},
   "source": [
    "Example 12: (3, 1, 0)"
   ]
  },
  {
   "cell_type": "code",
   "execution_count": 73,
   "metadata": {},
   "outputs": [
    {
     "data": {
      "text/plain": [
       "Set{Vector{Int64}} with 32 elements:\n",
       "  [1, 1, 1, 0, 1, 0]\n",
       "  [1, 1, 0, 0, 0, 0]\n",
       "  [0, 0, 0, 0, 1, 1]\n",
       "  [0, 1, 1, 1, 1, 1]\n",
       "  [0, 1, 1, 1, 1, 0]\n",
       "  [1, 1, 0, 0, 1, 1]\n",
       "  [0, 1, 0, 1, 0, 0]\n",
       "  [1, 0, 1, 1, 1, 1]\n",
       "  [1, 0, 1, 1, 1, 0]\n",
       "  [0, 1, 0, 1, 1, 1]\n",
       "  [1, 0, 0, 1, 0, 0]\n",
       "  [0, 1, 1, 0, 1, 1]\n",
       "  [1, 0, 0, 1, 1, 1]\n",
       "  [0, 1, 1, 0, 1, 0]\n",
       "  [0, 1, 0, 0, 0, 0]\n",
       "  [1, 0, 1, 0, 1, 1]\n",
       "  [1, 0, 1, 0, 1, 0]\n",
       "  [0, 1, 0, 0, 1, 1]\n",
       "  [1, 0, 0, 0, 0, 0]\n",
       "  ⋮ "
      ]
     },
     "metadata": {},
     "output_type": "display_data"
    }
   ],
   "source": [
    "pauli_list_ex_310 = [\n",
    "    III, IXI, XII, XXI, YII, YXI, ZII, ZXI,\n",
    "    IYX, IZX, XYX, XZX, YYX, YZX, ZYX, ZZX,\n",
    "    IYY, IZY, XYY, XZY, YYY, YZY, ZYY, ZZY,\n",
    "    IYZ, IZZ, XYZ, XZZ, YYZ, YZZ, ZYZ, ZZZ\n",
    "]\n",
    "\n",
    "indep_pauli_list_ex_310 = [\n",
    "    IXI, XII, YII, ZII, \n",
    "    IYX, IZX,\n",
    "    IYY, IZY,\n",
    "    IYZ, IZZ\n",
    "]\n",
    "\n",
    "\n",
    "\n",
    "paulis_set_ex_310 = Set{Vector{Int}}(pauli_list_ex_310)"
   ]
  },
  {
   "cell_type": "code",
   "execution_count": 74,
   "metadata": {},
   "outputs": [
    {
     "data": {
      "text/plain": [
       "true"
      ]
     },
     "metadata": {},
     "output_type": "display_data"
    }
   ],
   "source": [
    "is_locally_closed(paulis_set_ex_310)"
   ]
  },
  {
   "cell_type": "code",
   "execution_count": 75,
   "metadata": {},
   "outputs": [
    {
     "data": {
      "text/plain": [
       "true"
      ]
     },
     "metadata": {},
     "output_type": "display_data"
    }
   ],
   "source": [
    "is_almost_maximal(paulis_set_ex_310)"
   ]
  },
  {
   "cell_type": "code",
   "execution_count": 76,
   "metadata": {},
   "outputs": [
    {
     "data": {
      "text/plain": [
       "Set{Dict{Vector{Int64}, Int64}} with 1024 elements:\n",
       "  Dict([1, 1, 1, 0, 1, 0] => 1, [0, 0, 0, 0, 1, 1] => 1, [1, 1, 0, 0, 0, 0] => …\n",
       "  Dict([1, 1, 1, 0, 1, 0] => 1, [0, 0, 0, 0, 1, 1] => 1, [1, 1, 0, 0, 0, 0] => …\n",
       "  Dict([1, 1, 1, 0, 1, 0] => -1, [0, 0, 0, 0, 1, 1] => -1, [1, 1, 0, 0, 0, 0] =…\n",
       "  Dict([1, 1, 1, 0, 1, 0] => 1, [0, 0, 0, 0, 1, 1] => -1, [1, 1, 0, 0, 0, 0] =>…\n",
       "  Dict([1, 1, 1, 0, 1, 0] => 1, [0, 0, 0, 0, 1, 1] => -1, [1, 1, 0, 0, 0, 0] =>…\n",
       "  Dict([1, 1, 1, 0, 1, 0] => 1, [0, 0, 0, 0, 1, 1] => -1, [1, 1, 0, 0, 0, 0] =>…\n",
       "  Dict([1, 1, 1, 0, 1, 0] => 1, [0, 0, 0, 0, 1, 1] => 1, [1, 1, 0, 0, 0, 0] => …\n",
       "  Dict([1, 1, 1, 0, 1, 0] => 1, [0, 0, 0, 0, 1, 1] => -1, [1, 1, 0, 0, 0, 0] =>…\n",
       "  Dict([1, 1, 1, 0, 1, 0] => 1, [0, 0, 0, 0, 1, 1] => 1, [1, 1, 0, 0, 0, 0] => …\n",
       "  Dict([1, 1, 1, 0, 1, 0] => 1, [0, 0, 0, 0, 1, 1] => -1, [1, 1, 0, 0, 0, 0] =>…\n",
       "  Dict([1, 1, 1, 0, 1, 0] => -1, [0, 0, 0, 0, 1, 1] => -1, [1, 1, 0, 0, 0, 0] =…\n",
       "  Dict([1, 1, 1, 0, 1, 0] => 1, [0, 0, 0, 0, 1, 1] => 1, [1, 1, 0, 0, 0, 0] => …\n",
       "  Dict([1, 1, 1, 0, 1, 0] => -1, [0, 0, 0, 0, 1, 1] => 1, [1, 1, 0, 0, 0, 0] =>…\n",
       "  Dict([1, 1, 1, 0, 1, 0] => -1, [0, 0, 0, 0, 1, 1] => -1, [1, 1, 0, 0, 0, 0] =…\n",
       "  Dict([1, 1, 1, 0, 1, 0] => -1, [0, 0, 0, 0, 1, 1] => -1, [1, 1, 0, 0, 0, 0] =…\n",
       "  Dict([1, 1, 1, 0, 1, 0] => 1, [0, 0, 0, 0, 1, 1] => -1, [1, 1, 0, 0, 0, 0] =>…\n",
       "  Dict([1, 1, 1, 0, 1, 0] => 1, [0, 0, 0, 0, 1, 1] => -1, [1, 1, 0, 0, 0, 0] =>…\n",
       "  Dict([1, 1, 1, 0, 1, 0] => 1, [0, 0, 0, 0, 1, 1] => 1, [1, 1, 0, 0, 0, 0] => …\n",
       "  Dict([1, 1, 1, 0, 1, 0] => 1, [0, 0, 0, 0, 1, 1] => -1, [1, 1, 0, 0, 0, 0] =>…\n",
       "  ⋮ "
      ]
     },
     "metadata": {},
     "output_type": "display_data"
    }
   ],
   "source": [
    "all_value_assignments_310 = generate_all_possible_value_assignments(paulis_set_ex_310, indep_pauli_list_ex_310)"
   ]
  },
  {
   "cell_type": "code",
   "execution_count": 111,
   "metadata": {},
   "outputs": [
    {
     "data": {
      "text/plain": [
       "Dict{Int64, Int64} with 2 entries:\n",
       "  63 => 768\n",
       "  62 => 256"
      ]
     },
     "metadata": {},
     "output_type": "display_data"
    }
   ],
   "source": [
    "ranks_ex_310 = find_ranks_count_for_given_set_of_value_assignments(all_value_assignments_310, 3, A3loc)"
   ]
  },
  {
   "cell_type": "markdown",
   "metadata": {},
   "source": [
    "Example 13: (3, 1, 1)"
   ]
  },
  {
   "cell_type": "code",
   "execution_count": 77,
   "metadata": {},
   "outputs": [
    {
     "data": {
      "text/plain": [
       "Set{Vector{Int64}} with 32 elements:\n",
       "  [0, 1, 1, 1, 0, 0]\n",
       "  [1, 1, 0, 0, 0, 0]\n",
       "  [0, 0, 0, 0, 1, 1]\n",
       "  [0, 1, 1, 1, 1, 1]\n",
       "  [1, 1, 0, 0, 1, 1]\n",
       "  [1, 0, 1, 1, 0, 0]\n",
       "  [0, 1, 0, 1, 0, 0]\n",
       "  [1, 0, 1, 1, 1, 1]\n",
       "  [0, 1, 0, 1, 1, 1]\n",
       "  [1, 0, 0, 1, 0, 0]\n",
       "  [0, 1, 1, 0, 0, 0]\n",
       "  [0, 1, 1, 0, 1, 1]\n",
       "  [1, 0, 0, 1, 1, 1]\n",
       "  [1, 0, 1, 0, 0, 0]\n",
       "  [0, 1, 0, 0, 0, 0]\n",
       "  [1, 0, 1, 0, 1, 1]\n",
       "  [0, 1, 0, 0, 1, 1]\n",
       "  [0, 0, 1, 1, 0, 0]\n",
       "  [1, 0, 0, 0, 0, 0]\n",
       "  ⋮ "
      ]
     },
     "metadata": {},
     "output_type": "display_data"
    }
   ],
   "source": [
    "pauli_list_ex_311 = [\n",
    "    III, IXI, XII, XXI, YII, YXI, ZII, ZXI,\n",
    "    IIX, IXX, XIX, XXX, YIX, YXX, ZIX, ZXX,\n",
    "    IYY, IZY, XYY, XZY, YYY, YZY, ZYY, ZZY,\n",
    "    IYZ, IZZ, XYZ, XZZ, YYZ, YZZ, ZYZ, ZZZ\n",
    "]\n",
    "\n",
    "indep_pauli_list_ex_311 = [\n",
    "    IXI, XII, YII, ZII, \n",
    "    IIX,\n",
    "    IYY, IZY,\n",
    "    IYZ, IZZ\n",
    "]\n",
    "\n",
    "paulis_set_ex_311 = Set{Vector{Int}}(pauli_list_ex_311)"
   ]
  },
  {
   "cell_type": "code",
   "execution_count": 78,
   "metadata": {},
   "outputs": [
    {
     "data": {
      "text/plain": [
       "true"
      ]
     },
     "metadata": {},
     "output_type": "display_data"
    }
   ],
   "source": [
    "is_locally_closed(paulis_set_ex_311)"
   ]
  },
  {
   "cell_type": "code",
   "execution_count": 79,
   "metadata": {},
   "outputs": [
    {
     "data": {
      "text/plain": [
       "true"
      ]
     },
     "metadata": {},
     "output_type": "display_data"
    }
   ],
   "source": [
    "is_almost_maximal(paulis_set_ex_311)"
   ]
  },
  {
   "cell_type": "code",
   "execution_count": 80,
   "metadata": {},
   "outputs": [
    {
     "data": {
      "text/plain": [
       "Set{Dict{Vector{Int64}, Int64}} with 512 elements:\n",
       "  Dict([0, 0, 0, 0, 1, 1] => 1, [1, 1, 0, 0, 0, 0] => -1, [0, 1, 1, 1, 1, 1] =>…\n",
       "  Dict([0, 0, 0, 0, 1, 1] => 1, [1, 1, 0, 0, 0, 0] => -1, [0, 1, 1, 1, 1, 1] =>…\n",
       "  Dict([0, 0, 0, 0, 1, 1] => 1, [1, 1, 0, 0, 0, 0] => 1, [0, 1, 1, 1, 1, 1] => …\n",
       "  Dict([0, 0, 0, 0, 1, 1] => 1, [1, 1, 0, 0, 0, 0] => 1, [0, 1, 1, 1, 1, 1] => …\n",
       "  Dict([0, 0, 0, 0, 1, 1] => 1, [1, 1, 0, 0, 0, 0] => -1, [0, 1, 1, 1, 1, 1] =>…\n",
       "  Dict([0, 0, 0, 0, 1, 1] => -1, [1, 1, 0, 0, 0, 0] => -1, [0, 1, 1, 1, 1, 1] =…\n",
       "  Dict([0, 0, 0, 0, 1, 1] => -1, [1, 1, 0, 0, 0, 0] => -1, [0, 1, 1, 1, 1, 1] =…\n",
       "  Dict([0, 0, 0, 0, 1, 1] => 1, [1, 1, 0, 0, 0, 0] => -1, [0, 1, 1, 1, 1, 1] =>…\n",
       "  Dict([0, 0, 0, 0, 1, 1] => 1, [1, 1, 0, 0, 0, 0] => 1, [0, 1, 1, 1, 1, 1] => …\n",
       "  Dict([0, 0, 0, 0, 1, 1] => -1, [1, 1, 0, 0, 0, 0] => 1, [0, 1, 1, 1, 1, 1] =>…\n",
       "  Dict([0, 0, 0, 0, 1, 1] => 1, [1, 1, 0, 0, 0, 0] => -1, [0, 1, 1, 1, 1, 1] =>…\n",
       "  Dict([0, 0, 0, 0, 1, 1] => -1, [1, 1, 0, 0, 0, 0] => -1, [0, 1, 1, 1, 1, 1] =…\n",
       "  Dict([0, 0, 0, 0, 1, 1] => -1, [1, 1, 0, 0, 0, 0] => -1, [0, 1, 1, 1, 1, 1] =…\n",
       "  Dict([0, 0, 0, 0, 1, 1] => -1, [1, 1, 0, 0, 0, 0] => -1, [0, 1, 1, 1, 1, 1] =…\n",
       "  Dict([0, 0, 0, 0, 1, 1] => 1, [1, 1, 0, 0, 0, 0] => -1, [0, 1, 1, 1, 1, 1] =>…\n",
       "  Dict([0, 0, 0, 0, 1, 1] => -1, [1, 1, 0, 0, 0, 0] => -1, [0, 1, 1, 1, 1, 1] =…\n",
       "  Dict([0, 0, 0, 0, 1, 1] => 1, [1, 1, 0, 0, 0, 0] => 1, [0, 1, 1, 1, 1, 1] => …\n",
       "  Dict([0, 0, 0, 0, 1, 1] => 1, [1, 1, 0, 0, 0, 0] => -1, [0, 1, 1, 1, 1, 1] =>…\n",
       "  Dict([0, 0, 0, 0, 1, 1] => -1, [1, 1, 0, 0, 0, 0] => 1, [0, 1, 1, 1, 1, 1] =>…\n",
       "  ⋮ "
      ]
     },
     "metadata": {},
     "output_type": "display_data"
    }
   ],
   "source": [
    "all_value_assignments_311 = generate_all_possible_value_assignments(paulis_set_ex_311, indep_pauli_list_ex_311)"
   ]
  },
  {
   "cell_type": "code",
   "execution_count": 112,
   "metadata": {},
   "outputs": [
    {
     "data": {
      "text/plain": [
       "Dict{Int64, Int64} with 2 entries:\n",
       "  59 => 256\n",
       "  58 => 256"
      ]
     },
     "metadata": {},
     "output_type": "display_data"
    }
   ],
   "source": [
    "ranks_ex_311 = find_ranks_count_for_given_set_of_value_assignments(all_value_assignments_311, 3, A3loc)"
   ]
  },
  {
   "cell_type": "markdown",
   "metadata": {},
   "source": [
    "Example 14: (3, 2, 0)"
   ]
  },
  {
   "cell_type": "code",
   "execution_count": 81,
   "metadata": {},
   "outputs": [
    {
     "data": {
      "text/plain": [
       "Set{Vector{Int64}} with 24 elements:\n",
       "  [1, 1, 0, 0, 0, 0]\n",
       "  [0, 0, 0, 0, 1, 1]\n",
       "  [1, 1, 0, 0, 1, 0]\n",
       "  [0, 1, 0, 1, 0, 0]\n",
       "  [1, 0, 1, 1, 1, 1]\n",
       "  [1, 0, 1, 1, 1, 0]\n",
       "  [0, 1, 0, 1, 1, 0]\n",
       "  [1, 0, 0, 1, 0, 0]\n",
       "  [1, 0, 0, 1, 1, 1]\n",
       "  [0, 1, 0, 0, 0, 0]\n",
       "  [1, 0, 1, 0, 1, 1]\n",
       "  [1, 0, 1, 0, 1, 0]\n",
       "  [0, 1, 0, 0, 1, 0]\n",
       "  [1, 0, 0, 0, 0, 0]\n",
       "  [0, 0, 1, 1, 1, 1]\n",
       "  [0, 0, 1, 1, 1, 0]\n",
       "  [1, 0, 0, 0, 1, 1]\n",
       "  [0, 0, 0, 1, 0, 0]\n",
       "  [1, 1, 0, 1, 0, 0]\n",
       "  ⋮ "
      ]
     },
     "metadata": {},
     "output_type": "display_data"
    }
   ],
   "source": [
    "pauli_list_ex_320 = [\n",
    "    III, IXI, IYI, XII, XXI, XYI, YII, YXI, YYI, ZII, ZXI, ZYI,\n",
    "    IZX, XZX, YZX, ZZX,\n",
    "    IZY, XZY, YZY, ZZY,\n",
    "    IZZ, XZZ, YZZ, ZZZ\n",
    "]\n",
    "\n",
    "indep_pauli_list_ex_320 = [\n",
    "    IXI, IYI, XII, YII, ZII, \n",
    "    IZX,\n",
    "    IZY,\n",
    "    IZZ\n",
    "]\n",
    "\n",
    "paulis_set_ex_320 = Set{Vector{Int}}(pauli_list_ex_320)"
   ]
  },
  {
   "cell_type": "code",
   "execution_count": 82,
   "metadata": {},
   "outputs": [
    {
     "data": {
      "text/plain": [
       "true"
      ]
     },
     "metadata": {},
     "output_type": "display_data"
    }
   ],
   "source": [
    "is_locally_closed(paulis_set_ex_320)"
   ]
  },
  {
   "cell_type": "code",
   "execution_count": 83,
   "metadata": {},
   "outputs": [
    {
     "data": {
      "text/plain": [
       "true"
      ]
     },
     "metadata": {},
     "output_type": "display_data"
    }
   ],
   "source": [
    "is_almost_maximal(paulis_set_ex_320)"
   ]
  },
  {
   "cell_type": "code",
   "execution_count": 84,
   "metadata": {},
   "outputs": [
    {
     "data": {
      "text/plain": [
       "Set{Dict{Vector{Int64}, Int64}} with 256 elements:\n",
       "  Dict([0, 0, 0, 0, 1, 1] => 1, [1, 1, 0, 0, 0, 0] => -1, [1, 1, 0, 0, 1, 0] =>…\n",
       "  Dict([0, 0, 0, 0, 1, 1] => -1, [1, 1, 0, 0, 0, 0] => 1, [1, 1, 0, 0, 1, 0] =>…\n",
       "  Dict([0, 0, 0, 0, 1, 1] => 1, [1, 1, 0, 0, 0, 0] => -1, [1, 1, 0, 0, 1, 0] =>…\n",
       "  Dict([0, 0, 0, 0, 1, 1] => 1, [1, 1, 0, 0, 0, 0] => -1, [1, 1, 0, 0, 1, 0] =>…\n",
       "  Dict([0, 0, 0, 0, 1, 1] => -1, [1, 1, 0, 0, 0, 0] => -1, [1, 1, 0, 0, 1, 0] =…\n",
       "  Dict([0, 0, 0, 0, 1, 1] => -1, [1, 1, 0, 0, 0, 0] => 1, [1, 1, 0, 0, 1, 0] =>…\n",
       "  Dict([0, 0, 0, 0, 1, 1] => -1, [1, 1, 0, 0, 0, 0] => 1, [1, 1, 0, 0, 1, 0] =>…\n",
       "  Dict([0, 0, 0, 0, 1, 1] => -1, [1, 1, 0, 0, 0, 0] => -1, [1, 1, 0, 0, 1, 0] =…\n",
       "  Dict([0, 0, 0, 0, 1, 1] => 1, [1, 1, 0, 0, 0, 0] => 1, [1, 1, 0, 0, 1, 0] => …\n",
       "  Dict([0, 0, 0, 0, 1, 1] => 1, [1, 1, 0, 0, 0, 0] => 1, [1, 1, 0, 0, 1, 0] => …\n",
       "  Dict([0, 0, 0, 0, 1, 1] => -1, [1, 1, 0, 0, 0, 0] => 1, [1, 1, 0, 0, 1, 0] =>…\n",
       "  Dict([0, 0, 0, 0, 1, 1] => 1, [1, 1, 0, 0, 0, 0] => -1, [1, 1, 0, 0, 1, 0] =>…\n",
       "  Dict([0, 0, 0, 0, 1, 1] => 1, [1, 1, 0, 0, 0, 0] => -1, [1, 1, 0, 0, 1, 0] =>…\n",
       "  Dict([0, 0, 0, 0, 1, 1] => 1, [1, 1, 0, 0, 0, 0] => -1, [1, 1, 0, 0, 1, 0] =>…\n",
       "  Dict([0, 0, 0, 0, 1, 1] => 1, [1, 1, 0, 0, 0, 0] => -1, [1, 1, 0, 0, 1, 0] =>…\n",
       "  Dict([0, 0, 0, 0, 1, 1] => 1, [1, 1, 0, 0, 0, 0] => -1, [1, 1, 0, 0, 1, 0] =>…\n",
       "  Dict([0, 0, 0, 0, 1, 1] => 1, [1, 1, 0, 0, 0, 0] => 1, [1, 1, 0, 0, 1, 0] => …\n",
       "  Dict([0, 0, 0, 0, 1, 1] => -1, [1, 1, 0, 0, 0, 0] => 1, [1, 1, 0, 0, 1, 0] =>…\n",
       "  Dict([0, 0, 0, 0, 1, 1] => 1, [1, 1, 0, 0, 0, 0] => -1, [1, 1, 0, 0, 1, 0] =>…\n",
       "  ⋮ "
      ]
     },
     "metadata": {},
     "output_type": "display_data"
    }
   ],
   "source": [
    "all_value_assignments_320 = generate_all_possible_value_assignments(paulis_set_ex_320, indep_pauli_list_ex_320)"
   ]
  },
  {
   "cell_type": "code",
   "execution_count": 113,
   "metadata": {},
   "outputs": [
    {
     "data": {
      "text/plain": [
       "Dict{Int64, Int64} with 1 entry:\n",
       "  62 => 256"
      ]
     },
     "metadata": {},
     "output_type": "display_data"
    }
   ],
   "source": [
    "ranks_ex_320 = find_ranks_count_for_given_set_of_value_assignments(all_value_assignments_320, 3, A3loc)"
   ]
  },
  {
   "cell_type": "markdown",
   "metadata": {},
   "source": [
    "Example 15: (3, 2, 1)"
   ]
  },
  {
   "cell_type": "code",
   "execution_count": 85,
   "metadata": {},
   "outputs": [
    {
     "data": {
      "text/plain": [
       "Set{Vector{Int64}} with 32 elements:\n",
       "  [1, 1, 1, 0, 1, 0]\n",
       "  [0, 1, 1, 1, 0, 0]\n",
       "  [1, 1, 0, 0, 0, 0]\n",
       "  [0, 0, 0, 0, 1, 1]\n",
       "  [0, 1, 1, 1, 1, 0]\n",
       "  [1, 1, 0, 0, 1, 0]\n",
       "  [1, 0, 1, 1, 0, 0]\n",
       "  [0, 1, 0, 1, 0, 0]\n",
       "  [1, 0, 1, 1, 1, 1]\n",
       "  [0, 1, 0, 1, 1, 0]\n",
       "  [1, 0, 0, 1, 0, 0]\n",
       "  [0, 1, 1, 0, 0, 0]\n",
       "  [1, 0, 0, 1, 1, 1]\n",
       "  [0, 1, 1, 0, 1, 0]\n",
       "  [1, 0, 1, 0, 0, 0]\n",
       "  [0, 1, 0, 0, 0, 0]\n",
       "  [1, 0, 1, 0, 1, 1]\n",
       "  [0, 1, 0, 0, 1, 0]\n",
       "  [0, 0, 1, 1, 0, 0]\n",
       "  ⋮ "
      ]
     },
     "metadata": {},
     "output_type": "display_data"
    }
   ],
   "source": [
    "pauli_list_ex_321 = [\n",
    "    III, IXI, IYI, XII, XXI, XYI, YII, YXI, YYI, ZII, ZXI, ZYI,\n",
    "    IIX, IXX, IYX, XIX, XXX, XYX, YIX, YXX, YYX, ZIX, ZXX, ZYX,\n",
    "    IZY, XZY, YZY, ZZY,\n",
    "    IZZ, XZZ, YZZ, ZZZ\n",
    "]\n",
    "\n",
    "indep_pauli_list_ex_321 = [\n",
    "    IXI, IYI, XII, YII, ZII, \n",
    "    IIX,\n",
    "    IZY,\n",
    "    IZZ\n",
    "]\n",
    "\n",
    "paulis_set_ex_321 = Set{Vector{Int}}(pauli_list_ex_321)"
   ]
  },
  {
   "cell_type": "code",
   "execution_count": 86,
   "metadata": {},
   "outputs": [
    {
     "data": {
      "text/plain": [
       "true"
      ]
     },
     "metadata": {},
     "output_type": "display_data"
    }
   ],
   "source": [
    "is_locally_closed(paulis_set_ex_321)"
   ]
  },
  {
   "cell_type": "code",
   "execution_count": 87,
   "metadata": {},
   "outputs": [
    {
     "data": {
      "text/plain": [
       "true"
      ]
     },
     "metadata": {},
     "output_type": "display_data"
    }
   ],
   "source": [
    "is_almost_maximal(paulis_set_ex_321)"
   ]
  },
  {
   "cell_type": "code",
   "execution_count": 88,
   "metadata": {},
   "outputs": [
    {
     "data": {
      "text/plain": [
       "Set{Dict{Vector{Int64}, Int64}} with 256 elements:\n",
       "  Dict([0, 0, 0, 0, 1, 1] => 1, [1, 1, 0, 0, 0, 0] => -1, [1, 1, 0, 0, 1, 0] =>…\n",
       "  Dict([0, 0, 0, 0, 1, 1] => 1, [1, 1, 0, 0, 0, 0] => 1, [1, 1, 0, 0, 1, 0] => …\n",
       "  Dict([0, 0, 0, 0, 1, 1] => 1, [1, 1, 0, 0, 0, 0] => 1, [1, 1, 0, 0, 1, 0] => …\n",
       "  Dict([0, 0, 0, 0, 1, 1] => -1, [1, 1, 0, 0, 0, 0] => 1, [1, 1, 0, 0, 1, 0] =>…\n",
       "  Dict([0, 0, 0, 0, 1, 1] => -1, [1, 1, 0, 0, 0, 0] => -1, [1, 1, 0, 0, 1, 0] =…\n",
       "  Dict([0, 0, 0, 0, 1, 1] => -1, [1, 1, 0, 0, 0, 0] => 1, [1, 1, 0, 0, 1, 0] =>…\n",
       "  Dict([0, 0, 0, 0, 1, 1] => -1, [1, 1, 0, 0, 0, 0] => -1, [1, 1, 0, 0, 1, 0] =…\n",
       "  Dict([0, 0, 0, 0, 1, 1] => 1, [1, 1, 0, 0, 0, 0] => -1, [1, 1, 0, 0, 1, 0] =>…\n",
       "  Dict([0, 0, 0, 0, 1, 1] => -1, [1, 1, 0, 0, 0, 0] => 1, [1, 1, 0, 0, 1, 0] =>…\n",
       "  Dict([0, 0, 0, 0, 1, 1] => -1, [1, 1, 0, 0, 0, 0] => 1, [1, 1, 0, 0, 1, 0] =>…\n",
       "  Dict([0, 0, 0, 0, 1, 1] => 1, [1, 1, 0, 0, 0, 0] => -1, [1, 1, 0, 0, 1, 0] =>…\n",
       "  Dict([0, 0, 0, 0, 1, 1] => 1, [1, 1, 0, 0, 0, 0] => 1, [1, 1, 0, 0, 1, 0] => …\n",
       "  Dict([0, 0, 0, 0, 1, 1] => 1, [1, 1, 0, 0, 0, 0] => -1, [1, 1, 0, 0, 1, 0] =>…\n",
       "  Dict([0, 0, 0, 0, 1, 1] => 1, [1, 1, 0, 0, 0, 0] => -1, [1, 1, 0, 0, 1, 0] =>…\n",
       "  Dict([0, 0, 0, 0, 1, 1] => -1, [1, 1, 0, 0, 0, 0] => 1, [1, 1, 0, 0, 1, 0] =>…\n",
       "  Dict([0, 0, 0, 0, 1, 1] => 1, [1, 1, 0, 0, 0, 0] => -1, [1, 1, 0, 0, 1, 0] =>…\n",
       "  Dict([0, 0, 0, 0, 1, 1] => 1, [1, 1, 0, 0, 0, 0] => 1, [1, 1, 0, 0, 1, 0] => …\n",
       "  Dict([0, 0, 0, 0, 1, 1] => 1, [1, 1, 0, 0, 0, 0] => 1, [1, 1, 0, 0, 1, 0] => …\n",
       "  Dict([0, 0, 0, 0, 1, 1] => 1, [1, 1, 0, 0, 0, 0] => 1, [1, 1, 0, 0, 1, 0] => …\n",
       "  ⋮ "
      ]
     },
     "metadata": {},
     "output_type": "display_data"
    }
   ],
   "source": [
    "all_value_assignments_321 = generate_all_possible_value_assignments(paulis_set_ex_321, indep_pauli_list_ex_321)"
   ]
  },
  {
   "cell_type": "code",
   "execution_count": 114,
   "metadata": {},
   "outputs": [
    {
     "data": {
      "text/plain": [
       "Dict{Int64, Int64} with 1 entry:\n",
       "  54 => 256"
      ]
     },
     "metadata": {},
     "output_type": "display_data"
    }
   ],
   "source": [
    "ranks_ex_321 = find_ranks_count_for_given_set_of_value_assignments(all_value_assignments_321, 3, A3loc)"
   ]
  },
  {
   "cell_type": "markdown",
   "metadata": {},
   "source": [
    "Example 16: (3, 2, 2)"
   ]
  },
  {
   "cell_type": "code",
   "execution_count": 92,
   "metadata": {},
   "outputs": [
    {
     "data": {
      "text/plain": [
       "Set{Vector{Int64}} with 40 elements:\n",
       "  [1, 1, 1, 0, 1, 0]\n",
       "  [0, 1, 1, 1, 0, 0]\n",
       "  [0, 1, 1, 1, 0, 1]\n",
       "  [1, 1, 0, 0, 0, 0]\n",
       "  [0, 0, 0, 0, 1, 1]\n",
       "  [0, 1, 1, 1, 1, 1]\n",
       "  [0, 1, 1, 1, 1, 0]\n",
       "  [1, 0, 1, 1, 0, 1]\n",
       "  [1, 1, 0, 0, 1, 0]\n",
       "  [1, 0, 1, 1, 0, 0]\n",
       "  [0, 1, 0, 1, 0, 0]\n",
       "  [0, 1, 0, 1, 1, 0]\n",
       "  [0, 1, 1, 0, 0, 1]\n",
       "  [1, 0, 0, 1, 0, 0]\n",
       "  [0, 1, 1, 0, 0, 0]\n",
       "  [0, 1, 1, 0, 1, 1]\n",
       "  [1, 0, 0, 1, 1, 1]\n",
       "  [0, 1, 1, 0, 1, 0]\n",
       "  [1, 0, 1, 0, 0, 1]\n",
       "  ⋮ "
      ]
     },
     "metadata": {},
     "output_type": "display_data"
    }
   ],
   "source": [
    "pauli_list_ex_322 = [\n",
    "    III, IXI, IYI, XII, XXI, XYI, YII, YXI, YYI, ZII, ZXI, ZYI,\n",
    "    IIX, IXX, IYX, XIX, XXX, XYX, YIX, YXX, YYX, ZIX, ZXX, ZYX,\n",
    "    IIY, IXY, IYY, XIY, XXY, XYY, YIY, YXY, YYY, ZIY, ZXY, ZYY,\n",
    "    IZZ, XZZ, YZZ, ZZZ\n",
    "]\n",
    "\n",
    "indep_pauli_list_ex_322 = [\n",
    "    IXI, IYI, XII, YII, ZII, \n",
    "    IIX,\n",
    "    IIY,\n",
    "    IZZ\n",
    "]\n",
    "\n",
    "paulis_set_ex_322 = Set{Vector{Int}}(pauli_list_ex_322)"
   ]
  },
  {
   "cell_type": "code",
   "execution_count": 93,
   "metadata": {},
   "outputs": [
    {
     "data": {
      "text/plain": [
       "true"
      ]
     },
     "metadata": {},
     "output_type": "display_data"
    }
   ],
   "source": [
    "is_locally_closed(paulis_set_ex_322)"
   ]
  },
  {
   "cell_type": "code",
   "execution_count": 94,
   "metadata": {},
   "outputs": [
    {
     "data": {
      "text/plain": [
       "true"
      ]
     },
     "metadata": {},
     "output_type": "display_data"
    }
   ],
   "source": [
    "is_almost_maximal(paulis_set_ex_322)"
   ]
  },
  {
   "cell_type": "code",
   "execution_count": 95,
   "metadata": {},
   "outputs": [
    {
     "data": {
      "text/plain": [
       "Set{Dict{Vector{Int64}, Int64}} with 256 elements:\n",
       "  Dict([0, 0, 0, 0, 1, 1] => -1, [1, 1, 0, 0, 0, 0] => -1, [1, 0, 1, 1, 0, 1] =…\n",
       "  Dict([0, 0, 0, 0, 1, 1] => 1, [1, 1, 0, 0, 0, 0] => 1, [1, 0, 1, 1, 0, 1] => …\n",
       "  Dict([0, 0, 0, 0, 1, 1] => 1, [1, 1, 0, 0, 0, 0] => 1, [1, 0, 1, 1, 0, 1] => …\n",
       "  Dict([0, 0, 0, 0, 1, 1] => 1, [1, 1, 0, 0, 0, 0] => -1, [1, 0, 1, 1, 0, 1] =>…\n",
       "  Dict([0, 0, 0, 0, 1, 1] => -1, [1, 1, 0, 0, 0, 0] => -1, [1, 0, 1, 1, 0, 1] =…\n",
       "  Dict([0, 0, 0, 0, 1, 1] => 1, [1, 1, 0, 0, 0, 0] => 1, [1, 0, 1, 1, 0, 1] => …\n",
       "  Dict([0, 0, 0, 0, 1, 1] => 1, [1, 1, 0, 0, 0, 0] => -1, [1, 0, 1, 1, 0, 1] =>…\n",
       "  Dict([0, 0, 0, 0, 1, 1] => 1, [1, 1, 0, 0, 0, 0] => -1, [1, 0, 1, 1, 0, 1] =>…\n",
       "  Dict([0, 0, 0, 0, 1, 1] => -1, [1, 1, 0, 0, 0, 0] => 1, [1, 0, 1, 1, 0, 1] =>…\n",
       "  Dict([0, 0, 0, 0, 1, 1] => 1, [1, 1, 0, 0, 0, 0] => 1, [1, 0, 1, 1, 0, 1] => …\n",
       "  Dict([0, 0, 0, 0, 1, 1] => -1, [1, 1, 0, 0, 0, 0] => -1, [1, 0, 1, 1, 0, 1] =…\n",
       "  Dict([0, 0, 0, 0, 1, 1] => -1, [1, 1, 0, 0, 0, 0] => -1, [1, 0, 1, 1, 0, 1] =…\n",
       "  Dict([0, 0, 0, 0, 1, 1] => 1, [1, 1, 0, 0, 0, 0] => -1, [1, 0, 1, 1, 0, 1] =>…\n",
       "  Dict([0, 0, 0, 0, 1, 1] => -1, [1, 1, 0, 0, 0, 0] => -1, [1, 0, 1, 1, 0, 1] =…\n",
       "  Dict([0, 0, 0, 0, 1, 1] => -1, [1, 1, 0, 0, 0, 0] => 1, [1, 0, 1, 1, 0, 1] =>…\n",
       "  Dict([0, 0, 0, 0, 1, 1] => 1, [1, 1, 0, 0, 0, 0] => 1, [1, 0, 1, 1, 0, 1] => …\n",
       "  Dict([0, 0, 0, 0, 1, 1] => -1, [1, 1, 0, 0, 0, 0] => 1, [1, 0, 1, 1, 0, 1] =>…\n",
       "  Dict([0, 0, 0, 0, 1, 1] => 1, [1, 1, 0, 0, 0, 0] => 1, [1, 0, 1, 1, 0, 1] => …\n",
       "  Dict([0, 0, 0, 0, 1, 1] => -1, [1, 1, 0, 0, 0, 0] => 1, [1, 0, 1, 1, 0, 1] =>…\n",
       "  ⋮ "
      ]
     },
     "metadata": {},
     "output_type": "display_data"
    }
   ],
   "source": [
    "all_value_assignments_322 = generate_all_possible_value_assignments(paulis_set_ex_322, indep_pauli_list_ex_322)"
   ]
  },
  {
   "cell_type": "code",
   "execution_count": 115,
   "metadata": {},
   "outputs": [
    {
     "data": {
      "text/plain": [
       "Dict{Int64, Int64} with 1 entry:\n",
       "  46 => 256"
      ]
     },
     "metadata": {},
     "output_type": "display_data"
    }
   ],
   "source": [
    "ranks_ex_322 = find_ranks_count_for_given_set_of_value_assignments(all_value_assignments_322, 3, A3loc)"
   ]
  },
  {
   "cell_type": "markdown",
   "metadata": {},
   "source": [
    "Example 17: (3, 3, 0)"
   ]
  },
  {
   "cell_type": "code",
   "execution_count": 96,
   "metadata": {},
   "outputs": [
    {
     "data": {
      "text/plain": [
       "Set{Vector{Int64}} with 16 elements:\n",
       "  [0, 1, 0, 0, 1, 0]\n",
       "  [1, 1, 0, 0, 0, 0]\n",
       "  [0, 0, 0, 0, 1, 0]\n",
       "  [1, 0, 0, 0, 0, 0]\n",
       "  [1, 1, 0, 0, 1, 0]\n",
       "  [1, 0, 0, 0, 1, 0]\n",
       "  [0, 1, 0, 1, 0, 0]\n",
       "  [0, 0, 0, 1, 0, 0]\n",
       "  [1, 1, 0, 1, 0, 0]\n",
       "  [0, 1, 0, 1, 1, 0]\n",
       "  [1, 0, 0, 1, 0, 0]\n",
       "  [0, 0, 0, 1, 1, 0]\n",
       "  [1, 1, 0, 1, 1, 0]\n",
       "  [1, 0, 0, 1, 1, 0]\n",
       "  [0, 1, 0, 0, 0, 0]\n",
       "  [0, 0, 0, 0, 0, 0]"
      ]
     },
     "metadata": {},
     "output_type": "display_data"
    }
   ],
   "source": [
    "pauli_list_ex_330 = [\n",
    "    III, IXI, IYI, IZI, XII, XXI, XYI, XZI, YII, YXI, YYI, YZI, ZII, ZXI, ZYI, ZZI,\n",
    "]\n",
    "\n",
    "indep_pauli_list_ex_330 = [\n",
    "    IXI, IYI, IZI, XII, YII, ZII\n",
    "]\n",
    "\n",
    "paulis_set_ex_330 = Set{Vector{Int}}(pauli_list_ex_330)"
   ]
  },
  {
   "cell_type": "code",
   "execution_count": 97,
   "metadata": {},
   "outputs": [
    {
     "data": {
      "text/plain": [
       "true"
      ]
     },
     "metadata": {},
     "output_type": "display_data"
    }
   ],
   "source": [
    "is_locally_closed(paulis_set_ex_330)"
   ]
  },
  {
   "cell_type": "code",
   "execution_count": 98,
   "metadata": {},
   "outputs": [
    {
     "data": {
      "text/plain": [
       "false"
      ]
     },
     "metadata": {},
     "output_type": "display_data"
    }
   ],
   "source": [
    "is_almost_maximal(paulis_set_ex_330)"
   ]
  },
  {
   "cell_type": "code",
   "execution_count": 99,
   "metadata": {},
   "outputs": [
    {
     "data": {
      "text/plain": [
       "Set{Dict{Vector{Int64}, Int64}} with 64 elements:\n",
       "  Dict([1, 1, 0, 0, 0, 0] => 1, [0, 0, 0, 0, 1, 0] => 1, [1, 1, 0, 0, 1, 0] => …\n",
       "  Dict([1, 1, 0, 0, 0, 0] => 1, [0, 0, 0, 0, 1, 0] => 1, [1, 1, 0, 0, 1, 0] => …\n",
       "  Dict([1, 1, 0, 0, 0, 0] => 1, [0, 0, 0, 0, 1, 0] => -1, [1, 1, 0, 0, 1, 0] =>…\n",
       "  Dict([1, 1, 0, 0, 0, 0] => -1, [0, 0, 0, 0, 1, 0] => -1, [1, 1, 0, 0, 1, 0] =…\n",
       "  Dict([1, 1, 0, 0, 0, 0] => -1, [0, 0, 0, 0, 1, 0] => -1, [1, 1, 0, 0, 1, 0] =…\n",
       "  Dict([1, 1, 0, 0, 0, 0] => 1, [0, 0, 0, 0, 1, 0] => 1, [1, 1, 0, 0, 1, 0] => …\n",
       "  Dict([1, 1, 0, 0, 0, 0] => 1, [0, 0, 0, 0, 1, 0] => -1, [1, 1, 0, 0, 1, 0] =>…\n",
       "  Dict([1, 1, 0, 0, 0, 0] => -1, [0, 0, 0, 0, 1, 0] => 1, [1, 1, 0, 0, 1, 0] =>…\n",
       "  Dict([1, 1, 0, 0, 0, 0] => 1, [0, 0, 0, 0, 1, 0] => -1, [1, 1, 0, 0, 1, 0] =>…\n",
       "  Dict([1, 1, 0, 0, 0, 0] => -1, [0, 0, 0, 0, 1, 0] => -1, [1, 1, 0, 0, 1, 0] =…\n",
       "  Dict([1, 1, 0, 0, 0, 0] => 1, [0, 0, 0, 0, 1, 0] => -1, [1, 1, 0, 0, 1, 0] =>…\n",
       "  Dict([1, 1, 0, 0, 0, 0] => -1, [0, 0, 0, 0, 1, 0] => 1, [1, 1, 0, 0, 1, 0] =>…\n",
       "  Dict([1, 1, 0, 0, 0, 0] => -1, [0, 0, 0, 0, 1, 0] => -1, [1, 1, 0, 0, 1, 0] =…\n",
       "  Dict([1, 1, 0, 0, 0, 0] => 1, [0, 0, 0, 0, 1, 0] => -1, [1, 1, 0, 0, 1, 0] =>…\n",
       "  Dict([1, 1, 0, 0, 0, 0] => 1, [0, 0, 0, 0, 1, 0] => -1, [1, 1, 0, 0, 1, 0] =>…\n",
       "  Dict([1, 1, 0, 0, 0, 0] => -1, [0, 0, 0, 0, 1, 0] => -1, [1, 1, 0, 0, 1, 0] =…\n",
       "  Dict([1, 1, 0, 0, 0, 0] => 1, [0, 0, 0, 0, 1, 0] => 1, [1, 1, 0, 0, 1, 0] => …\n",
       "  Dict([1, 1, 0, 0, 0, 0] => -1, [0, 0, 0, 0, 1, 0] => 1, [1, 1, 0, 0, 1, 0] =>…\n",
       "  Dict([1, 1, 0, 0, 0, 0] => 1, [0, 0, 0, 0, 1, 0] => -1, [1, 1, 0, 0, 1, 0] =>…\n",
       "  ⋮ "
      ]
     },
     "metadata": {},
     "output_type": "display_data"
    }
   ],
   "source": [
    "all_value_assignments_330 = generate_all_possible_value_assignments(paulis_set_ex_330, indep_pauli_list_ex_330)"
   ]
  },
  {
   "cell_type": "code",
   "execution_count": 116,
   "metadata": {},
   "outputs": [
    {
     "data": {
      "text/plain": [
       "Dict{Int64, Int64} with 1 entry:\n",
       "  60 => 64"
      ]
     },
     "metadata": {},
     "output_type": "display_data"
    }
   ],
   "source": [
    "ranks_ex_330 = find_ranks_count_for_given_set_of_value_assignments(all_value_assignments_330, 3, A3loc)"
   ]
  },
  {
   "cell_type": "markdown",
   "metadata": {},
   "source": [
    "Example 18: (3, 3, 1)"
   ]
  },
  {
   "cell_type": "code",
   "execution_count": 100,
   "metadata": {},
   "outputs": [
    {
     "data": {
      "text/plain": [
       "Set{Vector{Int64}} with 32 elements:\n",
       "  [1, 1, 1, 0, 1, 0]\n",
       "  [0, 1, 1, 1, 0, 0]\n",
       "  [1, 1, 0, 0, 0, 0]\n",
       "  [0, 0, 0, 0, 1, 0]\n",
       "  [0, 1, 1, 1, 1, 0]\n",
       "  [1, 1, 0, 0, 1, 0]\n",
       "  [1, 0, 1, 1, 0, 0]\n",
       "  [0, 1, 0, 1, 0, 0]\n",
       "  [1, 0, 1, 1, 1, 0]\n",
       "  [0, 1, 0, 1, 1, 0]\n",
       "  [1, 0, 0, 1, 0, 0]\n",
       "  [0, 1, 1, 0, 0, 0]\n",
       "  [1, 0, 0, 1, 1, 0]\n",
       "  [0, 1, 1, 0, 1, 0]\n",
       "  [1, 0, 1, 0, 0, 0]\n",
       "  [0, 1, 0, 0, 0, 0]\n",
       "  [1, 0, 1, 0, 1, 0]\n",
       "  [0, 1, 0, 0, 1, 0]\n",
       "  [0, 0, 1, 1, 0, 0]\n",
       "  ⋮ "
      ]
     },
     "metadata": {},
     "output_type": "display_data"
    }
   ],
   "source": [
    "pauli_list_ex_331 = [\n",
    "    III, IXI, IYI, IZI, XII, XXI, XYI, XZI, YII, YXI, YYI, YZI, ZII, ZXI, ZYI, ZZI,\n",
    "    IIX, IXX, IYX, IZX, XIX, XXX, XYX, XZX, YIX, YXX, YYX, YZX, ZIX, ZXX, ZYX, ZZX,\n",
    "]\n",
    "\n",
    "indep_pauli_list_ex_331 = [\n",
    "    IXI, IYI, IZI, XII, YII, ZII,\n",
    "    IIX,\n",
    "]\n",
    "\n",
    "\n",
    "paulis_set_ex_331 = Set{Vector{Int}}(pauli_list_ex_331)"
   ]
  },
  {
   "cell_type": "code",
   "execution_count": 101,
   "metadata": {},
   "outputs": [
    {
     "data": {
      "text/plain": [
       "true"
      ]
     },
     "metadata": {},
     "output_type": "display_data"
    }
   ],
   "source": [
    "is_locally_closed(paulis_set_ex_331)"
   ]
  },
  {
   "cell_type": "code",
   "execution_count": 102,
   "metadata": {},
   "outputs": [
    {
     "data": {
      "text/plain": [
       "false"
      ]
     },
     "metadata": {},
     "output_type": "display_data"
    }
   ],
   "source": [
    "is_almost_maximal(paulis_set_ex_331)"
   ]
  },
  {
   "cell_type": "code",
   "execution_count": 103,
   "metadata": {},
   "outputs": [
    {
     "data": {
      "text/plain": [
       "Set{Dict{Vector{Int64}, Int64}} with 128 elements:\n",
       "  Dict([1, 1, 0, 0, 0, 0] => -1, [0, 0, 0, 0, 1, 0] => 1, [1, 1, 0, 0, 1, 0] =>…\n",
       "  Dict([1, 1, 0, 0, 0, 0] => 1, [0, 0, 0, 0, 1, 0] => 1, [1, 1, 0, 0, 1, 0] => …\n",
       "  Dict([1, 1, 0, 0, 0, 0] => 1, [0, 0, 0, 0, 1, 0] => -1, [1, 1, 0, 0, 1, 0] =>…\n",
       "  Dict([1, 1, 0, 0, 0, 0] => 1, [0, 0, 0, 0, 1, 0] => -1, [1, 1, 0, 0, 1, 0] =>…\n",
       "  Dict([1, 1, 0, 0, 0, 0] => 1, [0, 0, 0, 0, 1, 0] => -1, [1, 1, 0, 0, 1, 0] =>…\n",
       "  Dict([1, 1, 0, 0, 0, 0] => 1, [0, 0, 0, 0, 1, 0] => 1, [1, 1, 0, 0, 1, 0] => …\n",
       "  Dict([1, 1, 0, 0, 0, 0] => 1, [0, 0, 0, 0, 1, 0] => -1, [1, 1, 0, 0, 1, 0] =>…\n",
       "  Dict([1, 1, 0, 0, 0, 0] => 1, [0, 0, 0, 0, 1, 0] => -1, [1, 1, 0, 0, 1, 0] =>…\n",
       "  Dict([1, 1, 0, 0, 0, 0] => -1, [0, 0, 0, 0, 1, 0] => -1, [1, 1, 0, 0, 1, 0] =…\n",
       "  Dict([1, 1, 0, 0, 0, 0] => -1, [0, 0, 0, 0, 1, 0] => -1, [1, 1, 0, 0, 1, 0] =…\n",
       "  Dict([1, 1, 0, 0, 0, 0] => -1, [0, 0, 0, 0, 1, 0] => -1, [1, 1, 0, 0, 1, 0] =…\n",
       "  Dict([1, 1, 0, 0, 0, 0] => 1, [0, 0, 0, 0, 1, 0] => 1, [1, 1, 0, 0, 1, 0] => …\n",
       "  Dict([1, 1, 0, 0, 0, 0] => 1, [0, 0, 0, 0, 1, 0] => 1, [1, 1, 0, 0, 1, 0] => …\n",
       "  Dict([1, 1, 0, 0, 0, 0] => -1, [0, 0, 0, 0, 1, 0] => 1, [1, 1, 0, 0, 1, 0] =>…\n",
       "  Dict([1, 1, 0, 0, 0, 0] => 1, [0, 0, 0, 0, 1, 0] => -1, [1, 1, 0, 0, 1, 0] =>…\n",
       "  Dict([1, 1, 0, 0, 0, 0] => 1, [0, 0, 0, 0, 1, 0] => -1, [1, 1, 0, 0, 1, 0] =>…\n",
       "  Dict([1, 1, 0, 0, 0, 0] => 1, [0, 0, 0, 0, 1, 0] => -1, [1, 1, 0, 0, 1, 0] =>…\n",
       "  Dict([1, 1, 0, 0, 0, 0] => -1, [0, 0, 0, 0, 1, 0] => 1, [1, 1, 0, 0, 1, 0] =>…\n",
       "  Dict([1, 1, 0, 0, 0, 0] => -1, [0, 0, 0, 0, 1, 0] => -1, [1, 1, 0, 0, 1, 0] =…\n",
       "  ⋮ "
      ]
     },
     "metadata": {},
     "output_type": "display_data"
    }
   ],
   "source": [
    "all_value_assignments_331 = generate_all_possible_value_assignments(paulis_set_ex_331, indep_pauli_list_ex_331)"
   ]
  },
  {
   "cell_type": "code",
   "execution_count": 117,
   "metadata": {},
   "outputs": [
    {
     "data": {
      "text/plain": [
       "Dict{Int64, Int64} with 1 entry:\n",
       "  45 => 128"
      ]
     },
     "metadata": {},
     "output_type": "display_data"
    }
   ],
   "source": [
    "ranks_ex_331 = find_ranks_count_for_given_set_of_value_assignments(all_value_assignments_331, 3, A3loc)"
   ]
  },
  {
   "cell_type": "markdown",
   "metadata": {},
   "source": [
    "Example 19: (3, 3, 2)"
   ]
  },
  {
   "cell_type": "code",
   "execution_count": 104,
   "metadata": {},
   "outputs": [
    {
     "data": {
      "text/plain": [
       "Set{Vector{Int64}} with 48 elements:\n",
       "  [0, 1, 1, 1, 0, 0]\n",
       "  [1, 1, 0, 0, 0, 0]\n",
       "  [0, 0, 0, 0, 1, 0]\n",
       "  [0, 1, 1, 1, 1, 1]\n",
       "  [1, 0, 1, 1, 0, 0]\n",
       "  [0, 1, 0, 1, 0, 0]\n",
       "  [1, 0, 1, 1, 1, 1]\n",
       "  [0, 1, 1, 0, 0, 1]\n",
       "  [1, 0, 0, 1, 0, 0]\n",
       "  [0, 1, 1, 0, 1, 0]\n",
       "  [1, 0, 1, 0, 0, 1]\n",
       "  [1, 0, 1, 0, 1, 0]\n",
       "  [0, 0, 1, 1, 0, 1]\n",
       "  [0, 1, 0, 0, 1, 0]\n",
       "  [1, 1, 1, 1, 0, 0]\n",
       "  [0, 0, 1, 1, 1, 0]\n",
       "  [1, 0, 0, 0, 1, 0]\n",
       "  [1, 1, 1, 1, 1, 1]\n",
       "  [1, 1, 0, 1, 0, 0]\n",
       "  ⋮ "
      ]
     },
     "metadata": {},
     "output_type": "display_data"
    }
   ],
   "source": [
    "pauli_list_ex_332 = [\n",
    "    III, IXI, IYI, IZI, XII, XXI, XYI, XZI, YII, YXI, YYI, YZI, ZII, ZXI, ZYI, ZZI,\n",
    "    IIX, IXX, IYX, IZX, XIX, XXX, XYX, XZX, YIX, YXX, YYX, YZX, ZIX, ZXX, ZYX, ZZX,\n",
    "    IIY, IXY, IYY, IZY, XIY, XXY, XYY, XZY, YIY, YXY, YYY, YZY, ZIY, ZXY, ZYY, ZZY,\n",
    "]\n",
    "\n",
    "indep_pauli_list_ex_332 = [\n",
    "    IXI, IYI, IZI, XII, YII, ZII,\n",
    "    IIX,\n",
    "    IIY\n",
    "]\n",
    "\n",
    "paulis_set_ex_332 = Set{Vector{Int}}(pauli_list_ex_332)"
   ]
  },
  {
   "cell_type": "code",
   "execution_count": 105,
   "metadata": {},
   "outputs": [
    {
     "data": {
      "text/plain": [
       "true"
      ]
     },
     "metadata": {},
     "output_type": "display_data"
    }
   ],
   "source": [
    "is_locally_closed(paulis_set_ex_332)"
   ]
  },
  {
   "cell_type": "code",
   "execution_count": 106,
   "metadata": {},
   "outputs": [
    {
     "data": {
      "text/plain": [
       "true"
      ]
     },
     "metadata": {},
     "output_type": "display_data"
    }
   ],
   "source": [
    "is_almost_maximal(paulis_set_ex_332)"
   ]
  },
  {
   "cell_type": "code",
   "execution_count": 107,
   "metadata": {},
   "outputs": [
    {
     "data": {
      "text/plain": [
       "Set{Dict{Vector{Int64}, Int64}} with 256 elements:\n",
       "  Dict([1, 1, 0, 0, 0, 0] => 1, [0, 0, 0, 0, 1, 0] => 1, [1, 0, 1, 1, 0, 1] => …\n",
       "  Dict([1, 1, 0, 0, 0, 0] => -1, [0, 0, 0, 0, 1, 0] => -1, [1, 0, 1, 1, 0, 1] =…\n",
       "  Dict([1, 1, 0, 0, 0, 0] => 1, [0, 0, 0, 0, 1, 0] => 1, [1, 0, 1, 1, 0, 1] => …\n",
       "  Dict([1, 1, 0, 0, 0, 0] => -1, [0, 0, 0, 0, 1, 0] => -1, [1, 0, 1, 1, 0, 1] =…\n",
       "  Dict([1, 1, 0, 0, 0, 0] => 1, [0, 0, 0, 0, 1, 0] => -1, [1, 0, 1, 1, 0, 1] =>…\n",
       "  Dict([1, 1, 0, 0, 0, 0] => -1, [0, 0, 0, 0, 1, 0] => -1, [1, 0, 1, 1, 0, 1] =…\n",
       "  Dict([1, 1, 0, 0, 0, 0] => -1, [0, 0, 0, 0, 1, 0] => 1, [1, 0, 1, 1, 0, 1] =>…\n",
       "  Dict([1, 1, 0, 0, 0, 0] => 1, [0, 0, 0, 0, 1, 0] => 1, [1, 0, 1, 1, 0, 1] => …\n",
       "  Dict([1, 1, 0, 0, 0, 0] => -1, [0, 0, 0, 0, 1, 0] => 1, [1, 0, 1, 1, 0, 1] =>…\n",
       "  Dict([1, 1, 0, 0, 0, 0] => 1, [0, 0, 0, 0, 1, 0] => -1, [1, 0, 1, 1, 0, 1] =>…\n",
       "  Dict([1, 1, 0, 0, 0, 0] => -1, [0, 0, 0, 0, 1, 0] => -1, [1, 0, 1, 1, 0, 1] =…\n",
       "  Dict([1, 1, 0, 0, 0, 0] => -1, [0, 0, 0, 0, 1, 0] => 1, [1, 0, 1, 1, 0, 1] =>…\n",
       "  Dict([1, 1, 0, 0, 0, 0] => -1, [0, 0, 0, 0, 1, 0] => -1, [1, 0, 1, 1, 0, 1] =…\n",
       "  Dict([1, 1, 0, 0, 0, 0] => 1, [0, 0, 0, 0, 1, 0] => -1, [1, 0, 1, 1, 0, 1] =>…\n",
       "  Dict([1, 1, 0, 0, 0, 0] => 1, [0, 0, 0, 0, 1, 0] => 1, [1, 0, 1, 1, 0, 1] => …\n",
       "  Dict([1, 1, 0, 0, 0, 0] => -1, [0, 0, 0, 0, 1, 0] => -1, [1, 0, 1, 1, 0, 1] =…\n",
       "  Dict([1, 1, 0, 0, 0, 0] => -1, [0, 0, 0, 0, 1, 0] => 1, [1, 0, 1, 1, 0, 1] =>…\n",
       "  Dict([1, 1, 0, 0, 0, 0] => -1, [0, 0, 0, 0, 1, 0] => 1, [1, 0, 1, 1, 0, 1] =>…\n",
       "  Dict([1, 1, 0, 0, 0, 0] => -1, [0, 0, 0, 0, 1, 0] => 1, [1, 0, 1, 1, 0, 1] =>…\n",
       "  ⋮ "
      ]
     },
     "metadata": {},
     "output_type": "display_data"
    }
   ],
   "source": [
    "all_value_assignments_332 = generate_all_possible_value_assignments(paulis_set_ex_332, indep_pauli_list_ex_332)"
   ]
  },
  {
   "cell_type": "code",
   "execution_count": 118,
   "metadata": {},
   "outputs": [
    {
     "data": {
      "text/plain": [
       "Dict{Int64, Int64} with 1 entry:\n",
       "  30 => 256"
      ]
     },
     "metadata": {},
     "output_type": "display_data"
    }
   ],
   "source": [
    "ranks_ex_332 = find_ranks_count_for_given_set_of_value_assignments(all_value_assignments_332, 3, A3loc)"
   ]
  }
 ],
 "metadata": {
  "kernelspec": {
   "display_name": "Julia 1.9.3",
   "language": "julia",
   "name": "julia-1.9"
  },
  "language_info": {
   "file_extension": ".jl",
   "mimetype": "application/julia",
   "name": "julia",
   "version": "1.9.3"
  }
 },
 "nbformat": 4,
 "nbformat_minor": 2
}
