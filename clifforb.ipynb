{
 "cells": [
  {
   "cell_type": "code",
   "execution_count": 51,
   "metadata": {},
   "outputs": [
    {
     "name": "stderr",
     "output_type": "stream",
     "text": [
      "\u001b[32m\u001b[1m  Activating\u001b[22m\u001b[39m project at `~/GitHub/StabTheory/MyProject`\n"
     ]
    }
   ],
   "source": [
    "using Pkg; Pkg.activate(\"MyProject\")\n",
    "using GAP\n",
    "const g = GAP.Globals\n",
    "const gjl = GAP.gap_to_julia\n",
    "const jlg = GAP.julia_to_gap\n",
    "\n",
    "include(\"libs/clifford_group.jl\"); include(\"libs/pauli.jl\");"
   ]
  },
  {
   "cell_type": "markdown",
   "metadata": {},
   "source": [
    "# Unitary Clifford group"
   ]
  },
  {
   "cell_type": "code",
   "execution_count": 2,
   "metadata": {},
   "outputs": [
    {
     "data": {
      "text/plain": [
       "192"
      ]
     },
     "metadata": {},
     "output_type": "display_data"
    }
   ],
   "source": [
    "C1 = unitary_clifford_group(1); g.Order(C1)"
   ]
  },
  {
   "cell_type": "code",
   "execution_count": 3,
   "metadata": {},
   "outputs": [
    {
     "data": {
      "text/plain": [
       "92160"
      ]
     },
     "metadata": {},
     "output_type": "display_data"
    }
   ],
   "source": [
    "C2 = unitary_clifford_group(2); g.Order(C2)"
   ]
  },
  {
   "cell_type": "code",
   "execution_count": null,
   "metadata": {},
   "outputs": [],
   "source": [
    "C3 = unitary_clifford_group(3); g.Order(C3)"
   ]
  },
  {
   "cell_type": "markdown",
   "metadata": {},
   "source": [
    "# Pauli group"
   ]
  },
  {
   "cell_type": "code",
   "execution_count": 4,
   "metadata": {},
   "outputs": [
    {
     "data": {
      "text/plain": [
       "16"
      ]
     },
     "metadata": {},
     "output_type": "display_data"
    }
   ],
   "source": [
    "P1 = Pauli_group(1); g.Order(P1)"
   ]
  },
  {
   "cell_type": "code",
   "execution_count": 5,
   "metadata": {},
   "outputs": [
    {
     "data": {
      "text/plain": [
       "64"
      ]
     },
     "metadata": {},
     "output_type": "display_data"
    }
   ],
   "source": [
    "P2 = Pauli_group(2); g.Order(P2)"
   ]
  },
  {
   "cell_type": "code",
   "execution_count": 6,
   "metadata": {},
   "outputs": [
    {
     "data": {
      "text/plain": [
       "256"
      ]
     },
     "metadata": {},
     "output_type": "display_data"
    }
   ],
   "source": [
    "P3 = Pauli_group(3); g.Order(P3)"
   ]
  },
  {
   "cell_type": "markdown",
   "metadata": {},
   "source": [
    "# Clifford group\n",
    "\n",
    "Generate $n$-qubit Clifford group $\\text{CL}_n$ as automorphisms of Pauli group. This defines Clifford elements as Clifford unitaries up to an overall phase. "
   ]
  },
  {
   "cell_type": "code",
   "execution_count": 12,
   "metadata": {},
   "outputs": [
    {
     "data": {
      "text/plain": [
       "Group(GAP: Group([ (2,3)(4,5)(6,11)(7,14)(8,9)(10,15), (3,8,6,9)(4,7,5,10) ]), 24, GAP: [ (2,3)(4,5)(6,11)(7,14)(8,9)(10,15), (3,8,6,9)(4,7,5,10) ])"
      ]
     },
     "metadata": {},
     "output_type": "display_data"
    }
   ],
   "source": [
    "Cl1 = CliffordGroup(1); Cl1.CliffGroup"
   ]
  },
  {
   "cell_type": "code",
   "execution_count": 13,
   "metadata": {},
   "outputs": [
    {
     "data": {
      "text/plain": [
       "Group(GAP: <permutation group of size 11520 with 5 generators>, 11520, GAP: [ (2,9)(4,11)(6,13)(8,15)(10,31)(12,29)(14,19)(16,17)(18,41)(20,43)(21,46)(22,27)(23,48)(24,25)(26,49)(28,51)(30,53)(32,55)(33,58)(34,39)(35,60)(36,37)(38,61)(40,63), (9,34,32,39)(10,33,31,40)(11,36,30,37)(12,35,29,38)(13,22,20,27)(14,21,19,28)(15,24,18,25)(16,23,17,26), (3,5)(4,6)(7,42)(8,41)(11,13)(12,14)(15,18)(16,17)(19,29)(20,30)(21,35)(22,36)(23,26)(24,25)(27,37)(28,38)(43,53)(44,54)(45,59)(46,60)(47,50)(48,49)(51,61)(52,62), (5,47,44,50)(6,48,43,49)(7,45,42,52)(8,46,41,51)(13,23,20,26)(14,24,19,25)(15,21,18,28)(16,22,17,27), (3,4)(7,8)(9,13)(10,14)(11,16)(12,15)(17,30)(18,29)(19,31)(20,32)(21,33)(22,34)(23,36)(24,35)(25,38)(26,37)(27,39)(28,40)(41,42)(47,48)(49,50)(53,54)(59,60)(61,62) ])"
      ]
     },
     "metadata": {},
     "output_type": "display_data"
    }
   ],
   "source": [
    "Cl2 = CliffordGroup(2); Cl2.CliffGroup"
   ]
  },
  {
   "cell_type": "code",
   "execution_count": null,
   "metadata": {},
   "outputs": [],
   "source": [
    "Cl3 = CliffordGroup(3)"
   ]
  },
  {
   "cell_type": "markdown",
   "metadata": {},
   "source": [
    "# Clifford group action"
   ]
  },
  {
   "cell_type": "markdown",
   "metadata": {},
   "source": [
    "Define the $\\left| + \\right \\rangle$ state and group its Pauli components into those with the same coefficient. We exclude zero components. "
   ]
  },
  {
   "cell_type": "code",
   "execution_count": 14,
   "metadata": {},
   "outputs": [
    {
     "data": {
      "text/plain": [
       "([1], Set{Int64}[Set([2, 1])], Dict{Real, Int64}(1 => 1))"
      ]
     },
     "metadata": {},
     "output_type": "display_data"
    }
   ],
   "source": [
    "Plus = [1,1,0,0]\n",
    "SPlus = grouping(Plus)"
   ]
  },
  {
   "cell_type": "markdown",
   "metadata": {},
   "source": [
    "We apply the clifford group action on the indices of the vector. For a Pauli operator $T_a$ with phase $+1$ we assign some index $1 \\leq i \\leq 2^n$. Indices greater than $2^n$ correspond to Pauli operators with negative phase, i.e. $-T_a$. More explicitly if $T_a\\mapsto i$ then $-T_a\\mapsto i+2^n$."
   ]
  },
  {
   "cell_type": "code",
   "execution_count": 15,
   "metadata": {},
   "outputs": [
    {
     "data": {
      "text/plain": [
       "6-element Vector{Vector{Real}}:\n",
       " [1, 1, 0, 0]\n",
       " [1, -1, 0, 0]\n",
       " [1, 0, -1, 0]\n",
       " [1, 0, 1, 0]\n",
       " [1, 0, 0, -1]\n",
       " [1, 0, 0, 1]"
      ]
     },
     "metadata": {},
     "output_type": "display_data"
    }
   ],
   "source": [
    "clifford_orbit_of_point(Cl1,Plus)"
   ]
  },
  {
   "cell_type": "markdown",
   "metadata": {},
   "source": [
    "There are $8$ vertices of $\\Lambda_1$ and they fall into a single orbit"
   ]
  },
  {
   "cell_type": "code",
   "execution_count": 16,
   "metadata": {},
   "outputs": [
    {
     "data": {
      "text/plain": [
       "([1], Set{Int64}[Set([4, 2, 3, 1])], Dict{Real, Int64}(1 => 1))"
      ]
     },
     "metadata": {},
     "output_type": "display_data"
    }
   ],
   "source": [
    "A = [1,1,1,1]\n",
    "SA = grouping(A)"
   ]
  },
  {
   "cell_type": "code",
   "execution_count": 17,
   "metadata": {},
   "outputs": [
    {
     "data": {
      "text/plain": [
       "8-element Vector{Vector{Real}}:\n",
       " [1, 1, 1, 1]\n",
       " [1, 1, -1, -1]\n",
       " [1, -1, -1, 1]\n",
       " [1, -1, 1, -1]\n",
       " [1, 1, -1, 1]\n",
       " [1, -1, -1, -1]\n",
       " [1, -1, 1, 1]\n",
       " [1, 1, 1, -1]"
      ]
     },
     "metadata": {},
     "output_type": "display_data"
    }
   ],
   "source": [
    "clifford_orbit_of_point(Cl1,A)"
   ]
  },
  {
   "cell_type": "markdown",
   "metadata": {},
   "source": [
    "A point where the coefficients are not all in a single subset"
   ]
  },
  {
   "cell_type": "code",
   "execution_count": 18,
   "metadata": {},
   "outputs": [
    {
     "data": {
      "text/plain": [
       "(Rational{Int64}[7//10, 1], Set{Int64}[Set([4, 2]), Set([1])], Dict{Real, Int64}(7//10 => 1, 1//1 => 2))"
      ]
     },
     "metadata": {},
     "output_type": "display_data"
    }
   ],
   "source": [
    "T = Vector{Real}([1,7//10,0,7//10])\n",
    "ST = grouping(T)"
   ]
  },
  {
   "cell_type": "code",
   "execution_count": 19,
   "metadata": {},
   "outputs": [
    {
     "data": {
      "text/plain": [
       "12-element Vector{Vector{Real}}:\n",
       " [1//1, 7//10, 0, 7//10]\n",
       " [1//1, 7//10, 0, -7//10]\n",
       " [1//1, -7//10, 0, 7//10]\n",
       " [1//1, -7//10, 0, -7//10]\n",
       " [1//1, -7//10, -7//10, 0]\n",
       " [1//1, 7//10, -7//10, 0]\n",
       " [1//1, -7//10, 7//10, 0]\n",
       " [1//1, 7//10, 7//10, 0]\n",
       " [1//1, 0, 7//10, -7//10]\n",
       " [1//1, 0, -7//10, -7//10]\n",
       " [1//1, 0, 7//10, 7//10]\n",
       " [1//1, 0, -7//10, 7//10]"
      ]
     },
     "metadata": {},
     "output_type": "display_data"
    }
   ],
   "source": [
    "OrbT = clifford_orbit_of_point(Cl1,T)"
   ]
  },
  {
   "cell_type": "markdown",
   "metadata": {},
   "source": [
    "We can also use floating point numbers for coefficients"
   ]
  },
  {
   "cell_type": "code",
   "execution_count": 54,
   "metadata": {},
   "outputs": [],
   "source": [
    "T = Vector{Real}([1,.7,0,.7]);"
   ]
  },
  {
   "cell_type": "code",
   "execution_count": 55,
   "metadata": {},
   "outputs": [
    {
     "data": {
      "text/plain": [
       "12-element Vector{Vector{Real}}:\n",
       " [1.0, 0.7, 0, 0.7]\n",
       " [1.0, 0.7, 0, -0.7]\n",
       " [1.0, -0.7, 0, 0.7]\n",
       " [1.0, -0.7, 0, -0.7]\n",
       " [1.0, -0.7, -0.7, 0]\n",
       " [1.0, 0.7, -0.7, 0]\n",
       " [1.0, -0.7, 0.7, 0]\n",
       " [1.0, 0.7, 0.7, 0]\n",
       " [1.0, 0, 0.7, -0.7]\n",
       " [1.0, 0, -0.7, -0.7]\n",
       " [1.0, 0, 0.7, 0.7]\n",
       " [1.0, 0, -0.7, 0.7]"
      ]
     },
     "metadata": {},
     "output_type": "display_data"
    }
   ],
   "source": [
    "OrbT = clifford_orbit_of_point(Cl1,T)"
   ]
  },
  {
   "cell_type": "markdown",
   "metadata": {},
   "source": [
    "We should be careful with irrational numbers to make sure that all coefficients that should be the same, are the same."
   ]
  },
  {
   "cell_type": "markdown",
   "metadata": {},
   "source": [
    "# $2$-qubit states"
   ]
  },
  {
   "cell_type": "code",
   "execution_count": 20,
   "metadata": {},
   "outputs": [
    {
     "data": {
      "text/plain": [
       "([1], Set{Int64}[Set([5, 6, 2, 1])], Dict{Real, Int64}(1 => 1))"
      ]
     },
     "metadata": {},
     "output_type": "display_data"
    }
   ],
   "source": [
    "PlusPlus = kron(Plus,Plus); SPP = grouping(PlusPlus)"
   ]
  },
  {
   "cell_type": "code",
   "execution_count": 22,
   "metadata": {},
   "outputs": [
    {
     "data": {
      "text/plain": [
       "60-element Vector{Vector{Real}}:\n",
       " [1, 1, 0, 0, 1, 1, 0, 0, 0, 0, 0, 0, 0, 0, 0, 0]\n",
       " [1, 1, 0, 0, 0, 0, 0, 0, 0, 0, 0, 0, 1, 1, 0, 0]\n",
       " [1, 1, 0, 0, 0, 0, 0, 0, -1, -1, 0, 0, 0, 0, 0, 0]\n",
       " [1, 0, 0, 1, 1, 0, 0, 1, 0, 0, 0, 0, 0, 0, 0, 0]\n",
       " [1, 0, -1, 0, 1, 0, -1, 0, 0, 0, 0, 0, 0, 0, 0, 0]\n",
       " [1, 0, 0, 1, 0, 0, 0, 0, 0, 0, 0, 0, 1, 0, 0, 1]\n",
       " [1, 0, -1, 0, 0, 0, 0, 0, 0, 0, 0, 0, 1, 0, -1, 0]\n",
       " [1, 1, 0, 0, 0, 0, 0, 0, 1, 1, 0, 0, 0, 0, 0, 0]\n",
       " [1, 1, 0, 0, -1, -1, 0, 0, 0, 0, 0, 0, 0, 0, 0, 0]\n",
       " [1, 0, 0, 1, 0, 0, 0, 0, -1, 0, 0, -1, 0, 0, 0, 0]\n",
       " ⋮\n",
       " [1, 0, 0, -1, -1, 0, 0, 1, 0, 0, 0, 0, 0, 0, 0, 0]\n",
       " [1, 0, 0, 0, 0, 0, 1, 0, 0, -1, 0, 0, 0, 0, 0, -1]\n",
       " [1, 0, 0, 0, 0, 0, 0, -1, 0, 1, 0, 0, 0, 0, 1, 0]\n",
       " [1, 0, 0, -1, 0, 0, 0, 0, 1, 0, 0, -1, 0, 0, 0, 0]\n",
       " [1, 0, 0, 0, 0, 0, 0, 1, 0, 0, -1, 0, 0, -1, 0, 0]\n",
       " [1, 0, 0, -1, 0, 0, 0, 0, 0, 0, 0, 0, -1, 0, 0, 1]\n",
       " [1, 0, 1, 0, 0, 0, 0, 0, 0, 0, 0, 0, -1, 0, -1, 0]\n",
       " [1, 0, 0, 0, 0, 0, 1, 0, 0, 0, 0, 1, 0, -1, 0, 0]\n",
       " [1, 0, 0, 0, 0, -1, 0, 0, 0, 0, -1, 0, 0, 0, 0, -1]"
      ]
     },
     "metadata": {},
     "output_type": "display_data"
    }
   ],
   "source": [
    "clifford_orbit_of_point(Cl2,PlusPlus)"
   ]
  },
  {
   "cell_type": "markdown",
   "metadata": {},
   "source": [
    "# Action of gate on vector"
   ]
  },
  {
   "cell_type": "markdown",
   "metadata": {},
   "source": [
    "Eventually we will have code to go from a sequence of strings denoting generators (e.g., s1 =\"h i\", s2 = \"CX_1_2\",etc.) to the corresponding actual Clifford unitary ($g = g_2\\cdot g_1$). We then map that unitary to a permutation element via the group homomorphism $\\phi:\\text{CliffGates}_n\\to \\text{Cl}_n$."
   ]
  },
  {
   "cell_type": "markdown",
   "metadata": {},
   "source": [
    "For now we can implement the $CZ(1,2)$ gate as follows. Use the fact that $CZ(1,2) = (I\\otimes H) \\cdot CX(1,2) \\cdot (I\\otimes H) $. We can extract the generators of $\\text{CliffGates}_n$ as Cln.NormalizerGates.Gens. "
   ]
  },
  {
   "cell_type": "code",
   "execution_count": 23,
   "metadata": {},
   "outputs": [
    {
     "name": "stdout",
     "output_type": "stream",
     "text": [
      "GAP: [ [ 1/2*E(8)-1/2*E(8)^3, 0, 1/2*E(8)-1/2*E(8)^3, 0 ], [ 0, 1/2*E(8)-1/2*E(8)^3, 0, 1/2*E(8)-1/2*E(8)^3 ], [ 1/2*E(8)-1/2*E(8)^3, 0, -1/2*E(8)+1/2*E(8)^3, 0 ], [ 0, 1/2*E(8)-1/2*E(8)^3, 0, -1/2*E(8)+1/2*E(8)^3 ] ]\n",
      "GAP: [ [ 1, 0, 0, 0 ], [ 0, 1, 0, 0 ], [ 0, 0, E(4), 0 ], [ 0, 0, 0, E(4) ] ]\n",
      "GAP: [ [ 1/2*E(8)-1/2*E(8)^3, 1/2*E(8)-1/2*E(8)^3, 0, 0 ], [ 1/2*E(8)-1/2*E(8)^3, -1/2*E(8)+1/2*E(8)^3, 0, 0 ], [ 0, 0, 1/2*E(8)-1/2*E(8)^3, 1/2*E(8)-1/2*E(8)^3 ], [ 0, 0, 1/2*E(8)-1/2*E(8)^3, -1/2*E(8)+1/2*E(8)^3 ] ]\n",
      "GAP: [ [ 1, 0, 0, 0 ], [ 0, E(4), 0, 0 ], [ 0, 0, 1, 0 ], [ 0, 0, 0, E(4) ] ]\n",
      "GAP: [ [ 1, 0, 0, 0 ], [ 0, 1, 0, 0 ], [ 0, 0, 0, 1 ], [ 0, 0, 1, 0 ] ]\n"
     ]
    }
   ],
   "source": [
    "for g in Cl2.NormalizerGates.Gens; println(g); end"
   ]
  },
  {
   "cell_type": "markdown",
   "metadata": {},
   "source": [
    "Generators with index $3$ applies a Hadamard on the second qubit and the $CNOT$ gate is the fifth generator. "
   ]
  },
  {
   "cell_type": "code",
   "execution_count": 24,
   "metadata": {},
   "outputs": [
    {
     "data": {
      "text/plain": [
       "GAP: [ [ 1, 0, 0, 0 ], [ 0, 1, 0, 0 ], [ 0, 0, 1, 0 ], [ 0, 0, 0, -1 ] ]"
      ]
     },
     "metadata": {},
     "output_type": "display_data"
    }
   ],
   "source": [
    "UCZ = Cl2.NormalizerGates.Gens[3]*Cl2.NormalizerGates.Gens[5]*g.Inverse(Cl2.NormalizerGates.Gens[3])"
   ]
  },
  {
   "cell_type": "markdown",
   "metadata": {},
   "source": [
    "Let us find the corresponding permutation"
   ]
  },
  {
   "cell_type": "code",
   "execution_count": 25,
   "metadata": {},
   "outputs": [
    {
     "data": {
      "text/plain": [
       "GAP: (5,6)(7,8)(9,11)(10,12)(13,17)(14,18)(15,19)(16,20)(21,25)(22,26)(23,27)(24,28)(29,31)(30,32)(33,35)(34,36)(37,39)(38,40)(41,42)(43,44)(45,46)(47,48)(49,50)(51,52)"
      ]
     },
     "metadata": {},
     "output_type": "display_data"
    }
   ],
   "source": [
    "CZ = Cl2.GateGroupHom(UCZ)"
   ]
  },
  {
   "cell_type": "code",
   "execution_count": 52,
   "metadata": {},
   "outputs": [
    {
     "data": {
      "text/plain": [
       "16-element Vector{Real}:\n",
       " 1\n",
       " 0\n",
       " 0\n",
       " 0\n",
       " 0\n",
       " 0\n",
       " 0\n",
       " 1\n",
       " 0\n",
       " 0\n",
       " 1\n",
       " 0\n",
       " 0\n",
       " 1\n",
       " 0\n",
       " 0"
      ]
     },
     "metadata": {},
     "output_type": "display_data"
    }
   ],
   "source": [
    "clifford_gate_action_on_point([3,5,3],Cl2,PlusPlus)"
   ]
  },
  {
   "cell_type": "code",
   "execution_count": null,
   "metadata": {},
   "outputs": [],
   "source": []
  }
 ],
 "metadata": {
  "kernelspec": {
   "display_name": "Julia 1.10.2",
   "language": "julia",
   "name": "julia-1.10"
  },
  "language_info": {
   "file_extension": ".jl",
   "mimetype": "application/julia",
   "name": "julia",
   "version": "1.10.2"
  }
 },
 "nbformat": 4,
 "nbformat_minor": 2
}
