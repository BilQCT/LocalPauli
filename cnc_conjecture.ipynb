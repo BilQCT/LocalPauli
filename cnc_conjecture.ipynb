{
 "cells": [
  {
   "cell_type": "code",
   "execution_count": 1,
   "metadata": {},
   "outputs": [
    {
     "name": "stderr",
     "output_type": "stream",
     "text": [
      "\u001b[32m\u001b[1m  Activating\u001b[22m\u001b[39m project at `~/Documents/GitHub/StabTheory/MyProject`\n"
     ]
    }
   ],
   "source": [
    "# initialize project:\n",
    "using Pkg;\n",
    "Pkg.activate(\"./MyProject\");\n",
    "\n",
    "# Find current path\n",
    "CURRENT = pwd();\n",
    "LIB_PATH = joinpath(CURRENT, \"libs\");\n",
    "\n",
    "# include auxiliary Julia scripts:\n",
    "for file in readdir(LIB_PATH)\n",
    "    # Check if the file ends with \".jl\" extension\n",
    "    if endswith(file, \".jl\")\n",
    "        include(joinpath(LIB_PATH, file))\n",
    "    end\n",
    "end\n",
    "\n",
    "using Polymake\n",
    "const pm = Polymake;\n",
    "const g = GAP.Globals;"
   ]
  },
  {
   "cell_type": "code",
   "execution_count": 2,
   "metadata": {},
   "outputs": [
    {
     "data": {
      "text/plain": [
       "216×64 Matrix{Int64}:\n",
       " 1   1  0   0   0   0  0   0   1   1  …   0  0  0   1   1  0  0  0  0  0  0\n",
       " 1  -1  0   0   0   0  0   0  -1   1      0  0  0   1  -1  0  0  0  0  0  0\n",
       " 1  -1  0   0   0   0  0   0   1  -1      0  0  0   1  -1  0  0  0  0  0  0\n",
       " 1   1  0   0   0   0  0   0  -1  -1      0  0  0   1   1  0  0  0  0  0  0\n",
       " 1  -1  0   0   0   0  0   0   1  -1      0  0  0  -1   1  0  0  0  0  0  0\n",
       " 1   1  0   0   0   0  0   0  -1  -1  …   0  0  0  -1  -1  0  0  0  0  0  0\n",
       " 1   1  0   0   0   0  0   0   1   1      0  0  0  -1  -1  0  0  0  0  0  0\n",
       " 1  -1  0   0   0   0  0   0  -1   1      0  0  0  -1   1  0  0  0  0  0  0\n",
       " 1   0  0   1   1   0  0   1   0   0      0  0  0   0   0  0  0  0  0  0  0\n",
       " 1   0  0  -1   1   0  0  -1   0   0      0  0  0   0   0  0  0  0  0  0  0\n",
       " ⋮                  ⋮                 ⋱         ⋮                ⋮        \n",
       " 1   0  0   1   0   0  0   0  -1   0      0  0  0   0   0  0  0  0  0  0  0\n",
       " 1   1  0   0   1   1  0   0   0   0      1  0  0   0   0  0  0  0  0  0  0\n",
       " 1  -1  0   0   1  -1  0   0   0   0      1  0  0   0   0  0  0  0  0  0  0\n",
       " 1  -1  0   0  -1   1  0   0   0   0  …   1  0  0   0   0  0  0  0  0  0  0\n",
       " 1   1  0   0  -1  -1  0   0   0   0      1  0  0   0   0  0  0  0  0  0  0\n",
       " 1  -1  0   0  -1   1  0   0   0   0     -1  0  0   0   0  0  0  0  0  0  0\n",
       " 1   1  0   0  -1  -1  0   0   0   0     -1  0  0   0   0  0  0  0  0  0  0\n",
       " 1   1  0   0   1   1  0   0   0   0     -1  0  0   0   0  0  0  0  0  0  0\n",
       " 1  -1  0   0   1  -1  0   0   0   0  …  -1  0  0   0   0  0  0  0  0  0  0"
      ]
     },
     "metadata": {},
     "output_type": "display_data"
    }
   ],
   "source": [
    "i3 = canonical_maximal_isotropic(3)\n",
    "symplectic_orbit = SympOrbit(3, SympPerm(3), Set(i3)).Orbit\n",
    "\n",
    "I3loc = local_isotropics(symplectic_orbit, 3)\n",
    "A3loc = stabilizer_coefficients(3, I3loc)"
   ]
  },
  {
   "cell_type": "code",
   "execution_count": 3,
   "metadata": {},
   "outputs": [
    {
     "data": {
      "text/plain": [
       "64×512 Matrix{Int64}:\n",
       "  1   1   1   1   1   1   1   1   1  …   1   1   1   1   1   1   1   1   1\n",
       "  1   1  -1  -1  -1   1  -1   1  -1      1  -1   1   1  -1   1   1  -1   1\n",
       "  1   1  -1   1  -1  -1   1   1   1     -1   1  -1   1   1  -1   1  -1   1\n",
       " -1   1  -1   1   1  -1   1   1   1      1   1   1   1  -1  -1   1  -1  -1\n",
       " -1  -1   1  -1   1  -1   1   1  -1      1   1   1  -1   1   1   1   1  -1\n",
       " -1  -1  -1   1  -1  -1  -1   1   1  …   1  -1   1  -1  -1   1   1  -1  -1\n",
       " -1  -1  -1  -1  -1   1   1   1  -1     -1   1  -1  -1   1  -1   1  -1  -1\n",
       "  1  -1  -1  -1   1   1   1   1  -1      1   1   1  -1  -1  -1   1  -1   1\n",
       "  1   1  -1   1  -1   1   1  -1   1      1  -1  -1   1   1   1   1  -1   1\n",
       "  1   1   1  -1   1   1  -1  -1  -1      1   1  -1   1  -1   1   1   1   1\n",
       "  ⋮                   ⋮              ⋱           ⋮                   ⋮  \n",
       " -1  -1  -1   1   1   1  -1  -1   1  …   1  -1   1   1   1   1  -1  -1   1\n",
       " -1   1  -1  -1  -1   1  -1   1  -1      1   1  -1  -1  -1  -1  -1  -1   1\n",
       " -1   1   1   1   1   1   1   1   1      1  -1  -1  -1   1  -1  -1   1   1\n",
       " -1   1   1  -1   1  -1  -1   1  -1     -1   1   1  -1  -1   1  -1   1   1\n",
       "  1   1   1  -1  -1  -1  -1   1  -1      1   1  -1  -1   1   1  -1   1  -1\n",
       " -1  -1   1   1   1   1  -1   1  -1  …   1  -1  -1   1   1  -1  -1  -1   1\n",
       " -1  -1  -1  -1  -1   1   1   1   1      1   1  -1   1  -1  -1  -1   1   1\n",
       " -1  -1  -1   1  -1  -1  -1   1  -1     -1  -1   1   1   1   1  -1   1   1\n",
       "  1  -1  -1   1   1  -1  -1   1  -1      1  -1  -1   1  -1   1  -1   1  -1"
      ]
     },
     "metadata": {},
     "output_type": "display_data"
    }
   ],
   "source": [
    "all_locals = Set{Vector{Int}}(\n",
    "    [\n",
    "        IIX, IIY, IIZ, IXI, IYI, IZI, XII, YII, ZII\n",
    "    ]\n",
    ")\n",
    "\n",
    "E3 = find_local_closure(all_locals)\n",
    "det_vertices = find_all_possible_local_value_assignments(E3)\n",
    "det_vertices_matrix = hcat([value_assignment_to_pauli_basis(v, 3) for v in det_vertices]...)"
   ]
  },
  {
   "cell_type": "code",
   "execution_count": 4,
   "metadata": {},
   "outputs": [
    {
     "data": {
      "text/plain": [
       "63"
      ]
     },
     "metadata": {},
     "output_type": "display_data"
    }
   ],
   "source": [
    "find_rank_count_for_given_given_value_assignment(first(det_vertices), 3, A3loc)"
   ]
  },
  {
   "cell_type": "code",
   "execution_count": 5,
   "metadata": {},
   "outputs": [
    {
     "data": {
      "text/plain": [
       "64-element Vector{Float64}:\n",
       "  1.0\n",
       "  1.0\n",
       "  1.0\n",
       " -1.0\n",
       " -1.0\n",
       " -1.0\n",
       " -1.0\n",
       "  1.0\n",
       "  1.0\n",
       "  1.0\n",
       "  ⋮\n",
       " -1.0\n",
       " -1.0\n",
       " -1.0\n",
       " -1.0\n",
       "  1.0\n",
       " -1.0\n",
       " -1.0\n",
       " -1.0\n",
       "  1.0"
      ]
     },
     "metadata": {},
     "output_type": "display_data"
    }
   ],
   "source": [
    "ex = Vector{Float64}(value_assignment_to_pauli_basis(first(det_vertices), 3))"
   ]
  },
  {
   "cell_type": "code",
   "execution_count": 100,
   "metadata": {},
   "outputs": [
    {
     "name": "stdout",
     "output_type": "stream",
     "text": [
      "finished\n"
     ]
    }
   ],
   "source": [
    "all_cncs = generate_all_cncs(3, [0,3])\n",
    "failed_extended_cncs = Set{MaximalCnc}()\n",
    "vertex_count = 0\n",
    "e3_decomp_count = 0\n",
    "extension_not_possible_count = 0\n",
    "no_vertices_found_count = 0\n",
    "extended_vertices_count = 0\n",
    "for cnc in all_cncs\n",
    "    rank = find_rank_count_for_given_given_value_assignment(cnc.value_assignment, 3, A3loc)\n",
    "    if rank != 63\n",
    "        val_asg = cnc.value_assignment\n",
    "        cnc_pauli = Vector{Float64}(value_assignment_to_pauli_basis(val_asg, 3))\n",
    "        solver = Initializer(3, cnc_pauli, det_vertices_matrix)\n",
    "\n",
    "        if !solver.Feasible\n",
    "            fillable_w3s = get_fillable_weight_3s(find_full_set_for_given_cnc_set(cnc.cnc_set))\n",
    "            \n",
    "            num_indep = length(fillable_w3s)\n",
    "\n",
    "            if num_indep == 0\n",
    "                extension_not_possible_count += 1\n",
    "                push!(failed_extended_cncs, cnc)\n",
    "                continue\n",
    "            end\n",
    "\n",
    "            value_assignments = Vector{Dict{Vector{Int},Int}}()\n",
    "            loop_count = 0\n",
    "            inverse_vertex_pair_found = false\n",
    "            while length(value_assignments) < 4 && loop_count < 2^10\n",
    "                value_array = rand(0:1, num_indep)\n",
    "\n",
    "                value_assignment = copy(val_asg)\n",
    "                inv_value_assignment = copy(val_asg)\n",
    "\n",
    "                for (p, v) in zip(fillable_w3s, value_array)\n",
    "                    value_assignment[p] = (-1)^v\n",
    "                    inv_value_assignment[p] = (-1)^(v + 1)\n",
    "                end\n",
    "                rank = find_rank_count_for_given_given_value_assignment(value_assignment, 3, A3loc)\n",
    "                inv_rank = find_rank_count_for_given_given_value_assignment(inv_value_assignment, 3, A3loc)\n",
    "\n",
    "                if rank == 63 && inv_rank == 63\n",
    "                    inverse_vertex_pair_found = true\n",
    "                    break\n",
    "                elseif rank == 63\n",
    "                    push!(value_assignments, value_assignment)\n",
    "                elseif inv_rank == 63                \n",
    "                    push!(value_assignments, inv_value_assignment)\n",
    "                end\n",
    "\n",
    "                loop_count += 1\n",
    "            end\n",
    "\n",
    "            if inverse_vertex_pair_found\n",
    "                extended_vertices_count += 1\n",
    "                count += 1\n",
    "                continue\n",
    "            end\n",
    "\n",
    "            if length(value_assignments) == 0\n",
    "                no_vertices_found_count += 1\n",
    "                push!(failed_extended_cncs, cnc)\n",
    "                continue\n",
    "            end\n",
    "            extended_vertices = hcat([value_assignment_to_pauli_basis(v, 3) for v in value_assignments]...)\n",
    "            solver2 = Initializer(3, cnc_pauli, extended_vertices)\n",
    "            if solver2.Feasible\n",
    "                extended_vertices_count += 1\n",
    "            else\n",
    "                push!(failed_extended_cncs, cnc)\n",
    "            end\n",
    "        else\n",
    "            e3_decomp_count += 1\n",
    "        end \n",
    "    else\n",
    "        vertex_count += 1  \n",
    "    end\n",
    "end\n",
    "\n",
    "println(\"finished\")"
   ]
  },
  {
   "cell_type": "code",
   "execution_count": 101,
   "metadata": {},
   "outputs": [
    {
     "data": {
      "text/plain": [
       "(0, 9864, 28080, 0, 0)"
      ]
     },
     "metadata": {},
     "output_type": "display_data"
    }
   ],
   "source": [
    "vertex_count, e3_decomp_count, extended_vertices_count, no_vertices_found_count, length(failed_extended_cncs)"
   ]
  },
  {
   "cell_type": "code",
   "execution_count": null,
   "metadata": {},
   "outputs": [],
   "source": []
  }
 ],
 "metadata": {
  "kernelspec": {
   "display_name": "Julia 1.9.3",
   "language": "julia",
   "name": "julia-1.9"
  },
  "language_info": {
   "file_extension": ".jl",
   "mimetype": "application/julia",
   "name": "julia",
   "version": "1.9.3"
  }
 },
 "nbformat": 4,
 "nbformat_minor": 2
}
