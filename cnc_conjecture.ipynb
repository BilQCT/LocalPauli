{
 "cells": [
  {
   "cell_type": "code",
   "execution_count": 32,
   "metadata": {},
   "outputs": [
    {
     "name": "stderr",
     "output_type": "stream",
     "text": [
      "\u001b[32m\u001b[1m  Activating\u001b[22m\u001b[39m project at `~/Documents/GitHub/StabTheory/MyProject`\n"
     ]
    }
   ],
   "source": [
    "# initialize project:\n",
    "using Pkg;\n",
    "Pkg.activate(\"./MyProject\");\n",
    "\n",
    "# Find current path\n",
    "CURRENT = pwd();\n",
    "LIB_PATH = joinpath(CURRENT, \"libs\");\n",
    "\n",
    "# include auxiliary Julia scripts:\n",
    "for file in readdir(LIB_PATH)\n",
    "    # Check if the file ends with \".jl\" extension\n",
    "    if endswith(file, \".jl\")\n",
    "        include(joinpath(LIB_PATH, file))\n",
    "    end\n",
    "end\n",
    "\n",
    "using Polymake\n",
    "const pm = Polymake;\n",
    "const g = GAP.Globals;"
   ]
  },
  {
   "cell_type": "code",
   "execution_count": 34,
   "metadata": {},
   "outputs": [
    {
     "data": {
      "text/plain": [
       "216×64 Matrix{Int64}:\n",
       " 1   1  0   0   0   0  0   0   1   1  …   0  0  0   1   1  0  0  0  0  0  0\n",
       " 1  -1  0   0   0   0  0   0  -1   1      0  0  0   1  -1  0  0  0  0  0  0\n",
       " 1  -1  0   0   0   0  0   0   1  -1      0  0  0   1  -1  0  0  0  0  0  0\n",
       " 1   1  0   0   0   0  0   0  -1  -1      0  0  0   1   1  0  0  0  0  0  0\n",
       " 1  -1  0   0   0   0  0   0   1  -1      0  0  0  -1   1  0  0  0  0  0  0\n",
       " 1   1  0   0   0   0  0   0  -1  -1  …   0  0  0  -1  -1  0  0  0  0  0  0\n",
       " 1   1  0   0   0   0  0   0   1   1      0  0  0  -1  -1  0  0  0  0  0  0\n",
       " 1  -1  0   0   0   0  0   0  -1   1      0  0  0  -1   1  0  0  0  0  0  0\n",
       " 1   0  0   1   1   0  0   1   0   0      0  0  0   0   0  0  0  0  0  0  0\n",
       " 1   0  0  -1   1   0  0  -1   0   0      0  0  0   0   0  0  0  0  0  0  0\n",
       " ⋮                  ⋮                 ⋱         ⋮                ⋮        \n",
       " 1   0  0   1   0   0  0   0  -1   0      0  0  0   0   0  0  0  0  0  0  0\n",
       " 1   1  0   0   1   1  0   0   0   0      1  0  0   0   0  0  0  0  0  0  0\n",
       " 1  -1  0   0   1  -1  0   0   0   0      1  0  0   0   0  0  0  0  0  0  0\n",
       " 1  -1  0   0  -1   1  0   0   0   0  …   1  0  0   0   0  0  0  0  0  0  0\n",
       " 1   1  0   0  -1  -1  0   0   0   0      1  0  0   0   0  0  0  0  0  0  0\n",
       " 1  -1  0   0  -1   1  0   0   0   0     -1  0  0   0   0  0  0  0  0  0  0\n",
       " 1   1  0   0  -1  -1  0   0   0   0     -1  0  0   0   0  0  0  0  0  0  0\n",
       " 1   1  0   0   1   1  0   0   0   0     -1  0  0   0   0  0  0  0  0  0  0\n",
       " 1  -1  0   0   1  -1  0   0   0   0  …  -1  0  0   0   0  0  0  0  0  0  0"
      ]
     },
     "metadata": {},
     "output_type": "display_data"
    }
   ],
   "source": [
    "i3 = canonical_maximal_isotropic(3)\n",
    "symplectic_orbit = SympOrbit(3, SympPerm(3), Set(i3)).Orbit\n",
    "\n",
    "I3loc = local_isotropics(symplectic_orbit, 3)\n",
    "A3loc = stabilizer_coefficients(3, I3loc)"
   ]
  },
  {
   "cell_type": "code",
   "execution_count": 39,
   "metadata": {},
   "outputs": [
    {
     "data": {
      "text/plain": [
       "64×512 Matrix{Int64}:\n",
       "  1   1   1   1   1   1   1   1   1  …   1   1   1   1   1   1   1   1   1\n",
       "  1   1  -1  -1  -1   1  -1   1  -1      1  -1   1   1  -1   1   1  -1   1\n",
       "  1   1  -1   1  -1  -1   1   1   1     -1   1  -1   1   1  -1   1  -1   1\n",
       " -1   1  -1   1   1  -1   1   1   1      1   1   1   1  -1  -1   1  -1  -1\n",
       " -1  -1   1  -1   1  -1   1   1  -1      1   1   1  -1   1   1   1   1  -1\n",
       " -1  -1  -1   1  -1  -1  -1   1   1  …   1  -1   1  -1  -1   1   1  -1  -1\n",
       " -1  -1  -1  -1  -1   1   1   1  -1     -1   1  -1  -1   1  -1   1  -1  -1\n",
       "  1  -1  -1  -1   1   1   1   1  -1      1   1   1  -1  -1  -1   1  -1   1\n",
       "  1   1  -1   1  -1   1   1  -1   1      1  -1  -1   1   1   1   1  -1   1\n",
       "  1   1   1  -1   1   1  -1  -1  -1      1   1  -1   1  -1   1   1   1   1\n",
       "  ⋮                   ⋮              ⋱           ⋮                   ⋮  \n",
       " -1  -1  -1   1   1   1  -1  -1   1  …   1  -1   1   1   1   1  -1  -1   1\n",
       " -1   1  -1  -1  -1   1  -1   1  -1      1   1  -1  -1  -1  -1  -1  -1   1\n",
       " -1   1   1   1   1   1   1   1   1      1  -1  -1  -1   1  -1  -1   1   1\n",
       " -1   1   1  -1   1  -1  -1   1  -1     -1   1   1  -1  -1   1  -1   1   1\n",
       "  1   1   1  -1  -1  -1  -1   1  -1      1   1  -1  -1   1   1  -1   1  -1\n",
       " -1  -1   1   1   1   1  -1   1  -1  …   1  -1  -1   1   1  -1  -1  -1   1\n",
       " -1  -1  -1  -1  -1   1   1   1   1      1   1  -1   1  -1  -1  -1   1   1\n",
       " -1  -1  -1   1  -1  -1  -1   1  -1     -1  -1   1   1   1   1  -1   1   1\n",
       "  1  -1  -1   1   1  -1  -1   1  -1      1  -1  -1   1  -1   1  -1   1  -1"
      ]
     },
     "metadata": {},
     "output_type": "display_data"
    }
   ],
   "source": [
    "all_locals = Set{Vector{Int}}(\n",
    "    [\n",
    "        IIX, IIY, IIZ, IXI, IYI, IZI, XII, YII, ZII\n",
    "    ]\n",
    ")\n",
    "\n",
    "E3 = find_local_closure(all_locals)\n",
    "det_vertices = find_all_possible_local_value_assignments(E3)\n",
    "det_vertices_matrix = hcat([value_assignment_to_pauli_basis(v, 3) for v in det_vertices]...)"
   ]
  },
  {
   "cell_type": "code",
   "execution_count": 35,
   "metadata": {},
   "outputs": [
    {
     "data": {
      "text/plain": [
       "63"
      ]
     },
     "metadata": {},
     "output_type": "display_data"
    }
   ],
   "source": [
    "find_rank_count_for_given_given_value_assignment(first(det_vertices), 3, A3loc)"
   ]
  },
  {
   "cell_type": "code",
   "execution_count": 21,
   "metadata": {},
   "outputs": [
    {
     "data": {
      "text/plain": [
       "64-element Vector{Float64}:\n",
       "  1.0\n",
       "  1.0\n",
       "  1.0\n",
       " -1.0\n",
       " -1.0\n",
       " -1.0\n",
       " -1.0\n",
       "  1.0\n",
       "  1.0\n",
       "  1.0\n",
       "  ⋮\n",
       " -1.0\n",
       " -1.0\n",
       " -1.0\n",
       " -1.0\n",
       "  1.0\n",
       " -1.0\n",
       " -1.0\n",
       " -1.0\n",
       "  1.0"
      ]
     },
     "metadata": {},
     "output_type": "display_data"
    }
   ],
   "source": [
    "ex = Vector{Float64}(value_assignment_to_pauli_basis(first(det_vertices), 3))"
   ]
  },
  {
   "cell_type": "code",
   "execution_count": 42,
   "metadata": {},
   "outputs": [
    {
     "name": "stdout",
     "output_type": "stream",
     "text": [
      "true\n",
      "Convex\n",
      "false\n",
      "Affine\n",
      "false\n",
      "Affine\n",
      "true\n",
      "Convex\n",
      "true\n",
      "Convex\n"
     ]
    }
   ],
   "source": [
    "all_cncs = generate_all_cncs(3, [0])\n",
    "count = 0\n",
    "for cnc in all_cncs\n",
    "    if count == 5\n",
    "        break\n",
    "    end\n",
    "    rank = find_rank_count_for_given_given_value_assignment(cnc.value_assignment, 3, A3loc)\n",
    "    if rank != 63\n",
    "        cnc_pauli = Vector{Float64}(value_assignment_to_pauli_basis(cnc.value_assignment, 3))\n",
    "        solver = Initializer(3, cnc_pauli, det_vertices_matrix);\n",
    "        println(solver.Feasible)\n",
    "        println(solver.Mixture)\n",
    "    end\n",
    "    count += 1 \n",
    "end"
   ]
  },
  {
   "cell_type": "code",
   "execution_count": null,
   "metadata": {},
   "outputs": [],
   "source": []
  }
 ],
 "metadata": {
  "kernelspec": {
   "display_name": "Julia 1.9.3",
   "language": "julia",
   "name": "julia-1.9"
  },
  "language_info": {
   "file_extension": ".jl",
   "mimetype": "application/julia",
   "name": "julia",
   "version": "1.9.3"
  }
 },
 "nbformat": 4,
 "nbformat_minor": 2
}
