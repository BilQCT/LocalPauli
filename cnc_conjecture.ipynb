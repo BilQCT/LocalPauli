{
 "cells": [
  {
   "cell_type": "code",
   "execution_count": 34,
   "metadata": {},
   "outputs": [
    {
     "name": "stderr",
     "output_type": "stream",
     "text": [
      "\u001b[32m\u001b[1m  Activating\u001b[22m\u001b[39m project at `~/Documents/GitHub/StabTheory/MyProject`\n"
     ]
    }
   ],
   "source": [
    "# initialize project:\n",
    "using Pkg;\n",
    "Pkg.activate(\"./MyProject\");\n",
    "\n",
    "# Find current path\n",
    "CURRENT = pwd();\n",
    "LIB_PATH = joinpath(CURRENT, \"libs\");\n",
    "\n",
    "# include auxiliary Julia scripts:\n",
    "for file in readdir(LIB_PATH)\n",
    "    # Check if the file ends with \".jl\" extension\n",
    "    if endswith(file, \".jl\")\n",
    "        include(joinpath(LIB_PATH, file))\n",
    "    end\n",
    "end\n",
    "\n",
    "using Polymake\n",
    "const pm = Polymake;\n",
    "const g = GAP.Globals;"
   ]
  },
  {
   "cell_type": "code",
   "execution_count": 2,
   "metadata": {},
   "outputs": [
    {
     "data": {
      "text/plain": [
       "216×64 Matrix{Int64}:\n",
       " 1   1  0   0   0   0  0   0   1   1  …   0  0  0   1   1  0  0  0  0  0  0\n",
       " 1  -1  0   0   0   0  0   0  -1   1      0  0  0   1  -1  0  0  0  0  0  0\n",
       " 1  -1  0   0   0   0  0   0   1  -1      0  0  0   1  -1  0  0  0  0  0  0\n",
       " 1   1  0   0   0   0  0   0  -1  -1      0  0  0   1   1  0  0  0  0  0  0\n",
       " 1  -1  0   0   0   0  0   0   1  -1      0  0  0  -1   1  0  0  0  0  0  0\n",
       " 1   1  0   0   0   0  0   0  -1  -1  …   0  0  0  -1  -1  0  0  0  0  0  0\n",
       " 1   1  0   0   0   0  0   0   1   1      0  0  0  -1  -1  0  0  0  0  0  0\n",
       " 1  -1  0   0   0   0  0   0  -1   1      0  0  0  -1   1  0  0  0  0  0  0\n",
       " 1   0  0   1   1   0  0   1   0   0      0  0  0   0   0  0  0  0  0  0  0\n",
       " 1   0  0  -1   1   0  0  -1   0   0      0  0  0   0   0  0  0  0  0  0  0\n",
       " ⋮                  ⋮                 ⋱         ⋮                ⋮        \n",
       " 1   0  0   1   0   0  0   0  -1   0      0  0  0   0   0  0  0  0  0  0  0\n",
       " 1   1  0   0   1   1  0   0   0   0      1  0  0   0   0  0  0  0  0  0  0\n",
       " 1  -1  0   0   1  -1  0   0   0   0      1  0  0   0   0  0  0  0  0  0  0\n",
       " 1  -1  0   0  -1   1  0   0   0   0  …   1  0  0   0   0  0  0  0  0  0  0\n",
       " 1   1  0   0  -1  -1  0   0   0   0      1  0  0   0   0  0  0  0  0  0  0\n",
       " 1  -1  0   0  -1   1  0   0   0   0     -1  0  0   0   0  0  0  0  0  0  0\n",
       " 1   1  0   0  -1  -1  0   0   0   0     -1  0  0   0   0  0  0  0  0  0  0\n",
       " 1   1  0   0   1   1  0   0   0   0     -1  0  0   0   0  0  0  0  0  0  0\n",
       " 1  -1  0   0   1  -1  0   0   0   0  …  -1  0  0   0   0  0  0  0  0  0  0"
      ]
     },
     "metadata": {},
     "output_type": "display_data"
    }
   ],
   "source": [
    "i3 = canonical_maximal_isotropic(3)\n",
    "symplectic_orbit = SympOrbit(3, SympPerm(3), Set(i3)).Orbit\n",
    "\n",
    "I3loc = local_isotropics(symplectic_orbit, 3)\n",
    "A3loc = stabilizer_coefficients(3, I3loc)"
   ]
  },
  {
   "cell_type": "code",
   "execution_count": 3,
   "metadata": {},
   "outputs": [
    {
     "data": {
      "text/plain": [
       "64×512 Matrix{Int64}:\n",
       "  1   1   1   1   1   1   1   1   1  …   1   1   1   1   1   1   1   1   1\n",
       "  1   1  -1  -1  -1   1  -1   1  -1      1  -1   1   1  -1   1   1  -1   1\n",
       "  1   1  -1   1  -1  -1   1   1   1     -1   1  -1   1   1  -1   1  -1   1\n",
       " -1   1  -1   1   1  -1   1   1   1      1   1   1   1  -1  -1   1  -1  -1\n",
       " -1  -1   1  -1   1  -1   1   1  -1      1   1   1  -1   1   1   1   1  -1\n",
       " -1  -1  -1   1  -1  -1  -1   1   1  …   1  -1   1  -1  -1   1   1  -1  -1\n",
       " -1  -1  -1  -1  -1   1   1   1  -1     -1   1  -1  -1   1  -1   1  -1  -1\n",
       "  1  -1  -1  -1   1   1   1   1  -1      1   1   1  -1  -1  -1   1  -1   1\n",
       "  1   1  -1   1  -1   1   1  -1   1      1  -1  -1   1   1   1   1  -1   1\n",
       "  1   1   1  -1   1   1  -1  -1  -1      1   1  -1   1  -1   1   1   1   1\n",
       "  ⋮                   ⋮              ⋱           ⋮                   ⋮  \n",
       " -1  -1  -1   1   1   1  -1  -1   1  …   1  -1   1   1   1   1  -1  -1   1\n",
       " -1   1  -1  -1  -1   1  -1   1  -1      1   1  -1  -1  -1  -1  -1  -1   1\n",
       " -1   1   1   1   1   1   1   1   1      1  -1  -1  -1   1  -1  -1   1   1\n",
       " -1   1   1  -1   1  -1  -1   1  -1     -1   1   1  -1  -1   1  -1   1   1\n",
       "  1   1   1  -1  -1  -1  -1   1  -1      1   1  -1  -1   1   1  -1   1  -1\n",
       " -1  -1   1   1   1   1  -1   1  -1  …   1  -1  -1   1   1  -1  -1  -1   1\n",
       " -1  -1  -1  -1  -1   1   1   1   1      1   1  -1   1  -1  -1  -1   1   1\n",
       " -1  -1  -1   1  -1  -1  -1   1  -1     -1  -1   1   1   1   1  -1   1   1\n",
       "  1  -1  -1   1   1  -1  -1   1  -1      1  -1  -1   1  -1   1  -1   1  -1"
      ]
     },
     "metadata": {},
     "output_type": "display_data"
    }
   ],
   "source": [
    "all_locals = Set{Vector{Int}}(\n",
    "    [\n",
    "        IIX, IIY, IIZ, IXI, IYI, IZI, XII, YII, ZII\n",
    "    ]\n",
    ")\n",
    "\n",
    "E3 = find_local_closure(all_locals)\n",
    "det_vertices = find_all_possible_local_value_assignments(E3)\n",
    "det_vertices_matrix = hcat([value_assignment_to_pauli_basis(v, 3) for v in det_vertices]...)"
   ]
  },
  {
   "cell_type": "code",
   "execution_count": 4,
   "metadata": {},
   "outputs": [
    {
     "data": {
      "text/plain": [
       "63"
      ]
     },
     "metadata": {},
     "output_type": "display_data"
    }
   ],
   "source": [
    "find_rank_count_for_given_given_value_assignment(first(det_vertices), 3, A3loc)"
   ]
  },
  {
   "cell_type": "code",
   "execution_count": 5,
   "metadata": {},
   "outputs": [
    {
     "data": {
      "text/plain": [
       "64-element Vector{Float64}:\n",
       "  1.0\n",
       "  1.0\n",
       "  1.0\n",
       " -1.0\n",
       " -1.0\n",
       " -1.0\n",
       " -1.0\n",
       "  1.0\n",
       "  1.0\n",
       "  1.0\n",
       "  ⋮\n",
       " -1.0\n",
       " -1.0\n",
       " -1.0\n",
       " -1.0\n",
       "  1.0\n",
       " -1.0\n",
       " -1.0\n",
       " -1.0\n",
       "  1.0"
      ]
     },
     "metadata": {},
     "output_type": "display_data"
    }
   ],
   "source": [
    "ex = Vector{Float64}(value_assignment_to_pauli_basis(first(det_vertices), 3))"
   ]
  },
  {
   "cell_type": "code",
   "execution_count": 6,
   "metadata": {},
   "outputs": [
    {
     "data": {
      "text/plain": [
       "Set{MaximalCnc} with 37944 elements:\n",
       "  CNC:…\n",
       "  CNC:…\n",
       "  CNC:…\n",
       "  CNC:…\n",
       "  CNC:…\n",
       "  CNC:…\n",
       "  CNC:…\n",
       "  CNC:…\n",
       "  CNC:…\n",
       "  CNC:…\n",
       "  CNC:…\n",
       "  CNC:…\n",
       "  CNC:…\n",
       "  CNC:…\n",
       "  CNC:…\n",
       "  CNC:…\n",
       "  CNC:…\n",
       "  CNC:…\n",
       "  CNC:…\n",
       "  ⋮ "
      ]
     },
     "metadata": {},
     "output_type": "display_data"
    }
   ],
   "source": [
    "decomposable_cncs = generate_all_cncs(3, [0, 3])"
   ]
  },
  {
   "cell_type": "code",
   "execution_count": 7,
   "metadata": {},
   "outputs": [
    {
     "name": "stdout",
     "output_type": "stream",
     "text": [
      "finished\n"
     ]
    }
   ],
   "source": [
    "all_cncs = generate_all_cncs(3, [1,2])\n",
    "failed_extended_cncs = Set{MaximalCnc}()\n",
    "vertex_count = 0\n",
    "e3_decomp_count = 0\n",
    "extension_not_possible_count = 0\n",
    "no_vertices_found_count = 0\n",
    "extended_vertices_count = 0\n",
    "for cnc in all_cncs\n",
    "    rank = find_rank_count_for_given_given_value_assignment(cnc.value_assignment, 3, A3loc)\n",
    "    if rank != 63\n",
    "        val_asg = cnc.value_assignment\n",
    "        cnc_pauli = Vector{Float64}(value_assignment_to_pauli_basis(val_asg, 3))\n",
    "        solver = Initializer(3, cnc_pauli, det_vertices_matrix)\n",
    "\n",
    "        if !solver.Feasible\n",
    "            fillable_w3s = get_fillable_weight_3s(find_full_set_for_given_cnc_set(cnc.cnc_set))\n",
    "            \n",
    "            num_indep = length(fillable_w3s)\n",
    "\n",
    "            if num_indep == 0\n",
    "                extension_not_possible_count += 1\n",
    "                push!(failed_extended_cncs, cnc)\n",
    "                continue\n",
    "            end\n",
    "\n",
    "            value_assignments = Vector{Dict{Vector{Int},Int}}()\n",
    "            loop_count = 0\n",
    "            inverse_vertex_pair_found = false\n",
    "            while length(value_assignments) < 4 && loop_count < 2^10\n",
    "                value_array = rand(0:1, num_indep)\n",
    "\n",
    "                value_assignment = copy(val_asg)\n",
    "                inv_value_assignment = copy(val_asg)\n",
    "\n",
    "                for (p, v) in zip(fillable_w3s, value_array)\n",
    "                    value_assignment[p] = (-1)^v\n",
    "                    inv_value_assignment[p] = (-1)^(v + 1)\n",
    "                end\n",
    "                rank = find_rank_count_for_given_given_value_assignment(value_assignment, 3, A3loc)\n",
    "                inv_rank = find_rank_count_for_given_given_value_assignment(inv_value_assignment, 3, A3loc)\n",
    "\n",
    "                if rank == 63 && inv_rank == 63\n",
    "                    inverse_vertex_pair_found = true\n",
    "                    push!(decomposable_cncs, cnc)\n",
    "                    break\n",
    "                elseif rank == 63\n",
    "                    push!(value_assignments, value_assignment)\n",
    "                elseif inv_rank == 63              \n",
    "                    push!(value_assignments, inv_value_assignment)\n",
    "                end\n",
    "\n",
    "                loop_count += 1\n",
    "            end\n",
    "\n",
    "            if inverse_vertex_pair_found\n",
    "                extended_vertices_count += 1\n",
    "                count += 1\n",
    "                continue\n",
    "            end\n",
    "\n",
    "            if length(value_assignments) == 0\n",
    "                no_vertices_found_count += 1\n",
    "                push!(failed_extended_cncs, cnc)\n",
    "                continue\n",
    "            end\n",
    "            extended_vertices = hcat([value_assignment_to_pauli_basis(v, 3) for v in value_assignments]...)\n",
    "            solver2 = Initializer(3, cnc_pauli, extended_vertices)\n",
    "            if solver2.Feasible\n",
    "                push!(decomposable_cncs, cnc)\n",
    "                extended_vertices_count += 1\n",
    "            else\n",
    "                push!(failed_extended_cncs, cnc)\n",
    "            end\n",
    "        else\n",
    "            push!(decomposable_cncs, cnc)\n",
    "            e3_decomp_count += 1\n",
    "        end \n",
    "    else\n",
    "        push!(decomposable_cncs, cnc)\n",
    "        vertex_count += 1  \n",
    "    end\n",
    "end\n",
    "\n",
    "println(\"finished\")"
   ]
  },
  {
   "cell_type": "code",
   "execution_count": 8,
   "metadata": {},
   "outputs": [
    {
     "data": {
      "text/plain": [
       "(16416, 4896, 0, 0, 12960)"
      ]
     },
     "metadata": {},
     "output_type": "display_data"
    }
   ],
   "source": [
    "vertex_count, e3_decomp_count, extended_vertices_count, no_vertices_found_count, length(failed_extended_cncs)"
   ]
  },
  {
   "cell_type": "code",
   "execution_count": 9,
   "metadata": {},
   "outputs": [
    {
     "data": {
      "text/plain": [
       "59256"
      ]
     },
     "metadata": {},
     "output_type": "display_data"
    }
   ],
   "source": [
    "length(generate_all_cncs(3, [0,3])) + 16416 + 4896"
   ]
  },
  {
   "cell_type": "code",
   "execution_count": 10,
   "metadata": {},
   "outputs": [
    {
     "data": {
      "text/plain": [
       "72216"
      ]
     },
     "metadata": {},
     "output_type": "display_data"
    }
   ],
   "source": [
    "length(generate_all_cncs(3))"
   ]
  },
  {
   "cell_type": "code",
   "execution_count": 11,
   "metadata": {},
   "outputs": [
    {
     "data": {
      "text/plain": [
       "64×59256 Matrix{Int64}:\n",
       "  1  1   1   1   1  1   1  1   1   1  …   1   1   1   1  1  1   1  1   1   1\n",
       "  0  0   0   0   0  0   0  0  -1   0     -1   0   0   0  1  0   0  1   0   0\n",
       "  0  0   0   0   0  0   0  0   1   0      0   1   0   0  1  1   0  1   0   0\n",
       "  0  0   0   0  -1  1   0  1   0   0      0  -1   0   0  0  0   0  0   0   0\n",
       "  0  0   0   0   0  0   0  1   0   0      0   0   1   0  0  0   0  0   0   0\n",
       "  0  0   0   1   0  0   0  0   0   0  …   0   0   0   0  0  0   0  0   0   0\n",
       " -1  0   0   1   1  0   0  0   0   0      0   0   0   0  0  0   0  0   0   0\n",
       "  0  0   0  -1   0  0   0  1   0   0      0   0   0   1  0  0   0  0   0   0\n",
       " -1  0   0   0   0  0   0  0   1   0      0   0   0   0  0  0   0  0   0   0\n",
       "  0  0   1   0   0  0   0  0  -1  -1      0   0   0   0  0  0   0  0   0   0\n",
       "  ⋮                 ⋮                 ⋱                  ⋮                 ⋮\n",
       "  0  0  -1   0   0  0   0  0   0  -1  …   0   0   0   0  0  0   0  0   0   0\n",
       "  0  0   0  -1   0  0  -1  1   0   0      0   0   0   0  0  0   0  0  -1   0\n",
       "  0  0   0   0   0  0   0  0   0   0      0   0   0   0  0  1  -1  0   0   0\n",
       "  0  0   0   0   0  0   0  0   0   0     -1   0  -1   0  0  0   0  0   0   0\n",
       "  0  0   0   0   0  0   0  1   1   0      0   0   0   1  0  0   0  0   0   0\n",
       "  0  0   0   0   0  0   0  0   0   0  …   0   0   0   0  0  0   1  0   0  -1\n",
       "  0  0   0   0   0  0   0  0   0   0      0   0   0   0  0  0   0  0  -1   0\n",
       " -1  0   1   0   0  0  -1  0   0  -1      0   0   0   0  0  0   0  0   0   0\n",
       "  0  0   0   0   0  0   0  0   0   0      0   0   0  -1  0  0   0  1   0   0"
      ]
     },
     "metadata": {},
     "output_type": "display_data"
    }
   ],
   "source": [
    "decomposable_cnc_matrix =hcat([value_assignment_to_pauli_basis(cnc.value_assignment, 3) for cnc in decomposable_cncs]...)"
   ]
  },
  {
   "cell_type": "code",
   "execution_count": 19,
   "metadata": {},
   "outputs": [],
   "source": [
    "using JLD\n",
    "\n",
    "save(\"decomposable_cnc_matrix.jld\", \"decomposable_cnc_matrix\", decomposable_cnc_matrix)"
   ]
  },
  {
   "cell_type": "code",
   "execution_count": 12,
   "metadata": {},
   "outputs": [],
   "source": [
    "using JLD\n",
    "\n",
    "save(\"failed_extended_cncs.jld\", \"failed_extended_cncs\", failed_extended_cncs)"
   ]
  },
  {
   "cell_type": "code",
   "execution_count": 4,
   "metadata": {},
   "outputs": [
    {
     "data": {
      "text/plain": [
       "64×59256 Matrix{Int64}:\n",
       "  1   1   1   1   1  1   1  1   1   1  …   1   1   1  1   1   1  1  1   1  1\n",
       "  0   0   0   0   0  0   0  0   0   1      0   1   0  0   0   0  0  0   0  0\n",
       "  1   0   0   0   1  0   0  0   0   0      0   0   0  0   0   1  0  0   0  0\n",
       " -1   1   0   0   0  0   0  0   0   0     -1   0   0  0   1   0  0  0   0  0\n",
       "  0   0   0   0  -1  0   0  0   0   0     -1   0   0  0   0   0  0  0   0  0\n",
       " -1  -1   0   0   0  0   0  0   0   0  …   0   0   0  0   0   0  0  0   0  0\n",
       "  0   0   0   0  -1  0   1  0   0  -1      0   0   1  0   0   0  0  0   0  0\n",
       "  0   0   0   0   0  0  -1  0   0   0      1  -1   0  0   0   1  0  0   0  0\n",
       "  0   0   0   0   0  0   1  0  -1   0     -1   0   0  0   0   0  0  0   0  0\n",
       " -1   1   0   0   0  0   0  1   0   0      0   0   0  0  -1   0  0  0   0  0\n",
       "  ⋮                  ⋮                 ⋱                  ⋮                ⋮\n",
       "  0   0   1   0   0  0   0  0  -1   0  …   0   0   0  0   0   0  0  0   0  0\n",
       "  0   0   1   0   0  0   0  0   0   0      0   0   0  0   0   0  0  0   0  0\n",
       "  0   0   0  -1   0  0   0  0   0   0      0   0   0  0   0   0  0  0  -1  0\n",
       "  0   0   0   0   0  0   0  0   0   0      0   0   1  0   0   0  0  0   0  0\n",
       "  0   0   0   0   0  0   0  0   0   0      0   0   0  0   0  -1  0  0   1  0\n",
       "  0   0   0   0   0  0   0  0   0   0  …   0   0   0  0   0   0  0  0   0  0\n",
       "  0  -1   0   0   0  0   0  0   0   0      0   0   0  0   0   0  0  0   0  0\n",
       "  0   0   0   0   0  0   0  0   0   1      0   0  -1  0   0   0  0  0   0  0\n",
       "  0   0  -1   0   0  0   0  0   0   0      0   0   0  0   0  -1  0  0   0  0"
      ]
     },
     "metadata": {},
     "output_type": "display_data"
    }
   ],
   "source": [
    "using JLD\n",
    "\n",
    "decomposable_cnc_matrix = load(\"decomposable_cnc_matrix.jld\", \"decomposable_cnc_matrix\")"
   ]
  },
  {
   "cell_type": "code",
   "execution_count": null,
   "metadata": {},
   "outputs": [],
   "source": [
    "using JLD\n",
    "\n",
    "failed_extended_cncs = load(\"failed_extended_cncs.jld\", \"failed_extended_cncs\")"
   ]
  },
  {
   "cell_type": "code",
   "execution_count": 18,
   "metadata": {},
   "outputs": [
    {
     "data": {
      "text/plain": [
       "Dict{Vector{Int64}, Int64} with 12 entries:\n",
       "  [0, 0, 0, 0, 1, 1] => -1\n",
       "  [1, 1, 0, 0, 0, 0] => 1\n",
       "  [1, 0, 1, 1, 0, 0] => -1\n",
       "  [0, 1, 0, 1, 0, 0] => 1\n",
       "  [0, 1, 1, 0, 0, 0] => 1\n",
       "  [0, 1, 1, 0, 1, 1] => 1\n",
       "  [1, 0, 1, 0, 0, 0] => 1\n",
       "  [0, 1, 0, 0, 1, 1] => 1\n",
       "  [0, 0, 1, 1, 0, 0] => 1\n",
       "  [1, 1, 0, 1, 0, 0] => -1\n",
       "  [0, 0, 1, 0, 1, 1] => 1\n",
       "  [0, 0, 0, 0, 0, 0] => 1"
      ]
     },
     "metadata": {},
     "output_type": "display_data"
    }
   ],
   "source": [
    "ex_failed_val_asg = first(failed_extended_cncs).value_assignment"
   ]
  },
  {
   "cell_type": "code",
   "execution_count": 53,
   "metadata": {},
   "outputs": [],
   "source": [
    "again_failed_cncs = Set{MaximalCnc}()\n",
    "for failed_cnc in failed_extended_cncs\n",
    "    minus_extension = Dict{Vector{Int},Int}()\n",
    "    plus_extension = Dict{Vector{Int},Int}()\n",
    "    found_decomp = false\n",
    "    for i in 0:2^6-1\n",
    "        bit_str = bitstring(i)[end-5:end]\n",
    "        new_pauli = [parse(Int, c) for c in bit_str]\n",
    "        if !haskey(ex_failed_val_asg, new_pauli)\n",
    "            plus_extension = find_local_extension(ex_failed_val_asg, new_pauli, 1)\n",
    "            if plus_extension == false\n",
    "                continue\n",
    "            end\n",
    "            minus_extension = find_local_extension(ex_failed_val_asg, new_pauli, -1)\n",
    "            if minus_extension == false\n",
    "                continue\n",
    "            end\n",
    "            println(plus_extension)\n",
    "            println(minus_extension)\n",
    "            minus_rank = find_rank_count_for_given_given_value_assignment(plus_extension, 3, A3loc)\n",
    "            plus_rank = find_rank_count_for_given_given_value_assignment(minus_extension, 3, A3loc)\n",
    "            if minus_rank == 63 && plus_rank == 63\n",
    "                found_decomp = true\n",
    "                break\n",
    "            end\n",
    "        end\n",
    "    end\n",
    "    if !found_decomp\n",
    "        push!(again_failed_cncs, failed_cnc)\n",
    "    end\n",
    "end\n"
   ]
  },
  {
   "cell_type": "code",
   "execution_count": null,
   "metadata": {},
   "outputs": [],
   "source": []
  },
  {
   "cell_type": "code",
   "execution_count": 5,
   "metadata": {},
   "outputs": [
    {
     "data": {
      "text/plain": [
       "64-element Vector{Float64}:\n",
       " 1.0\n",
       " 1.0\n",
       " 0.0\n",
       " 0.0\n",
       " 1.0\n",
       " 1.0\n",
       " 0.0\n",
       " 0.0\n",
       " 0.0\n",
       " 0.0\n",
       " ⋮\n",
       " 0.0\n",
       " 0.0\n",
       " 0.0\n",
       " 0.0\n",
       " 0.0\n",
       " 0.0\n",
       " 0.0\n",
       " 0.0\n",
       " 0.0"
      ]
     },
     "metadata": {},
     "output_type": "display_data"
    }
   ],
   "source": [
    "T = [1,1/sqrt(2),0,1/sqrt(2)]\n",
    "P = Vector{Float64}([1,1,0,0])\n",
    "TPP = kron(kron(T,P),P)"
   ]
  },
  {
   "cell_type": "code",
   "execution_count": 23,
   "metadata": {},
   "outputs": [
    {
     "data": {
      "text/plain": [
       "64-element Vector{Float64}:\n",
       "  1.0\n",
       "  0.0\n",
       "  0.0\n",
       "  0.0\n",
       "  0.0\n",
       "  0.0\n",
       " -0.0\n",
       "  0.7071067811865475\n",
       "  0.0\n",
       " -0.0\n",
       "  ⋮\n",
       "  1.0\n",
       "  0.0\n",
       " -0.0\n",
       "  1.0\n",
       "  0.0\n",
       "  0.0\n",
       "  0.7071067811865475\n",
       "  0.0\n",
       "  0.0"
      ]
     },
     "metadata": {},
     "output_type": "display_data"
    }
   ],
   "source": [
    "ps3 = PauliString(3)\n",
    "tpp_after_cz_12 = Vector{Float64}([0 for _ in 1:64])\n",
    "\n",
    "# first CZ\n",
    "for i in 1:64\n",
    "    index_pauli = ps3.int_to_bit[i]\n",
    "    pauli_after_cz, sign = CZ_action(index_pauli, [1, 2])\n",
    "    new_index = ps3.bit_to_int[pauli_after_cz]\n",
    "    tpp_after_cz_12[new_index] = TPP[i] * sign\n",
    "end\n",
    "\n",
    "initial_state = Vector{Float64}([0 for _ in 1:64])\n",
    "# second CZ\n",
    "for i in 1:64\n",
    "    index_pauli = ps3.int_to_bit[i]\n",
    "    pauli_after_cz, sign = CZ_action(index_pauli, [2, 3])\n",
    "    new_index = ps3.bit_to_int[pauli_after_cz]\n",
    "    initial_state[new_index] = tpp_after_cz_12[i] * sign\n",
    "end\n",
    "\n",
    "initial_state"
   ]
  },
  {
   "cell_type": "code",
   "execution_count": 28,
   "metadata": {},
   "outputs": [
    {
     "name": "stdout",
     "output_type": "stream",
     "text": [
      "Initial State: \n",
      "\n",
      "ZYY : 1.0\n",
      "III : 1.0\n",
      "ZZX : 0.7071067811865475\n",
      "YYZ : 0.7071067811865475\n",
      "IXZ : 0.7071067811865475\n",
      "ZII : 0.7071067811865475\n",
      "XZI : 0.7071067811865475\n",
      "ZXZ : 1.0\n",
      "IZX : 1.0\n",
      "XIX : 0.7071067811865475\n",
      "YXY : -0.7071067811865475\n",
      "IYY : 0.7071067811865475\n"
     ]
    }
   ],
   "source": [
    "initial_state_pauli_basis = Dict{String, Float64}()\n",
    "for i in 1:64\n",
    "    if initial_state[i] != 0\n",
    "        initial_state_pauli_basis[get_pauli_string(ps3.int_to_bit[i])] = initial_state[i]\n",
    "    end\n",
    "end\n",
    "\n",
    "println(\"Initial State: \\n\")\n",
    "for (k, v) in initial_state_pauli_basis\n",
    "    println(k, \" : \", v)\n",
    "end"
   ]
  },
  {
   "cell_type": "code",
   "execution_count": 29,
   "metadata": {},
   "outputs": [
    {
     "ename": "MethodError",
     "evalue": "MethodError: Cannot `convert` an object of type Vector{Int64} to an object of type String\n\nClosest candidates are:\n  convert(::Type{T}, !Matched::StringEncodings.Encodings.Encoding{enc}) where {T<:AbstractString, enc}\n   @ StringEncodings ~/.julia/packages/StringEncodings/unzPp/src/encodings.jl:17\n  convert(::Type{String}, !Matched::String)\n   @ Base essentials.jl:298\n  convert(::Type{T}, !Matched::T) where T<:AbstractString\n   @ Base strings/basic.jl:231\n  ...\n",
     "output_type": "error",
     "traceback": [
      "MethodError: Cannot `convert` an object of type Vector{Int64} to an object of type String\n",
      "\n",
      "Closest candidates are:\n",
      "  convert(::Type{T}, !Matched::StringEncodings.Encodings.Encoding{enc}) where {T<:AbstractString, enc}\n",
      "   @ StringEncodings ~/.julia/packages/StringEncodings/unzPp/src/encodings.jl:17\n",
      "  convert(::Type{String}, !Matched::String)\n",
      "   @ Base essentials.jl:298\n",
      "  convert(::Type{T}, !Matched::T) where T<:AbstractString\n",
      "   @ Base strings/basic.jl:231\n",
      "  ...\n",
      "\n",
      "\n",
      "Stacktrace:\n",
      " [1] setindex!(h::Dict{String, Int64}, v0::Int64, key0::Vector{Int64})\n",
      "   @ Base ./dict.jl:361\n",
      " [2] Dict{String, Int64}(p::Pair{Vector{Int64}, Int64})\n",
      "   @ Base ./dict.jl:88\n",
      " [3] top-level scope\n",
      "   @ ~/Documents/GitHub/StabTheory/cnc_conjecture.ipynb:1"
     ]
    }
   ],
   "source": [
    "A_1 = Dict{String, Int}(\n",
    "    YXY => -1,\n",
    ")\n"
   ]
  },
  {
   "cell_type": "code",
   "execution_count": 7,
   "metadata": {},
   "outputs": [],
   "source": [
    "tpp_solver = Initializer(3, initial_state, decomposable_cnc_matrix);"
   ]
  },
  {
   "cell_type": "code",
   "execution_count": 8,
   "metadata": {},
   "outputs": [
    {
     "data": {
      "text/plain": [
       "true"
      ]
     },
     "metadata": {},
     "output_type": "display_data"
    }
   ],
   "source": [
    "tpp_solver.Feasible"
   ]
  },
  {
   "cell_type": "code",
   "execution_count": 9,
   "metadata": {},
   "outputs": [
    {
     "data": {
      "text/plain": [
       "\"Convex\""
      ]
     },
     "metadata": {},
     "output_type": "display_data"
    }
   ],
   "source": [
    "tpp_solver.Mixture"
   ]
  },
  {
   "cell_type": "code",
   "execution_count": 10,
   "metadata": {},
   "outputs": [
    {
     "data": {
      "text/plain": [
       "12"
      ]
     },
     "metadata": {},
     "output_type": "display_data"
    }
   ],
   "source": [
    "length(tpp_solver.Supports)"
   ]
  },
  {
   "cell_type": "code",
   "execution_count": 11,
   "metadata": {},
   "outputs": [],
   "source": [
    "decomposition = Dict{Vector{Int}, Float64}()\n",
    "dist = tpp_solver.InitDist\n",
    "vertex_found = 0\n",
    "bell_poltope_decomposition_found = 0\n",
    "for cnc in tpp_solver.Supports\n",
    "    val_asg = cnc.value_assignment\n",
    "    cnc_pauli = Vector{Int}(value_assignment_to_pauli_basis(val_asg, 3))\n",
    "    rank = find_rank_count_for_given_given_value_assignment(val_asg, 3, A3loc)\n",
    "\n",
    "    if rank == 63\n",
    "        if !haskey(decomposition, cnc_pauli)\n",
    "            decomposition[cnc_pauli] = dist[cnc]\n",
    "        else\n",
    "            decomposition[cnc_pauli] += dist[cnc]\n",
    "        end\n",
    "        vertex_found += 1\n",
    "    else\n",
    "        cnc_pauli = Vector{Float64}(value_assignment_to_pauli_basis(val_asg, 3))\n",
    "        bell_solver = Initializer(3, cnc_pauli, det_vertices_matrix)\n",
    "        \n",
    "        if bell_solver.Feasible\n",
    "            for det_vertex in bell_solver.Supports\n",
    "                det_vertex_val_asg = det_vertex.value_assignment\n",
    "                det_vertex_pauli = Vector{Int}(value_assignment_to_pauli_basis(det_vertex_val_asg, 3))\n",
    "                prob = bell_solver.InitDist[det_vertex] * dist[cnc] \n",
    "                if !haskey(decomposition, det_vertex_pauli)\n",
    "                    decomposition[det_vertex_pauli] = prob\n",
    "                else\n",
    "                    decomposition[det_vertex_pauli] += prob\n",
    "                end\n",
    "            end\n",
    "            bell_poltope_decomposition_found += 1\n",
    "        end\n",
    "    end\n",
    "end"
   ]
  },
  {
   "cell_type": "code",
   "execution_count": 12,
   "metadata": {},
   "outputs": [
    {
     "data": {
      "text/plain": [
       "(12, 0)"
      ]
     },
     "metadata": {},
     "output_type": "display_data"
    }
   ],
   "source": [
    "vertex_found, bell_poltope_decomposition_found"
   ]
  },
  {
   "cell_type": "code",
   "execution_count": 16,
   "metadata": {},
   "outputs": [
    {
     "name": "stdout",
     "output_type": "stream",
     "text": [
      "[1, 0, 0, 1, 0, 0, 0, 0, 0, -1, 0, 0, 0, 1, 0, 0, 0, 0, 1, 0, 0, -1, 0, 0, 0, 0, 0, 0, 0, 0, 0, 0, 0, 0, 1, 0, 0, 1, 0, 0, 0, 0, 0, 0, 0, 0, 0, 0, 0, 0, 0, 0, 1, 0, 0, 1, 0, 0, 1, 0, 0, 0, 1, 0] : 0.020920944200960898\n",
      "[1, 0, 0, -1, 0, 0, 0, 0, 0, -1, 0, 0, 0, 1, 0, 0, 0, 0, -1, 0, 0, -1, 0, 0, 0, 0, 0, 0, 0, 0, 0, 0, 0, 0, 1, 0, 0, -1, 0, 0, 0, 0, 0, 0, 0, 0, 0, 0, 0, 0, 0, 0, -1, 0, 0, 1, 0, 0, 1, 0, 0, 0, 1, 0] : 0.020920944200960898\n",
      "[1, 0, 0, 0, 1, 0, 0, 0, 0, 1, 0, 0, 0, 1, 0, 0, 0, 1, 0, 0, 0, 1, 0, 0, 1, 0, 0, 0, 1, 0, 0, 0, 0, 0, -1, 0, 0, 0, -1, 0, 0, 0, 0, 1, 0, 0, 0, -1, 0, 0, 0, 1, 0, 0, 0, 1, 0, 0, 1, 0, 0, 0, -1, 0] : 0.020920944200960898\n",
      "[1, 0, 0, 1, 0, 0, 0, 0, 0, 0, 0, 0, 0, 1, 1, 0, 0, -1, -1, 0, 0, 0, 0, 0, 0, 0, 0, 0, -1, 0, 0, -1, 0, 0, 0, 0, 0, -1, 1, 0, -1, 0, 0, -1, 0, 0, 0, 0, 0, 0, 0, 0, 1, 0, 0, 1, 0, -1, 1, 0, 0, 0, 0, 0] : 0.041841888401921795\n",
      "[1, 0, 0, 0, 1, 0, 0, 0, 0, 0, 0, 0, 0, 1, 1, 0, 0, 0, 0, 0, 0, 0, 0, 0, 1, 0, 0, 0, 0, 0, 0, -1, 0, 0, 0, 0, 0, 0, 0, 0, -1, 0, 0, 0, 0, 0, 0, -1, 0, 0, 0, 1, 0, 0, 0, 1, 0, -1, 1, 0, 0, 0, 0, 0] : 0.02092094420096089\n",
      "[1, 0, 0, -1, 0, 0, 0, 0, 0, 1, 0, 0, 0, 1, 0, 0, 0, 0, -1, 0, 0, -1, 0, 0, 0, 0, 0, 0, 0, 0, 0, 0, 0, 0, 1, 0, 0, -1, 0, 0, 0, 0, 0, 0, 0, 0, 0, 0, 0, 0, 0, 0, -1, 0, 0, 1, 0, 0, 1, 0, 0, 0, -1, 0] : 0.020920944200960898\n",
      "[1, 0, 0, -1, 0, 0, 0, 0, 0, 0, 0, 0, 0, 1, -1, 0, 0, -1, 1, 0, 0, 0, 0, 0, 0, 0, 0, 0, -1, 0, 0, 1, 0, 0, 0, 0, 0, 1, 1, 0, 1, 0, 0, -1, 0, 0, 0, 0, 0, 0, 0, 0, -1, 0, 0, 1, 0, 1, 1, 0, 0, 0, 0, 0] : 0.020920944200960898\n",
      "[1, 0, 0, 0, -1, 0, 0, 0, 0, 0, 0, 0, 0, 1, -1, 0, 0, 0, 0, 0, 0, 0, 0, 0, -1, 0, 0, 0, 0, 0, 0, -1, 0, 0, 0, 0, 0, 0, 0, 0, -1, 0, 0, 0, 0, 0, 0, 1, 0, 0, 0, -1, 0, 0, 0, 1, 0, 1, 1, 0, 0, 0, 0, 0] : 0.020920944200960898\n",
      "[1, 0, 0, 0, 0, 0, 0, 1, 0, 0, 1, 0, 0, 1, 0, 0, 0, 1, 0, 0, 0, 0, -1, 0, 0, 0, 0, 1, 1, 0, 0, 0, 0, -1, 0, 0, 0, 0, -1, 0, 0, 0, 0, 1, -1, 0, 0, 0, 1, 0, 0, 0, 0, 0, 0, 1, 0, 0, 1, 0, 0, 1, 0, 0] : 0.37447433479423464\n",
      "[1, 0, 0, 0, -1, 0, 0, 0, 0, 0, 0, 0, 0, 1, -1, 0, 0, 0, 0, 0, 0, 0, 0, 0, 1, 0, 0, 0, 0, 0, 0, 1, 0, 0, 0, 0, 0, 0, 0, 0, 1, 0, 0, 0, 0, 0, 0, -1, 0, 0, 0, -1, 0, 0, 0, 1, 0, 1, 1, 0, 0, 0, 0, 0] : 0.020920944200960894\n",
      "[1, 0, 0, 0, 0, 0, 0, -1, 0, 0, -1, 0, 0, 1, 0, 0, 0, 0, 1, 0, 0, 1, 0, 0, -1, 0, 0, 0, 0, 0, 0, 1, 0, 0, -1, 0, 0, 1, 0, 0, 1, 0, 0, 0, 0, 0, 0, 1, -1, 0, 0, 0, 0, 0, 0, 1, 0, 0, 1, 0, 0, -1, 0, 0] : 0.041841888401921795\n",
      "[1, 0, 0, 0, 0, 0, 0, 1, 0, 0, 1, 0, 0, 1, 0, 0, 0, 1, 0, 0, 0, 0, 1, 0, 0, 0, 0, -1, 1, 0, 0, 0, 0, 1, 0, 0, 0, 0, -1, 0, 0, 0, 0, 1, 1, 0, 0, 0, 1, 0, 0, 0, 0, 0, 0, 1, 0, 0, 1, 0, 0, 1, 0, 0] : 0.37447433479423464\n"
     ]
    }
   ],
   "source": [
    "for (k, v) in decomposition\n",
    "    println(k, \" : \", v)\n",
    "end"
   ]
  },
  {
   "cell_type": "code",
   "execution_count": 21,
   "metadata": {},
   "outputs": [
    {
     "name": "stdout",
     "output_type": "stream",
     "text": [
      "\n",
      "CNC count 1 with probability 0.020920944200960898: \n",
      "\n",
      "ZYY : 1\n",
      "IIZ : 1\n",
      "ZXI : 1\n",
      "III : 1\n",
      "XXX : -1\n",
      "ZXZ : 1\n",
      "ZZY : 1\n",
      "IYX : -1\n",
      "IZX : 1\n",
      "XIY : 1\n",
      "YIY : 1\n",
      "YXX : 1\n",
      "\n",
      "CNC count 2 with probability 0.020920944200960898: \n",
      "\n",
      "ZYY : 1\n",
      "IIZ : -1\n",
      "ZXI : -1\n",
      "III : 1\n",
      "XXX : -1\n",
      "ZXZ : 1\n",
      "ZZY : 1\n",
      "IYX : -1\n",
      "IZX : 1\n",
      "XIY : -1\n",
      "YIY : 1\n",
      "YXX : -1\n",
      "\n",
      "CNC count 3 with probability 0.020920944200960898: \n",
      "\n",
      "XYI : 1\n",
      "YZZ : -1\n",
      "ZYY : 1\n",
      "III : 1\n",
      "XXX : 1\n",
      "YYZ : 1\n",
      "XZI : 1\n",
      "IXI : 1\n",
      "ZXZ : 1\n",
      "ZZY : -1\n",
      "IYX : 1\n",
      "ZIZ : 1\n",
      "YIY : -1\n",
      "IZX : 1\n",
      "XIX : 1\n",
      "YXY : -1\n",
      "\n",
      "CNC count 4 with probability 0.041841888401921795: \n",
      "\n",
      "ZYY : 1\n",
      "IIZ : 1\n",
      "XZZ : -1\n",
      "III : 1\n",
      "IZY : 1\n",
      "ZXI : 1\n",
      "YYZ : -1\n",
      "YYI : -1\n",
      "XZI : -1\n",
      "ZXZ : 1\n",
      "ZYX : -1\n",
      "IZX : 1\n",
      "XIX : -1\n",
      "XIY : -1\n",
      "YXY : 1\n",
      "YXX : -1\n",
      "\n",
      "CNC count 5 with probability 0.02092094420096089: \n",
      "\n",
      "XYI : 1\n",
      "YZZ : -1\n",
      "ZYY : 1\n",
      "XZZ : -1\n",
      "III : 1\n",
      "IZY : 1\n",
      "YYI : -1\n",
      "IXI : 1\n",
      "ZXZ : 1\n",
      "ZYX : -1\n",
      "ZIZ : 1\n",
      "IZX : 1\n",
      "\n",
      "CNC count 6 with probability 0.020920944200960898: \n",
      "\n",
      "ZYY : 1\n",
      "IIZ : -1\n",
      "ZXI : -1\n",
      "III : 1\n",
      "XXX : -1\n",
      "ZXZ : 1\n",
      "ZZY : -1\n",
      "IYX : 1\n",
      "IZX : 1\n",
      "XIY : -1\n",
      "YIY : 1\n",
      "YXX : -1\n",
      "\n",
      "CNC count 7 with probability 0.020920944200960898: \n",
      "\n",
      "ZYY : 1\n",
      "IIZ : -1\n",
      "XZZ : 1\n",
      "III : 1\n",
      "IZY : -1\n",
      "ZXI : -1\n",
      "YYZ : -1\n",
      "YYI : 1\n",
      "XZI : -1\n",
      "ZXZ : 1\n",
      "ZYX : 1\n",
      "IZX : 1\n",
      "XIX : -1\n",
      "XIY : 1\n",
      "YXY : 1\n",
      "YXX : 1\n",
      "\n",
      "CNC count 8 with probability 0.020920944200960898: \n",
      "\n",
      "XYI : -1\n",
      "YZZ : 1\n",
      "ZYY : 1\n",
      "XZZ : -1\n",
      "III : 1\n",
      "IZY : -1\n",
      "YYI : -1\n",
      "IXI : -1\n",
      "ZXZ : 1\n",
      "ZYX : 1\n",
      "ZIZ : -1\n",
      "IZX : 1\n",
      "\n",
      "CNC count 9 with probability 0.37447433479423464: \n",
      "\n",
      "ZYY : 1\n",
      "III : 1\n",
      "ZZX : 1\n",
      "YYZ : 1\n",
      "IXZ : 1\n",
      "ZII : 1\n",
      "XZI : 1\n",
      "ZXZ : 1\n",
      "XXY : -1\n",
      "YIX : -1\n",
      "IZX : 1\n",
      "XIX : 1\n",
      "XYZ : 1\n",
      "YXY : -1\n",
      "YZI : -1\n",
      "IYY : 1\n",
      "\n",
      "CNC count 10 with probability 0.020920944200960894: \n",
      "\n",
      "XYI : 1\n",
      "YZZ : -1\n",
      "ZYY : 1\n",
      "XZZ : 1\n",
      "III : 1\n",
      "IZY : -1\n",
      "YYI : 1\n",
      "IXI : -1\n",
      "ZXZ : 1\n",
      "ZYX : 1\n",
      "ZIZ : -1\n",
      "IZX : 1\n",
      "\n",
      "CNC count 11 with probability 0.041841888401921795: \n",
      "\n",
      "XYI : -1\n",
      "YZZ : 1\n",
      "ZYY : 1\n",
      "XZZ : 1\n",
      "III : 1\n",
      "ZZX : -1\n",
      "XXX : 1\n",
      "IXZ : -1\n",
      "YYI : 1\n",
      "ZII : -1\n",
      "ZXZ : 1\n",
      "YIY : -1\n",
      "IZX : 1\n",
      "XIY : 1\n",
      "IYY : -1\n",
      "YXX : 1\n",
      "\n",
      "CNC count 12 with probability 0.37447433479423464: \n",
      "\n",
      "ZYY : 1\n",
      "III : 1\n",
      "ZZX : 1\n",
      "YYZ : 1\n",
      "IXZ : 1\n",
      "ZII : 1\n",
      "XZI : 1\n",
      "ZXZ : 1\n",
      "XXY : 1\n",
      "YIX : 1\n",
      "IZX : 1\n",
      "XIX : 1\n",
      "XYZ : -1\n",
      "YXY : -1\n",
      "YZI : 1\n",
      "IYY : 1\n"
     ]
    }
   ],
   "source": [
    "cnc_count = 1\n",
    "for (k, v) in decomposition\n",
    "    value_assignment = Dict{String, Int}()\n",
    "    for i in 1:64\n",
    "        if k[i] != 0\n",
    "            value_assignment[get_pauli_string(ps3.int_to_bit[i])] = k[i]\n",
    "        end\n",
    "    end\n",
    "    println(\"\\nCNC count $cnc_count with probability $v: \\n\")\n",
    "    for (k, v) in value_assignment\n",
    "        println(k, \" : \", v)\n",
    "    end\n",
    "    cnc_count += 1\n",
    "end"
   ]
  },
  {
   "cell_type": "code",
   "execution_count": 13,
   "metadata": {},
   "outputs": [],
   "source": [
    "decomposition_result = Vector{Float64}([0 for _ in 1:64])\n",
    "for (k, v) in decomposition\n",
    "    if v < -1e-10\n",
    "        println(\"negative value found\")\n",
    "    end\n",
    "    decomposition_result += v * k\n",
    "end"
   ]
  },
  {
   "cell_type": "code",
   "execution_count": 61,
   "metadata": {},
   "outputs": [],
   "source": [
    "for i in 1:64\n",
    "    if (decomposition_result[i] - initial_state[i] > 1e-10)\n",
    "        println(\"Wrong decomposition\")\n",
    "    end\n",
    "end"
   ]
  },
  {
   "cell_type": "code",
   "execution_count": 7,
   "metadata": {},
   "outputs": [
    {
     "data": {
      "text/plain": [
       "Maximal CNC set:\n",
       "- Isotropic generators:\n",
       "  [\"ZYY\", \"ZXZ\"]\n",
       "- Anticommuting Paulis:\n",
       "  [\"YXY\", \"XYZ\", \"ZZX\"]\n"
      ]
     },
     "metadata": {},
     "output_type": "display_data"
    }
   ],
   "source": [
    "isotropic_gens = Set{Vector{Int}}(\n",
    "    [\n",
    "        ZYY, ZXZ\n",
    "    ]\n",
    ")\n",
    "anticommuting_paulis = Set{Vector{Int}}(\n",
    "    [\n",
    "        XYZ, YXY, ZZX\n",
    "    ]\n",
    ")\n",
    "cnc = MaximalCncSet(isotropic_gens, anticommuting_paulis)"
   ]
  },
  {
   "cell_type": "code",
   "execution_count": 8,
   "metadata": {},
   "outputs": [
    {
     "name": "stdout",
     "output_type": "stream",
     "text": [
      "ZYY\n",
      "XYZ\n",
      "ZXZ\n",
      "YIX\n",
      "IYY\n",
      "YZI\n",
      "XIX\n",
      "IXZ\n",
      "YXY\n",
      "ZZX\n",
      "XZI\n",
      "ZII\n",
      "YYZ\n",
      "XXY\n",
      "IZX\n",
      "III\n"
     ]
    }
   ],
   "source": [
    "for pauli in find_full_set_for_given_cnc_set(cnc)\n",
    "    println(get_pauli_string(pauli))\n",
    "end"
   ]
  },
  {
   "cell_type": "code",
   "execution_count": 17,
   "metadata": {},
   "outputs": [
    {
     "data": {
      "text/plain": [
       "4-element Vector{Int64}:\n",
       " 0\n",
       " 1\n",
       " 1\n",
       " 0"
      ]
     },
     "metadata": {},
     "output_type": "display_data"
    }
   ],
   "source": [
    "ZI = [0, 0, 1, 0]\n",
    "XZ = [1, 0, 0, 1]\n",
    "XY = [1, 1, 0, 1]\n",
    "ZX = [0, 1, 1, 0]"
   ]
  },
  {
   "cell_type": "code",
   "execution_count": 20,
   "metadata": {},
   "outputs": [
    {
     "data": {
      "text/plain": [
       "1"
      ]
     },
     "metadata": {},
     "output_type": "display_data"
    }
   ],
   "source": [
    "beta(XY, ZX)"
   ]
  },
  {
   "cell_type": "code",
   "execution_count": null,
   "metadata": {},
   "outputs": [],
   "source": []
  }
 ],
 "metadata": {
  "kernelspec": {
   "display_name": "Julia 1.9.3",
   "language": "julia",
   "name": "julia-1.9"
  },
  "language_info": {
   "file_extension": ".jl",
   "mimetype": "application/julia",
   "name": "julia",
   "version": "1.9.3"
  }
 },
 "nbformat": 4,
 "nbformat_minor": 2
}
