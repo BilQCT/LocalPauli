{
 "cells": [
  {
   "cell_type": "code",
   "execution_count": 1,
   "metadata": {},
   "outputs": [
    {
     "name": "stderr",
     "output_type": "stream",
     "text": [
      "\u001b[32m\u001b[1m  Activating\u001b[22m\u001b[39m project at `~/Documents/GitHub/StabTheory/MyProject`\n"
     ]
    }
   ],
   "source": [
    "# initialize project:\n",
    "using Pkg;\n",
    "Pkg.activate(\"./MyProject\");\n",
    "\n",
    "# Find current path\n",
    "CURRENT = pwd();\n",
    "LIB_PATH = joinpath(CURRENT, \"libs\");\n",
    "\n",
    "# include auxiliary Julia scripts:\n",
    "for file in readdir(LIB_PATH)\n",
    "    # Check if the file ends with \".jl\" extension\n",
    "    if endswith(file, \".jl\")\n",
    "        include(joinpath(LIB_PATH, file))\n",
    "    end\n",
    "end\n",
    "\n",
    "using Polymake\n",
    "const pm = Polymake;\n",
    "const g = GAP.Globals;"
   ]
  },
  {
   "cell_type": "code",
   "execution_count": 2,
   "metadata": {},
   "outputs": [
    {
     "data": {
      "text/plain": [
       "216×64 Matrix{Int64}:\n",
       " 1   1  0   0   0   0  0   0   1   1  …   0  0  0   1   1  0  0  0  0  0  0\n",
       " 1  -1  0   0   0   0  0   0  -1   1      0  0  0   1  -1  0  0  0  0  0  0\n",
       " 1  -1  0   0   0   0  0   0   1  -1      0  0  0   1  -1  0  0  0  0  0  0\n",
       " 1   1  0   0   0   0  0   0  -1  -1      0  0  0   1   1  0  0  0  0  0  0\n",
       " 1  -1  0   0   0   0  0   0   1  -1      0  0  0  -1   1  0  0  0  0  0  0\n",
       " 1   1  0   0   0   0  0   0  -1  -1  …   0  0  0  -1  -1  0  0  0  0  0  0\n",
       " 1   1  0   0   0   0  0   0   1   1      0  0  0  -1  -1  0  0  0  0  0  0\n",
       " 1  -1  0   0   0   0  0   0  -1   1      0  0  0  -1   1  0  0  0  0  0  0\n",
       " 1   0  0   1   1   0  0   1   0   0      0  0  0   0   0  0  0  0  0  0  0\n",
       " 1   0  0  -1   1   0  0  -1   0   0      0  0  0   0   0  0  0  0  0  0  0\n",
       " ⋮                  ⋮                 ⋱         ⋮                ⋮        \n",
       " 1   0  0   1   0   0  0   0  -1   0      0  0  0   0   0  0  0  0  0  0  0\n",
       " 1   1  0   0   1   1  0   0   0   0      1  0  0   0   0  0  0  0  0  0  0\n",
       " 1  -1  0   0   1  -1  0   0   0   0      1  0  0   0   0  0  0  0  0  0  0\n",
       " 1  -1  0   0  -1   1  0   0   0   0  …   1  0  0   0   0  0  0  0  0  0  0\n",
       " 1   1  0   0  -1  -1  0   0   0   0      1  0  0   0   0  0  0  0  0  0  0\n",
       " 1  -1  0   0  -1   1  0   0   0   0     -1  0  0   0   0  0  0  0  0  0  0\n",
       " 1   1  0   0  -1  -1  0   0   0   0     -1  0  0   0   0  0  0  0  0  0  0\n",
       " 1   1  0   0   1   1  0   0   0   0     -1  0  0   0   0  0  0  0  0  0  0\n",
       " 1  -1  0   0   1  -1  0   0   0   0  …  -1  0  0   0   0  0  0  0  0  0  0"
      ]
     },
     "metadata": {},
     "output_type": "display_data"
    }
   ],
   "source": [
    "i3 = canonical_maximal_isotropic(3)\n",
    "symplectic_orbit = SympOrbit(3, SympPerm(3), Set(i3)).Orbit\n",
    "\n",
    "I3loc = local_isotropics(symplectic_orbit, 3)\n",
    "A3loc = stabilizer_coefficients(3, I3loc)"
   ]
  },
  {
   "cell_type": "code",
   "execution_count": 3,
   "metadata": {},
   "outputs": [
    {
     "data": {
      "text/plain": [
       "64×512 Matrix{Int64}:\n",
       "  1   1   1   1   1   1   1   1   1  …   1   1   1   1   1   1   1   1   1\n",
       "  1   1  -1  -1  -1   1  -1   1  -1      1  -1   1   1  -1   1   1  -1   1\n",
       "  1   1  -1   1  -1  -1   1   1   1     -1   1  -1   1   1  -1   1  -1   1\n",
       " -1   1  -1   1   1  -1   1   1   1      1   1   1   1  -1  -1   1  -1  -1\n",
       " -1  -1   1  -1   1  -1   1   1  -1      1   1   1  -1   1   1   1   1  -1\n",
       " -1  -1  -1   1  -1  -1  -1   1   1  …   1  -1   1  -1  -1   1   1  -1  -1\n",
       " -1  -1  -1  -1  -1   1   1   1  -1     -1   1  -1  -1   1  -1   1  -1  -1\n",
       "  1  -1  -1  -1   1   1   1   1  -1      1   1   1  -1  -1  -1   1  -1   1\n",
       "  1   1  -1   1  -1   1   1  -1   1      1  -1  -1   1   1   1   1  -1   1\n",
       "  1   1   1  -1   1   1  -1  -1  -1      1   1  -1   1  -1   1   1   1   1\n",
       "  ⋮                   ⋮              ⋱           ⋮                   ⋮  \n",
       " -1  -1  -1   1   1   1  -1  -1   1  …   1  -1   1   1   1   1  -1  -1   1\n",
       " -1   1  -1  -1  -1   1  -1   1  -1      1   1  -1  -1  -1  -1  -1  -1   1\n",
       " -1   1   1   1   1   1   1   1   1      1  -1  -1  -1   1  -1  -1   1   1\n",
       " -1   1   1  -1   1  -1  -1   1  -1     -1   1   1  -1  -1   1  -1   1   1\n",
       "  1   1   1  -1  -1  -1  -1   1  -1      1   1  -1  -1   1   1  -1   1  -1\n",
       " -1  -1   1   1   1   1  -1   1  -1  …   1  -1  -1   1   1  -1  -1  -1   1\n",
       " -1  -1  -1  -1  -1   1   1   1   1      1   1  -1   1  -1  -1  -1   1   1\n",
       " -1  -1  -1   1  -1  -1  -1   1  -1     -1  -1   1   1   1   1  -1   1   1\n",
       "  1  -1  -1   1   1  -1  -1   1  -1      1  -1  -1   1  -1   1  -1   1  -1"
      ]
     },
     "metadata": {},
     "output_type": "display_data"
    }
   ],
   "source": [
    "all_locals = Set{Vector{Int}}(\n",
    "    [\n",
    "        IIX, IIY, IIZ, IXI, IYI, IZI, XII, YII, ZII\n",
    "    ]\n",
    ")\n",
    "\n",
    "E3 = find_local_closure(all_locals)\n",
    "det_vertices = find_all_possible_local_value_assignments(E3)\n",
    "det_vertices_matrix = hcat([value_assignment_to_pauli_basis(v, 3) for v in det_vertices]...)"
   ]
  },
  {
   "cell_type": "code",
   "execution_count": 4,
   "metadata": {},
   "outputs": [
    {
     "data": {
      "text/plain": [
       "63"
      ]
     },
     "metadata": {},
     "output_type": "display_data"
    }
   ],
   "source": [
    "find_rank_count_for_given_given_value_assignment(first(det_vertices), 3, A3loc)"
   ]
  },
  {
   "cell_type": "code",
   "execution_count": 5,
   "metadata": {},
   "outputs": [
    {
     "data": {
      "text/plain": [
       "64-element Vector{Float64}:\n",
       "  1.0\n",
       "  1.0\n",
       "  1.0\n",
       " -1.0\n",
       " -1.0\n",
       " -1.0\n",
       " -1.0\n",
       "  1.0\n",
       "  1.0\n",
       "  1.0\n",
       "  ⋮\n",
       " -1.0\n",
       " -1.0\n",
       " -1.0\n",
       " -1.0\n",
       "  1.0\n",
       " -1.0\n",
       " -1.0\n",
       " -1.0\n",
       "  1.0"
      ]
     },
     "metadata": {},
     "output_type": "display_data"
    }
   ],
   "source": [
    "ex = Vector{Float64}(value_assignment_to_pauli_basis(first(det_vertices), 3))"
   ]
  },
  {
   "cell_type": "code",
   "execution_count": 6,
   "metadata": {},
   "outputs": [
    {
     "data": {
      "text/plain": [
       "Set{MaximalCnc} with 37944 elements:\n",
       "  CNC:…\n",
       "  CNC:…\n",
       "  CNC:…\n",
       "  CNC:…\n",
       "  CNC:…\n",
       "  CNC:…\n",
       "  CNC:…\n",
       "  CNC:…\n",
       "  CNC:…\n",
       "  CNC:…\n",
       "  CNC:…\n",
       "  CNC:…\n",
       "  CNC:…\n",
       "  CNC:…\n",
       "  CNC:…\n",
       "  CNC:…\n",
       "  CNC:…\n",
       "  CNC:…\n",
       "  CNC:…\n",
       "  ⋮ "
      ]
     },
     "metadata": {},
     "output_type": "display_data"
    }
   ],
   "source": [
    "decomposable_cncs = generate_all_cncs(3, [0, 3])"
   ]
  },
  {
   "cell_type": "code",
   "execution_count": 7,
   "metadata": {},
   "outputs": [
    {
     "name": "stdout",
     "output_type": "stream",
     "text": [
      "finished\n"
     ]
    }
   ],
   "source": [
    "all_cncs = generate_all_cncs(3, [1,2])\n",
    "failed_extended_cncs = Set{MaximalCnc}()\n",
    "vertex_count = 0\n",
    "e3_decomp_count = 0\n",
    "extension_not_possible_count = 0\n",
    "no_vertices_found_count = 0\n",
    "extended_vertices_count = 0\n",
    "for cnc in all_cncs\n",
    "    rank = find_rank_count_for_given_given_value_assignment(cnc.value_assignment, 3, A3loc)\n",
    "    if rank != 63\n",
    "        val_asg = cnc.value_assignment\n",
    "        cnc_pauli = Vector{Float64}(value_assignment_to_pauli_basis(val_asg, 3))\n",
    "        solver = Initializer(3, cnc_pauli, det_vertices_matrix)\n",
    "\n",
    "        if !solver.Feasible\n",
    "            fillable_w3s = get_fillable_weight_3s(find_full_set_for_given_cnc_set(cnc.cnc_set))\n",
    "            \n",
    "            num_indep = length(fillable_w3s)\n",
    "\n",
    "            if num_indep == 0\n",
    "                extension_not_possible_count += 1\n",
    "                push!(failed_extended_cncs, cnc)\n",
    "                continue\n",
    "            end\n",
    "\n",
    "            value_assignments = Vector{Dict{Vector{Int},Int}}()\n",
    "            loop_count = 0\n",
    "            inverse_vertex_pair_found = false\n",
    "            while length(value_assignments) < 4 && loop_count < 2^10\n",
    "                value_array = rand(0:1, num_indep)\n",
    "\n",
    "                value_assignment = copy(val_asg)\n",
    "                inv_value_assignment = copy(val_asg)\n",
    "\n",
    "                for (p, v) in zip(fillable_w3s, value_array)\n",
    "                    value_assignment[p] = (-1)^v\n",
    "                    inv_value_assignment[p] = (-1)^(v + 1)\n",
    "                end\n",
    "                rank = find_rank_count_for_given_given_value_assignment(value_assignment, 3, A3loc)\n",
    "                inv_rank = find_rank_count_for_given_given_value_assignment(inv_value_assignment, 3, A3loc)\n",
    "\n",
    "                if rank == 63 && inv_rank == 63\n",
    "                    inverse_vertex_pair_found = true\n",
    "                    push!(decomposable_cncs, cnc)\n",
    "                    break\n",
    "                elseif rank == 63\n",
    "                    push!(value_assignments, value_assignment)\n",
    "                elseif inv_rank == 63              \n",
    "                    push!(value_assignments, inv_value_assignment)\n",
    "                end\n",
    "\n",
    "                loop_count += 1\n",
    "            end\n",
    "\n",
    "            if inverse_vertex_pair_found\n",
    "                extended_vertices_count += 1\n",
    "                count += 1\n",
    "                continue\n",
    "            end\n",
    "\n",
    "            if length(value_assignments) == 0\n",
    "                no_vertices_found_count += 1\n",
    "                push!(failed_extended_cncs, cnc)\n",
    "                continue\n",
    "            end\n",
    "            extended_vertices = hcat([value_assignment_to_pauli_basis(v, 3) for v in value_assignments]...)\n",
    "            solver2 = Initializer(3, cnc_pauli, extended_vertices)\n",
    "            if solver2.Feasible\n",
    "                push!(decomposable_cncs, cnc)\n",
    "                extended_vertices_count += 1\n",
    "            else\n",
    "                push!(failed_extended_cncs, cnc)\n",
    "            end\n",
    "        else\n",
    "            push!(decomposable_cncs, cnc)\n",
    "            e3_decomp_count += 1\n",
    "        end \n",
    "    else\n",
    "        push!(decomposable_cncs, cnc)\n",
    "        vertex_count += 1  \n",
    "    end\n",
    "end\n",
    "\n",
    "println(\"finished\")"
   ]
  },
  {
   "cell_type": "code",
   "execution_count": 110,
   "metadata": {},
   "outputs": [
    {
     "data": {
      "text/plain": [
       "(0, 648, 432, 0, 0)"
      ]
     },
     "metadata": {},
     "output_type": "display_data"
    }
   ],
   "source": [
    "vertex_count, e3_decomp_count, extended_vertices_count, no_vertices_found_count, length(failed_extended_cncs)"
   ]
  },
  {
   "cell_type": "code",
   "execution_count": 107,
   "metadata": {},
   "outputs": [
    {
     "data": {
      "text/plain": [
       "59256"
      ]
     },
     "metadata": {},
     "output_type": "display_data"
    }
   ],
   "source": [
    "length(generate_all_cncs(3, [0,3])) + 16416 + 4896"
   ]
  },
  {
   "cell_type": "code",
   "execution_count": 103,
   "metadata": {},
   "outputs": [
    {
     "data": {
      "text/plain": [
       "72216"
      ]
     },
     "metadata": {},
     "output_type": "display_data"
    }
   ],
   "source": [
    "length(generate_all_cncs(3))"
   ]
  },
  {
   "cell_type": "code",
   "execution_count": 15,
   "metadata": {},
   "outputs": [
    {
     "data": {
      "text/plain": [
       "64×59256 Matrix{Int64}:\n",
       "  1   1   1   1   1  1   1  1   1   1  …   1   1   1  1   1   1  1  1   1  1\n",
       "  0   0   0   0   0  0   0  0   0   1      0   1   0  0   0   0  0  0   0  0\n",
       "  1   0   0   0   1  0   0  0   0   0      0   0   0  0   0   1  0  0   0  0\n",
       " -1   1   0   0   0  0   0  0   0   0     -1   0   0  0   1   0  0  0   0  0\n",
       "  0   0   0   0  -1  0   0  0   0   0     -1   0   0  0   0   0  0  0   0  0\n",
       " -1  -1   0   0   0  0   0  0   0   0  …   0   0   0  0   0   0  0  0   0  0\n",
       "  0   0   0   0  -1  0   1  0   0  -1      0   0   1  0   0   0  0  0   0  0\n",
       "  0   0   0   0   0  0  -1  0   0   0      1  -1   0  0   0   1  0  0   0  0\n",
       "  0   0   0   0   0  0   1  0  -1   0     -1   0   0  0   0   0  0  0   0  0\n",
       " -1   1   0   0   0  0   0  1   0   0      0   0   0  0  -1   0  0  0   0  0\n",
       "  ⋮                  ⋮                 ⋱                  ⋮                ⋮\n",
       "  0   0   1   0   0  0   0  0  -1   0  …   0   0   0  0   0   0  0  0   0  0\n",
       "  0   0   1   0   0  0   0  0   0   0      0   0   0  0   0   0  0  0   0  0\n",
       "  0   0   0  -1   0  0   0  0   0   0      0   0   0  0   0   0  0  0  -1  0\n",
       "  0   0   0   0   0  0   0  0   0   0      0   0   1  0   0   0  0  0   0  0\n",
       "  0   0   0   0   0  0   0  0   0   0      0   0   0  0   0  -1  0  0   1  0\n",
       "  0   0   0   0   0  0   0  0   0   0  …   0   0   0  0   0   0  0  0   0  0\n",
       "  0  -1   0   0   0  0   0  0   0   0      0   0   0  0   0   0  0  0   0  0\n",
       "  0   0   0   0   0  0   0  0   0   1      0   0  -1  0   0   0  0  0   0  0\n",
       "  0   0  -1   0   0  0   0  0   0   0      0   0   0  0   0  -1  0  0   0  0"
      ]
     },
     "metadata": {},
     "output_type": "display_data"
    }
   ],
   "source": [
    "decomposable_cnc_matrix =hcat([value_assignment_to_pauli_basis(cnc.value_assignment, 3) for cnc in decomposable_cncs]...)"
   ]
  },
  {
   "cell_type": "code",
   "execution_count": 19,
   "metadata": {},
   "outputs": [],
   "source": [
    "using JLD\n",
    "\n",
    "save(\"decomposable_cnc_matrix.jld\", \"decomposable_cnc_matrix\", decomposable_cnc_matrix)"
   ]
  },
  {
   "cell_type": "code",
   "execution_count": null,
   "metadata": {},
   "outputs": [],
   "source": [
    "decomposable_cnc_matrix = load(\"decomposable_cnc_matrix.jld\", \"decomposable_cnc_matrix\")"
   ]
  },
  {
   "cell_type": "code",
   "execution_count": 85,
   "metadata": {},
   "outputs": [
    {
     "data": {
      "text/plain": [
       "64-element Vector{Float64}:\n",
       " 1.0\n",
       " 1.0\n",
       " 0.0\n",
       " 0.0\n",
       " 1.0\n",
       " 1.0\n",
       " 0.0\n",
       " 0.0\n",
       " 0.0\n",
       " 0.0\n",
       " ⋮\n",
       " 0.0\n",
       " 0.0\n",
       " 0.0\n",
       " 0.0\n",
       " 0.0\n",
       " 0.0\n",
       " 0.0\n",
       " 0.0\n",
       " 0.0"
      ]
     },
     "metadata": {},
     "output_type": "display_data"
    }
   ],
   "source": [
    "T = [1,1/sqrt(2),0,1/sqrt(2)]\n",
    "P = Vector{Float64}([1,1,0,0])\n",
    "TPP = kron(kron(T,P),P)"
   ]
  },
  {
   "cell_type": "code",
   "execution_count": 86,
   "metadata": {},
   "outputs": [
    {
     "data": {
      "text/plain": [
       "64-element Vector{Float64}:\n",
       " 1.0\n",
       " 0.0\n",
       " 0.0\n",
       " 0.0\n",
       " 0.0\n",
       " 0.0\n",
       " 0.0\n",
       " 0.7071067811865475\n",
       " 0.0\n",
       " 0.0\n",
       " ⋮\n",
       " 1.0\n",
       " 0.0\n",
       " 0.0\n",
       " 1.0\n",
       " 0.0\n",
       " 0.0\n",
       " 0.7071067811865475\n",
       " 0.0\n",
       " 0.0"
      ]
     },
     "metadata": {},
     "output_type": "display_data"
    }
   ],
   "source": [
    "ps3 = PauliString(3)\n",
    "tpp_after_cz_12 = Vector{Float64}([0 for _ in 1:64])\n",
    "\n",
    "# first CZ\n",
    "for i in 1:64\n",
    "    index_pauli = ps3.int_to_bit[i]\n",
    "    pauli_after_cz = CZ_action(index_pauli, [1, 2])\n",
    "    new_index = ps3.bit_to_int[pauli_after_cz]\n",
    "    tpp_after_cz_12[new_index] = TPP[i]\n",
    "end\n",
    "\n",
    "initial_state = Vector{Float64}([0 for _ in 1:64])\n",
    "# second CZ\n",
    "for i in 1:64\n",
    "    index_pauli = ps3.int_to_bit[i]\n",
    "    pauli_after_cz = CZ_action(index_pauli, [2, 3])\n",
    "    new_index = ps3.bit_to_int[pauli_after_cz]\n",
    "    initial_state[new_index] = tpp_after_cz_12[i]\n",
    "end\n",
    "\n",
    "initial_state"
   ]
  },
  {
   "cell_type": "code",
   "execution_count": 87,
   "metadata": {},
   "outputs": [
    {
     "data": {
      "text/plain": [
       "PauliString([[0, 0, 0, 0], [0, 1, 0, 0], [0, 1, 0, 1], [0, 0, 0, 1], [1, 0, 0, 0], [1, 1, 0, 0], [1, 1, 0, 1], [1, 0, 0, 1], [1, 0, 1, 0], [1, 1, 1, 0], [1, 1, 1, 1], [1, 0, 1, 1], [0, 0, 1, 0], [0, 1, 1, 0], [0, 1, 1, 1], [0, 0, 1, 1]], [\"II\", \"IX\", \"IY\", \"IZ\", \"XI\", \"XX\", \"XY\", \"XZ\", \"YI\", \"YX\", \"YY\", \"YZ\", \"ZI\", \"ZX\", \"ZY\", \"ZZ\"], Dict(\"XZ\" => [1, 0, 0, 1], \"XY\" => [1, 1, 0, 1], \"ZX\" => [0, 1, 1, 0], \"IZ\" => [0, 0, 0, 1], \"IY\" => [0, 1, 0, 1], \"XX\" => [1, 1, 0, 0], \"ZZ\" => [0, 0, 1, 1], \"YI\" => [1, 0, 1, 0], \"XI\" => [1, 0, 0, 0], \"YY\" => [1, 1, 1, 1]…), Dict([1, 1, 1, 0] => \"YX\", [0, 1, 0, 1] => \"IY\", [0, 1, 0, 0] => \"IX\", [0, 1, 1, 1] => \"ZY\", [1, 0, 0, 1] => \"XZ\", [0, 1, 1, 0] => \"ZX\", [1, 0, 0, 0] => \"XI\", [1, 0, 1, 1] => \"YZ\", [1, 0, 1, 0] => \"YI\", [0, 0, 0, 1] => \"IZ\"…), Dict([1, 1, 1, 0] => 10, [0, 1, 0, 1] => 3, [0, 1, 0, 0] => 2, [0, 1, 1, 1] => 15, [1, 0, 0, 1] => 8, [0, 1, 1, 0] => 14, [1, 0, 0, 0] => 5, [1, 0, 1, 1] => 12, [1, 0, 1, 0] => 9, [0, 0, 0, 1] => 4…), Dict(5 => [1, 0, 0, 0], 16 => [0, 0, 1, 1], 7 => [1, 1, 0, 1], 12 => [1, 0, 1, 1], 8 => [1, 0, 0, 1], 1 => [0, 0, 0, 0], 4 => [0, 0, 0, 1], 6 => [1, 1, 0, 0], 13 => [0, 0, 1, 0], 2 => [0, 1, 0, 0]…))"
      ]
     },
     "metadata": {},
     "output_type": "display_data"
    }
   ],
   "source": [
    "ps2 = PauliString(2)"
   ]
  },
  {
   "cell_type": "code",
   "execution_count": 88,
   "metadata": {},
   "outputs": [],
   "source": [
    "tpp_solver = Initializer(3, initial_state, decomposable_cnc_matrix);"
   ]
  },
  {
   "cell_type": "code",
   "execution_count": 89,
   "metadata": {},
   "outputs": [
    {
     "data": {
      "text/plain": [
       "false"
      ]
     },
     "metadata": {},
     "output_type": "display_data"
    }
   ],
   "source": [
    "tpp_solver.Feasible"
   ]
  }
 ],
 "metadata": {
  "kernelspec": {
   "display_name": "Julia 1.9.3",
   "language": "julia",
   "name": "julia-1.9"
  },
  "language_info": {
   "file_extension": ".jl",
   "mimetype": "application/julia",
   "name": "julia",
   "version": "1.9.3"
  }
 },
 "nbformat": 4,
 "nbformat_minor": 2
}
