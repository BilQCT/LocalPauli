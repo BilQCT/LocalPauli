{
 "cells": [
  {
   "cell_type": "markdown",
   "id": "3e7167cc",
   "metadata": {},
   "source": [
    "# Generating Stabilizer states"
   ]
  },
  {
   "cell_type": "code",
   "execution_count": 10,
   "id": "cf6fbdf5",
   "metadata": {},
   "outputs": [],
   "source": [
    "using LinearAlgebra\n",
    "\n",
    "const la = LinearAlgebra\n",
    "\n",
    "using GAP"
   ]
  },
  {
   "cell_type": "code",
   "execution_count": 15,
   "id": "b68b83e8",
   "metadata": {},
   "outputs": [],
   "source": [
    "# include script for clifford group functions:\n",
    "include(\"clifford_group.jl\"); include(\"stab.jl\");"
   ]
  },
  {
   "cell_type": "markdown",
   "id": "1652198c",
   "metadata": {},
   "source": [
    "# Maximal isotropic subspaces:"
   ]
  },
  {
   "cell_type": "markdown",
   "id": "50320a73",
   "metadata": {},
   "source": [
    "## Single-qubit maximal isotropics:"
   ]
  },
  {
   "cell_type": "code",
   "execution_count": 3,
   "id": "97be8610",
   "metadata": {},
   "outputs": [
    {
     "data": {
      "text/plain": [
       "2-element Vector{Vector{Int64}}:\n",
       " [0, 0]\n",
       " [1, 0]"
      ]
     },
     "execution_count": 3,
     "metadata": {},
     "output_type": "execute_result"
    }
   ],
   "source": [
    "# generate canonical S = {I,X} maximal isotropic:\n",
    "I1 = canonical_maximal_isotropic(1) "
   ]
  },
  {
   "cell_type": "code",
   "execution_count": 4,
   "id": "23cd3bff",
   "metadata": {},
   "outputs": [
    {
     "data": {
      "text/plain": [
       "3-element Vector{Any}:\n",
       " Any[Any[0, 0], Any[1, 0]]\n",
       " Any[Any[0, 0], Any[0, 1]]\n",
       " Any[Any[0, 0], Any[1, 1]]"
      ]
     },
     "execution_count": 4,
     "metadata": {},
     "output_type": "execute_result"
    }
   ],
   "source": [
    "# compute orbit:\n",
    "II1 = symplectic_orbit(1,I1)"
   ]
  },
  {
   "cell_type": "markdown",
   "id": "9dadaced",
   "metadata": {},
   "source": [
    "## Two-qubit maximal isotropics:"
   ]
  },
  {
   "cell_type": "code",
   "execution_count": 5,
   "id": "8368d814",
   "metadata": {},
   "outputs": [
    {
     "data": {
      "text/plain": [
       "4-element Vector{Any}:\n",
       " [0, 1, 0, 0]\n",
       " [0, 0, 0, 0]\n",
       " [1, 1, 0, 0]\n",
       " [1, 0, 0, 0]"
      ]
     },
     "execution_count": 5,
     "metadata": {},
     "output_type": "execute_result"
    }
   ],
   "source": [
    "# generate canonical S = {I,IX,XI,XX} maximal isotropic:\n",
    "I2 = canonical_maximal_isotropic(2)"
   ]
  },
  {
   "cell_type": "code",
   "execution_count": 6,
   "id": "1e68ad6a",
   "metadata": {},
   "outputs": [
    {
     "data": {
      "text/plain": [
       "15-element Vector{Any}:\n",
       " Any[Any[0, 0, 0, 0], Any[0, 1, 0, 0], Any[1, 0, 0, 0], Any[1, 1, 0, 0]]\n",
       " Any[Any[0, 0, 0, 0], Any[0, 1, 1, 0], Any[1, 0, 0, 1], Any[1, 1, 1, 1]]\n",
       " Any[Any[0, 0, 0, 0], Any[0, 0, 0, 1], Any[1, 0, 0, 0], Any[1, 0, 0, 1]]\n",
       " Any[Any[0, 0, 0, 0], Any[0, 0, 1, 0], Any[0, 1, 0, 1], Any[0, 1, 1, 1]]\n",
       " Any[Any[0, 0, 0, 0], Any[0, 1, 0, 1], Any[1, 0, 1, 0], Any[1, 1, 1, 1]]\n",
       " Any[Any[0, 0, 0, 0], Any[0, 0, 1, 1], Any[1, 1, 0, 0], Any[1, 1, 1, 1]]\n",
       " Any[Any[0, 0, 0, 0], Any[0, 0, 0, 1], Any[0, 0, 1, 0], Any[0, 0, 1, 1]]\n",
       " Any[Any[0, 0, 0, 0], Any[0, 1, 0, 0], Any[1, 0, 1, 0], Any[1, 1, 1, 0]]\n",
       " Any[Any[0, 0, 0, 0], Any[0, 1, 1, 1], Any[1, 0, 0, 1], Any[1, 1, 1, 0]]\n",
       " Any[Any[0, 0, 0, 0], Any[0, 1, 1, 0], Any[1, 0, 1, 1], Any[1, 1, 0, 1]]\n",
       " Any[Any[0, 0, 0, 0], Any[0, 0, 1, 0], Any[0, 1, 0, 0], Any[0, 1, 1, 0]]\n",
       " Any[Any[0, 0, 0, 0], Any[0, 1, 0, 1], Any[1, 0, 0, 0], Any[1, 1, 0, 1]]\n",
       " Any[Any[0, 0, 0, 0], Any[0, 0, 1, 1], Any[1, 1, 0, 1], Any[1, 1, 1, 0]]\n",
       " Any[Any[0, 0, 0, 0], Any[0, 1, 1, 1], Any[1, 0, 1, 1], Any[1, 1, 0, 0]]\n",
       " Any[Any[0, 0, 0, 0], Any[0, 0, 0, 1], Any[1, 0, 1, 0], Any[1, 0, 1, 1]]"
      ]
     },
     "execution_count": 6,
     "metadata": {},
     "output_type": "execute_result"
    }
   ],
   "source": [
    "# compute orbit of 2-qubit maximal isotropic:\n",
    "II2 = symplectic_orbit(2,I2)"
   ]
  },
  {
   "cell_type": "markdown",
   "id": "515e3c5d",
   "metadata": {},
   "source": [
    "## Three-qubit maximal isotropics:"
   ]
  },
  {
   "cell_type": "code",
   "execution_count": 7,
   "id": "09ef54db",
   "metadata": {},
   "outputs": [
    {
     "data": {
      "text/plain": [
       "8-element Vector{Any}:\n",
       " [1, 1, 0, 0, 0, 0]\n",
       " [1, 0, 0, 0, 0, 0]\n",
       " [0, 1, 1, 0, 0, 0]\n",
       " [0, 0, 1, 0, 0, 0]\n",
       " [1, 1, 1, 0, 0, 0]\n",
       " [1, 0, 1, 0, 0, 0]\n",
       " [0, 1, 0, 0, 0, 0]\n",
       " [0, 0, 0, 0, 0, 0]"
      ]
     },
     "execution_count": 7,
     "metadata": {},
     "output_type": "execute_result"
    }
   ],
   "source": [
    "# generate canonical S = {I,IIX,...,XXX} maximal isotropic:\n",
    "I3 = canonical_maximal_isotropic(3)"
   ]
  },
  {
   "cell_type": "code",
   "execution_count": 8,
   "id": "5cd225ac",
   "metadata": {
    "scrolled": true
   },
   "outputs": [
    {
     "data": {
      "text/plain": [
       "135-element Vector{Any}:\n",
       " Any[Any[0, 0, 0, 0, 0, 0], Any[0, 0, 1, 0, 0, 0], Any[0, 1, 0, 0, 0, 0], Any[0, 1, 1, 0, 0, 0], Any[1, 0, 0, 0, 0, 0], Any[1, 0, 1, 0, 0, 0], Any[1, 1, 0, 0, 0, 0], Any[1, 1, 1, 0, 0, 0]]\n",
       " Any[Any[0, 0, 0, 0, 0, 0], Any[0, 0, 0, 0, 0, 1], Any[0, 1, 0, 0, 0, 0], Any[0, 1, 0, 0, 0, 1], Any[1, 0, 0, 0, 0, 0], Any[1, 0, 0, 0, 0, 1], Any[1, 1, 0, 0, 0, 0], Any[1, 1, 0, 0, 0, 1]]\n",
       " Any[Any[0, 0, 0, 0, 0, 0], Any[0, 0, 0, 0, 0, 1], Any[0, 0, 0, 0, 1, 0], Any[0, 0, 0, 0, 1, 1], Any[1, 0, 0, 0, 0, 0], Any[1, 0, 0, 0, 0, 1], Any[1, 0, 0, 0, 1, 0], Any[1, 0, 0, 0, 1, 1]]\n",
       " Any[Any[0, 0, 0, 0, 0, 0], Any[0, 0, 0, 0, 0, 1], Any[0, 0, 0, 0, 1, 0], Any[0, 0, 0, 0, 1, 1], Any[0, 0, 0, 1, 0, 0], Any[0, 0, 0, 1, 0, 1], Any[0, 0, 0, 1, 1, 0], Any[0, 0, 0, 1, 1, 1]]\n",
       " Any[Any[0, 0, 0, 0, 0, 0], Any[0, 0, 0, 0, 0, 1], Any[0, 0, 0, 0, 1, 0], Any[0, 0, 0, 0, 1, 1], Any[1, 0, 0, 1, 0, 0], Any[1, 0, 0, 1, 0, 1], Any[1, 0, 0, 1, 1, 0], Any[1, 0, 0, 1, 1, 1]]\n",
       " Any[Any[0, 0, 0, 0, 0, 0], Any[0, 0, 0, 0, 1, 0], Any[0, 0, 0, 1, 0, 0], Any[0, 0, 0, 1, 1, 0], Any[0, 0, 1, 0, 0, 0], Any[0, 0, 1, 0, 1, 0], Any[0, 0, 1, 1, 0, 0], Any[0, 0, 1, 1, 1, 0]]\n",
       " Any[Any[0, 0, 0, 0, 0, 0], Any[0, 0, 0, 0, 1, 0], Any[0, 0, 1, 1, 0, 1], Any[0, 0, 1, 1, 1, 1], Any[1, 0, 0, 1, 0, 1], Any[1, 0, 0, 1, 1, 1], Any[1, 0, 1, 0, 0, 0], Any[1, 0, 1, 0, 1, 0]]\n",
       " Any[Any[0, 0, 0, 0, 0, 0], Any[0, 0, 0, 0, 1, 0], Any[0, 0, 0, 1, 0, 0], Any[0, 0, 0, 1, 1, 0], Any[0, 0, 1, 0, 0, 1], Any[0, 0, 1, 0, 1, 1], Any[0, 0, 1, 1, 0, 1], Any[0, 0, 1, 1, 1, 1]]\n",
       " Any[Any[0, 0, 0, 0, 0, 0], Any[0, 0, 0, 1, 0, 0], Any[0, 0, 1, 0, 0, 0], Any[0, 0, 1, 1, 0, 0], Any[0, 1, 0, 0, 0, 0], Any[0, 1, 0, 1, 0, 0], Any[0, 1, 1, 0, 0, 0], Any[0, 1, 1, 1, 0, 0]]\n",
       " Any[Any[0, 0, 0, 0, 0, 0], Any[0, 0, 0, 0, 1, 0], Any[0, 0, 1, 1, 0, 0], Any[0, 0, 1, 1, 1, 0], Any[1, 0, 0, 1, 0, 1], Any[1, 0, 0, 1, 1, 1], Any[1, 0, 1, 0, 0, 1], Any[1, 0, 1, 0, 1, 1]]\n",
       " Any[Any[0, 0, 0, 0, 0, 0], Any[0, 0, 1, 1, 0, 1], Any[0, 1, 0, 0, 0, 0], Any[0, 1, 1, 1, 0, 1], Any[1, 0, 0, 1, 0, 1], Any[1, 0, 1, 0, 0, 0], Any[1, 1, 0, 1, 0, 1], Any[1, 1, 1, 0, 0, 0]]\n",
       " Any[Any[0, 0, 0, 0, 0, 0], Any[0, 0, 0, 1, 0, 0], Any[0, 0, 1, 0, 1, 1], Any[0, 0, 1, 1, 1, 1], Any[0, 1, 0, 0, 0, 1], Any[0, 1, 0, 1, 0, 1], Any[0, 1, 1, 0, 1, 0], Any[0, 1, 1, 1, 1, 0]]\n",
       " Any[Any[0, 0, 0, 0, 0, 0], Any[0, 0, 1, 1, 1, 0], Any[0, 1, 0, 0, 0, 1], Any[0, 1, 1, 1, 1, 1], Any[1, 0, 0, 1, 0, 1], Any[1, 0, 1, 0, 1, 1], Any[1, 1, 0, 1, 0, 0], Any[1, 1, 1, 0, 1, 0]]\n",
       " ⋮\n",
       " Any[Any[0, 0, 0, 0, 0, 0], Any[0, 0, 0, 1, 0, 1], Any[0, 1, 0, 0, 0, 0], Any[0, 1, 0, 1, 0, 1], Any[1, 0, 1, 0, 0, 0], Any[1, 0, 1, 1, 0, 1], Any[1, 1, 1, 0, 0, 0], Any[1, 1, 1, 1, 0, 1]]\n",
       " Any[Any[0, 0, 0, 0, 0, 0], Any[0, 0, 0, 1, 0, 1], Any[0, 1, 0, 0, 0, 1], Any[0, 1, 0, 1, 0, 0], Any[1, 0, 1, 0, 1, 1], Any[1, 0, 1, 1, 1, 0], Any[1, 1, 1, 0, 1, 0], Any[1, 1, 1, 1, 1, 1]]\n",
       " Any[Any[0, 0, 0, 0, 0, 0], Any[0, 0, 1, 1, 0, 0], Any[0, 1, 0, 1, 0, 0], Any[0, 1, 1, 0, 0, 0], Any[1, 0, 0, 1, 1, 1], Any[1, 0, 1, 0, 1, 1], Any[1, 1, 0, 0, 1, 1], Any[1, 1, 1, 1, 1, 1]]\n",
       " Any[Any[0, 0, 0, 0, 0, 0], Any[0, 0, 0, 1, 1, 0], Any[0, 0, 1, 0, 1, 1], Any[0, 0, 1, 1, 0, 1], Any[1, 1, 0, 0, 1, 1], Any[1, 1, 0, 1, 0, 1], Any[1, 1, 1, 0, 0, 0], Any[1, 1, 1, 1, 1, 0]]\n",
       " Any[Any[0, 0, 0, 0, 0, 0], Any[0, 0, 1, 0, 1, 1], Any[0, 1, 0, 0, 1, 1], Any[0, 1, 1, 0, 0, 0], Any[1, 0, 0, 0, 0, 0], Any[1, 0, 1, 0, 1, 1], Any[1, 1, 0, 0, 1, 1], Any[1, 1, 1, 0, 0, 0]]\n",
       " Any[Any[0, 0, 0, 0, 0, 0], Any[0, 0, 1, 1, 1, 1], Any[0, 1, 0, 1, 0, 1], Any[0, 1, 1, 0, 1, 0], Any[1, 0, 0, 0, 1, 1], Any[1, 0, 1, 1, 0, 0], Any[1, 1, 0, 1, 1, 0], Any[1, 1, 1, 0, 0, 1]]\n",
       " Any[Any[0, 0, 0, 0, 0, 0], Any[0, 0, 0, 0, 0, 1], Any[0, 1, 0, 0, 1, 0], Any[0, 1, 0, 0, 1, 1], Any[1, 0, 0, 1, 0, 0], Any[1, 0, 0, 1, 0, 1], Any[1, 1, 0, 1, 1, 0], Any[1, 1, 0, 1, 1, 1]]\n",
       " Any[Any[0, 0, 0, 0, 0, 0], Any[0, 0, 0, 0, 0, 1], Any[0, 1, 0, 1, 0, 0], Any[0, 1, 0, 1, 0, 1], Any[1, 0, 0, 0, 1, 0], Any[1, 0, 0, 0, 1, 1], Any[1, 1, 0, 1, 1, 0], Any[1, 1, 0, 1, 1, 1]]\n",
       " Any[Any[0, 0, 0, 0, 0, 0], Any[0, 0, 1, 0, 0, 1], Any[0, 1, 0, 0, 1, 0], Any[0, 1, 1, 0, 1, 1], Any[1, 0, 0, 1, 0, 0], Any[1, 0, 1, 1, 0, 1], Any[1, 1, 0, 1, 1, 0], Any[1, 1, 1, 1, 1, 1]]\n",
       " Any[Any[0, 0, 0, 0, 0, 0], Any[0, 0, 1, 1, 0, 1], Any[0, 1, 0, 1, 0, 0], Any[0, 1, 1, 0, 0, 1], Any[1, 0, 0, 1, 1, 1], Any[1, 0, 1, 0, 1, 0], Any[1, 1, 0, 0, 1, 1], Any[1, 1, 1, 1, 1, 0]]\n",
       " Any[Any[0, 0, 0, 0, 0, 0], Any[0, 0, 1, 1, 0, 1], Any[0, 1, 0, 0, 1, 0], Any[0, 1, 1, 1, 1, 1], Any[1, 0, 0, 1, 0, 1], Any[1, 0, 1, 0, 0, 0], Any[1, 1, 0, 1, 1, 1], Any[1, 1, 1, 0, 1, 0]]\n",
       " Any[Any[0, 0, 0, 0, 0, 0], Any[0, 0, 0, 1, 0, 1], Any[0, 1, 0, 0, 0, 1], Any[0, 1, 0, 1, 0, 0], Any[1, 0, 1, 0, 1, 0], Any[1, 0, 1, 1, 1, 1], Any[1, 1, 1, 0, 1, 1], Any[1, 1, 1, 1, 1, 0]]"
      ]
     },
     "execution_count": 8,
     "metadata": {},
     "output_type": "execute_result"
    }
   ],
   "source": [
    "# compute orbit:\n",
    "II3 = symplectic_orbit(3,I3)"
   ]
  },
  {
   "cell_type": "markdown",
   "id": "a6777d26",
   "metadata": {},
   "source": [
    "# Stabilizer states:"
   ]
  },
  {
   "cell_type": "code",
   "execution_count": 19,
   "id": "d9cea9b5",
   "metadata": {},
   "outputs": [],
   "source": [
    "using Polymake\n",
    "const pm = Polymake;"
   ]
  },
  {
   "cell_type": "markdown",
   "id": "262e0147",
   "metadata": {},
   "source": [
    "## 1-qubit"
   ]
  },
  {
   "cell_type": "code",
   "execution_count": 16,
   "id": "c7216ae5",
   "metadata": {},
   "outputs": [
    {
     "data": {
      "text/plain": [
       "6×4 Matrix{Int64}:\n",
       " 1   1   0   0\n",
       " 1  -1   0   0\n",
       " 1   0   0   1\n",
       " 1   0   0  -1\n",
       " 1   0   1   0\n",
       " 1   0  -1   0"
      ]
     },
     "execution_count": 16,
     "metadata": {},
     "output_type": "execute_result"
    }
   ],
   "source": [
    "A1 = stabilizer_coefficients(1,II1)"
   ]
  },
  {
   "cell_type": "code",
   "execution_count": 20,
   "id": "18349571",
   "metadata": {},
   "outputs": [
    {
     "data": {
      "text/html": [
       "<dl> <dt>type</dt><dd> Polytope<Rational></dd> </dl>   <details>\n",
       "       <summary style='display:list-item;'>POINTS</summary>\n",
       "       <pre>1 1 0 0\n",
       "1 -1 0 0\n",
       "1 0 0 1\n",
       "1 0 0 -1\n",
       "1 0 1 0\n",
       "1 0 -1 0</pre>\n",
       "   </details>\n"
      ],
      "text/plain": [
       "type: Polytope<Rational>\n",
       "\n",
       "POINTS\n",
       "  1   1   0   0\n",
       "  1  -1   0   0\n",
       "  1   0   0   1\n",
       "  1   0   0  -1\n",
       "  1   0   1   0\n",
       "  1   0  -1   0\n"
      ]
     },
     "execution_count": 20,
     "metadata": {},
     "output_type": "execute_result"
    }
   ],
   "source": [
    "SP1 = pm.polytope.Polytope(POINTS = A1)"
   ]
  },
  {
   "cell_type": "markdown",
   "id": "7d565d4c",
   "metadata": {},
   "source": [
    "## 2-qubit"
   ]
  },
  {
   "cell_type": "code",
   "execution_count": 17,
   "id": "02b1f004",
   "metadata": {},
   "outputs": [
    {
     "data": {
      "text/plain": [
       "60×16 Matrix{Int64}:\n",
       " 1   1  0   0   1   1   0   0   0   0   0   0  0   0   0   0\n",
       " 1   1  0   0  -1  -1   0   0   0   0   0   0  0   0   0   0\n",
       " 1  -1  0   0   1  -1   0   0   0   0   0   0  0   0   0   0\n",
       " 1  -1  0   0  -1   1   0   0   0   0   0   0  0   0   0   0\n",
       " 1   0  0   0   0   0   0   1   0   0   1   0  0   1   0   0\n",
       " 1   0  0   0   0   0   0  -1   0   0  -1   0  0   1   0   0\n",
       " 1   0  0   0   0   0   0   1   0   0  -1   0  0  -1   0   0\n",
       " 1   0  0   0   0   0   0  -1   0   0   1   0  0  -1   0   0\n",
       " 1   0  0   1   1   0   0   1   0   0   0   0  0   0   0   0\n",
       " 1   0  0   1  -1   0   0  -1   0   0   0   0  0   0   0   0\n",
       " 1   0  0  -1   1   0   0  -1   0   0   0   0  0   0   0   0\n",
       " 1   0  0  -1  -1   0   0   1   0   0   0   0  0   0   0   0\n",
       " 1   0  1   0   0   0   0   0   0   0   0   0  1   0   1   0\n",
       " ⋮                  ⋮                   ⋮                  ⋮\n",
       " 1   0  0   0   0   0   1   0   0   1   0   0  0   0   0   1\n",
       " 1   0  0   0   0   0  -1   0   0  -1   0   0  0   0   0   1\n",
       " 1   0  0   0   0   0   1   0   0  -1   0   0  0   0   0  -1\n",
       " 1   0  0   0   0   0  -1   0   0   1   0   0  0   0   0  -1\n",
       " 1   0  0   0   0   1   0   0   0   0   0   1  0   0   1   0\n",
       " 1   0  0   0   0  -1   0   0   0   0   0  -1  0   0   1   0\n",
       " 1   0  0   0   0  -1   0   0   0   0   0   1  0   0  -1   0\n",
       " 1   0  0   0   0   1   0   0   0   0   0  -1  0   0  -1   0\n",
       " 1   0  0   1   0   0   0   0   1   0   0   1  0   0   0   0\n",
       " 1   0  0   1   0   0   0   0  -1   0   0  -1  0   0   0   0\n",
       " 1   0  0  -1   0   0   0   0   1   0   0  -1  0   0   0   0\n",
       " 1   0  0  -1   0   0   0   0  -1   0   0   1  0   0   0   0"
      ]
     },
     "execution_count": 17,
     "metadata": {},
     "output_type": "execute_result"
    }
   ],
   "source": [
    "A2 = stabilizer_coefficients(2,II2)"
   ]
  },
  {
   "cell_type": "code",
   "execution_count": 21,
   "id": "5e7ee84f",
   "metadata": {},
   "outputs": [
    {
     "data": {
      "text/html": [
       "<dl> <dt>type</dt><dd> Polytope<Rational></dd> </dl>   <details>\n",
       "       <summary style='display:list-item;'>POINTS</summary>\n",
       "       <pre>1 1 0 0 1 1 0 0 0 0 0 0 0 0 0 0\n",
       "1 1 0 0 -1 -1 0 0 0 0 0 0 0 0 0 0\n",
       "1 -1 0 0 1 -1 0 0 0 0 0 0 0 0 0 0\n",
       "1 -1 0 0 -1 1 0 0 0 0 0 0 0 0 0 0\n",
       "1 0 0 0 0 0 0 1 0 0 1 0 0 1 0 0\n",
       "1 0 0 0 0 0 0 -1 0 0 -1 0 0 1 0 0\n",
       "1 0 0 0 0 0 0 1 0 0 -1 0 0 -1 0 0\n",
       "1 0 0 0 0 0 0 -1 0 0 1 0 0 -1 0 0\n",
       "1 0 0 1 1 0 0 1 0 0 0 0 0 0 0 0\n",
       "1 0 0 1 -1 0 0 -1 0 0 0 0 0 0 0 0\n",
       "1 0 0 -1 1 0 0 -1 0 0 0 0 0 0 0 0\n",
       "1 0 0 -1 -1 0 0 1 0 0 0 0 0 0 0 0\n",
       "1 0 1 0 0 0 0 0 0 0 0 0 1 0 1 0\n",
       "1 0 -1 0 0 0 0 0 0 0 0 0 1 0 -1 0\n",
       "1 0 1 0 0 0 0 0 0 0 0 0 -1 0 -1 0\n",
       "1 0 -1 0 0 0 0 0 0 0 0 0 -1 0 1 0\n",
       "1 0 1 0 0 0 0 0 1 0 1 0 0 0 0 0\n",
       "1 0 1 0 0 0 0 0 -1 0 -1 0 0 0 0 0\n",
       "1 0 -1 0 0 0 0 0 1 0 -1 0 0 0 0 0\n",
       "1 0 -1 0 0 0 0 0 -1 0 1 0 0 0 0 0\n",
       "1 0 0 0 0 1 0 0 0 0 -1 0 0 0 0 1\n",
       "1 0 0 0 0 -1 0 0 0 0 1 0 0 0 0 1\n",
       "1 0 0 0 0 1 0 0 0 0 1 0 0 0 0 -1\n",
       "1 0 0 0 0 -1 0 0 0 0 -1 0 0 0 0 -1\n",
       "1 0 0 1 0 0 0 0 0 0 0 0 1 0 0 1\n",
       "1 0 0 1 0 0 0 0 0 0 0 0 -1 0 0 -1\n",
       "1 0 0 -1 0 0 0 0 0 0 0 0 1 0 0 -1\n",
       "1 0 0 -1 0 0 0 0 0 0 0 0 -1 0 0 1\n",
       "1 1 0 0 0 0 0 0 1 1 0 0 0 0 0 0\n",
       "1 1 0 0 0 0 0 0 -1 -1 0 0 0 0 0 0\n",
       "1 -1 0 0 0 0 0 0 1 -1 0 0 0 0 0 0\n",
       "1 -1 0 0 0 0 0 0 -1 1 0 0 0 0 0 0\n",
       "1 0 0 0 0 0 0 1 0 -1 0 0 0 0 1 0\n",
       "1 0 0 0 0 0 0 -1 0 1 0 0 0 0 1 0\n",
       "1 0 0 0 0 0 0 1 0 1 0 0 0 0 -1 0\n",
       "1 0 0 0 0 0 0 -1 0 -1 0 0 0 0 -1 0\n",
       "1 0 0 0 0 0 -1 0 0 0 0 1 0 1 0 0\n",
       "1 0 0 0 0 0 1 0 0 0 0 -1 0 1 0 0\n",
       "1 0 0 0 0 0 1 0 0 0 0 1 0 -1 0 0\n",
       "1 0 0 0 0 0 -1 0 0 0 0 -1 0 -1 0 0\n",
       "1 1 0 0 0 0 0 0 0 0 0 0 1 1 0 0\n",
       "1 -1 0 0 0 0 0 0 0 0 0 0 1 -1 0 0\n",
       "1 1 0 0 0 0 0 0 0 0 0 0 -1 -1 0 0\n",
       "1 -1 0 0 0 0 0 0 0 0 0 0 -1 1 0 0\n",
       "1 0 1 0 1 0 1 0 0 0 0 0 0 0 0 0\n",
       "1 0 1 0 -1 0 -1 0 0 0 0 0 0 0 0 0\n",
       "1 0 -1 0 1 0 -1 0 0 0 0 0 0 0 0 0\n",
       "1 0 -1 0 -1 0 1 0 0 0 0 0 0 0 0 0\n",
       "1 0 0 0 0 0 1 0 0 1 0 0 0 0 0 1\n",
       "1 0 0 0 0 0 -1 0 0 -1 0 0 0 0 0 1\n",
       "1 0 0 0 0 0 1 0 0 -1 0 0 0 0 0 -1\n",
       "1 0 0 0 0 0 -1 0 0 1 0 0 0 0 0 -1\n",
       "1 0 0 0 0 1 0 0 0 0 0 1 0 0 1 0\n",
       "1 0 0 0 0 -1 0 0 0 0 0 -1 0 0 1 0\n",
       "1 0 0 0 0 -1 0 0 0 0 0 1 0 0 -1 0\n",
       "1 0 0 0 0 1 0 0 0 0 0 -1 0 0 -1 0\n",
       "1 0 0 1 0 0 0 0 1 0 0 1 0 0 0 0\n",
       "1 0 0 1 0 0 0 0 -1 0 0 -1 0 0 0 0\n",
       "1 0 0 -1 0 0 0 0 1 0 0 -1 0 0 0 0\n",
       "1 0 0 -1 0 0 0 0 -1 0 0 1 0 0 0 0</pre>\n",
       "   </details>\n"
      ],
      "text/plain": [
       "type: Polytope<Rational>\n",
       "\n",
       "POINTS\n",
       "  1   1  0   0   1   1   0   0   0   0   0   0  0   0   0   0\n",
       "  1   1  0   0  -1  -1   0   0   0   0   0   0  0   0   0   0\n",
       "  1  -1  0   0   1  -1   0   0   0   0   0   0  0   0   0   0\n",
       "  1  -1  0   0  -1   1   0   0   0   0   0   0  0   0   0   0\n",
       "  1   0  0   0   0   0   0   1   0   0   1   0  0   1   0   0\n",
       "  1   0  0   0   0   0   0  -1   0   0  -1   0  0   1   0   0\n",
       "  1   0  0   0   0   0   0   1   0   0  -1   0  0  -1   0   0\n",
       "  1   0  0   0   0   0   0  -1   0   0   1   0  0  -1   0   0\n",
       "  1   0  0   1   1   0   0   1   0   0   0   0  0   0   0   0\n",
       "  1   0  0   1  -1   0   0  -1   0   0   0   0  0   0   0   0\n",
       "  1   0  0  -1   1   0   0  -1   0   0   0   0  0   0   0   0\n",
       "  1   0  0  -1  -1   0   0   1   0   0   0   0  0   0   0   0\n",
       "  1   0  1   0   0   0   0   0   0   0   0   0  1   0   1   0\n",
       "  ⋮                  ⋮                   ⋮                  ⋮\n",
       "  1   0  0   0   0   0   1   0   0   1   0   0  0   0   0   1\n",
       "  1   0  0   0   0   0  -1   0   0  -1   0   0  0   0   0   1\n",
       "  1   0  0   0   0   0   1   0   0  -1   0   0  0   0   0  -1\n",
       "  1   0  0   0   0   0  -1   0   0   1   0   0  0   0   0  -1\n",
       "  1   0  0   0   0   1   0   0   0   0   0   1  0   0   1   0\n",
       "  1   0  0   0   0  -1   0   0   0   0   0  -1  0   0   1   0\n",
       "  1   0  0   0   0  -1   0   0   0   0   0   1  0   0  -1   0\n",
       "  1   0  0   0   0   1   0   0   0   0   0  -1  0   0  -1   0\n",
       "  1   0  0   1   0   0   0   0   1   0   0   1  0   0   0   0\n",
       "  1   0  0   1   0   0   0   0  -1   0   0  -1  0   0   0   0\n",
       "  1   0  0  -1   0   0   0   0   1   0   0  -1  0   0   0   0\n",
       "  1   0  0  -1   0   0   0   0  -1   0   0   1  0   0   0   0\n"
      ]
     },
     "execution_count": 21,
     "metadata": {},
     "output_type": "execute_result"
    }
   ],
   "source": [
    "SP2 = pm.polytope.Polytope(POINTS = A2)"
   ]
  },
  {
   "cell_type": "markdown",
   "id": "7a3816fd",
   "metadata": {},
   "source": [
    "# 3-qubit"
   ]
  },
  {
   "cell_type": "code",
   "execution_count": 22,
   "id": "05fc357a",
   "metadata": {},
   "outputs": [
    {
     "data": {
      "text/plain": [
       "1080×64 Matrix{Int64}:\n",
       " 1   1  0   0   1   1  0   0   0  0  0  …  0  0  0  0  0   0  0  0  0  0  0\n",
       " 1   1  0   0   1   1  0   0   0  0  0     0  0  0  0  0   0  0  0  0  0  0\n",
       " 1   1  0   0  -1  -1  0   0   0  0  0     0  0  0  0  0   0  0  0  0  0  0\n",
       " 1   1  0   0  -1  -1  0   0   0  0  0     0  0  0  0  0   0  0  0  0  0  0\n",
       " 1  -1  0   0   1  -1  0   0   0  0  0     0  0  0  0  0   0  0  0  0  0  0\n",
       " 1  -1  0   0   1  -1  0   0   0  0  0  …  0  0  0  0  0   0  0  0  0  0  0\n",
       " 1  -1  0   0  -1   1  0   0   0  0  0     0  0  0  0  0   0  0  0  0  0  0\n",
       " 1  -1  0   0  -1   1  0   0   0  0  0     0  0  0  0  0   0  0  0  0  0  0\n",
       " 1   0  0   1   1   0  0   1   0  0  0     0  0  0  0  0   0  0  0  0  0  0\n",
       " 1   0  0   1   1   0  0   1   0  0  0     0  0  0  0  0   0  0  0  0  0  0\n",
       " 1   0  0   1  -1   0  0  -1   0  0  0  …  0  0  0  0  0   0  0  0  0  0  0\n",
       " 1   0  0   1  -1   0  0  -1   0  0  0     0  0  0  0  0   0  0  0  0  0  0\n",
       " 1   0  0  -1   1   0  0  -1   0  0  0     0  0  0  0  0   0  0  0  0  0  0\n",
       " ⋮                  ⋮                ⋮  ⋱        ⋮               ⋮        \n",
       " 1   0  0   0   0   0  0   0   1  0  0     0  0  0  0  0  -1  0  0  0  0  0\n",
       " 1   0  0   0   0   0  0   0   1  0  0     0  0  0  0  0  -1  0  0  0  0  0\n",
       " 1   0  0   0   0   0  0   0  -1  0  0  …  0  0  0  0  0   1  0  0  0  0  0\n",
       " 1   0  0   0   0   0  0   0  -1  0  0     0  0  0  0  0   1  0  0  0  0  0\n",
       " 1   0  0   0   0   0  0   1   0  0  0     0  0  0  0  0   0  0  0  0  0  0\n",
       " 1   0  0   0   0   0  0   1   0  0  0     0  0  0  0  0   0  0  0  0  0  0\n",
       " 1   0  0   0   0   0  0  -1   0  0  0     0  0  0  0  0   0  0  0  0  0  0\n",
       " 1   0  0   0   0   0  0  -1   0  0  0  …  0  0  0  0  0   0  0  0  0  0  0\n",
       " 1   0  0   0   0   0  0   1   0  0  0     0  0  0  0  0   0  0  0  0  0  0\n",
       " 1   0  0   0   0   0  0   1   0  0  0     0  0  0  0  0   0  0  0  0  0  0\n",
       " 1   0  0   0   0   0  0  -1   0  0  0     0  0  0  0  0   0  0  0  0  0  0\n",
       " 1   0  0   0   0   0  0  -1   0  0  0     0  0  0  0  0   0  0  0  0  0  0"
      ]
     },
     "execution_count": 22,
     "metadata": {},
     "output_type": "execute_result"
    }
   ],
   "source": [
    "A3 = stabilizer_coefficients(3,II3)"
   ]
  },
  {
   "cell_type": "code",
   "execution_count": null,
   "id": "24721fd1",
   "metadata": {},
   "outputs": [],
   "source": []
  }
 ],
 "metadata": {
  "kernelspec": {
   "display_name": "Julia 1.8.3",
   "language": "julia",
   "name": "julia-1.8"
  },
  "language_info": {
   "file_extension": ".jl",
   "mimetype": "application/julia",
   "name": "julia",
   "version": "1.8.3"
  }
 },
 "nbformat": 4,
 "nbformat_minor": 5
}
