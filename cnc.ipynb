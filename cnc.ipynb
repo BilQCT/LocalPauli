{
 "cells": [
  {
   "cell_type": "markdown",
   "metadata": {},
   "source": [
    "# Closed non-contextual subspaces"
   ]
  },
  {
   "cell_type": "code",
   "execution_count": 1,
   "metadata": {},
   "outputs": [
    {
     "name": "stderr",
     "output_type": "stream",
     "text": [
      "\u001b[32m\u001b[1m  Activating\u001b[22m\u001b[39m project at `~/GitHub/StabTheory/MyProject`\n"
     ]
    }
   ],
   "source": [
    "# initialize project:\n",
    "using Pkg; Pkg.activate(\"./MyProject\");;\n",
    "\n",
    "# Find current path\n",
    "CURRENT = pwd(); LIB_PATH = joinpath(CURRENT,\"libs\");\n",
    "\n",
    "# include auxiliary Julia scripts:\n",
    "for file in readdir(LIB_PATH)\n",
    "    # Check if the file ends with \".jl\" extension\n",
    "    if endswith(file, \".jl\")\n",
    "        include(joinpath(LIB_PATH, file))\n",
    "    end\n",
    "end"
   ]
  },
  {
   "cell_type": "markdown",
   "metadata": {},
   "source": [
    "## ${2}$-qubit"
   ]
  },
  {
   "cell_type": "code",
   "execution_count": 2,
   "metadata": {},
   "outputs": [],
   "source": [
    "symplectic_group(2)"
   ]
  },
  {
   "cell_type": "code",
   "execution_count": 3,
   "metadata": {},
   "outputs": [
    {
     "data": {
      "text/plain": [
       "6-element Vector{Any}:\n",
       " Any[Any[0, 0, 0, 0], Any[0, 0, 1, 1], Any[0, 1, 0, 0], Any[0, 1, 0, 1], Any[1, 0, 0, 1], Any[1, 0, 1, 1]]\n",
       " Any[Any[0, 0, 0, 0], Any[0, 0, 1, 1], Any[0, 1, 1, 0], Any[0, 1, 1, 1], Any[1, 0, 0, 0], Any[1, 0, 1, 0]]\n",
       " Any[Any[0, 0, 0, 0], Any[0, 0, 0, 1], Any[0, 1, 0, 0], Any[0, 1, 1, 1], Any[1, 1, 0, 1], Any[1, 1, 1, 1]]\n",
       " Any[Any[0, 0, 0, 0], Any[0, 0, 0, 1], Any[0, 1, 0, 1], Any[0, 1, 1, 0], Any[1, 1, 0, 0], Any[1, 1, 1, 0]]\n",
       " Any[Any[0, 0, 0, 0], Any[0, 0, 1, 0], Any[1, 0, 0, 1], Any[1, 0, 1, 0], Any[1, 1, 0, 0], Any[1, 1, 0, 1]]\n",
       " Any[Any[0, 0, 0, 0], Any[0, 0, 1, 0], Any[1, 0, 0, 0], Any[1, 0, 1, 1], Any[1, 1, 1, 0], Any[1, 1, 1, 1]]"
      ]
     },
     "metadata": {},
     "output_type": "display_data"
    }
   ],
   "source": [
    "# n =2, m=2 cnc set:\n",
    "n2m2 = [[0,0,0,0],[0,1,0,0],[0,1,0,1],[1,0,0,1],[1,0,1,1],[0,0,1,1]];\n",
    "On2m2 = symplectic_orbit(2,n2m2)"
   ]
  },
  {
   "cell_type": "code",
   "execution_count": 4,
   "metadata": {},
   "outputs": [
    {
     "data": {
      "text/plain": [
       "15-element Vector{Any}:\n",
       " Any[Any[0, 0, 0, 0], Any[0, 0, 1, 0], Any[0, 1, 0, 0], Any[0, 1, 1, 0], Any[1, 0, 0, 0], Any[1, 0, 1, 0], Any[1, 1, 0, 0], Any[1, 1, 1, 0]]\n",
       " Any[Any[0, 0, 0, 0], Any[0, 0, 0, 1], Any[0, 1, 1, 0], Any[0, 1, 1, 1], Any[1, 0, 0, 0], Any[1, 0, 0, 1], Any[1, 1, 1, 0], Any[1, 1, 1, 1]]\n",
       " Any[Any[0, 0, 0, 0], Any[0, 0, 0, 1], Any[0, 1, 0, 0], Any[0, 1, 0, 1], Any[1, 0, 0, 0], Any[1, 0, 0, 1], Any[1, 1, 0, 0], Any[1, 1, 0, 1]]\n",
       " Any[Any[0, 0, 0, 0], Any[0, 0, 1, 0], Any[0, 1, 0, 1], Any[0, 1, 1, 1], Any[1, 0, 0, 0], Any[1, 0, 1, 0], Any[1, 1, 0, 1], Any[1, 1, 1, 1]]\n",
       " Any[Any[0, 0, 0, 0], Any[0, 0, 1, 1], Any[0, 1, 0, 1], Any[0, 1, 1, 0], Any[1, 0, 0, 1], Any[1, 0, 1, 0], Any[1, 1, 0, 0], Any[1, 1, 1, 1]]\n",
       " Any[Any[0, 0, 0, 0], Any[0, 0, 0, 1], Any[0, 0, 1, 0], Any[0, 0, 1, 1], Any[1, 1, 0, 0], Any[1, 1, 0, 1], Any[1, 1, 1, 0], Any[1, 1, 1, 1]]\n",
       " Any[Any[0, 0, 0, 0], Any[0, 0, 0, 1], Any[0, 0, 1, 0], Any[0, 0, 1, 1], Any[1, 0, 0, 0], Any[1, 0, 0, 1], Any[1, 0, 1, 0], Any[1, 0, 1, 1]]\n",
       " Any[Any[0, 0, 0, 0], Any[0, 0, 0, 1], Any[0, 0, 1, 0], Any[0, 0, 1, 1], Any[0, 1, 0, 0], Any[0, 1, 0, 1], Any[0, 1, 1, 0], Any[0, 1, 1, 1]]\n",
       " Any[Any[0, 0, 0, 0], Any[0, 0, 0, 1], Any[0, 1, 0, 0], Any[0, 1, 0, 1], Any[1, 0, 1, 0], Any[1, 0, 1, 1], Any[1, 1, 1, 0], Any[1, 1, 1, 1]]\n",
       " Any[Any[0, 0, 0, 0], Any[0, 0, 1, 0], Any[0, 1, 0, 1], Any[0, 1, 1, 1], Any[1, 0, 0, 1], Any[1, 0, 1, 1], Any[1, 1, 0, 0], Any[1, 1, 1, 0]]\n",
       " Any[Any[0, 0, 0, 0], Any[0, 0, 1, 1], Any[0, 1, 0, 0], Any[0, 1, 1, 1], Any[1, 0, 0, 1], Any[1, 0, 1, 0], Any[1, 1, 0, 1], Any[1, 1, 1, 0]]\n",
       " Any[Any[0, 0, 0, 0], Any[0, 0, 1, 0], Any[0, 1, 0, 0], Any[0, 1, 1, 0], Any[1, 0, 0, 1], Any[1, 0, 1, 1], Any[1, 1, 0, 1], Any[1, 1, 1, 1]]\n",
       " Any[Any[0, 0, 0, 0], Any[0, 0, 1, 1], Any[0, 1, 0, 1], Any[0, 1, 1, 0], Any[1, 0, 0, 0], Any[1, 0, 1, 1], Any[1, 1, 0, 1], Any[1, 1, 1, 0]]\n",
       " Any[Any[0, 0, 0, 0], Any[0, 0, 0, 1], Any[0, 1, 1, 0], Any[0, 1, 1, 1], Any[1, 0, 1, 0], Any[1, 0, 1, 1], Any[1, 1, 0, 0], Any[1, 1, 0, 1]]\n",
       " Any[Any[0, 0, 0, 0], Any[0, 0, 1, 1], Any[0, 1, 0, 0], Any[0, 1, 1, 1], Any[1, 0, 0, 0], Any[1, 0, 1, 1], Any[1, 1, 0, 0], Any[1, 1, 1, 1]]"
      ]
     },
     "metadata": {},
     "output_type": "display_data"
    }
   ],
   "source": [
    "# n =2, m=1\n",
    "n2m1 = [[0,0,0,0],[0,1,0,0],[1,0,0,0],[1,1,0,0],[1,0,1,0],[1,1,1,0],[0,0,1,0],[0,1,1,0]];\n",
    "On2m1 = symplectic_orbit(2,n2m1)"
   ]
  },
  {
   "cell_type": "markdown",
   "metadata": {},
   "source": [
    "# $3$-qubit"
   ]
  },
  {
   "cell_type": "code",
   "execution_count": 7,
   "metadata": {},
   "outputs": [],
   "source": [
    "symplectic_group(3)"
   ]
  },
  {
   "cell_type": "code",
   "execution_count": 11,
   "metadata": {},
   "outputs": [],
   "source": [
    "n3m3 = [[0,0,0,0,0,0],[1,0,0,0,0,0],[1,0,0,1,0,0],[0,0,1,1,0,0],[0,0,1,1,0,1],[0,1,0,1,0,0],[0,1,0,1,1,0],[0,0,0,1,1,0]]\n",
    "#On3m3 = symplectic_orbit(3,n3m3)"
   ]
  }
 ],
 "metadata": {
  "kernelspec": {
   "display_name": "Julia 1.10.2",
   "language": "julia",
   "name": "julia-1.10"
  },
  "language_info": {
   "file_extension": ".jl",
   "mimetype": "application/julia",
   "name": "julia",
   "version": "1.10.2"
  }
 },
 "nbformat": 4,
 "nbformat_minor": 2
}
