{
 "cells": [
  {
   "cell_type": "code",
   "execution_count": 1,
   "metadata": {},
   "outputs": [
    {
     "name": "stderr",
     "output_type": "stream",
     "text": [
      "\u001b[32m\u001b[1m  Activating\u001b[22m\u001b[39m project at `~/GitHub/StabTheory/MyProject`\n"
     ]
    }
   ],
   "source": [
    "# initialize project:\n",
    "using Pkg; Pkg.activate(\"./MyProject\");;\n",
    "\n",
    "# Find current path\n",
    "CURRENT = pwd(); LIB_PATH = joinpath(CURRENT,\"libs\");\n",
    "\n",
    "# include auxiliary Julia scripts:\n",
    "for file in readdir(LIB_PATH)\n",
    "    # Check if the file ends with \".jl\" extension\n",
    "    if endswith(file, \".jl\")\n",
    "        include(joinpath(LIB_PATH, file))\n",
    "    end\n",
    "end\n",
    "\n",
    "const g = GAP.Globals;\n",
    "const gjl = GAP.gap_to_julia\n",
    "const jlg = GAP.julia_to_gap\n",
    "\n",
    "using Polymake\n",
    "const pm = Polymake;"
   ]
  },
  {
   "cell_type": "markdown",
   "metadata": {},
   "source": [
    "We can get the canonical maximal cnc by specifying n and m values"
   ]
  },
  {
   "cell_type": "code",
   "execution_count": 2,
   "metadata": {},
   "outputs": [
    {
     "data": {
      "text/plain": [
       "Set{Vector{Int64}} with 8 elements:\n",
       "  [1, 1, 1, 0]\n",
       "  [1, 0, 1, 0]\n",
       "  [0, 1, 0, 0]\n",
       "  [0, 0, 0, 0]\n",
       "  [1, 1, 0, 0]\n",
       "  [0, 1, 1, 0]\n",
       "  [0, 0, 1, 0]\n",
       "  [1, 0, 0, 0]"
      ]
     },
     "metadata": {},
     "output_type": "display_data"
    }
   ],
   "source": [
    "cnc_full_set_2_2 = get_full_cnc_set(2, 1)"
   ]
  },
  {
   "cell_type": "markdown",
   "metadata": {},
   "source": [
    "If we want to use it as Maximal CNC set, we can achieve it easily by directly using the constructor. Note that according to the currrent implementation, the full set of maximal cnc must be given as a set of vectors."
   ]
  },
  {
   "cell_type": "code",
   "execution_count": 3,
   "metadata": {},
   "outputs": [
    {
     "data": {
      "text/plain": [
       "Maximal CNC set:\n",
       "- Isotropic generators:\n",
       "  [\"IX\"]\n",
       "- Anticommuting Paulis:\n",
       "  [\"YX\", \"XX\", \"ZX\"]\n"
      ]
     },
     "metadata": {},
     "output_type": "display_data"
    }
   ],
   "source": [
    "cnc_set_2_2 = MaximalCncSet(cnc_full_set_2_2)"
   ]
  },
  {
   "cell_type": "code",
   "execution_count": 4,
   "metadata": {},
   "outputs": [
    {
     "name": "stdout",
     "output_type": "stream",
     "text": [
      "(n = 2, m = 1)"
     ]
    }
   ],
   "source": [
    "print(\"(n = $(cnc_set_2_2.n), m = $(cnc_set_2_2.m))\")"
   ]
  },
  {
   "cell_type": "markdown",
   "metadata": {},
   "source": [
    "As it can be seen from above, it automatically identifies isotropic generators and anticommuting paulis."
   ]
  },
  {
   "cell_type": "markdown",
   "metadata": {},
   "source": [
    "Now we will demonstrate two ways that we can create maximal cnc set.\n",
    "- By specifying isotropic generators and anticommuting paulis\n",
    "- By giving the full set of maximal cnc"
   ]
  },
  {
   "cell_type": "code",
   "execution_count": 5,
   "metadata": {},
   "outputs": [
    {
     "name": "stdout",
     "output_type": "stream",
     "text": [
      "Isotropic generators:\n",
      "IX,\n",
      "\n",
      "Anticommuting Paulis:\n",
      "YI, XI, ZI, "
     ]
    },
    {
     "data": {
      "text/plain": [
       "Maximal CNC set:\n",
       "- Isotropic generators:\n",
       "  [\"IX\"]\n",
       "- Anticommuting Paulis:\n",
       "  [\"YI\", \"XI\", \"ZI\"]\n"
      ]
     },
     "metadata": {},
     "output_type": "display_data"
    }
   ],
   "source": [
    "isotropic_generators = Set{Vector{Int}}([[0, 1, 0, 0]])\n",
    "\n",
    "println(\"Isotropic generators:\")\n",
    "for iso_gen in isotropic_generators\n",
    "    print(\"$(get_pauli_string(iso_gen)),\")\n",
    "end\n",
    "anticommuting_paulis = Set{Vector{Int}}([[1, 0, 0, 0], [1, 0, 1, 0], [0, 0, 1, 0]])\n",
    "\n",
    "println(\"\\n\\nAnticommuting Paulis:\")\n",
    "for ac_pauli in anticommuting_paulis\n",
    "    print(\"$(get_pauli_string(ac_pauli)), \")\n",
    "end\n",
    "\n",
    "cnc = MaximalCncSet(isotropic_generators, anticommuting_paulis)"
   ]
  },
  {
   "cell_type": "code",
   "execution_count": 6,
   "metadata": {},
   "outputs": [
    {
     "name": "stdout",
     "output_type": "stream",
     "text": [
      "Full set:\n",
      "YX, YI, IX, II, XX, ZX, XI, ZI, "
     ]
    },
    {
     "data": {
      "text/plain": [
       "Maximal CNC set:\n",
       "- Isotropic generators:\n",
       "  [\"IX\"]\n",
       "- Anticommuting Paulis:\n",
       "  [\"YX\", \"XX\", \"ZX\"]\n"
      ]
     },
     "metadata": {},
     "output_type": "display_data"
    }
   ],
   "source": [
    "cnc_full_set = Set{Vector{Int}}([[0, 0, 0, 0], [0, 1, 0, 0], [1, 0, 1, 0], [1, 1, 1, 0],\n",
    "[1, 0, 0, 0], [1, 1, 0, 0], [0, 0, 1, 0], [0, 1, 1, 0]])\n",
    "\n",
    "println(\"Full set:\")\n",
    "for pauli in cnc_full_set\n",
    "    print(\"$(get_pauli_string(pauli)), \")\n",
    "end\n",
    "\n",
    "cnc = MaximalCncSet(cnc_full_set)"
   ]
  },
  {
   "cell_type": "markdown",
   "metadata": {},
   "source": [
    "Now we can find all possible maximal cnc for given set by defining all possible value assignments."
   ]
  },
  {
   "cell_type": "code",
   "execution_count": 7,
   "metadata": {},
   "outputs": [
    {
     "name": "stdout",
     "output_type": "stream",
     "text": [
      "Maximal CNC set: Maximal CNC set:\n",
      "- Isotropic generators:\n",
      "  [\"IX\"]\n",
      "- Anticommuting Paulis:\n",
      "  [\"YI\", \"XI\", \"ZI\"]\n"
     ]
    }
   ],
   "source": [
    "isotropic_generators = Set{Vector{Int}}([[0, 1, 0, 0]])\n",
    "anticommuting_paulis = Set{Vector{Int}}([[1, 0, 0, 0], [1, 0, 1, 0], [0, 0, 1, 0]])\n",
    "\n",
    "maximal_cnc_set = MaximalCncSet(isotropic_generators, anticommuting_paulis)\n",
    "print(\"Maximal CNC set: $(maximal_cnc_set)\")"
   ]
  },
  {
   "cell_type": "code",
   "execution_count": 11,
   "metadata": {},
   "outputs": [
    {
     "name": "stdout",
     "output_type": "stream",
     "text": [
      "All CNCs:\n",
      "CNC:\n",
      "Maximal CNC set:\n",
      "- Isotropic generators:\n",
      "  [\"IX\"]\n",
      "- Anticommuting Paulis:\n",
      "  [\"YI\", \"XI\", \"ZI\"]\n",
      "\n",
      "- Value assignment:\n",
      "  YX: 1\n",
      "  YI: -1\n",
      "  IX: -1\n",
      "  II: 1\n",
      "  XX: -1\n",
      "  ZX: -1\n",
      "  XI: 1\n",
      "  ZI: 1\n",
      "\n",
      "\n",
      "CNC:\n",
      "Maximal CNC set:\n",
      "- Isotropic generators:\n",
      "  [\"IX\"]\n",
      "- Anticommuting Paulis:\n",
      "  [\"YI\", \"XI\", \"ZI\"]\n",
      "\n",
      "- Value assignment:\n",
      "  YX: 1\n",
      "  YI: -1\n",
      "  IX: -1\n",
      "  II: 1\n",
      "  XX: 1\n",
      "  ZX: -1\n",
      "  XI: -1\n",
      "  ZI: 1\n",
      "\n",
      "\n",
      "CNC:\n",
      "Maximal CNC set:\n",
      "- Isotropic generators:\n",
      "  [\"IX\"]\n",
      "- Anticommuting Paulis:\n",
      "  [\"YI\", \"XI\", \"ZI\"]\n",
      "\n",
      "- Value assignment:\n",
      "  YX: 1\n",
      "  YI: 1\n",
      "  IX: 1\n",
      "  II: 1\n",
      "  XX: 1\n",
      "  ZX: -1\n",
      "  XI: 1\n",
      "  ZI: -1\n",
      "\n",
      "\n",
      "CNC:\n",
      "Maximal CNC set:\n",
      "- Isotropic generators:\n",
      "  [\"IX\"]\n",
      "- Anticommuting Paulis:\n",
      "  [\"YI\", \"XI\", \"ZI\"]\n",
      "\n",
      "- Value assignment:\n",
      "  YX: -1\n",
      "  YI: 1\n",
      "  IX: -1\n",
      "  II: 1\n",
      "  XX: 1\n",
      "  ZX: -1\n",
      "  XI: -1\n",
      "  ZI: 1\n",
      "\n",
      "\n",
      "CNC:\n",
      "Maximal CNC set:\n",
      "- Isotropic generators:\n",
      "  [\"IX\"]\n",
      "- Anticommuting Paulis:\n",
      "  [\"YI\", \"XI\", \"ZI\"]\n",
      "\n",
      "- Value assignment:\n",
      "  YX: 1\n",
      "  YI: 1\n",
      "  IX: 1\n",
      "  II: 1\n",
      "  XX: -1\n",
      "  ZX: 1\n",
      "  XI: -1\n",
      "  ZI: 1\n",
      "\n",
      "\n",
      "CNC:\n",
      "Maximal CNC set:\n",
      "- Isotropic generators:\n",
      "  [\"IX\"]\n",
      "- Anticommuting Paulis:\n",
      "  [\"YI\", \"XI\", \"ZI\"]\n",
      "\n",
      "- Value assignment:\n",
      "  YX: 1\n",
      "  YI: 1\n",
      "  IX: 1\n",
      "  II: 1\n",
      "  XX: -1\n",
      "  ZX: -1\n",
      "  XI: -1\n",
      "  ZI: -1\n",
      "\n",
      "\n",
      "CNC:\n",
      "Maximal CNC set:\n",
      "- Isotropic generators:\n",
      "  [\"IX\"]\n",
      "- Anticommuting Paulis:\n",
      "  [\"YI\", \"XI\", \"ZI\"]\n",
      "\n",
      "- Value assignment:\n",
      "  YX: 1\n",
      "  YI: -1\n",
      "  IX: -1\n",
      "  II: 1\n",
      "  XX: 1\n",
      "  ZX: 1\n",
      "  XI: -1\n",
      "  ZI: -1\n",
      "\n",
      "\n",
      "CNC:\n",
      "Maximal CNC set:\n",
      "- Isotropic generators:\n",
      "  [\"IX\"]\n",
      "- Anticommuting Paulis:\n",
      "  [\"YI\", \"XI\", \"ZI\"]\n",
      "\n",
      "- Value assignment:\n",
      "  YX: -1\n",
      "  YI: -1\n",
      "  IX: 1\n",
      "  II: 1\n",
      "  XX: -1\n",
      "  ZX: 1\n",
      "  XI: -1\n",
      "  ZI: 1\n",
      "\n",
      "\n",
      "CNC:\n",
      "Maximal CNC set:\n",
      "- Isotropic generators:\n",
      "  [\"IX\"]\n",
      "- Anticommuting Paulis:\n",
      "  [\"YI\", \"XI\", \"ZI\"]\n",
      "\n",
      "- Value assignment:\n",
      "  YX: -1\n",
      "  YI: 1\n",
      "  IX: -1\n",
      "  II: 1\n",
      "  XX: -1\n",
      "  ZX: 1\n",
      "  XI: 1\n",
      "  ZI: -1\n",
      "\n",
      "\n",
      "CNC:\n",
      "Maximal CNC set:\n",
      "- Isotropic generators:\n",
      "  [\"IX\"]\n",
      "- Anticommuting Paulis:\n",
      "  [\"YI\", \"XI\", \"ZI\"]\n",
      "\n",
      "- Value assignment:\n",
      "  YX: 1\n",
      "  YI: 1\n",
      "  IX: 1\n",
      "  II: 1\n",
      "  XX: 1\n",
      "  ZX: 1\n",
      "  XI: 1\n",
      "  ZI: 1\n",
      "\n",
      "\n",
      "CNC:\n",
      "Maximal CNC set:\n",
      "- Isotropic generators:\n",
      "  [\"IX\"]\n",
      "- Anticommuting Paulis:\n",
      "  [\"YI\", \"XI\", \"ZI\"]\n",
      "\n",
      "- Value assignment:\n",
      "  YX: -1\n",
      "  YI: 1\n",
      "  IX: -1\n",
      "  II: 1\n",
      "  XX: -1\n",
      "  ZX: -1\n",
      "  XI: 1\n",
      "  ZI: 1\n",
      "\n",
      "\n",
      "CNC:\n",
      "Maximal CNC set:\n",
      "- Isotropic generators:\n",
      "  [\"IX\"]\n",
      "- Anticommuting Paulis:\n",
      "  [\"YI\", \"XI\", \"ZI\"]\n",
      "\n",
      "- Value assignment:\n",
      "  YX: -1\n",
      "  YI: 1\n",
      "  IX: -1\n",
      "  II: 1\n",
      "  XX: 1\n",
      "  ZX: 1\n",
      "  XI: -1\n",
      "  ZI: -1\n",
      "\n",
      "\n",
      "CNC:\n",
      "Maximal CNC set:\n",
      "- Isotropic generators:\n",
      "  [\"IX\"]\n",
      "- Anticommuting Paulis:\n",
      "  [\"YI\", \"XI\", \"ZI\"]\n",
      "\n",
      "- Value assignment:\n",
      "  YX: -1\n",
      "  YI: -1\n",
      "  IX: 1\n",
      "  II: 1\n",
      "  XX: 1\n",
      "  ZX: -1\n",
      "  XI: 1\n",
      "  ZI: -1\n",
      "\n",
      "\n",
      "CNC:\n",
      "Maximal CNC set:\n",
      "- Isotropic generators:\n",
      "  [\"IX\"]\n",
      "- Anticommuting Paulis:\n",
      "  [\"YI\", \"XI\", \"ZI\"]\n",
      "\n",
      "- Value assignment:\n",
      "  YX: 1\n",
      "  YI: -1\n",
      "  IX: -1\n",
      "  II: 1\n",
      "  XX: -1\n",
      "  ZX: 1\n",
      "  XI: 1\n",
      "  ZI: -1\n",
      "\n",
      "\n",
      "CNC:\n",
      "Maximal CNC set:\n",
      "- Isotropic generators:\n",
      "  [\"IX\"]\n",
      "- Anticommuting Paulis:\n",
      "  [\"YI\", \"XI\", \"ZI\"]\n",
      "\n",
      "- Value assignment:\n",
      "  YX: -1\n",
      "  YI: -1\n",
      "  IX: 1\n",
      "  II: 1\n",
      "  XX: -1\n",
      "  ZX: -1\n",
      "  XI: -1\n",
      "  ZI: -1\n",
      "\n",
      "\n",
      "CNC:\n",
      "Maximal CNC set:\n",
      "- Isotropic generators:\n",
      "  [\"IX\"]\n",
      "- Anticommuting Paulis:\n",
      "  [\"YI\", \"XI\", \"ZI\"]\n",
      "\n",
      "- Value assignment:\n",
      "  YX: -1\n",
      "  YI: -1\n",
      "  IX: 1\n",
      "  II: 1\n",
      "  XX: 1\n",
      "  ZX: 1\n",
      "  XI: 1\n",
      "  ZI: 1\n",
      "\n",
      "\n"
     ]
    }
   ],
   "source": [
    "all_cncs = generate_all_cncs_for_given_cnc_set(maximal_cnc_set)\n",
    "\n",
    "println(\"All CNCs:\")\n",
    "for cnc in all_cncs\n",
    "    print(\"$(cnc)\\n\\n\")\n",
    "end"
   ]
  },
  {
   "cell_type": "markdown",
   "metadata": {},
   "source": []
  }
 ],
 "metadata": {
  "kernelspec": {
   "display_name": "Julia 1.10.2",
   "language": "julia",
   "name": "julia-1.10"
  },
  "language_info": {
   "file_extension": ".jl",
   "mimetype": "application/julia",
   "name": "julia",
   "version": "1.10.2"
  }
 },
 "nbformat": 4,
 "nbformat_minor": 2
}
