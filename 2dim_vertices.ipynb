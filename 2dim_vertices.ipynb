{
 "cells": [
  {
   "cell_type": "code",
   "execution_count": 64,
   "metadata": {},
   "outputs": [
    {
     "name": "stderr",
     "output_type": "stream",
     "text": [
      "\u001b[32m\u001b[1m  Activating\u001b[22m\u001b[39m project at `~/Documents/GitHub/LocalLambda/MyProject`\n"
     ]
    }
   ],
   "source": [
    "# initialize project:\n",
    "using Pkg; Pkg.activate.(\"./MyProject\");;\n",
    "\n",
    "# Find current path\n",
    "CURRENT = pwd(); LIB_PATH = joinpath(CURRENT,\"libs\");\n",
    "\n",
    "# include auxiliary Julia scripts:\n",
    "for file in readdir(LIB_PATH)\n",
    "    # Check if the file ends with \".jl\" extension\n",
    "    if endswith(file, \".jl\")\n",
    "        include(joinpath(LIB_PATH, file))\n",
    "    end\n",
    "end\n",
    "\n",
    "using Polymake\n",
    "const pm = Polymake;\n",
    "const g = GAP.Globals;"
   ]
  },
  {
   "cell_type": "code",
   "execution_count": 24,
   "metadata": {},
   "outputs": [
    {
     "data": {
      "text/plain": [
       "4-element Vector{Int64}:\n",
       " 0\n",
       " 0\n",
       " 1\n",
       " 1"
      ]
     },
     "metadata": {},
     "output_type": "display_data"
    }
   ],
   "source": [
    "II = [0, 0, 0, 0]\n",
    "XI = [1, 0, 0, 0]\n",
    "YI = [1, 0, 1, 0]\n",
    "ZI = [0, 0, 1, 0]\n",
    "IX = [0, 1, 0, 0]\n",
    "XX = [1, 1, 0, 0]\n",
    "YX = [1, 1, 1, 0]\n",
    "ZX = [0, 1, 1, 0]\n",
    "IY = [0, 1, 0, 1]\n",
    "XY = [1, 1, 0, 1]\n",
    "YY = [1, 1, 1, 1]\n",
    "ZY = [0, 1, 1, 1]\n",
    "IZ = [0, 0, 0, 1]\n",
    "XZ = [1, 0, 0, 1]\n",
    "YZ = [1, 0, 1, 1]\n",
    "ZZ_pauli = [0, 0, 1, 1]\n"
   ]
  },
  {
   "cell_type": "code",
   "execution_count": 55,
   "metadata": {},
   "outputs": [
    {
     "data": {
      "text/plain": [
       "PauliString([[0, 0, 0, 0], [0, 1, 0, 0], [0, 1, 0, 1], [0, 0, 0, 1], [1, 0, 0, 0], [1, 1, 0, 0], [1, 1, 0, 1], [1, 0, 0, 1], [1, 0, 1, 0], [1, 1, 1, 0], [1, 1, 1, 1], [1, 0, 1, 1], [0, 0, 1, 0], [0, 1, 1, 0], [0, 1, 1, 1], [0, 0, 1, 1]], [\"II\", \"IX\", \"IY\", \"IZ\", \"XI\", \"XX\", \"XY\", \"XZ\", \"YI\", \"YX\", \"YY\", \"YZ\", \"ZI\", \"ZX\", \"ZY\", \"ZZ\"], Dict(\"XZ\" => [1, 0, 0, 1], \"XY\" => [1, 1, 0, 1], \"ZX\" => [0, 1, 1, 0], \"IZ\" => [0, 0, 0, 1], \"IY\" => [0, 1, 0, 1], \"XX\" => [1, 1, 0, 0], \"ZZ\" => [0, 0, 1, 1], \"YI\" => [1, 0, 1, 0], \"XI\" => [1, 0, 0, 0], \"YY\" => [1, 1, 1, 1]…), Dict([1, 1, 1, 0] => \"YX\", [0, 1, 0, 1] => \"IY\", [0, 1, 0, 0] => \"IX\", [0, 1, 1, 1] => \"ZY\", [1, 0, 0, 1] => \"XZ\", [0, 1, 1, 0] => \"ZX\", [1, 0, 0, 0] => \"XI\", [1, 0, 1, 1] => \"YZ\", [1, 0, 1, 0] => \"YI\", [0, 0, 0, 1] => \"IZ\"…), Dict([1, 1, 1, 0] => 10, [0, 1, 0, 1] => 3, [0, 1, 0, 0] => 2, [0, 1, 1, 1] => 15, [1, 0, 0, 1] => 8, [0, 1, 1, 0] => 14, [1, 0, 0, 0] => 5, [1, 0, 1, 1] => 12, [1, 0, 1, 0] => 9, [0, 0, 0, 1] => 4…), Dict(5 => [1, 0, 0, 0], 16 => [0, 0, 1, 1], 7 => [1, 1, 0, 1], 12 => [1, 0, 1, 1], 8 => [1, 0, 0, 1], 1 => [0, 0, 0, 0], 4 => [0, 0, 0, 1], 6 => [1, 1, 0, 0], 13 => [0, 0, 1, 0], 2 => [0, 1, 0, 0]…))"
      ]
     },
     "metadata": {},
     "output_type": "display_data"
    }
   ],
   "source": [
    "i2 = canonical_maximal_isotropic(2)\n",
    "symplectic_orbit = SympOrbit(2, SympPerm(2), Set(i2)).Orbit\n",
    "\n",
    "I2loc = local_isotropics(symplectic_orbit, 2)\n",
    "A2loc = stabilizer_coefficients(2, I2loc)\n",
    "\n",
    "SP_2 = SympPerm(2)\n",
    "\n",
    "LC2 = LocalCliffordGroup(2)\n",
    "\n",
    "ps2 = PauliString(2)"
   ]
  },
  {
   "cell_type": "markdown",
   "metadata": {},
   "source": [
    "### Examples"
   ]
  },
  {
   "cell_type": "code",
   "execution_count": 13,
   "metadata": {},
   "outputs": [
    {
     "data": {
      "text/plain": [
       "Dict{Vector{Int64}, Int64} with 16 entries:\n",
       "  [1, 1, 1, 0] => 0\n",
       "  [0, 1, 0, 1] => 0\n",
       "  [0, 1, 0, 0] => 0\n",
       "  [0, 1, 1, 1] => 0\n",
       "  [0, 1, 1, 0] => 0\n",
       "  [1, 0, 0, 1] => 0\n",
       "  [1, 0, 0, 0] => 0\n",
       "  [1, 0, 1, 1] => 0\n",
       "  [1, 0, 1, 0] => 0\n",
       "  [0, 0, 0, 1] => 0\n",
       "  [0, 0, 0, 0] => 0\n",
       "  [1, 1, 0, 1] => 0\n",
       "  [1, 1, 0, 0] => 0\n",
       "  [0, 0, 1, 1] => 0\n",
       "  [0, 0, 1, 0] => 0\n",
       "  [1, 1, 1, 1] => 0"
      ]
     },
     "metadata": {},
     "output_type": "display_data"
    }
   ],
   "source": [
    "ex_1 = Dict{Vector{Int},Int}(\n",
    "    II => 0,\n",
    "    XI => 0,\n",
    "    YI => 0,\n",
    "    ZI => 0,\n",
    "    IX => 0,\n",
    "    XX => 0,\n",
    "    YX => 0,\n",
    "    ZX => 0,\n",
    "    IY => 0,\n",
    "    XY => 0,\n",
    "    YY => 0,\n",
    "    ZY => 0,\n",
    "    IZ => 0,\n",
    "    XZ => 0,\n",
    "    YZ => 0,\n",
    "    ZZ_pauli => 0\n",
    ")"
   ]
  },
  {
   "cell_type": "code",
   "execution_count": 33,
   "metadata": {},
   "outputs": [
    {
     "data": {
      "text/plain": [
       "16"
      ]
     },
     "metadata": {},
     "output_type": "display_data"
    }
   ],
   "source": [
    "find_rank_count_for_given_given_value_assignment(ex_1, 2, A2loc)"
   ]
  },
  {
   "cell_type": "code",
   "execution_count": 57,
   "metadata": {},
   "outputs": [
    {
     "name": "stdout",
     "output_type": "stream",
     "text": [
      "(\"II\", 16)\n",
      "(\"IX\", 0)\n",
      "(\"IY\", 0)\n",
      "(\"IZ\", 0)\n",
      "(\"XI\", 0)\n",
      "(\"XX\", 0)\n",
      "(\"XY\", 0)\n",
      "(\"XZ\", 0)\n",
      "(\"YI\", 0)\n",
      "(\"YX\", 0)\n",
      "(\"YY\", 0)\n",
      "(\"YZ\", 0)\n",
      "(\"ZI\", 0)\n",
      "(\"ZX\", 0)\n",
      "(\"ZY\", 0)\n",
      "(\"ZZ\", 0)\n"
     ]
    }
   ],
   "source": [
    "for item in zip(ps2.pauli_strings, calculate_point_operator_basis(ex_1, 2))\n",
    "    println(item)\n",
    "end"
   ]
  },
  {
   "cell_type": "code",
   "execution_count": 50,
   "metadata": {},
   "outputs": [
    {
     "data": {
      "text/plain": [
       "Dict{Vector{Int64}, Int64} with 16 entries:\n",
       "  [1, 1, 1, 0] => 0\n",
       "  [0, 1, 0, 1] => 1\n",
       "  [0, 1, 0, 0] => 1\n",
       "  [0, 1, 1, 1] => 0\n",
       "  [0, 1, 1, 0] => 0\n",
       "  [1, 0, 0, 1] => 0\n",
       "  [1, 0, 0, 0] => 1\n",
       "  [1, 0, 1, 1] => 0\n",
       "  [1, 0, 1, 0] => 1\n",
       "  [0, 0, 0, 1] => 1\n",
       "  [0, 0, 0, 0] => 0\n",
       "  [1, 1, 0, 1] => 0\n",
       "  [1, 1, 0, 0] => 0\n",
       "  [0, 0, 1, 1] => 0\n",
       "  [0, 0, 1, 0] => 1\n",
       "  [1, 1, 1, 1] => 0"
      ]
     },
     "metadata": {},
     "output_type": "display_data"
    }
   ],
   "source": [
    "ex_2 = Dict{Vector{Int},Int}(\n",
    "    II => 0,\n",
    "    XI => 1,\n",
    "    YI => 1,\n",
    "    ZI => 1,\n",
    "    IX => 1,\n",
    "    XX => 0,\n",
    "    YX => 0,\n",
    "    ZX => 0,\n",
    "    IY => 1,\n",
    "    XY => 0,\n",
    "    YY => 0,\n",
    "    ZY => 0,\n",
    "    IZ => 1,\n",
    "    XZ => 0,\n",
    "    YZ => 0,\n",
    "    ZZ_pauli => 0\n",
    ")"
   ]
  },
  {
   "cell_type": "code",
   "execution_count": 40,
   "metadata": {},
   "outputs": [
    {
     "data": {
      "text/plain": [
       "14"
      ]
     },
     "metadata": {},
     "output_type": "display_data"
    }
   ],
   "source": [
    "find_rank_count_for_given_given_value_assignment(ex_2, 2, A2loc)"
   ]
  },
  {
   "cell_type": "code",
   "execution_count": 58,
   "metadata": {},
   "outputs": [
    {
     "name": "stdout",
     "output_type": "stream",
     "text": [
      "(\"II\", 4)\n",
      "(\"IX\", -4)\n",
      "(\"IY\", -4)\n",
      "(\"IZ\", -4)\n",
      "(\"XI\", -4)\n",
      "(\"XX\", 4)\n",
      "(\"XY\", 4)\n",
      "(\"XZ\", 4)\n",
      "(\"YI\", -4)\n",
      "(\"YX\", 4)\n",
      "(\"YY\", 4)\n",
      "(\"YZ\", 4)\n",
      "(\"ZI\", -4)\n",
      "(\"ZX\", 4)\n",
      "(\"ZY\", 4)\n",
      "(\"ZZ\", 4)\n"
     ]
    }
   ],
   "source": [
    "for item in zip(ps2.pauli_strings, calculate_point_operator_basis(ex_2, 2))\n",
    "    println(item)\n",
    "end"
   ]
  },
  {
   "cell_type": "code",
   "execution_count": 51,
   "metadata": {},
   "outputs": [
    {
     "data": {
      "text/plain": [
       "Dict{Vector{Int64}, Int64} with 10 entries:\n",
       "  [1, 1, 1, 0] => 0\n",
       "  [1, 0, 1, 1] => 0\n",
       "  [0, 0, 0, 0] => 0\n",
       "  [1, 1, 0, 1] => 0\n",
       "  [0, 1, 1, 1] => 0\n",
       "  [1, 1, 0, 0] => 0\n",
       "  [0, 1, 1, 0] => 0\n",
       "  [1, 0, 0, 1] => 0\n",
       "  [0, 0, 1, 1] => 0\n",
       "  [1, 1, 1, 1] => 1"
      ]
     },
     "metadata": {},
     "output_type": "display_data"
    }
   ],
   "source": [
    "ex_3 = Dict{Vector{Int},Int}(\n",
    "    II => 0,\n",
    "    XX => 0,\n",
    "    YX => 0,\n",
    "    ZX => 0,\n",
    "    XY => 0,\n",
    "    YY => 1,\n",
    "    ZY => 0,\n",
    "    XZ => 0,\n",
    "    YZ => 0,\n",
    "    ZZ_pauli => 0\n",
    ")"
   ]
  },
  {
   "cell_type": "code",
   "execution_count": 52,
   "metadata": {},
   "outputs": [
    {
     "data": {
      "text/plain": [
       "15"
      ]
     },
     "metadata": {},
     "output_type": "display_data"
    }
   ],
   "source": [
    "find_rank_count_for_given_given_value_assignment(ex_3, 2, A2loc)"
   ]
  },
  {
   "cell_type": "code",
   "execution_count": 65,
   "metadata": {},
   "outputs": [
    {
     "name": "stdout",
     "output_type": "stream",
     "text": [
      "(\"II\", 8)\n",
      "(\"IX\", 0)\n",
      "(\"IY\", -4)\n",
      "(\"IZ\", 0)\n",
      "(\"XI\", 0)\n",
      "(\"XX\", 0)\n",
      "(\"XY\", 4)\n",
      "(\"XZ\", 0)\n",
      "(\"YI\", -4)\n",
      "(\"YX\", 4)\n",
      "(\"YY\", 0)\n",
      "(\"YZ\", 4)\n",
      "(\"ZI\", 0)\n",
      "(\"ZX\", 0)\n",
      "(\"ZY\", 4)\n",
      "(\"ZZ\", 0)\n"
     ]
    }
   ],
   "source": [
    "for item in zip(ps2.pauli_strings, calculate_point_operator_basis(ex_3, 2))\n",
    "    println(item)\n",
    "end"
   ]
  },
  {
   "cell_type": "code",
   "execution_count": 66,
   "metadata": {},
   "outputs": [
    {
     "data": {
      "text/plain": [
       "Dict{Vector{Int64}, Int64} with 8 entries:\n",
       "  [1, 1, 1, 0] => 0\n",
       "  [1, 0, 1, 1] => 0\n",
       "  [0, 0, 0, 0] => 0\n",
       "  [0, 1, 1, 1] => 0\n",
       "  [0, 1, 1, 0] => 0\n",
       "  [0, 0, 1, 1] => 0\n",
       "  [1, 0, 0, 0] => 0\n",
       "  [1, 1, 1, 1] => 1"
      ]
     },
     "metadata": {},
     "output_type": "display_data"
    }
   ],
   "source": [
    "ex_4 = Dict{Vector{Int},Int}(\n",
    "    II => 0,\n",
    "    XI => 0,\n",
    "    YX => 0,\n",
    "    ZX => 0,\n",
    "    YY => 1,\n",
    "    ZY => 0,\n",
    "    YZ => 0,\n",
    "    ZZ_pauli => 0\n",
    ")"
   ]
  },
  {
   "cell_type": "code",
   "execution_count": 67,
   "metadata": {},
   "outputs": [
    {
     "data": {
      "text/plain": [
       "15"
      ]
     },
     "metadata": {},
     "output_type": "display_data"
    }
   ],
   "source": [
    "find_rank_count_for_given_given_value_assignment(ex_4, 2, A2loc)"
   ]
  },
  {
   "cell_type": "code",
   "execution_count": 68,
   "metadata": {},
   "outputs": [
    {
     "name": "stdout",
     "output_type": "stream",
     "text": [
      "(\"II\", 6)\n",
      "(\"IX\", 2)\n",
      "(\"IY\", -2)\n",
      "(\"IZ\", 2)\n",
      "(\"XI\", -2)\n",
      "(\"XX\", 2)\n",
      "(\"XY\", 6)\n",
      "(\"XZ\", 2)\n",
      "(\"YI\", -2)\n",
      "(\"YX\", 2)\n",
      "(\"YY\", -2)\n",
      "(\"YZ\", 2)\n",
      "(\"ZI\", 2)\n",
      "(\"ZX\", -2)\n",
      "(\"ZY\", 2)\n",
      "(\"ZZ\", -2)\n"
     ]
    }
   ],
   "source": [
    "for item in zip(ps2.pauli_strings, calculate_point_operator_basis(ex_4, 2))\n",
    "    println(item)\n",
    "end"
   ]
  },
  {
   "cell_type": "code",
   "execution_count": 77,
   "metadata": {},
   "outputs": [
    {
     "data": {
      "text/plain": [
       "Dict{Vector{Int64}, Int64} with 8 entries:\n",
       "  [1, 0, 1, 1] => 0\n",
       "  [0, 1, 0, 0] => 0\n",
       "  [0, 0, 0, 0] => 0\n",
       "  [0, 1, 1, 1] => 0\n",
       "  [1, 1, 0, 0] => 0\n",
       "  [0, 0, 1, 1] => 0\n",
       "  [1, 0, 0, 0] => 0\n",
       "  [1, 1, 1, 1] => 1"
      ]
     },
     "metadata": {},
     "output_type": "display_data"
    }
   ],
   "source": [
    "ex_5 = Dict{Vector{Int},Int}(\n",
    "    II => 0,\n",
    "    XI => 0,\n",
    "    IX => 0,\n",
    "    XX => 0,\n",
    "    YY => 1,\n",
    "    ZY => 0,\n",
    "    YZ => 0,\n",
    "    ZZ_pauli => 0\n",
    ")"
   ]
  },
  {
   "cell_type": "code",
   "execution_count": 74,
   "metadata": {},
   "outputs": [
    {
     "data": {
      "text/plain": [
       "15"
      ]
     },
     "metadata": {},
     "output_type": "display_data"
    }
   ],
   "source": [
    "find_rank_count_for_given_given_value_assignment(ex_5, 2, A2loc)"
   ]
  },
  {
   "cell_type": "code",
   "execution_count": 75,
   "metadata": {},
   "outputs": [
    {
     "name": "stdout",
     "output_type": "stream",
     "text": [
      "(\"II\", 6)\n",
      "(\"IX\", 2)\n",
      "(\"IY\", -2)\n",
      "(\"IZ\", 2)\n",
      "(\"XI\", 2)\n",
      "(\"XX\", 6)\n",
      "(\"XY\", 2)\n",
      "(\"XZ\", -2)\n",
      "(\"YI\", -2)\n",
      "(\"YX\", 2)\n",
      "(\"YY\", -2)\n",
      "(\"YZ\", 2)\n",
      "(\"ZI\", 2)\n",
      "(\"ZX\", -2)\n",
      "(\"ZY\", 2)\n",
      "(\"ZZ\", -2)\n"
     ]
    }
   ],
   "source": [
    "for item in zip(ps2.pauli_strings, calculate_point_operator_basis(ex_5, 2))\n",
    "    println(item)\n",
    "end"
   ]
  },
  {
   "cell_type": "markdown",
   "metadata": {},
   "source": [
    "### Patent Document Examples"
   ]
  },
  {
   "cell_type": "code",
   "execution_count": 78,
   "metadata": {},
   "outputs": [
    {
     "data": {
      "text/plain": [
       "Dict{Vector{Int64}, Int64} with 8 entries:\n",
       "  [1, 1, 1, 0] => 0\n",
       "  [0, 0, 0, 1] => 0\n",
       "  [0, 0, 0, 0] => 0\n",
       "  [1, 1, 0, 1] => 0\n",
       "  [1, 1, 0, 0] => 0\n",
       "  [0, 0, 1, 1] => 0\n",
       "  [0, 0, 1, 0] => 0\n",
       "  [1, 1, 1, 1] => 1"
      ]
     },
     "metadata": {},
     "output_type": "display_data"
    }
   ],
   "source": [
    "ex_6 = Dict{Vector{Int},Int}(\n",
    "    II => 0,\n",
    "    ZI => 0,\n",
    "    IZ => 0,\n",
    "    XX => 0,\n",
    "    XY => 0,\n",
    "    YX => 0,\n",
    "    YY => 1,\n",
    "    ZZ_pauli => 0\n",
    ")"
   ]
  },
  {
   "cell_type": "code",
   "execution_count": 79,
   "metadata": {},
   "outputs": [
    {
     "data": {
      "text/plain": [
       "15"
      ]
     },
     "metadata": {},
     "output_type": "display_data"
    }
   ],
   "source": [
    "find_rank_count_for_given_given_value_assignment(ex_6, 2, A2loc)"
   ]
  },
  {
   "cell_type": "code",
   "execution_count": 80,
   "metadata": {},
   "outputs": [
    {
     "name": "stdout",
     "output_type": "stream",
     "text": [
      "(\"II\", 6)\n",
      "(\"IX\", 2)\n",
      "(\"IY\", -2)\n",
      "(\"IZ\", 2)\n",
      "(\"XI\", 2)\n",
      "(\"XX\", -2)\n",
      "(\"XY\", 2)\n",
      "(\"XZ\", -2)\n",
      "(\"YI\", -2)\n",
      "(\"YX\", 2)\n",
      "(\"YY\", -2)\n",
      "(\"YZ\", 2)\n",
      "(\"ZI\", 2)\n",
      "(\"ZX\", -2)\n",
      "(\"ZY\", 2)\n",
      "(\"ZZ\", 6)\n"
     ]
    }
   ],
   "source": [
    "for item in zip(ps2.pauli_strings, calculate_point_operator_basis(ex_6, 2))\n",
    "    println(item)\n",
    "end"
   ]
  },
  {
   "cell_type": "code",
   "execution_count": 102,
   "metadata": {},
   "outputs": [
    {
     "data": {
      "text/plain": [
       "Dict{Vector{Int64}, Int64} with 8 entries:\n",
       "  [1, 1, 1, 0] => 0\n",
       "  [0, 0, 0, 1] => 0\n",
       "  [0, 0, 0, 0] => 0\n",
       "  [1, 1, 0, 1] => 0\n",
       "  [0, 1, 1, 1] => 0\n",
       "  [1, 1, 0, 0] => 0\n",
       "  [0, 1, 1, 0] => 0\n",
       "  [1, 1, 1, 1] => 1"
      ]
     },
     "metadata": {},
     "output_type": "display_data"
    }
   ],
   "source": [
    "ex_7 = Dict{Vector{Int},Int}(\n",
    "    II => 0,\n",
    "    IZ => 0,\n",
    "    XX => 0,\n",
    "    XY => 0,\n",
    "    YX => 0,\n",
    "    YY => 1,\n",
    "    ZX => 0,\n",
    "    ZY => 0,\n",
    ")"
   ]
  },
  {
   "cell_type": "code",
   "execution_count": 89,
   "metadata": {},
   "outputs": [
    {
     "data": {
      "text/plain": [
       "15"
      ]
     },
     "metadata": {},
     "output_type": "display_data"
    }
   ],
   "source": [
    "find_rank_count_for_given_given_value_assignment(ex_7, 2, A2loc)"
   ]
  },
  {
   "cell_type": "code",
   "execution_count": 103,
   "metadata": {},
   "outputs": [
    {
     "name": "stdout",
     "output_type": "stream",
     "text": [
      "(\"II\", 6)\n",
      "(\"IX\", 2)\n",
      "(\"IY\", -2)\n",
      "(\"IZ\", -2)\n",
      "(\"XI\", 2)\n",
      "(\"XX\", -2)\n",
      "(\"XY\", 2)\n",
      "(\"XZ\", 2)\n",
      "(\"YI\", -2)\n",
      "(\"YX\", 2)\n",
      "(\"YY\", -2)\n",
      "(\"YZ\", 6)\n",
      "(\"ZI\", 2)\n",
      "(\"ZX\", -2)\n",
      "(\"ZY\", 2)\n",
      "(\"ZZ\", 2)\n"
     ]
    }
   ],
   "source": [
    "for item in zip(ps2.pauli_strings, calculate_point_operator_basis(ex_7, 2))\n",
    "    println(item)\n",
    "end"
   ]
  },
  {
   "cell_type": "code",
   "execution_count": 91,
   "metadata": {},
   "outputs": [
    {
     "data": {
      "text/plain": [
       "Dict{Vector{Int64}, Int64} with 10 entries:\n",
       "  [1, 1, 1, 0] => 0\n",
       "  [1, 0, 1, 1] => 0\n",
       "  [0, 0, 0, 0] => 0\n",
       "  [1, 1, 0, 1] => 0\n",
       "  [0, 1, 1, 1] => 0\n",
       "  [1, 1, 0, 0] => 0\n",
       "  [1, 0, 0, 1] => 0\n",
       "  [0, 1, 1, 0] => 0\n",
       "  [0, 0, 1, 1] => 0\n",
       "  [1, 1, 1, 1] => 1"
      ]
     },
     "metadata": {},
     "output_type": "display_data"
    }
   ],
   "source": [
    "ex_8 = Dict{Vector{Int},Int}(\n",
    "    II => 0,\n",
    "    XX => 0,\n",
    "    XY => 0,\n",
    "    XZ => 0,\n",
    "    YX => 0,\n",
    "    YY => 1,\n",
    "    YZ => 0,\n",
    "    ZX => 0,\n",
    "    ZY => 0,\n",
    "    ZZ_pauli => 0\n",
    ")"
   ]
  },
  {
   "cell_type": "code",
   "execution_count": 95,
   "metadata": {},
   "outputs": [
    {
     "data": {
      "text/plain": [
       "15"
      ]
     },
     "metadata": {},
     "output_type": "display_data"
    }
   ],
   "source": [
    "find_rank_count_for_given_given_value_assignment(ex_8, 2, A2loc)"
   ]
  },
  {
   "cell_type": "code",
   "execution_count": 96,
   "metadata": {},
   "outputs": [
    {
     "name": "stdout",
     "output_type": "stream",
     "text": [
      "(\"II\", 8)\n",
      "(\"IX\", 0)\n",
      "(\"IY\", -4)\n",
      "(\"IZ\", 0)\n",
      "(\"XI\", 0)\n",
      "(\"XX\", 0)\n",
      "(\"XY\", 4)\n",
      "(\"XZ\", 0)\n",
      "(\"YI\", -4)\n",
      "(\"YX\", 4)\n",
      "(\"YY\", 0)\n",
      "(\"YZ\", 4)\n",
      "(\"ZI\", 0)\n",
      "(\"ZX\", 0)\n",
      "(\"ZY\", 4)\n",
      "(\"ZZ\", 0)\n"
     ]
    }
   ],
   "source": [
    "for item in zip(ps2.pauli_strings, calculate_point_operator_basis(ex_8, 2))\n",
    "    println(item)\n",
    "end"
   ]
  },
  {
   "cell_type": "code",
   "execution_count": 97,
   "metadata": {},
   "outputs": [
    {
     "data": {
      "text/plain": [
       "Dict{Vector{Int64}, Int64} with 10 entries:\n",
       "  [1, 1, 1, 0] => 0\n",
       "  [1, 0, 1, 1] => 0\n",
       "  [0, 0, 0, 0] => 0\n",
       "  [1, 1, 0, 1] => 0\n",
       "  [0, 1, 1, 1] => 0\n",
       "  [1, 1, 0, 0] => 0\n",
       "  [1, 0, 0, 1] => 0\n",
       "  [0, 1, 1, 0] => 0\n",
       "  [0, 0, 1, 1] => 1\n",
       "  [1, 1, 1, 1] => 1"
      ]
     },
     "metadata": {},
     "output_type": "display_data"
    }
   ],
   "source": [
    "ex_9 = Dict{Vector{Int},Int}(\n",
    "    II => 0,\n",
    "    XX => 0,\n",
    "    XY => 0,\n",
    "    XZ => 0,\n",
    "    YX => 0,\n",
    "    YY => 1,\n",
    "    YZ => 0,\n",
    "    ZX => 0,\n",
    "    ZY => 0,\n",
    "    ZZ_pauli => 1\n",
    ")"
   ]
  },
  {
   "cell_type": "code",
   "execution_count": 100,
   "metadata": {},
   "outputs": [
    {
     "data": {
      "text/plain": [
       "14"
      ]
     },
     "metadata": {},
     "output_type": "display_data"
    }
   ],
   "source": [
    "find_rank_count_for_given_given_value_assignment(ex_9, 2, A2loc)"
   ]
  },
  {
   "cell_type": "code",
   "execution_count": 101,
   "metadata": {},
   "outputs": [
    {
     "name": "stdout",
     "output_type": "stream",
     "text": [
      "(\"II\", 6)\n",
      "(\"IX\", 2)\n",
      "(\"IY\", -2)\n",
      "(\"IZ\", -2)\n",
      "(\"XI\", 2)\n",
      "(\"XX\", -2)\n",
      "(\"XY\", 2)\n",
      "(\"XZ\", 2)\n",
      "(\"YI\", -2)\n",
      "(\"YX\", 2)\n",
      "(\"YY\", -2)\n",
      "(\"YZ\", 6)\n",
      "(\"ZI\", -2)\n",
      "(\"ZX\", 2)\n",
      "(\"ZY\", 6)\n",
      "(\"ZZ\", -2)\n"
     ]
    }
   ],
   "source": [
    "for item in zip(ps2.pauli_strings, calculate_point_operator_basis(ex_9, 2))\n",
    "    println(item)\n",
    "end"
   ]
  }
 ],
 "metadata": {
  "kernelspec": {
   "display_name": "Julia 1.9.3",
   "language": "julia",
   "name": "julia-1.9"
  },
  "language_info": {
   "file_extension": ".jl",
   "mimetype": "application/julia",
   "name": "julia",
   "version": "1.9.3"
  }
 },
 "nbformat": 4,
 "nbformat_minor": 2
}
