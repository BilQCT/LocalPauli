{
 "cells": [
  {
   "cell_type": "code",
   "execution_count": 1,
   "metadata": {},
   "outputs": [
    {
     "name": "stderr",
     "output_type": "stream",
     "text": [
      "\u001b[32m\u001b[1m  Activating\u001b[22m\u001b[39m project at `~/GitHub/LocalLambda/MyProject`\n"
     ]
    }
   ],
   "source": [
    "# initialize project:\n",
    "using Pkg; Pkg.activate(\"./MyProject\");;\n",
    "include(\"libs/local_clifford_group.jl\");;\n",
    "\n",
    "using GAP\n",
    "const g = GAP.Globals;;"
   ]
  },
  {
   "cell_type": "markdown",
   "metadata": {},
   "source": [
    "# Update rules:\n",
    "\n",
    "Consider a vertex $A$ of $\\Lambda_n^\\ell$ given by $$A = \\frac{1}{2^n}\\sum_{a\\in E_n}\\alpha_a T_a~.$$ Suppose we perform a measurement of $T_b$ where $b = b_1\\oplus \\bar 0$, where $b_1 = (b_x,b_z)$ and $\\bar 0 \\in \\mathbb{Z}_2^{2(n-1)}$ is the all zero vector. After conjugation we have $$\\Pi_b^r A \\Pi_b^r = \\bar{\\Pi_{b_1}^r}\\otimes \\bar A$$ where $$\\bar A = \\frac{1}{2^{n-1}}\\sum_{\\bar a\\in E_{n-1}}\\tilde \\alpha_a T_a.$$\n",
    "The new coefficients are given by $$\\tilde \\alpha_a = \\frac{\\alpha_{(0,\\bar a)}+(-1)^r\\alpha_{(b_1,\\bar a)}}{\\alpha_{(0,\\bar 0)}+(-1)^r\\alpha_{(b_1,\\bar 0)}}.$$ Note that this gives $\\tilde \\alpha_0 = 1$, as expected. We now demonstrate a counter-example showing that $\\bar A$ is not a vertex of $\\Lambda_{n-1}^\\ell$."
   ]
  },
  {
   "cell_type": "code",
   "execution_count": 8,
   "metadata": {},
   "outputs": [],
   "source": [
    "LC2 = LocalCliffordGroup(2);\n",
    "LC3 = LocalCliffordGroup(3);"
   ]
  },
  {
   "cell_type": "code",
   "execution_count": 6,
   "metadata": {},
   "outputs": [],
   "source": [
    "# local stabilizer state:\n",
    "Plus = Vector{Int}([1,1,0,0])\n",
    "PlusPlus = kron(Plus,Plus);\n",
    "PPP = kron(PlusPlus,Plus);"
   ]
  },
  {
   "cell_type": "code",
   "execution_count": 9,
   "metadata": {},
   "outputs": [],
   "source": [
    "# Stabilizer states:\n",
    "Stab2 = local_clifford_orbit_of_point(LC2,PlusPlus);\n",
    "Stab3 = local_clifford_orbit_of_point(LC3,PPP);"
   ]
  },
  {
   "cell_type": "code",
   "execution_count": 10,
   "metadata": {},
   "outputs": [],
   "source": [
    "A2 = Matrix{Rational{Int64}}(undef,0,16)\n",
    "for s in Stab2; A2 = vcat(A2,transpose(s)); end\n",
    "\n",
    "A3 = Matrix{Rational{Int64}}(undef,0,64)\n",
    "for s in Stab3; A3 = vcat(A3,transpose(s)); end"
   ]
  },
  {
   "cell_type": "code",
   "execution_count": 12,
   "metadata": {},
   "outputs": [],
   "source": [
    "ps3 = PauliString(3).pauli_strings;"
   ]
  },
  {
   "cell_type": "code",
   "execution_count": 13,
   "metadata": {},
   "outputs": [
    {
     "data": {
      "text/plain": [
       "64-element Vector{Rational{Int64}}:\n",
       "   1\n",
       "  1//3\n",
       "   0\n",
       "  2//3\n",
       "   1\n",
       "  1//3\n",
       "   0\n",
       "  2//3\n",
       "  1//3\n",
       " -1//3\n",
       "   ⋮\n",
       "   0\n",
       " -1//3\n",
       "  -1\n",
       "   0\n",
       " -2//3\n",
       "  2//3\n",
       "   0\n",
       "  1//3\n",
       "   1"
      ]
     },
     "metadata": {},
     "output_type": "display_data"
    }
   ],
   "source": [
    "# From LRS data (see L3loc.ext in data folder):\n",
    "v_string = \"1  1/3  0  2/3  1  1/3  0  2/3  1/3 -1/3  2/3  0  0 -2/3 -1/3  1/3  1/3 -1/3  0  0  1/3 -1/3  0  0 -1/3 -1  2/3 -2/3  0 -2/3 -1  1/3  1/3 -1/3  0  0  1/3 -1/3  0  0 -1/3 -1  2/3 -2/3  0 -2/3  1/3  1/3  1/3 -1/3 -2/3  0  1/3 -1/3 -2/3  0 -1/3 -1  0 -2/3  2/3  0  1/3  1\"\n",
    "v_split = split(v_string,\" \")\n",
    "V = [parse(Rational{Int64},c) for c in v_split if c != \"\"]"
   ]
  },
  {
   "cell_type": "code",
   "execution_count": 18,
   "metadata": {},
   "outputs": [
    {
     "name": "stdout",
     "output_type": "stream",
     "text": [
      "Number of negatives: 0, number of tight inequalities: 115, rank of V: 63\n"
     ]
    }
   ],
   "source": [
    "# Check that it is a vertex in LambdaLocal:\n",
    "NV = findall(x->x<0,A3*V//8);    # Check if any negatives:\n",
    "ZV = findall(x->x==0,A3*V//8);   # Find tight inequalities\n",
    "RV = rank(A3[ZV,2:end]);\n",
    "println(\"Number of negatives: $(length(NV)), number of tight inequalities: $(length(ZV)), rank of V: $(RV)\")"
   ]
  },
  {
   "cell_type": "code",
   "execution_count": 22,
   "metadata": {},
   "outputs": [
    {
     "name": "stdout",
     "output_type": "stream",
     "text": [
      "Pauli component III: 1//1\n",
      "Pauli component IIX: 1//3\n",
      "Pauli component IIY: 0//1\n",
      "Pauli component IIZ: 2//3\n",
      "Pauli component IXI: 1//1\n",
      "Pauli component IXX: 1//3\n",
      "Pauli component IXY: 0//1\n",
      "Pauli component IXZ: 2//3\n",
      "Pauli component IYI: 1//3\n",
      "Pauli component IYX: -1//3\n",
      "Pauli component IYY: 2//3\n",
      "Pauli component IYZ: 0//1\n",
      "Pauli component IZI: 0//1\n",
      "Pauli component IZX: -2//3\n",
      "Pauli component IZY: -1//3\n",
      "Pauli component IZZ: 1//3\n",
      "Pauli component XII: 1//3\n",
      "Pauli component XIX: -1//3\n",
      "Pauli component XIY: 0//1\n",
      "Pauli component XIZ: 0//1\n",
      "Pauli component XXI: 1//3\n",
      "Pauli component XXX: -1//3\n",
      "Pauli component XXY: 0//1\n",
      "Pauli component XXZ: 0//1\n",
      "Pauli component XYI: -1//3\n",
      "Pauli component XYX: -1//1\n",
      "Pauli component XYY: 2//3\n",
      "Pauli component XYZ: -2//3\n",
      "Pauli component XZI: 0//1\n",
      "Pauli component XZX: -2//3\n",
      "Pauli component XZY: -1//1\n",
      "Pauli component XZZ: 1//3\n"
     ]
    }
   ],
   "source": [
    "# Paulis that commute with XII:\n",
    "VX1 = Vector{Rational{Int64}}([]);\n",
    "for i in 1:64\n",
    "    if ps3[i][1] in ['I','X']\n",
    "        push!(VX1,V[i])\n",
    "        println(\"Pauli component $(ps3[i]): $(V[i])\")\n",
    "    end\n",
    "end"
   ]
  },
  {
   "cell_type": "code",
   "execution_count": 23,
   "metadata": {},
   "outputs": [],
   "source": [
    "norm_0 = (1+1//3); norm_1 = (1-1//3);"
   ]
  },
  {
   "cell_type": "code",
   "execution_count": 24,
   "metadata": {},
   "outputs": [
    {
     "data": {
      "text/plain": [
       "16-element Vector{Rational{Int64}}:\n",
       "   1\n",
       "   0\n",
       "   0\n",
       "  1//2\n",
       "   1\n",
       "   0\n",
       "   0\n",
       "  1//2\n",
       "   0\n",
       "  -1\n",
       "   1\n",
       " -1//2\n",
       "   0\n",
       "  -1\n",
       "  -1\n",
       "  1//2"
      ]
     },
     "metadata": {},
     "output_type": "display_data"
    }
   ],
   "source": [
    "VX1_0 = [(VX1[i]+VX1[i+16])/norm_0 for i in 1:16]"
   ]
  },
  {
   "cell_type": "code",
   "execution_count": 26,
   "metadata": {},
   "outputs": [
    {
     "name": "stdout",
     "output_type": "stream",
     "text": [
      "Number of negatives: 0, number of tight inequalities: 16, rank of V: 14\n"
     ]
    }
   ],
   "source": [
    "# Check that it is a vertex in LambdaLocal:\n",
    "NV = findall(x->x<0,A2*VX1_0//4);    # Check if any negatives:\n",
    "ZV = findall(x->x==0,A2*VX1_0//4);   # Find tight inequalities\n",
    "RV = rank(A2[ZV,2:end]);\n",
    "println(\"Number of negatives: $(length(NV)), number of tight inequalities: $(length(ZV)), rank of V: $(RV)\")"
   ]
  },
  {
   "cell_type": "code",
   "execution_count": 25,
   "metadata": {},
   "outputs": [
    {
     "data": {
      "text/plain": [
       "16-element Vector{Rational{Int64}}:\n",
       " 1\n",
       " 1\n",
       " 0\n",
       " 1\n",
       " 1\n",
       " 1\n",
       " 0\n",
       " 1\n",
       " 1\n",
       " 1\n",
       " 0\n",
       " 1\n",
       " 0\n",
       " 0\n",
       " 1\n",
       " 0"
      ]
     },
     "metadata": {},
     "output_type": "display_data"
    }
   ],
   "source": [
    "VX1_1 = [(VX1[i]-VX1[i+16])/norm_1 for i in 1:16]"
   ]
  },
  {
   "cell_type": "code",
   "execution_count": 27,
   "metadata": {},
   "outputs": [
    {
     "name": "stdout",
     "output_type": "stream",
     "text": [
      "Number of negatives: 0, number of tight inequalities: 22, rank of V: 14\n"
     ]
    }
   ],
   "source": [
    "# Check that it is a vertex in LambdaLocal:\n",
    "NV = findall(x->x<0,A2*VX1_1//4);    # Check if any negatives:\n",
    "ZV = findall(x->x==0,A2*VX1_1//4);   # Find tight inequalities\n",
    "RV = rank(A2[ZV,2:end]);\n",
    "println(\"Number of negatives: $(length(NV)), number of tight inequalities: $(length(ZV)), rank of V: $(RV)\")"
   ]
  },
  {
   "cell_type": "code",
   "execution_count": null,
   "metadata": {},
   "outputs": [],
   "source": []
  }
 ],
 "metadata": {
  "kernelspec": {
   "display_name": "Julia 1.10.3",
   "language": "julia",
   "name": "julia-1.10"
  },
  "language_info": {
   "file_extension": ".jl",
   "mimetype": "application/julia",
   "name": "julia",
   "version": "1.10.3"
  }
 },
 "nbformat": 4,
 "nbformat_minor": 2
}
